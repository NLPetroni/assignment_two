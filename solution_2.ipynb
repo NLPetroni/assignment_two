{
 "nbformat": 4,
 "nbformat_minor": 0,
 "metadata": {
  "colab": {
   "name": "solution_2.ipynb",
   "provenance": [],
   "include_colab_link": true
  },
  "kernelspec": {
   "name": "python3",
   "language": "python",
   "display_name": "Python 3 (ipykernel)"
  },
  "language_info": {
   "name": "python"
  },
  "accelerator": "GPU",
  "widgets": {
   "application/vnd.jupyter.widget-state+json": {
    "a67948356223407590687e1cb579679d": {
     "model_module": "@jupyter-widgets/controls",
     "model_name": "VBoxModel",
     "model_module_version": "1.5.0",
     "state": {
      "_view_name": "VBoxView",
      "_dom_classes": [],
      "_model_name": "VBoxModel",
      "_view_module": "@jupyter-widgets/controls",
      "_model_module_version": "1.5.0",
      "_view_count": null,
      "_view_module_version": "1.5.0",
      "box_style": "",
      "layout": "IPY_MODEL_ce88d708fd4c4f7ab38843724fb5929c",
      "_model_module": "@jupyter-widgets/controls",
      "children": [
       "IPY_MODEL_59c565a1c9b849fc96e0694dd1bb85b9",
       "IPY_MODEL_319a265bf21845ecbf0e3f767d978af4"
      ]
     }
    },
    "ce88d708fd4c4f7ab38843724fb5929c": {
     "model_module": "@jupyter-widgets/base",
     "model_name": "LayoutModel",
     "model_module_version": "1.2.0",
     "state": {
      "_view_name": "LayoutView",
      "grid_template_rows": null,
      "right": null,
      "justify_content": null,
      "_view_module": "@jupyter-widgets/base",
      "overflow": null,
      "_model_module_version": "1.2.0",
      "_view_count": null,
      "flex_flow": null,
      "width": null,
      "min_width": null,
      "border": null,
      "align_items": null,
      "bottom": null,
      "_model_module": "@jupyter-widgets/base",
      "top": null,
      "grid_column": null,
      "overflow_y": null,
      "overflow_x": null,
      "grid_auto_flow": null,
      "grid_area": null,
      "grid_template_columns": null,
      "flex": null,
      "_model_name": "LayoutModel",
      "justify_items": null,
      "grid_row": null,
      "max_height": null,
      "align_content": null,
      "visibility": null,
      "align_self": null,
      "height": null,
      "min_height": null,
      "padding": null,
      "grid_auto_rows": null,
      "grid_gap": null,
      "max_width": null,
      "order": null,
      "_view_module_version": "1.2.0",
      "grid_template_areas": null,
      "object_position": null,
      "object_fit": null,
      "grid_auto_columns": null,
      "margin": null,
      "display": null,
      "left": null
     }
    },
    "59c565a1c9b849fc96e0694dd1bb85b9": {
     "model_module": "@jupyter-widgets/controls",
     "model_name": "LabelModel",
     "model_module_version": "1.5.0",
     "state": {
      "_view_name": "LabelView",
      "style": "IPY_MODEL_12d69c8c8bbb41cd8b4eb1e0f3427421",
      "_dom_classes": [],
      "description": "",
      "_model_name": "LabelModel",
      "placeholder": "​",
      "_view_module": "@jupyter-widgets/controls",
      "_model_module_version": "1.5.0",
      "value": " 0.01MB of 0.01MB uploaded (0.00MB deduped)\r",
      "_view_count": null,
      "_view_module_version": "1.5.0",
      "description_tooltip": null,
      "_model_module": "@jupyter-widgets/controls",
      "layout": "IPY_MODEL_119bf5f05185405daeccab6d8e54044f"
     }
    },
    "319a265bf21845ecbf0e3f767d978af4": {
     "model_module": "@jupyter-widgets/controls",
     "model_name": "FloatProgressModel",
     "model_module_version": "1.5.0",
     "state": {
      "_view_name": "ProgressView",
      "style": "IPY_MODEL_c579711f14684da49d47235ef6d773b0",
      "_dom_classes": [],
      "description": "",
      "_model_name": "FloatProgressModel",
      "bar_style": "",
      "max": 1,
      "_view_module": "@jupyter-widgets/controls",
      "_model_module_version": "1.5.0",
      "value": 1,
      "_view_count": null,
      "_view_module_version": "1.5.0",
      "orientation": "horizontal",
      "min": 0,
      "description_tooltip": null,
      "_model_module": "@jupyter-widgets/controls",
      "layout": "IPY_MODEL_6d945f6c52c6499d90a53405b070c88c"
     }
    },
    "12d69c8c8bbb41cd8b4eb1e0f3427421": {
     "model_module": "@jupyter-widgets/controls",
     "model_name": "DescriptionStyleModel",
     "model_module_version": "1.5.0",
     "state": {
      "_view_name": "StyleView",
      "_model_name": "DescriptionStyleModel",
      "description_width": "",
      "_view_module": "@jupyter-widgets/base",
      "_model_module_version": "1.5.0",
      "_view_count": null,
      "_view_module_version": "1.2.0",
      "_model_module": "@jupyter-widgets/controls"
     }
    },
    "119bf5f05185405daeccab6d8e54044f": {
     "model_module": "@jupyter-widgets/base",
     "model_name": "LayoutModel",
     "model_module_version": "1.2.0",
     "state": {
      "_view_name": "LayoutView",
      "grid_template_rows": null,
      "right": null,
      "justify_content": null,
      "_view_module": "@jupyter-widgets/base",
      "overflow": null,
      "_model_module_version": "1.2.0",
      "_view_count": null,
      "flex_flow": null,
      "width": null,
      "min_width": null,
      "border": null,
      "align_items": null,
      "bottom": null,
      "_model_module": "@jupyter-widgets/base",
      "top": null,
      "grid_column": null,
      "overflow_y": null,
      "overflow_x": null,
      "grid_auto_flow": null,
      "grid_area": null,
      "grid_template_columns": null,
      "flex": null,
      "_model_name": "LayoutModel",
      "justify_items": null,
      "grid_row": null,
      "max_height": null,
      "align_content": null,
      "visibility": null,
      "align_self": null,
      "height": null,
      "min_height": null,
      "padding": null,
      "grid_auto_rows": null,
      "grid_gap": null,
      "max_width": null,
      "order": null,
      "_view_module_version": "1.2.0",
      "grid_template_areas": null,
      "object_position": null,
      "object_fit": null,
      "grid_auto_columns": null,
      "margin": null,
      "display": null,
      "left": null
     }
    },
    "c579711f14684da49d47235ef6d773b0": {
     "model_module": "@jupyter-widgets/controls",
     "model_name": "ProgressStyleModel",
     "model_module_version": "1.5.0",
     "state": {
      "_view_name": "StyleView",
      "_model_name": "ProgressStyleModel",
      "description_width": "",
      "_view_module": "@jupyter-widgets/base",
      "_model_module_version": "1.5.0",
      "_view_count": null,
      "_view_module_version": "1.2.0",
      "bar_color": null,
      "_model_module": "@jupyter-widgets/controls"
     }
    },
    "6d945f6c52c6499d90a53405b070c88c": {
     "model_module": "@jupyter-widgets/base",
     "model_name": "LayoutModel",
     "model_module_version": "1.2.0",
     "state": {
      "_view_name": "LayoutView",
      "grid_template_rows": null,
      "right": null,
      "justify_content": null,
      "_view_module": "@jupyter-widgets/base",
      "overflow": null,
      "_model_module_version": "1.2.0",
      "_view_count": null,
      "flex_flow": null,
      "width": null,
      "min_width": null,
      "border": null,
      "align_items": null,
      "bottom": null,
      "_model_module": "@jupyter-widgets/base",
      "top": null,
      "grid_column": null,
      "overflow_y": null,
      "overflow_x": null,
      "grid_auto_flow": null,
      "grid_area": null,
      "grid_template_columns": null,
      "flex": null,
      "_model_name": "LayoutModel",
      "justify_items": null,
      "grid_row": null,
      "max_height": null,
      "align_content": null,
      "visibility": null,
      "align_self": null,
      "height": null,
      "min_height": null,
      "padding": null,
      "grid_auto_rows": null,
      "grid_gap": null,
      "max_width": null,
      "order": null,
      "_view_module_version": "1.2.0",
      "grid_template_areas": null,
      "object_position": null,
      "object_fit": null,
      "grid_auto_columns": null,
      "margin": null,
      "display": null,
      "left": null
     }
    },
    "8d5c1d3479874ed1b7a44706d4c5af8b": {
     "model_module": "@jupyter-widgets/controls",
     "model_name": "VBoxModel",
     "model_module_version": "1.5.0",
     "state": {
      "_view_name": "VBoxView",
      "_dom_classes": [],
      "_model_name": "VBoxModel",
      "_view_module": "@jupyter-widgets/controls",
      "_model_module_version": "1.5.0",
      "_view_count": null,
      "_view_module_version": "1.5.0",
      "box_style": "",
      "layout": "IPY_MODEL_efd0b23227c749a29bd63f75e5725ae6",
      "_model_module": "@jupyter-widgets/controls",
      "children": [
       "IPY_MODEL_55aa2907adea4fc690c392c332a53c36",
       "IPY_MODEL_5f90cd1a2d8d4d61b129fa6369a2bb1b"
      ]
     }
    },
    "efd0b23227c749a29bd63f75e5725ae6": {
     "model_module": "@jupyter-widgets/base",
     "model_name": "LayoutModel",
     "model_module_version": "1.2.0",
     "state": {
      "_view_name": "LayoutView",
      "grid_template_rows": null,
      "right": null,
      "justify_content": null,
      "_view_module": "@jupyter-widgets/base",
      "overflow": null,
      "_model_module_version": "1.2.0",
      "_view_count": null,
      "flex_flow": null,
      "width": null,
      "min_width": null,
      "border": null,
      "align_items": null,
      "bottom": null,
      "_model_module": "@jupyter-widgets/base",
      "top": null,
      "grid_column": null,
      "overflow_y": null,
      "overflow_x": null,
      "grid_auto_flow": null,
      "grid_area": null,
      "grid_template_columns": null,
      "flex": null,
      "_model_name": "LayoutModel",
      "justify_items": null,
      "grid_row": null,
      "max_height": null,
      "align_content": null,
      "visibility": null,
      "align_self": null,
      "height": null,
      "min_height": null,
      "padding": null,
      "grid_auto_rows": null,
      "grid_gap": null,
      "max_width": null,
      "order": null,
      "_view_module_version": "1.2.0",
      "grid_template_areas": null,
      "object_position": null,
      "object_fit": null,
      "grid_auto_columns": null,
      "margin": null,
      "display": null,
      "left": null
     }
    },
    "55aa2907adea4fc690c392c332a53c36": {
     "model_module": "@jupyter-widgets/controls",
     "model_name": "LabelModel",
     "model_module_version": "1.5.0",
     "state": {
      "_view_name": "LabelView",
      "style": "IPY_MODEL_eeca154e1882405caadb7b549b2c258e",
      "_dom_classes": [],
      "description": "",
      "_model_name": "LabelModel",
      "placeholder": "​",
      "_view_module": "@jupyter-widgets/controls",
      "_model_module_version": "1.5.0",
      "value": " 0.01MB of 0.01MB uploaded (0.00MB deduped)\r",
      "_view_count": null,
      "_view_module_version": "1.5.0",
      "description_tooltip": null,
      "_model_module": "@jupyter-widgets/controls",
      "layout": "IPY_MODEL_f915b866069048ea9dd9513377f11f4a"
     }
    },
    "5f90cd1a2d8d4d61b129fa6369a2bb1b": {
     "model_module": "@jupyter-widgets/controls",
     "model_name": "FloatProgressModel",
     "model_module_version": "1.5.0",
     "state": {
      "_view_name": "ProgressView",
      "style": "IPY_MODEL_a496e58697994518a7689f734ed5478d",
      "_dom_classes": [],
      "description": "",
      "_model_name": "FloatProgressModel",
      "bar_style": "",
      "max": 1,
      "_view_module": "@jupyter-widgets/controls",
      "_model_module_version": "1.5.0",
      "value": 1,
      "_view_count": null,
      "_view_module_version": "1.5.0",
      "orientation": "horizontal",
      "min": 0,
      "description_tooltip": null,
      "_model_module": "@jupyter-widgets/controls",
      "layout": "IPY_MODEL_dd951542e0904c1d976ebcfe5c3a15eb"
     }
    },
    "eeca154e1882405caadb7b549b2c258e": {
     "model_module": "@jupyter-widgets/controls",
     "model_name": "DescriptionStyleModel",
     "model_module_version": "1.5.0",
     "state": {
      "_view_name": "StyleView",
      "_model_name": "DescriptionStyleModel",
      "description_width": "",
      "_view_module": "@jupyter-widgets/base",
      "_model_module_version": "1.5.0",
      "_view_count": null,
      "_view_module_version": "1.2.0",
      "_model_module": "@jupyter-widgets/controls"
     }
    },
    "f915b866069048ea9dd9513377f11f4a": {
     "model_module": "@jupyter-widgets/base",
     "model_name": "LayoutModel",
     "model_module_version": "1.2.0",
     "state": {
      "_view_name": "LayoutView",
      "grid_template_rows": null,
      "right": null,
      "justify_content": null,
      "_view_module": "@jupyter-widgets/base",
      "overflow": null,
      "_model_module_version": "1.2.0",
      "_view_count": null,
      "flex_flow": null,
      "width": null,
      "min_width": null,
      "border": null,
      "align_items": null,
      "bottom": null,
      "_model_module": "@jupyter-widgets/base",
      "top": null,
      "grid_column": null,
      "overflow_y": null,
      "overflow_x": null,
      "grid_auto_flow": null,
      "grid_area": null,
      "grid_template_columns": null,
      "flex": null,
      "_model_name": "LayoutModel",
      "justify_items": null,
      "grid_row": null,
      "max_height": null,
      "align_content": null,
      "visibility": null,
      "align_self": null,
      "height": null,
      "min_height": null,
      "padding": null,
      "grid_auto_rows": null,
      "grid_gap": null,
      "max_width": null,
      "order": null,
      "_view_module_version": "1.2.0",
      "grid_template_areas": null,
      "object_position": null,
      "object_fit": null,
      "grid_auto_columns": null,
      "margin": null,
      "display": null,
      "left": null
     }
    },
    "a496e58697994518a7689f734ed5478d": {
     "model_module": "@jupyter-widgets/controls",
     "model_name": "ProgressStyleModel",
     "model_module_version": "1.5.0",
     "state": {
      "_view_name": "StyleView",
      "_model_name": "ProgressStyleModel",
      "description_width": "",
      "_view_module": "@jupyter-widgets/base",
      "_model_module_version": "1.5.0",
      "_view_count": null,
      "_view_module_version": "1.2.0",
      "bar_color": null,
      "_model_module": "@jupyter-widgets/controls"
     }
    },
    "dd951542e0904c1d976ebcfe5c3a15eb": {
     "model_module": "@jupyter-widgets/base",
     "model_name": "LayoutModel",
     "model_module_version": "1.2.0",
     "state": {
      "_view_name": "LayoutView",
      "grid_template_rows": null,
      "right": null,
      "justify_content": null,
      "_view_module": "@jupyter-widgets/base",
      "overflow": null,
      "_model_module_version": "1.2.0",
      "_view_count": null,
      "flex_flow": null,
      "width": null,
      "min_width": null,
      "border": null,
      "align_items": null,
      "bottom": null,
      "_model_module": "@jupyter-widgets/base",
      "top": null,
      "grid_column": null,
      "overflow_y": null,
      "overflow_x": null,
      "grid_auto_flow": null,
      "grid_area": null,
      "grid_template_columns": null,
      "flex": null,
      "_model_name": "LayoutModel",
      "justify_items": null,
      "grid_row": null,
      "max_height": null,
      "align_content": null,
      "visibility": null,
      "align_self": null,
      "height": null,
      "min_height": null,
      "padding": null,
      "grid_auto_rows": null,
      "grid_gap": null,
      "max_width": null,
      "order": null,
      "_view_module_version": "1.2.0",
      "grid_template_areas": null,
      "object_position": null,
      "object_fit": null,
      "grid_auto_columns": null,
      "margin": null,
      "display": null,
      "left": null
     }
    }
   }
  }
 },
 "cells": [
  {
   "cell_type": "markdown",
   "metadata": {
    "id": "view-in-github",
    "colab_type": "text"
   },
   "source": [
    "<a href=\"https://colab.research.google.com/github/NLPetroni/assignment_two/blob/main/solution_2.ipynb\" target=\"_parent\"><img src=\"https://colab.research.google.com/assets/colab-badge.svg\" alt=\"Open In Colab\"/></a>"
   ]
  },
  {
   "cell_type": "markdown",
   "metadata": {
    "id": "m5ldIOU6KPl4"
   },
   "source": [
    "# Imports and downloads\n",
    "\n"
   ]
  },
  {
   "cell_type": "code",
   "metadata": {
    "colab": {
     "base_uri": "https://localhost:8080/"
    },
    "id": "zpI5pddAJRU5",
    "outputId": "dabea79b-07c5-45b1-9323-7b925220762e"
   },
   "source": [
    "import numpy as np\n",
    "import pandas as pd\n",
    "import sys\n",
    "import os\n",
    "\n",
    "try:\n",
    "  import google.colab\n",
    "  IN_COLAB = True\n",
    "except:\n",
    "  IN_COLAB = False\n",
    "\n",
    "if IN_COLAB:\n",
    "  %cd /content\n",
    "  !rm -rf assignment_two &> /dev/null\n",
    "  !git clone https://github.com/NLPetroni/assignment_two &> /dev/null\n",
    "  %cd assignment_two\n",
    "  sys.path.append(os.getcwd())\n",
    "  !git clone https://gitlab.com/sasso-effe/nlp-assignment-data.git &> /dev/null\n",
    "  !mv nlp-assignment-data/embedding_matrix.npy res/embedding_matrix.npy\n",
    "  !rm -rf nlp-assignment-data\n",
    "  !pip install wandb &> /dev/null\n",
    "  !pip install torchinfo"
   ],
   "execution_count": 2,
   "outputs": []
  },
  {
   "cell_type": "code",
   "metadata": {
    "id": "o2uzDyzCKrGy",
    "pycharm": {
     "name": "#%%\n"
    }
   },
   "source": [
    "import re\n",
    "import math\n",
    "from functools import reduce\n",
    "from typing import List, Callable\n",
    "\n",
    "import wandb\n",
    "import nltk\n",
    "from nltk.corpus import stopwords\n",
    "import torch\n",
    "from torch import nn\n",
    "from torchinfo import summary\n",
    "from sklearn.metrics import f1_score, precision_score, recall_score\n",
    "\n",
    "from src import utils\n",
    "\n",
    "\n",
    "device = torch.device('cuda') if torch.cuda.is_available() else torch.device('cpu')"
   ],
   "execution_count": 41,
   "outputs": []
  },
  {
   "cell_type": "code",
   "metadata": {
    "id": "0zr8CGx9JmRN",
    "colab": {
     "base_uri": "https://localhost:8080/"
    },
    "outputId": "1410490a-4297-40c5-f29f-75b597af7633"
   },
   "source": [
    "utils.download_data('dataset')\n",
    "train_set = pd.read_csv(\"dataset/train_pairs.csv\")\n",
    "val_set = pd.read_csv(\"dataset/val_pairs.csv\")\n",
    "test_set = pd.read_csv(\"dataset/test_pairs.csv\")"
   ],
   "execution_count": 4,
   "outputs": []
  },
  {
   "cell_type": "code",
   "metadata": {
    "colab": {
     "base_uri": "https://localhost:8080/"
    },
    "id": "eZ59KJhcJr5I",
    "outputId": "141eb5a9-047f-4da0-8c66-5840f36f3a7a"
   },
   "source": [
    "print(train_set.columns)\n",
    "print(\"Total rows of the train set: {:d}\".format(len(train_set)))\n",
    "print(\"Total rows of the validation set: {:d}\".format(len(val_set)))\n",
    "print(\"Total rows of the test set: {:d}\".format(len(test_set)))"
   ],
   "execution_count": 5,
   "outputs": [
    {
     "name": "stdout",
     "output_type": "stream",
     "text": [
      "Index(['Unnamed: 0', 'Claim', 'Evidence', 'ID', 'Label'], dtype='object')\n",
      "Total rows of the train set: 121740\n",
      "Total rows of the validation set: 7165\n",
      "Total rows of the test set: 7189\n"
     ]
    }
   ]
  },
  {
   "cell_type": "code",
   "metadata": {
    "colab": {
     "base_uri": "https://localhost:8080/"
    },
    "id": "kTfRZo0zJv16",
    "outputId": "32496989-d94a-45cc-f47b-7d8c653aa392"
   },
   "source": [
    "train_set['Label'].value_counts()"
   ],
   "execution_count": 6,
   "outputs": [
    {
     "data": {
      "text/plain": "SUPPORTS    89389\nREFUTES     32351\nName: Label, dtype: int64"
     },
     "execution_count": 6,
     "metadata": {},
     "output_type": "execute_result"
    }
   ]
  },
  {
   "cell_type": "markdown",
   "metadata": {
    "id": "yBtVzSl_J0CR"
   },
   "source": [
    "# Dataset pre-processing and conversion"
   ]
  },
  {
   "cell_type": "code",
   "metadata": {
    "id": "mps78KxwJ1e6",
    "colab": {
     "base_uri": "https://localhost:8080/"
    },
    "outputId": "980ed884-dbee-497e-dce2-345a09d938ec"
   },
   "source": [
    "REPLACE_BY_SPACE_RE = re.compile('[/(){}\\[\\]\\|@,;\\t-]')\n",
    "GOOD_SYMBOLS_RE = re.compile('[^0-9a-z #+_]')\n",
    "BAD_SYMBOLS_RE = re.compile('(-LRB-)|(-RRB-)|(-LSB-)|(-RSB-)')\n",
    "INSIDE_SQAURE_BRACKETS_RE = re.compile('(-LSB-).*?(-RSB-)')\n",
    "\n",
    "try:\n",
    "    STOPWORDS = set(stopwords.words('english'))\n",
    "except LookupError:\n",
    "    nltk.download('stopwords')\n",
    "    STOPWORDS = set(stopwords.words('english'))\n",
    "\n",
    "def remove_inside_square_brackets(text: str) -> str:\n",
    "    return INSIDE_SQAURE_BRACKETS_RE.sub('', text)\n",
    "\n",
    "def remove_bad_symbols(text: str) -> str:\n",
    "    return BAD_SYMBOLS_RE.sub('', text)\n",
    "\n",
    "def remove_final_tags(text: str) -> str:\n",
    "   return re.sub('\\.\\t.*?$', '', text) \n",
    "\n",
    "def lower(text: str) -> str:\n",
    "    \"\"\"\n",
    "    Transforms given text to lower case.\n",
    "    Example:\n",
    "    Input: 'I really like New York city'\n",
    "    Output: 'i really like new your city'\n",
    "    \"\"\"\n",
    "\n",
    "    return text.lower()\n",
    "\n",
    "def replace_special_characters(text: str) -> str:\n",
    "    \"\"\"\n",
    "    Replaces special characters, such as paranthesis,\n",
    "    with spacing character\n",
    "    \"\"\"\n",
    "\n",
    "    return REPLACE_BY_SPACE_RE.sub(' ', text)\n",
    "\n",
    "def replace_br(text: str) -> str:\n",
    "    \"\"\"\n",
    "    Replaces br characters\n",
    "    \"\"\"\n",
    "\n",
    "    return text.replace('</br>', '')\n",
    "\n",
    "def filter_out_uncommon_symbols(text: str) -> str:\n",
    "    \"\"\"\n",
    "    Removes any special character that is not in the\n",
    "    good symbols list (check regular expression)\n",
    "    \"\"\"\n",
    "\n",
    "    return GOOD_SYMBOLS_RE.sub('', text)\n",
    "\n",
    "def remove_stopwords(text: str) -> str:\n",
    "    return ' '.join([x for x in text.split() if x and x not in STOPWORDS])\n",
    "\n",
    "\n",
    "def strip_text(text: str) -> str:\n",
    "    \"\"\"\n",
    "    Removes any left or right spacing (including carriage return) from text.\n",
    "    Example:\n",
    "    Input: '  This assignment is cool\\n'\n",
    "    Output: 'This assignment is cool'\n",
    "    \"\"\"\n",
    "\n",
    "    return text.strip()\n",
    "\n",
    "def split_text(text: str) -> List:\n",
    "  return text.split()\n",
    "\n",
    "PREPROCESSING_PIPELINE = [\n",
    "                          remove_inside_square_brackets,\n",
    "                          remove_bad_symbols,\n",
    "                          lower,\n",
    "                          remove_final_tags,\n",
    "                          replace_special_characters,\n",
    "                          filter_out_uncommon_symbols,\n",
    "                          strip_text,\n",
    "                          split_text\n",
    "                          ]\n",
    "\n",
    "# Anchor method\n",
    "\n",
    "def text_prepare(text: str,\n",
    "                 filter_methods: List[Callable[[str], str]] = None) -> str:\n",
    "    \"\"\"\n",
    "    Applies a list of pre-processing functions in sequence (reduce).\n",
    "    Note that the order is important here!\n",
    "    \"\"\"\n",
    "\n",
    "    filter_methods = filter_methods if filter_methods is not None else PREPROCESSING_PIPELINE\n",
    "\n",
    "    return reduce(lambda txt, f: f(txt), filter_methods, text)\n",
    "\n",
    "\n",
    "# In the evidences there is an id at the beginning of the sequence which is\n",
    "# removed with the splice [:1]\n",
    "train_set['Evidence'] = train_set['Evidence'].apply(lambda txt: text_prepare(txt)[1:])\n",
    "train_set['Claim'] = train_set['Claim'].apply(lambda txt: text_prepare(txt))\n",
    "\n",
    "val_set['Evidence'] = val_set['Evidence'].apply(lambda txt: text_prepare(txt)[1:])\n",
    "val_set['Claim'] = val_set['Claim'].apply(lambda txt: text_prepare(txt))\n",
    "\n",
    "test_set['Evidence'] = test_set['Evidence'].apply(lambda txt: text_prepare(txt)[1:])\n",
    "test_set['Claim'] = test_set['Claim'].apply(lambda txt: text_prepare(txt))"
   ],
   "execution_count": 7,
   "outputs": []
  },
  {
   "cell_type": "markdown",
   "metadata": {
    "collapsed": false,
    "pycharm": {
     "name": "#%% md\n"
    },
    "id": "kFRnAOuk2Wjb"
   },
   "source": [
    "## Padding"
   ]
  },
  {
   "cell_type": "code",
   "metadata": {
    "pycharm": {
     "name": "#%%\n"
    },
    "id": "ePHzgALO2Wjd"
   },
   "source": [
    "class Dataset(torch.utils.data.Dataset):\n",
    "    \"\"\"Simple dataset class to use dataloaders (batching) \"\"\"\n",
    "    def __init__(self, claims, evidences, labels):\n",
    "        self.claims = claims\n",
    "        self.evidences = evidences\n",
    "        self.labels = torch.tensor(labels, dtype=torch.float)\n",
    "    def __getitem__(self, idx):\n",
    "        return self.claims[idx], self.evidences[idx], self.labels[idx]\n",
    "    def __len__(self):\n",
    "        return self.claims.shape[0]"
   ],
   "execution_count": 8,
   "outputs": []
  },
  {
   "cell_type": "code",
   "metadata": {
    "id": "dMzmoTsXf_1_"
   },
   "source": [
    "def collate_fn(batch):\n",
    "    \"\"\"Used by DataLoader to pad batches\"\"\"\n",
    "    max_claim_len = int(np.quantile([len(claim) for (claim, evidence, target) in batch], 0.99))\n",
    "    max_evidence_len = int(np.quantile([len(evidence) for (claim, evidence, target) in batch], 0.99))\n",
    "    \n",
    "    claims = []\n",
    "    evidences = []\n",
    "    targets = []\n",
    "    for claim, evidence, target in batch:\n",
    "        if len(claim) > max_claim_len:\n",
    "            claims.append(claim[:max_claim_len])\n",
    "        else:\n",
    "            claims.append(([400000] * (max_claim_len - len(claim))) + claim)\n",
    "        if len(evidence) > max_evidence_len:\n",
    "            evidences.append(evidence[:max_evidence_len])\n",
    "        else:\n",
    "            evidences.append(([400000] * (max_evidence_len - len(evidence))) + evidence)\n",
    "          \n",
    "        targets.append(target)\n",
    "\n",
    "    return torch.as_tensor(claims), torch.as_tensor(evidences), torch.as_tensor(targets)"
   ],
   "execution_count": 9,
   "outputs": []
  },
  {
   "cell_type": "markdown",
   "metadata": {
    "id": "Fo02GPAtUBlt"
   },
   "source": [
    "## Glove"
   ]
  },
  {
   "cell_type": "code",
   "metadata": {
    "id": "gbq8J24TXLdm",
    "colab": {
     "base_uri": "https://localhost:8080/"
    },
    "outputId": "99a7b79a-d6cb-4931-b0d8-cb306c79cb0e"
   },
   "source": [
    "import pickle\n",
    "\n",
    "if (os.path.exists(\"res/vocabulary.pkl\") and os.path.exists(\"res/embedding_matrix.npy\")):\n",
    "  print('The vocabulary and the embedding matrix are already present. Loading them...')\n",
    "  with open('res/vocabulary.pkl', 'rb') as f:\n",
    "    vocabulary = pickle.load(f)\n",
    "  embedding_matrix = np.load(\"res/embedding_matrix.npy\", )\n",
    "  print(\"Done!\")\n",
    "  \n",
    "else:\n",
    "  print(\"The vocabulary and the embedding matrix are NOT present. Creating them...\")\n",
    "  voc_evidence_train = [item for sublist in train_set[:]['Evidence'] for item in sublist]\n",
    "  voc_claim_train = [item for sublist in train_set[:]['Claim'] for item in sublist]\n",
    "  TRAIN_VOC = set(voc_evidence_train + voc_claim_train)\n",
    "  voc_evidence_val = [item for sublist in val_set[:]['Evidence'] for item in sublist]\n",
    "  voc_claim_val = [item for sublist in val_set[:]['Claim'] for item in sublist]\n",
    "  VAL_VOC = set(voc_evidence_val + voc_claim_val)\n",
    "\n",
    "  inputs = train_set[:]['Evidence'].tolist() + train_set[:]['Claim'].tolist()\n",
    "  glove_voc, embedding_matrix = utils.get_glove(number_token=False)\n",
    "  vocabulary, embedding_matrix = utils.add_oov(glove_voc, TRAIN_VOC, embedding_matrix, inputs)\n",
    "  inputs = val_set[:]['Evidence'].tolist() + val_set[:]['Claim'].tolist()\n",
    "  vocabulary, embedding_matrix = utils.add_oov(vocabulary, VAL_VOC, embedding_matrix, inputs)\n",
    "\n",
    "  with open(\"res/vocabulary.pkl\", \"wb\") as file:\n",
    "    pickle.dump(vocabulary, file)\n",
    "  np.save(\"res/embedding_matrix.npy\", embedding_matrix)\n",
    "  print(\"Vocabulary and embedding matrix created! Remember to download the generated files.\")"
   ],
   "execution_count": 10,
   "outputs": [
    {
     "name": "stdout",
     "output_type": "stream",
     "text": [
      "The vocabulary and the embedding matrix are already present. Loading them...\n",
      "Done!\n"
     ]
    }
   ]
  },
  {
   "cell_type": "markdown",
   "metadata": {
    "collapsed": false,
    "pycharm": {
     "name": "#%% md\n"
    },
    "id": "--zNevYb2Wjg"
   },
   "source": [
    "## Tokenization"
   ]
  },
  {
   "cell_type": "code",
   "metadata": {
    "pycharm": {
     "name": "#%%\n"
    },
    "id": "W7Li-ZY72Wjh"
   },
   "source": [
    "voc_key_list = list(vocabulary.keys())\n",
    "voc_val_list = list(vocabulary.values())\n",
    "\n",
    "def tokenize(input: List) -> torch.Tensor:\n",
    "  result = list(map(lambda x: vocabulary[x], input))\n",
    "  return result\n",
    "\n",
    "def detokenize(input: torch.Tensor) -> List:\n",
    "  result = input.tolist()\n",
    "  result = list(map(lambda x: voc_key_list[voc_val_list.index(x)], result))\n",
    "  return result\n",
    "\n",
    "# tokenize training set\n",
    "train_set['Evidence'] = train_set['Evidence'].map(tokenize)\n",
    "train_set['Claim'] = train_set['Claim'].map(tokenize)\n",
    "train_set['Label'] = train_set['Label'].map(lambda x: float(1.0) if x == 'SUPPORTS' else float(0.0))\n",
    "\n",
    "# tokenize validation set\n",
    "val_set['Evidence'] = val_set['Evidence'].map(tokenize)\n",
    "val_set['Claim'] = val_set['Claim'].map(tokenize)\n",
    "val_set['Label'] = val_set['Label'].map(lambda x: float(1.0) if x == 'SUPPORTS' else float(0.0))"
   ],
   "execution_count": 11,
   "outputs": []
  },
  {
   "cell_type": "markdown",
   "metadata": {
    "collapsed": false,
    "id": "84ym75Vh2Wjh"
   },
   "source": [
    "# Model definition"
   ]
  },
  {
   "cell_type": "code",
   "execution_count": 12,
   "outputs": [],
   "source": [
    "# lambda layers\n",
    "\n",
    "class LambdaLast(torch.nn.Module):\n",
    "  def forward(self, x):\n",
    "    return x[:,-1]\n",
    "\n",
    "class LambdaAvg(torch.nn.Module):\n",
    "  def forward(self, x):\n",
    "    return torch.mean(x, dim=1)\n",
    "\n",
    "class LambdaConcatenation(torch.nn.Module):\n",
    "  def forward(self, x, y):\n",
    "    return torch.cat((x, y), dim=1)\n",
    "\n",
    "class LambdaSum(torch.nn.Module):\n",
    "  def forward(self, x, y):\n",
    "    return x + y\n",
    "\n",
    "class LambdaMean(torch.nn.Module):\n",
    "  def forward(self, x, y):\n",
    "    return (x + y) / 2\n"
   ],
   "metadata": {
    "collapsed": false,
    "pycharm": {
     "name": "#%%\n"
    }
   }
  },
  {
   "cell_type": "code",
   "metadata": {
    "id": "J0Hk8G5NcuS4"
   },
   "source": [
    "def get_binary_classifier(name:str,\n",
    "                    w_in: int,\n",
    "                    w_hidden: int,\n",
    "                    n_layers=2\n",
    "                          ) -> nn.Sequential:\n",
    "    \"\"\"Gets a sequential container with a linear+relu+linear classifier\n",
    "\n",
    "    Args:\n",
    "        name: the name prefix to append to each layer in the container.\n",
    "        w_in: the number of the input features.\n",
    "        w_hidden: the number of internal weights\n",
    "\n",
    "    Returns: the created sequential.\n",
    "    \"\"\"\n",
    "    assert n_layers >= 2, f'n_layers is {n_layers}, must be >= 2'\n",
    "    container = nn.Sequential()\n",
    "    container.add_module(f'{name}_fc1', nn.Linear(in_features=w_in, out_features=w_hidden))    \n",
    "    container.add_module(f'{name}_ReLU', nn.ReLU())\n",
    "    for i in range(n_layers-2):\n",
    "      container.add_module(f'{name}_fc{i+2}', nn.Linear(in_features=w_in, out_features=w_in))\n",
    "      container.add_module(f'{name}_ReLU', nn.ReLU())\n",
    "    container.add_module(f'{name}_fc2', nn.Linear(in_features=w_hidden, out_features=1))\n",
    "    return container\n",
    "\n",
    " \n",
    "class RNNEncoder(torch.nn.Module):\n",
    "\n",
    "  def __init__(self, input_size, hidden_size, num_layers, rnn_type='elman', output_fn='last', verbose=False):\n",
    "    super().__init__()\n",
    "    if verbose:\n",
    "      print('Initializing RNNEncoder ')\n",
    "    types = {'elman': nn.RNN, 'lstm': nn.LSTM, 'gru': nn.GRU}\n",
    "    output_layers = {'last': LambdaLast, 'avg': LambdaAvg}\n",
    "    try:\n",
    "      self.output_layer = output_layers[output_fn]()\n",
    "    except:\n",
    "      raise ValueError(f\"wrong type '{output_fn}', must be in {list(output_layers.keys())}\")\n",
    "\n",
    "    try:\n",
    "      rec_module = types[rnn_type]\n",
    "    except:\n",
    "      valid_types = list(types.keys())\n",
    "      raise ValueError(f\"wrong type '{rnn_type}', must be in {valid_types}\")\n",
    "    self.rec_module = rec_module(input_size=input_size, hidden_size=hidden_size,\n",
    "                                 bidirectional=True, batch_first=True,\n",
    "                                 num_layers=num_layers)\n",
    "    \n",
    "  def forward(self, x):\n",
    "    x, _ = self.rec_module(x)\n",
    "    x = self.output_layer(x)\n",
    "    return x\n",
    "\n",
    "\n",
    "class BagOfVectorsEncoder(torch.nn.Module):\n",
    "\n",
    "  def __init__(self):\n",
    "    super().__init__()\n",
    "\n",
    "  def forward(self, x):\n",
    "    # TODO: check if the mean is computed on the right axis\n",
    "    return torch.mean(x, dim=1)\n"
   ],
   "execution_count": 13,
   "outputs": []
  },
  {
   "cell_type": "code",
   "metadata": {
    "id": "-rpXu4uhqcnH"
   },
   "source": [
    "class FactChecker(torch.nn.Module):\n",
    "\n",
    "  def __init__(self, embedding_matrix, encoder, merger, rnn_type=None, rnn_output=None, rec_size=1, hid_size=50, n_layers_classifier=3):\n",
    "    \"\"\"\n",
    "      A recurrent network performing Neural Language Inference (Fact Checking).\n",
    "      Params:\n",
    "        embedding_matrix: the embedding matrix for word embedding\n",
    "        encoder: [rnn, mlp, bag], the encoder to compute the sentence embedding\n",
    "        merger: [concatenation, sum, mean], the multi-input merging strategy\n",
    "        n_layers_classifier: int, the number of layers in the classifier\n",
    "        RNNEncoder params, only relevant if encoder==rnn:\n",
    "          rnn_type: [elman, lstm, gru], the RNN architecure used in the encoder\n",
    "          rnn_output: [last, avg], the function to compute the sentence encoding from the RNN hidden states\n",
    "          rec_size: int, the number of layers in the rnn\n",
    "          hid_size: int, the hidden size of the rnn\n",
    "\n",
    "\n",
    "    \"\"\"\n",
    "    super().__init__()\n",
    "    self.hid_size = hid_size\n",
    "\n",
    "    # Word embedding\n",
    "    emb_size = embedding_matrix.shape[1]\n",
    "    self.emb_layer = nn.Embedding.from_pretrained(torch.as_tensor(embedding_matrix))\n",
    "\n",
    "    # Sentence embedding\n",
    "    if encoder == 'rnn':\n",
    "      self.encoder = RNNEncoder(emb_size, hid_size, rec_size, rnn_type=rnn_type, output_fn=rnn_output)\n",
    "    elif encoder == 'mlp':\n",
    "      pass #TODO: implement\n",
    "    elif encoder == 'bag':\n",
    "      self.encoder = BagOfVectorsEncoder()\n",
    "    else:\n",
    "      raise ValueError(f\"Wrong encoder '{encoder}', must be in ['rnn', 'mlp', 'bag']\")\n",
    "\n",
    "    # Merging\n",
    "    merging_strategies = {\n",
    "        'concatenation': LambdaConcatenation,\n",
    "        'sum': LambdaSum,\n",
    "        'mean': LambdaMean\n",
    "    }\n",
    "    try:\n",
    "      merging_layer = merging_strategies[merger]\n",
    "    except:\n",
    "      valid_strategies = list(merging_strategies.keys())\n",
    "      raise ValueError(f\"wrong type '{merger}', must be in {valid_strategies}\")\n",
    "    self.merger = merging_layer()\n",
    "\n",
    "    # Classifier\n",
    "    classifier_in = self.hid_size * 2 if encoder=='relu' else 100 #TODO implement also the case for mlp\n",
    "    if merger == 'concatenation':\n",
    "      classifier_in *= 2\n",
    "    self.classifier = get_binary_classifier('classifier', w_in=classifier_in, w_hidden=classifier_in//2, n_layers=n_layers_classifier)\n",
    "\n",
    "  def forward(self, claim, evidence, debug=False):\n",
    "    # Word embedding\n",
    "    claim = self.emb_layer(claim).float()\n",
    "    evidence = self.emb_layer(evidence).float()\n",
    "    if debug:\n",
    "      print(\"After word embedding\")\n",
    "      print(f\"\\tclaim.shape: {claim.shape}\")\n",
    "      print(f\"\\tevidence.shape: {evidence.shape}\")\n",
    "    # Sentence embedding\n",
    "    claim = self.encoder(claim)\n",
    "    evidence = self.encoder(evidence)\n",
    "    if debug:\n",
    "      print(\"After phrase encoding\")\n",
    "      print(f\"\\tclaim.shape: {claim.shape}\")\n",
    "      print(f\"\\tevidence.shape: {evidence.shape}\")\n",
    "    # Merging\n",
    "    merged_data = self.merger(claim, evidence)\n",
    "    if debug:\n",
    "      print(\"After merging\")\n",
    "      print(f\"\\tmerged_data.shape: {merged_data.shape}\")\n",
    "    # Classifying\n",
    "    output = self.classifier(merged_data)\n",
    "\n",
    "    return output"
   ],
   "execution_count": 24,
   "outputs": []
  },
  {
   "cell_type": "markdown",
   "metadata": {
    "id": "_GDv0pqw3UsB"
   },
   "source": [
    "# Training"
   ]
  },
  {
   "cell_type": "code",
   "metadata": {
    "id": "OWtu6Umy3UPr"
   },
   "source": [
    "def training_step(model, optimizer, loss_fn, data_loader, device):\n",
    "  model.train()\n",
    "  log_dict = {'train/loss': [], 'train/accuracy': [], 'train/precision': [], 'train/recall': [], 'train/f1': []}\n",
    "\n",
    "  for (claims, evidences, labels) in data_loader:\n",
    "    # forward\n",
    "    claims = claims.to(device)\n",
    "    evidences = evidences.to(device)\n",
    "    labels = labels.to(device)\n",
    "\n",
    "    outputs = model(claims, evidences)\n",
    "    outputs = outputs.view(outputs.size(0))\n",
    "    loss = loss_fn(outputs, labels)\n",
    "    loss_value = loss.item()\n",
    "\n",
    "    if not math.isfinite(loss_value):\n",
    "      print(f\"Loss is {loss_value}, stopping training\")\n",
    "      exit(1)\n",
    "\n",
    "    # backward\n",
    "    optimizer.zero_grad()\n",
    "    loss.backward()\n",
    "    optimizer.step()\n",
    "\n",
    "    with torch.no_grad():\n",
    "        preds = torch.sigmoid(outputs).round()\n",
    "        labels, preds = labels.cpu().numpy(), preds.cpu().numpy()\n",
    "        acc = ((labels == preds).sum() / (data_loader.batch_size)).item()\n",
    "        prec = precision_score(labels, preds)\n",
    "        rec = recall_score(labels, preds)\n",
    "        f1 = f1_score(labels, preds)\n",
    "\n",
    "\n",
    "    log_dict['train/loss'].append(loss_value)\n",
    "    log_dict['train/accuracy'].append(acc)\n",
    "    log_dict['train/precision'].append(prec)\n",
    "    log_dict['train/recall'].append(rec)\n",
    "    log_dict['train/f1'].append(f1)\n",
    "\n",
    "  return log_dict\n",
    "\n",
    "\n",
    "def evaluate(model, loss_fn, data_loader, device):\n",
    "  \"\"\"\n",
    "    Evaluate model on the given dataloader.\n",
    "    Parameters:\n",
    "      model: torch.nn.Module to evaluate\n",
    "      loss_fn: torch.nn criterion to use to compute loss, given outputs and targets\n",
    "      data_loader: torch.utils.data.DataLoader\n",
    "      device: torch.device where evaluation is performed\n",
    "    Returns log dict {'valid/loss' : mean loss, 'valid/{metric}': mean metric}\n",
    "  \"\"\"\n",
    "  model.eval()\n",
    "  assert len(data_loader) == 1 # must be a single batch\n",
    "  split = 'valid' # TODO implement for test set\n",
    "  with torch.no_grad():\n",
    "    claims, evidences, labels = next(iter(data_loader))\n",
    "    claims = claims.to(device)\n",
    "    evidences = evidences.to(device)\n",
    "    labels = labels.to(device)\n",
    "\n",
    "    outputs = model(claims, evidences)\n",
    "    outputs = outputs.view(outputs.size(0))\n",
    "    loss_value = loss_fn(outputs, labels).item()\n",
    "    preds = torch.sigmoid(outputs).round()\n",
    "\n",
    "    labels, preds = labels.cpu().numpy(), preds.cpu().numpy()\n",
    "    acc = ((labels == preds).sum() / (data_loader.batch_size)).item()\n",
    "    prec = precision_score(labels, preds)\n",
    "    rec = recall_score(labels, preds)\n",
    "    f1 = f1_score(labels, preds)\n",
    "\n",
    "  log_dict = {f'{split}/loss': loss_value,\n",
    "              f'{split}/accuracy': acc,\n",
    "              f'{split}/precision': prec,\n",
    "              f'{split}/recall': rec,\n",
    "              f'{split}/f1': f1}\n",
    "  return log_dict\n"
   ],
   "execution_count": 45,
   "outputs": []
  },
  {
   "cell_type": "code",
   "metadata": {
    "id": "em6r40Wq7NWn"
   },
   "source": [
    "def train(optimizer_name, lr, loss_fn, device, n_epochs, verbose, batch_size, test=False, **model_params):\n",
    "  if len(model_params) == 0:\n",
    "      model_params = {\n",
    "          'encoder': 'rnn',\n",
    "          'merger': 'concatenation',\n",
    "          'rnn_type': 'elman',\n",
    "          'rnn_output': 'last',\n",
    "          'rec_size': 1,\n",
    "          'hid_size': 50\n",
    "      }\n",
    "\n",
    "  cfg_dict = {'epochs': n_epochs, 'batch_size': batch_size, 'optimizer': optimizer_name, 'lr': lr, 'params': model_params}\n",
    "\n",
    "  wandb.login(key='')\n",
    "  run = wandb.init(project=\"assignment-two\", entity=\"nlpetroni\", reinit=True, config=cfg_dict)\n",
    "  wandb.define_metric(\"train_step\")\n",
    "  wandb.define_metric(\"epoch\")\n",
    "  wandb.define_metric('train/loss', step_metric=\"train_step\", summary=\"min\")\n",
    "  wandb.define_metric(\"train/accuracy\", step_metric=\"train_step\", summary=\"max\")\n",
    "  wandb.define_metric(\"valid/loss\", step_metric=\"epoch\", summary=\"min\")\n",
    "  wandb.define_metric(\"valid/accuracy\", step_metric=\"epoch\", summary=\"max\")\n",
    "  wandb.define_metric(\"valid/precision\", step_metric=\"epoch\", summary=\"max\")\n",
    "  wandb.define_metric(\"valid/recall\", step_metric=\"epoch\", summary=\"max\")\n",
    "  wandb.define_metric(\"valid/f1\", step_metric=\"epoch\", summary=\"max\")\n",
    "\n",
    "  train_dl = torch.utils.data.DataLoader(\n",
    "    Dataset(train_set['Claim'], train_set['Evidence'], train_set['Label']),\n",
    "    batch_size=batch_size, collate_fn=collate_fn, shuffle=True)\n",
    "  valid_dl = torch.utils.data.DataLoader(\n",
    "    Dataset(val_set['Claim'], val_set['Evidence'], val_set['Label']),\n",
    "    batch_size=val_set.shape[0], collate_fn=collate_fn)\n",
    "\n",
    "  model = FactChecker(embedding_matrix, **model_params)\n",
    "  model.to(device)\n",
    "  wandb.watch(model, log_graph=True)\n",
    "  if verbose:\n",
    "    print(summary(model))\n",
    "\n",
    "  params = [p for p in model.parameters() if p.requires_grad]\n",
    "  if optimizer_name == 'rmsprop':\n",
    "    optimizer = torch.optim.RMSprop(params, lr=lr, alpha=0.99, momentum=0.5, weight_decay=0)\n",
    "  elif optimizer_name == 'adam':\n",
    "    optimizer = torch.optim.Adam(params, lr=lr, betas=(0.9, 0.999), weight_decay=0)\n",
    "  else:\n",
    "    raise ValueError(f'wrong optim {optimizer_name}, either rmsprop or adam')\n",
    "\n",
    "  loss = nn.BCEWithLogitsLoss()\n",
    "  train_step = 0\n",
    "  print('STARTING TRAINING')\n",
    "\n",
    "  for epoch in range(n_epochs):\n",
    "    log_dict = training_step(model, optimizer, loss, train_dl, device)\n",
    "    if not test:\n",
    "      log_dict.update(evaluate(model, loss, valid_dl, device))\n",
    "      for batch_loss, batch_acc in zip(log_dict['train/loss'], log_dict['train/accuracy']):\n",
    "        wandb.log({'train_step': train_step, 'epoch': epoch, 'train/loss': batch_loss, 'train/accuracy': batch_acc})\n",
    "        train_step += 1\n",
    "      wandb.log({'epoch': epoch, 'valid/loss': log_dict['valid/loss'],\n",
    "                 'valid/accuracy': log_dict['valid/accuracy'],\n",
    "                 'valid/precision': log_dict['valid/precision'],\n",
    "                 'valid/recall': log_dict['valid/recall'],\n",
    "                 'valid/f1': log_dict['valid/f1']})\n",
    "      print(f'[{epoch:03d}/{n_epochs:03d}] train loss: {np.mean(log_dict[\"train/loss\"]):.3f}, valid loss: {log_dict[\"valid/loss\"]:.3f}, accuracy: {log_dict[\"valid/accuracy\"]:.2f}')\n",
    "  if test:\n",
    "    #log_dict = evaluate(model, loss, test_dl, device)\n",
    "    wandb.log()\n",
    "\n",
    "  run.finish()\n",
    "  return model\n"
   ],
   "execution_count": 46,
   "outputs": []
  },
  {
   "cell_type": "code",
   "metadata": {
    "id": "vJP2oodB-kS5",
    "pycharm": {
     "name": "#%%\n"
    },
    "colab": {
     "base_uri": "https://localhost:8080/",
     "height": 524,
     "referenced_widgets": [
      "a67948356223407590687e1cb579679d",
      "ce88d708fd4c4f7ab38843724fb5929c",
      "59c565a1c9b849fc96e0694dd1bb85b9",
      "319a265bf21845ecbf0e3f767d978af4",
      "12d69c8c8bbb41cd8b4eb1e0f3427421",
      "119bf5f05185405daeccab6d8e54044f",
      "c579711f14684da49d47235ef6d773b0",
      "6d945f6c52c6499d90a53405b070c88c"
     ]
    },
    "outputId": "8236bd2b-6004-42c1-ba34-4316e455add2"
   },
   "source": [
    "train(optimizer_name='adam', lr=0.0005, loss_fn='', device=device, n_epochs=25, verbose=True, batch_size=1024)"
   ],
   "execution_count": 47,
   "outputs": [
    {
     "name": "stderr",
     "output_type": "stream",
     "text": [
      "\u001B[34m\u001B[1mwandb\u001B[0m: \u001B[33mWARNING\u001B[0m Calling wandb.login() after wandb.init() has no effect.\n"
     ]
    },
    {
     "data": {
      "text/plain": "<IPython.core.display.HTML object>",
      "text/html": "Finishing last run (ID:1swzasxo) before initializing another..."
     },
     "metadata": {},
     "output_type": "display_data"
    },
    {
     "data": {
      "text/plain": "<IPython.core.display.HTML object>",
      "text/html": "<br/>Waiting for W&B process to finish, PID 22258... <strong style=\"color:green\">(success).</strong>"
     },
     "metadata": {},
     "output_type": "display_data"
    },
    {
     "data": {
      "text/plain": "VBox(children=(Label(value=' 0.00MB of 0.00MB uploaded (0.00MB deduped)\\r'), FloatProgress(value=1.0, max=1.0)…",
      "application/vnd.jupyter.widget-view+json": {
       "version_major": 2,
       "version_minor": 0,
       "model_id": "9142ec7893fe4b71953b2e75ef8991c5"
      }
     },
     "metadata": {},
     "output_type": "display_data"
    },
    {
     "data": {
      "text/plain": "<IPython.core.display.HTML object>",
      "text/html": "<style>\n    table.wandb td:nth-child(1) { padding: 0 10px; text-align: right }\n    .wandb-row { display: flex; flex-direction: row; flex-wrap: wrap; width: 100% }\n    .wandb-col { display: flex; flex-direction: column; flex-basis: 100%; flex: 1; padding: 10px; }\n    </style>\n<div class=\"wandb-row\"><div class=\"wandb-col\">\n</div><div class=\"wandb-col\">\n</div></div>\nSynced 6 W&B file(s), 1 media file(s), 0 artifact file(s) and 0 other file(s)\n<br/>Synced <strong style=\"color:#cdcd00\">brisk-blaze-170</strong>: <a href=\"https://wandb.ai/nlpetroni/assignment-two/runs/1swzasxo\" target=\"_blank\">https://wandb.ai/nlpetroni/assignment-two/runs/1swzasxo</a><br/>\nFind logs at: <code>./wandb/run-20211209_124932-1swzasxo/logs</code><br/>\n"
     },
     "metadata": {},
     "output_type": "display_data"
    },
    {
     "data": {
      "text/plain": "<IPython.core.display.HTML object>",
      "text/html": "Successfully finished last run (ID:1swzasxo). Initializing new run:<br/>"
     },
     "metadata": {},
     "output_type": "display_data"
    },
    {
     "data": {
      "text/plain": "<IPython.core.display.HTML object>",
      "text/html": "\n                    Syncing run <strong><a href=\"https://wandb.ai/nlpetroni/assignment-two/runs/3k07gnyb\" target=\"_blank\">logical-sunset-171</a></strong> to <a href=\"https://wandb.ai/nlpetroni/assignment-two\" target=\"_blank\">Weights & Biases</a> (<a href=\"https://docs.wandb.com/integrations/jupyter.html\" target=\"_blank\">docs</a>).<br/>\n\n                "
     },
     "metadata": {},
     "output_type": "display_data"
    },
    {
     "name": "stderr",
     "output_type": "stream",
     "text": [
      "\u001B[34m\u001B[1mwandb\u001B[0m: logging graph, to disable use `wandb.watch(log_graph=False)`\n"
     ]
    },
    {
     "name": "stdout",
     "output_type": "stream",
     "text": [
      "=================================================================\n",
      "Layer (type:depth-idx)                   Param #\n",
      "=================================================================\n",
      "FactChecker                              --\n",
      "├─Embedding: 1-1                         (40,320,000)\n",
      "├─RNNEncoder: 1-2                        --\n",
      "│    └─LambdaLast: 2-1                   --\n",
      "│    └─RNN: 2-2                          15,200\n",
      "├─LambdaConcatenation: 1-3               --\n",
      "├─Sequential: 1-4                        --\n",
      "│    └─Linear: 2-3                       20,100\n",
      "│    └─ReLU: 2-4                         --\n",
      "│    └─Linear: 2-5                       101\n",
      "=================================================================\n",
      "Total params: 40,355,401\n",
      "Trainable params: 35,401\n",
      "Non-trainable params: 40,320,000\n",
      "=================================================================\n",
      "STARTING TRAINING\n",
      "[000/025] train loss: 0.574, valid loss: 0.749, accuracy: 0.51\n",
      "[001/025] train loss: 0.497, valid loss: 0.700, accuracy: 0.62\n",
      "[002/025] train loss: 0.467, valid loss: 0.671, accuracy: 0.63\n",
      "[003/025] train loss: 0.450, valid loss: 0.655, accuracy: 0.64\n",
      "[004/025] train loss: 0.436, valid loss: 0.662, accuracy: 0.65\n",
      "[005/025] train loss: 0.425, valid loss: 0.624, accuracy: 0.67\n",
      "[006/025] train loss: 0.416, valid loss: 0.650, accuracy: 0.67\n",
      "[007/025] train loss: 0.409, valid loss: 0.609, accuracy: 0.68\n",
      "[008/025] train loss: 0.402, valid loss: 0.614, accuracy: 0.69\n",
      "[009/025] train loss: 0.396, valid loss: 0.617, accuracy: 0.68\n",
      "[010/025] train loss: 0.391, valid loss: 0.624, accuracy: 0.69\n",
      "[011/025] train loss: 0.385, valid loss: 0.600, accuracy: 0.69\n",
      "[012/025] train loss: 0.382, valid loss: 0.633, accuracy: 0.69\n",
      "[013/025] train loss: 0.377, valid loss: 0.606, accuracy: 0.71\n",
      "[014/025] train loss: 0.374, valid loss: 0.578, accuracy: 0.71\n",
      "[015/025] train loss: 0.370, valid loss: 0.582, accuracy: 0.71\n",
      "[016/025] train loss: 0.368, valid loss: 0.599, accuracy: 0.71\n",
      "[017/025] train loss: 0.364, valid loss: 0.575, accuracy: 0.71\n",
      "[018/025] train loss: 0.360, valid loss: 0.563, accuracy: 0.72\n",
      "[019/025] train loss: 0.357, valid loss: 0.628, accuracy: 0.70\n",
      "[020/025] train loss: 0.355, valid loss: 0.574, accuracy: 0.72\n",
      "[021/025] train loss: 0.352, valid loss: 0.588, accuracy: 0.71\n",
      "[022/025] train loss: 0.349, valid loss: 0.584, accuracy: 0.72\n",
      "[023/025] train loss: 0.347, valid loss: 0.614, accuracy: 0.71\n",
      "[024/025] train loss: 0.345, valid loss: 0.573, accuracy: 0.72\n"
     ]
    },
    {
     "data": {
      "text/plain": "<IPython.core.display.HTML object>",
      "text/html": "<br/>Waiting for W&B process to finish, PID 22381... <strong style=\"color:green\">(success).</strong>"
     },
     "metadata": {},
     "output_type": "display_data"
    },
    {
     "data": {
      "text/plain": "VBox(children=(Label(value=' 0.00MB of 0.00MB uploaded (0.00MB deduped)\\r'), FloatProgress(value=1.0, max=1.0)…",
      "application/vnd.jupyter.widget-view+json": {
       "version_major": 2,
       "version_minor": 0,
       "model_id": "3b57af3df98c4536890498acc57c5b03"
      }
     },
     "metadata": {},
     "output_type": "display_data"
    },
    {
     "data": {
      "text/plain": "<IPython.core.display.HTML object>",
      "text/html": "<style>\n    table.wandb td:nth-child(1) { padding: 0 10px; text-align: right }\n    .wandb-row { display: flex; flex-direction: row; flex-wrap: wrap; width: 100% }\n    .wandb-col { display: flex; flex-direction: column; flex-basis: 100%; flex: 1; padding: 10px; }\n    </style>\n<div class=\"wandb-row\"><div class=\"wandb-col\">\n<h3>Run history:</h3><br/><table class=\"wandb\"><tr><td>epoch</td><td>▁▁▁▂▂▂▂▂▂▂▃▃▃▃▄▄▄▄▄▄▅▅▅▅▅▅▆▆▆▆▆▇▇▇▇▇▇███</td></tr><tr><td>train/accuracy</td><td>▁▂▃▄▄▅▄▅▅▅▆▅▅▆▅▅▆▅▆▇▇▅▆▆▇▆▇▇▇▆▇▆▆▇▇▇▆▆█▇</td></tr><tr><td>train/loss</td><td>█▇▆▅▅▅▅▄▅▄▄▄▄▃▄▄▃▄▃▃▃▄▃▃▂▃▂▃▂▂▂▂▃▂▂▂▃▃▁▂</td></tr><tr><td>train_step</td><td>▁▁▁▂▂▂▂▂▂▃▃▃▃▃▃▄▄▄▄▄▅▅▅▅▅▅▆▆▆▆▆▇▇▇▇▇▇███</td></tr><tr><td>valid/accuracy</td><td>▁▅▅▅▆▆▆▇▇▇▇▇▇▇██▇██▇█████</td></tr><tr><td>valid/f1</td><td>▁▄▅▅▆▆▆▇▇▇▇▇▇████████████</td></tr><tr><td>valid/loss</td><td>█▆▅▄▅▃▄▃▃▃▃▂▄▃▂▂▂▁▁▃▁▂▂▃▁</td></tr><tr><td>valid/precision</td><td>▁▄▄▅▅▆▆▆▆▆▆▇▆▇▇▇▇▇█▇███▇█</td></tr><tr><td>valid/recall</td><td>█▃▄▄▆▃▆▄▄▅▅▄▆▄▃▂▅▃▁▅▂▃▃▄▁</td></tr></table><br/></div><div class=\"wandb-col\">\n<h3>Run summary:</h3><br/><table class=\"wandb\"><tr><td>epoch</td><td>24</td></tr><tr><td>train_step</td><td>2974</td></tr></table>\n</div></div>\nSynced 6 W&B file(s), 1 media file(s), 0 artifact file(s) and 0 other file(s)\n<br/>Synced <strong style=\"color:#cdcd00\">logical-sunset-171</strong>: <a href=\"https://wandb.ai/nlpetroni/assignment-two/runs/3k07gnyb\" target=\"_blank\">https://wandb.ai/nlpetroni/assignment-two/runs/3k07gnyb</a><br/>\nFind logs at: <code>./wandb/run-20211209_125058-3k07gnyb/logs</code><br/>\n"
     },
     "metadata": {},
     "output_type": "display_data"
    },
    {
     "data": {
      "text/plain": "FactChecker(\n  (emb_layer): Embedding(403200, 100)\n  (encoder): RNNEncoder(\n    (output_layer): LambdaLast()\n    (rec_module): RNN(100, 50, batch_first=True, bidirectional=True)\n  )\n  (merger): LambdaConcatenation()\n  (classifier): Sequential(\n    (classifier_fc1): Linear(in_features=200, out_features=100, bias=True)\n    (classifier_ReLU): ReLU()\n    (classifier_fc2): Linear(in_features=100, out_features=1, bias=True)\n  )\n)"
     },
     "execution_count": 47,
     "metadata": {},
     "output_type": "execute_result"
    }
   ]
  },
  {
   "cell_type": "code",
   "metadata": {
    "id": "z18L9MxcgiE0"
   },
   "source": [
    "def GridSearch(parameters, optimizer_name='adam', loss_fn='', device=None, verbose=True):\n",
    "  for rnn_type in parameters['rnn_type']:\n",
    "    for lr in parameters['lr']:\n",
    "      for batch_size in parameters['batch_size']:\n",
    "        for num_layer_class in parameters['num_layer_class']:\n",
    "          for num_layer_rnn in parameters['num_layer_rnn']:\n",
    "            train(optimizer_name=optimizer_name, lr=lr, loss_fn=loss_fn, device=device, n_epochs=10, verbose=verbose, batch_size=batch_size,\n",
    "                encoder='rnn', merger='concatenation', rnn_type=rnn_type, rnn_output='last', hid_size=50 , n_layers_classifier=num_layer_class, rec_size=num_layer_rnn)\n",
    "              "
   ],
   "execution_count": null,
   "outputs": []
  },
  {
   "cell_type": "code",
   "metadata": {
    "colab": {
     "base_uri": "https://localhost:8080/",
     "height": 559,
     "referenced_widgets": [
      "8d5c1d3479874ed1b7a44706d4c5af8b",
      "efd0b23227c749a29bd63f75e5725ae6",
      "55aa2907adea4fc690c392c332a53c36",
      "5f90cd1a2d8d4d61b129fa6369a2bb1b",
      "eeca154e1882405caadb7b549b2c258e",
      "f915b866069048ea9dd9513377f11f4a",
      "a496e58697994518a7689f734ed5478d",
      "dd951542e0904c1d976ebcfe5c3a15eb"
     ]
    },
    "id": "LdHx5HUdmzKa",
    "outputId": "81a71eea-4242-4063-caa8-83a2f53615db"
   },
   "source": [
    "parameters = {'rnn_type': ['lstm', 'gru'], 'lr': [1e-3, 1e-4, 1e-5], 'batch_size': [1024, 512], 'num_layer_class':[2, 3], 'num_layer_rnn':[1, 2, 3]}\n",
    "GridSearch(parameters, optimizer_name='adam', loss_fn='', device=device, verbose=False)"
   ],
   "execution_count": null,
   "outputs": []
  }
 ]
}