{
 "nbformat": 4,
 "nbformat_minor": 0,
 "metadata": {
  "colab": {
   "name": "solution_2.ipynb",
   "provenance": [],
   "include_colab_link": true
  },
  "kernelspec": {
   "name": "python3",
   "language": "python",
   "display_name": "Python 3 (ipykernel)"
  },
  "language_info": {
   "name": "python"
  },
  "accelerator": "GPU",
  "widgets": {
   "application/vnd.jupyter.widget-state+json": {
    "49c96ed7844e431f92c107ddd853bb62": {
     "model_module": "@jupyter-widgets/controls",
     "model_name": "VBoxModel",
     "model_module_version": "1.5.0",
     "state": {
      "_view_name": "VBoxView",
      "_dom_classes": [],
      "_model_name": "VBoxModel",
      "_view_module": "@jupyter-widgets/controls",
      "_model_module_version": "1.5.0",
      "_view_count": null,
      "_view_module_version": "1.5.0",
      "box_style": "",
      "layout": "IPY_MODEL_eb53a83ba3fe4dfcbc81609d299e4b2b",
      "_model_module": "@jupyter-widgets/controls",
      "children": [
       "IPY_MODEL_1e1a82561c8c4c01aaee986baa57db58",
       "IPY_MODEL_27bc0263b2bd47aa8b473611bf8ac1e5"
      ]
     }
    },
    "eb53a83ba3fe4dfcbc81609d299e4b2b": {
     "model_module": "@jupyter-widgets/base",
     "model_name": "LayoutModel",
     "model_module_version": "1.2.0",
     "state": {
      "_view_name": "LayoutView",
      "grid_template_rows": null,
      "right": null,
      "justify_content": null,
      "_view_module": "@jupyter-widgets/base",
      "overflow": null,
      "_model_module_version": "1.2.0",
      "_view_count": null,
      "flex_flow": null,
      "width": null,
      "min_width": null,
      "border": null,
      "align_items": null,
      "bottom": null,
      "_model_module": "@jupyter-widgets/base",
      "top": null,
      "grid_column": null,
      "overflow_y": null,
      "overflow_x": null,
      "grid_auto_flow": null,
      "grid_area": null,
      "grid_template_columns": null,
      "flex": null,
      "_model_name": "LayoutModel",
      "justify_items": null,
      "grid_row": null,
      "max_height": null,
      "align_content": null,
      "visibility": null,
      "align_self": null,
      "height": null,
      "min_height": null,
      "padding": null,
      "grid_auto_rows": null,
      "grid_gap": null,
      "max_width": null,
      "order": null,
      "_view_module_version": "1.2.0",
      "grid_template_areas": null,
      "object_position": null,
      "object_fit": null,
      "grid_auto_columns": null,
      "margin": null,
      "display": null,
      "left": null
     }
    },
    "1e1a82561c8c4c01aaee986baa57db58": {
     "model_module": "@jupyter-widgets/controls",
     "model_name": "LabelModel",
     "model_module_version": "1.5.0",
     "state": {
      "_view_name": "LabelView",
      "style": "IPY_MODEL_b52f058691464084beb11aac99f323aa",
      "_dom_classes": [],
      "description": "",
      "_model_name": "LabelModel",
      "placeholder": "​",
      "_view_module": "@jupyter-widgets/controls",
      "_model_module_version": "1.5.0",
      "value": " 0.04MB of 0.04MB uploaded (0.00MB deduped)\r",
      "_view_count": null,
      "_view_module_version": "1.5.0",
      "description_tooltip": null,
      "_model_module": "@jupyter-widgets/controls",
      "layout": "IPY_MODEL_0fff67a225c54318bdfc9259bd8ee1cc"
     }
    },
    "27bc0263b2bd47aa8b473611bf8ac1e5": {
     "model_module": "@jupyter-widgets/controls",
     "model_name": "FloatProgressModel",
     "model_module_version": "1.5.0",
     "state": {
      "_view_name": "ProgressView",
      "style": "IPY_MODEL_50feb21896394d2da78f542aa7e22c15",
      "_dom_classes": [],
      "description": "",
      "_model_name": "FloatProgressModel",
      "bar_style": "",
      "max": 1,
      "_view_module": "@jupyter-widgets/controls",
      "_model_module_version": "1.5.0",
      "value": 1,
      "_view_count": null,
      "_view_module_version": "1.5.0",
      "orientation": "horizontal",
      "min": 0,
      "description_tooltip": null,
      "_model_module": "@jupyter-widgets/controls",
      "layout": "IPY_MODEL_3f53f2bc981d492896f7a8b9e2eaf60a"
     }
    },
    "b52f058691464084beb11aac99f323aa": {
     "model_module": "@jupyter-widgets/controls",
     "model_name": "DescriptionStyleModel",
     "model_module_version": "1.5.0",
     "state": {
      "_view_name": "StyleView",
      "_model_name": "DescriptionStyleModel",
      "description_width": "",
      "_view_module": "@jupyter-widgets/base",
      "_model_module_version": "1.5.0",
      "_view_count": null,
      "_view_module_version": "1.2.0",
      "_model_module": "@jupyter-widgets/controls"
     }
    },
    "0fff67a225c54318bdfc9259bd8ee1cc": {
     "model_module": "@jupyter-widgets/base",
     "model_name": "LayoutModel",
     "model_module_version": "1.2.0",
     "state": {
      "_view_name": "LayoutView",
      "grid_template_rows": null,
      "right": null,
      "justify_content": null,
      "_view_module": "@jupyter-widgets/base",
      "overflow": null,
      "_model_module_version": "1.2.0",
      "_view_count": null,
      "flex_flow": null,
      "width": null,
      "min_width": null,
      "border": null,
      "align_items": null,
      "bottom": null,
      "_model_module": "@jupyter-widgets/base",
      "top": null,
      "grid_column": null,
      "overflow_y": null,
      "overflow_x": null,
      "grid_auto_flow": null,
      "grid_area": null,
      "grid_template_columns": null,
      "flex": null,
      "_model_name": "LayoutModel",
      "justify_items": null,
      "grid_row": null,
      "max_height": null,
      "align_content": null,
      "visibility": null,
      "align_self": null,
      "height": null,
      "min_height": null,
      "padding": null,
      "grid_auto_rows": null,
      "grid_gap": null,
      "max_width": null,
      "order": null,
      "_view_module_version": "1.2.0",
      "grid_template_areas": null,
      "object_position": null,
      "object_fit": null,
      "grid_auto_columns": null,
      "margin": null,
      "display": null,
      "left": null
     }
    },
    "50feb21896394d2da78f542aa7e22c15": {
     "model_module": "@jupyter-widgets/controls",
     "model_name": "ProgressStyleModel",
     "model_module_version": "1.5.0",
     "state": {
      "_view_name": "StyleView",
      "_model_name": "ProgressStyleModel",
      "description_width": "",
      "_view_module": "@jupyter-widgets/base",
      "_model_module_version": "1.5.0",
      "_view_count": null,
      "_view_module_version": "1.2.0",
      "bar_color": null,
      "_model_module": "@jupyter-widgets/controls"
     }
    },
    "3f53f2bc981d492896f7a8b9e2eaf60a": {
     "model_module": "@jupyter-widgets/base",
     "model_name": "LayoutModel",
     "model_module_version": "1.2.0",
     "state": {
      "_view_name": "LayoutView",
      "grid_template_rows": null,
      "right": null,
      "justify_content": null,
      "_view_module": "@jupyter-widgets/base",
      "overflow": null,
      "_model_module_version": "1.2.0",
      "_view_count": null,
      "flex_flow": null,
      "width": null,
      "min_width": null,
      "border": null,
      "align_items": null,
      "bottom": null,
      "_model_module": "@jupyter-widgets/base",
      "top": null,
      "grid_column": null,
      "overflow_y": null,
      "overflow_x": null,
      "grid_auto_flow": null,
      "grid_area": null,
      "grid_template_columns": null,
      "flex": null,
      "_model_name": "LayoutModel",
      "justify_items": null,
      "grid_row": null,
      "max_height": null,
      "align_content": null,
      "visibility": null,
      "align_self": null,
      "height": null,
      "min_height": null,
      "padding": null,
      "grid_auto_rows": null,
      "grid_gap": null,
      "max_width": null,
      "order": null,
      "_view_module_version": "1.2.0",
      "grid_template_areas": null,
      "object_position": null,
      "object_fit": null,
      "grid_auto_columns": null,
      "margin": null,
      "display": null,
      "left": null
     }
    },
    "2ac73458945443889b8207dc8f864e31": {
     "model_module": "@jupyter-widgets/controls",
     "model_name": "VBoxModel",
     "model_module_version": "1.5.0",
     "state": {
      "_view_name": "VBoxView",
      "_dom_classes": [],
      "_model_name": "VBoxModel",
      "_view_module": "@jupyter-widgets/controls",
      "_model_module_version": "1.5.0",
      "_view_count": null,
      "_view_module_version": "1.5.0",
      "box_style": "",
      "layout": "IPY_MODEL_5b5e5f01d94a412083d9923015d57998",
      "_model_module": "@jupyter-widgets/controls",
      "children": [
       "IPY_MODEL_e5782c85507343d5a30a8e36a08f4761",
       "IPY_MODEL_e27887984b434b48a573a22e5e13a4b5"
      ]
     }
    },
    "5b5e5f01d94a412083d9923015d57998": {
     "model_module": "@jupyter-widgets/base",
     "model_name": "LayoutModel",
     "model_module_version": "1.2.0",
     "state": {
      "_view_name": "LayoutView",
      "grid_template_rows": null,
      "right": null,
      "justify_content": null,
      "_view_module": "@jupyter-widgets/base",
      "overflow": null,
      "_model_module_version": "1.2.0",
      "_view_count": null,
      "flex_flow": null,
      "width": null,
      "min_width": null,
      "border": null,
      "align_items": null,
      "bottom": null,
      "_model_module": "@jupyter-widgets/base",
      "top": null,
      "grid_column": null,
      "overflow_y": null,
      "overflow_x": null,
      "grid_auto_flow": null,
      "grid_area": null,
      "grid_template_columns": null,
      "flex": null,
      "_model_name": "LayoutModel",
      "justify_items": null,
      "grid_row": null,
      "max_height": null,
      "align_content": null,
      "visibility": null,
      "align_self": null,
      "height": null,
      "min_height": null,
      "padding": null,
      "grid_auto_rows": null,
      "grid_gap": null,
      "max_width": null,
      "order": null,
      "_view_module_version": "1.2.0",
      "grid_template_areas": null,
      "object_position": null,
      "object_fit": null,
      "grid_auto_columns": null,
      "margin": null,
      "display": null,
      "left": null
     }
    },
    "e5782c85507343d5a30a8e36a08f4761": {
     "model_module": "@jupyter-widgets/controls",
     "model_name": "LabelModel",
     "model_module_version": "1.5.0",
     "state": {
      "_view_name": "LabelView",
      "style": "IPY_MODEL_f0bc3d60a3b54f44811937da7e6e79b5",
      "_dom_classes": [],
      "description": "",
      "_model_name": "LabelModel",
      "placeholder": "​",
      "_view_module": "@jupyter-widgets/controls",
      "_model_module_version": "1.5.0",
      "value": " 0.03MB of 0.03MB uploaded (0.00MB deduped)\r",
      "_view_count": null,
      "_view_module_version": "1.5.0",
      "description_tooltip": null,
      "_model_module": "@jupyter-widgets/controls",
      "layout": "IPY_MODEL_679f5861dd3a445dbedd2b96c7f6c1b8"
     }
    },
    "e27887984b434b48a573a22e5e13a4b5": {
     "model_module": "@jupyter-widgets/controls",
     "model_name": "FloatProgressModel",
     "model_module_version": "1.5.0",
     "state": {
      "_view_name": "ProgressView",
      "style": "IPY_MODEL_09c2a9d3abdb4e7daffd8334fb9216de",
      "_dom_classes": [],
      "description": "",
      "_model_name": "FloatProgressModel",
      "bar_style": "",
      "max": 1,
      "_view_module": "@jupyter-widgets/controls",
      "_model_module_version": "1.5.0",
      "value": 1,
      "_view_count": null,
      "_view_module_version": "1.5.0",
      "orientation": "horizontal",
      "min": 0,
      "description_tooltip": null,
      "_model_module": "@jupyter-widgets/controls",
      "layout": "IPY_MODEL_84bb731746ce4c1b8c4354e2934feaf4"
     }
    },
    "f0bc3d60a3b54f44811937da7e6e79b5": {
     "model_module": "@jupyter-widgets/controls",
     "model_name": "DescriptionStyleModel",
     "model_module_version": "1.5.0",
     "state": {
      "_view_name": "StyleView",
      "_model_name": "DescriptionStyleModel",
      "description_width": "",
      "_view_module": "@jupyter-widgets/base",
      "_model_module_version": "1.5.0",
      "_view_count": null,
      "_view_module_version": "1.2.0",
      "_model_module": "@jupyter-widgets/controls"
     }
    },
    "679f5861dd3a445dbedd2b96c7f6c1b8": {
     "model_module": "@jupyter-widgets/base",
     "model_name": "LayoutModel",
     "model_module_version": "1.2.0",
     "state": {
      "_view_name": "LayoutView",
      "grid_template_rows": null,
      "right": null,
      "justify_content": null,
      "_view_module": "@jupyter-widgets/base",
      "overflow": null,
      "_model_module_version": "1.2.0",
      "_view_count": null,
      "flex_flow": null,
      "width": null,
      "min_width": null,
      "border": null,
      "align_items": null,
      "bottom": null,
      "_model_module": "@jupyter-widgets/base",
      "top": null,
      "grid_column": null,
      "overflow_y": null,
      "overflow_x": null,
      "grid_auto_flow": null,
      "grid_area": null,
      "grid_template_columns": null,
      "flex": null,
      "_model_name": "LayoutModel",
      "justify_items": null,
      "grid_row": null,
      "max_height": null,
      "align_content": null,
      "visibility": null,
      "align_self": null,
      "height": null,
      "min_height": null,
      "padding": null,
      "grid_auto_rows": null,
      "grid_gap": null,
      "max_width": null,
      "order": null,
      "_view_module_version": "1.2.0",
      "grid_template_areas": null,
      "object_position": null,
      "object_fit": null,
      "grid_auto_columns": null,
      "margin": null,
      "display": null,
      "left": null
     }
    },
    "09c2a9d3abdb4e7daffd8334fb9216de": {
     "model_module": "@jupyter-widgets/controls",
     "model_name": "ProgressStyleModel",
     "model_module_version": "1.5.0",
     "state": {
      "_view_name": "StyleView",
      "_model_name": "ProgressStyleModel",
      "description_width": "",
      "_view_module": "@jupyter-widgets/base",
      "_model_module_version": "1.5.0",
      "_view_count": null,
      "_view_module_version": "1.2.0",
      "bar_color": null,
      "_model_module": "@jupyter-widgets/controls"
     }
    },
    "84bb731746ce4c1b8c4354e2934feaf4": {
     "model_module": "@jupyter-widgets/base",
     "model_name": "LayoutModel",
     "model_module_version": "1.2.0",
     "state": {
      "_view_name": "LayoutView",
      "grid_template_rows": null,
      "right": null,
      "justify_content": null,
      "_view_module": "@jupyter-widgets/base",
      "overflow": null,
      "_model_module_version": "1.2.0",
      "_view_count": null,
      "flex_flow": null,
      "width": null,
      "min_width": null,
      "border": null,
      "align_items": null,
      "bottom": null,
      "_model_module": "@jupyter-widgets/base",
      "top": null,
      "grid_column": null,
      "overflow_y": null,
      "overflow_x": null,
      "grid_auto_flow": null,
      "grid_area": null,
      "grid_template_columns": null,
      "flex": null,
      "_model_name": "LayoutModel",
      "justify_items": null,
      "grid_row": null,
      "max_height": null,
      "align_content": null,
      "visibility": null,
      "align_self": null,
      "height": null,
      "min_height": null,
      "padding": null,
      "grid_auto_rows": null,
      "grid_gap": null,
      "max_width": null,
      "order": null,
      "_view_module_version": "1.2.0",
      "grid_template_areas": null,
      "object_position": null,
      "object_fit": null,
      "grid_auto_columns": null,
      "margin": null,
      "display": null,
      "left": null
     }
    }
   }
  }
 },
 "cells": [
  {
   "cell_type": "markdown",
   "metadata": {
    "id": "view-in-github",
    "colab_type": "text"
   },
   "source": [
    "<a href=\"https://colab.research.google.com/github/NLPetroni/assignment_two/blob/main/solution_2.ipynb\" target=\"_parent\"><img src=\"https://colab.research.google.com/assets/colab-badge.svg\" alt=\"Open In Colab\"/></a>"
   ]
  },
  {
   "cell_type": "markdown",
   "metadata": {
    "id": "m5ldIOU6KPl4"
   },
   "source": [
    "# Imports and downloads\n",
    "\n"
   ]
  },
  {
   "cell_type": "code",
   "metadata": {
    "colab": {
     "base_uri": "https://localhost:8080/"
    },
    "id": "zpI5pddAJRU5",
    "outputId": "b30d3b05-3f2c-47a2-e041-d8d221532e03"
   },
   "source": [
    "import numpy as np\n",
    "import pandas as pd\n",
    "import sys\n",
    "import os\n",
    "\n",
    "try:\n",
    "  import google.colab\n",
    "  IN_COLAB = True\n",
    "except:\n",
    "  IN_COLAB = False\n",
    "\n",
    "if IN_COLAB:\n",
    "  %cd /content\n",
    "  !rm -rf assignment_two &> /dev/null\n",
    "  !git clone https://github.com/NLPetroni/assignment_two &> /dev/null\n",
    "  %cd assignment_two\n",
    "  sys.path.append(os.getcwd())\n",
    "  !git clone https://gitlab.com/sasso-effe/nlp-assignment-data.git &> /dev/null\n",
    "  !mv nlp-assignment-data/embedding_matrix.npy res/embedding_matrix.npy\n",
    "  !rm -rf nlp-assignment-data\n",
    "  !pip install wandb &> /dev/null\n",
    "  !pip install torchinfo"
   ],
   "execution_count": 1,
   "outputs": []
  },
  {
   "cell_type": "code",
   "metadata": {
    "id": "o2uzDyzCKrGy",
    "pycharm": {
     "name": "#%%\n"
    }
   },
   "source": [
    "import re\n",
    "import math\n",
    "from functools import reduce\n",
    "from typing import List, Callable\n",
    "import pickle\n",
    "\n",
    "import wandb\n",
    "import nltk\n",
    "from nltk.corpus import stopwords\n",
    "import torch\n",
    "from torch import nn\n",
    "from torchinfo import summary\n",
    "from sklearn.metrics import f1_score, precision_score, recall_score\n",
    "\n",
    "from src import utils\n",
    "\n",
    "device = torch.device('cuda') if torch.cuda.is_available() else torch.device('cpu')"
   ],
   "execution_count": 2,
   "outputs": []
  },
  {
   "cell_type": "code",
   "metadata": {
    "id": "0zr8CGx9JmRN",
    "colab": {
     "base_uri": "https://localhost:8080/"
    },
    "outputId": "60d23802-9bf1-48fd-a93c-35ae52923f1c"
   },
   "source": [
    "utils.download_data('dataset')\n",
    "train_set = pd.read_csv(\"dataset/train_pairs.csv\")\n",
    "val_set = pd.read_csv(\"dataset/val_pairs.csv\")\n",
    "test_set = pd.read_csv(\"dataset/test_pairs.csv\")\n",
    "\n",
    "print(train_set.columns)\n",
    "print(\"Total rows of the train set: {:d}\".format(len(train_set)))\n",
    "print(\"Total rows of the validation set: {:d}\".format(len(val_set)))\n",
    "print(\"Total rows of the test set: {:d}\".format(len(test_set)))\n",
    "print(train_set['Label'].value_counts())"
   ],
   "execution_count": 3,
   "outputs": [
    {
     "name": "stdout",
     "output_type": "stream",
     "text": [
      "Index(['Unnamed: 0', 'Claim', 'Evidence', 'ID', 'Label'], dtype='object')\n",
      "Total rows of the train set: 121740\n",
      "Total rows of the validation set: 7165\n",
      "Total rows of the test set: 7189\n",
      "SUPPORTS    89389\n",
      "REFUTES     32351\n",
      "Name: Label, dtype: int64\n"
     ]
    }
   ]
  },
  {
   "cell_type": "markdown",
   "metadata": {
    "id": "yBtVzSl_J0CR"
   },
   "source": [
    "# Dataset pre-processing and conversion"
   ]
  },
  {
   "cell_type": "code",
   "metadata": {
    "id": "mps78KxwJ1e6",
    "colab": {
     "base_uri": "https://localhost:8080/"
    },
    "outputId": "dcb63811-bd9b-4357-8f34-1fd1a99637b2"
   },
   "source": [
    "REPLACE_BY_SPACE_RE = re.compile('[/(){}\\[\\]\\|@,;\\t-]')\n",
    "GOOD_SYMBOLS_RE = re.compile('[^0-9a-z #+_]')\n",
    "BAD_SYMBOLS_RE = re.compile('(-LRB-)|(-RRB-)|(-LSB-)|(-RSB-)')\n",
    "INSIDE_SQAURE_BRACKETS_RE = re.compile('(-LSB-).*?(-RSB-)')\n",
    "\n",
    "try:\n",
    "    STOPWORDS = set(stopwords.words('english'))\n",
    "except LookupError:\n",
    "    nltk.download('stopwords')\n",
    "    STOPWORDS = set(stopwords.words('english'))\n",
    "\n",
    "def remove_inside_square_brackets(text: str) -> str:\n",
    "    return INSIDE_SQAURE_BRACKETS_RE.sub('', text)\n",
    "\n",
    "def remove_bad_symbols(text: str) -> str:\n",
    "    return BAD_SYMBOLS_RE.sub('', text)\n",
    "\n",
    "def remove_final_tags(text: str) -> str:\n",
    "   return re.sub('\\.\\t.*?$', '', text) \n",
    "\n",
    "def lower(text: str) -> str:\n",
    "    \"\"\"\n",
    "    Transforms given text to lower case.\n",
    "    Example:\n",
    "    Input: 'I really like New York city'\n",
    "    Output: 'i really like new your city'\n",
    "    \"\"\"\n",
    "\n",
    "    return text.lower()\n",
    "\n",
    "def replace_special_characters(text: str) -> str:\n",
    "    \"\"\"\n",
    "    Replaces special characters, such as paranthesis,\n",
    "    with spacing character\n",
    "    \"\"\"\n",
    "\n",
    "    return REPLACE_BY_SPACE_RE.sub(' ', text)\n",
    "\n",
    "def replace_br(text: str) -> str:\n",
    "    \"\"\"\n",
    "    Replaces br characters\n",
    "    \"\"\"\n",
    "\n",
    "    return text.replace('</br>', '')\n",
    "\n",
    "def filter_out_uncommon_symbols(text: str) -> str:\n",
    "    \"\"\"\n",
    "    Removes any special character that is not in the\n",
    "    good symbols list (check regular expression)\n",
    "    \"\"\"\n",
    "\n",
    "    return GOOD_SYMBOLS_RE.sub('', text)\n",
    "\n",
    "def remove_stopwords(text: str) -> str:\n",
    "    return ' '.join([x for x in text.split() if x and x not in STOPWORDS])\n",
    "\n",
    "\n",
    "def strip_text(text: str) -> str:\n",
    "    \"\"\"\n",
    "    Removes any left or right spacing (including carriage return) from text.\n",
    "    Example:\n",
    "    Input: '  This assignment is cool\\n'\n",
    "    Output: 'This assignment is cool'\n",
    "    \"\"\"\n",
    "\n",
    "    return text.strip()\n",
    "\n",
    "def split_text(text: str) -> List:\n",
    "  return text.split()\n",
    "\n",
    "PREPROCESSING_PIPELINE = [\n",
    "                          remove_inside_square_brackets,\n",
    "                          remove_bad_symbols,\n",
    "                          lower,\n",
    "                          remove_final_tags,\n",
    "                          replace_special_characters,\n",
    "                          filter_out_uncommon_symbols,\n",
    "                          strip_text,\n",
    "                          split_text\n",
    "                          ]\n",
    "\n",
    "# Anchor method\n",
    "\n",
    "def text_prepare(text: str,\n",
    "                 filter_methods: List[Callable[[str], str]] = None) -> str:\n",
    "    \"\"\"\n",
    "    Applies a list of pre-processing functions in sequence (reduce).\n",
    "    Note that the order is important here!\n",
    "    \"\"\"\n",
    "\n",
    "    filter_methods = filter_methods if filter_methods is not None else PREPROCESSING_PIPELINE\n",
    "\n",
    "    return reduce(lambda txt, f: f(txt), filter_methods, text)\n",
    "\n",
    "def full_preprocessing(dataset):\n",
    "    # In the evidences there is an id at the beginning of the sequence which is\n",
    "    # removed with the splice [:1]\n",
    "    dataset['Evidence'] = dataset['Evidence'].apply(lambda txt: text_prepare(txt)[1:])\n",
    "    dataset['Claim'] = dataset['Claim'].apply(lambda txt: text_prepare(txt))\n",
    "    return dataset\n"
   ],
   "execution_count": 3,
   "outputs": []
  },
  {
   "cell_type": "markdown",
   "metadata": {
    "collapsed": false,
    "pycharm": {
     "name": "#%% md\n"
    },
    "id": "kFRnAOuk2Wjb"
   },
   "source": [
    "## Padding"
   ]
  },
  {
   "cell_type": "code",
   "metadata": {
    "pycharm": {
     "name": "#%%\n"
    },
    "id": "ePHzgALO2Wjd"
   },
   "source": [
    "class Dataset(torch.utils.data.Dataset):\n",
    "    \"\"\"Simple dataset class to use dataloaders (batching) \"\"\"\n",
    "    def __init__(self, claims, evidences, labels):\n",
    "        self.claims = claims\n",
    "        self.evidences = evidences\n",
    "        self.labels = torch.tensor(labels, dtype=torch.float)\n",
    "    def __getitem__(self, idx):\n",
    "        return self.claims[idx], self.evidences[idx], self.labels[idx]\n",
    "    def __len__(self):\n",
    "        return self.claims.shape[0]"
   ],
   "execution_count": 4,
   "outputs": []
  },
  {
   "cell_type": "code",
   "metadata": {
    "id": "dMzmoTsXf_1_"
   },
   "source": [
    "def to_tensor_collate(batch):\n",
    "    claims, evidences, labels = zip(*batch)\n",
    "    return torch.as_tensor(claims), torch.as_tensor(evidences), torch.as_tensor(labels)\n",
    "\n",
    "def pad_batch_collate(batch):\n",
    "    \"\"\"Used by DataLoader to pad each batch independently\"\"\"\n",
    "    max_claim_len = int(np.quantile([len(claim) for (claim, evidence, target) in batch], 0.99))\n",
    "    max_evidence_len = int(np.quantile([len(evidence) for (claim, evidence, target) in batch], 0.99))\n",
    "    \n",
    "    claims = []\n",
    "    evidences = []\n",
    "    targets = []\n",
    "    for claim, evidence, target in batch:\n",
    "        if len(claim) > max_claim_len:\n",
    "            claims.append(claim[:max_claim_len])\n",
    "        else:\n",
    "            claims.append(([400000] * (max_claim_len - len(claim))) + claim)\n",
    "        if len(evidence) > max_evidence_len:\n",
    "            evidences.append(evidence[:max_evidence_len])\n",
    "        else:\n",
    "            evidences.append(([400000] * (max_evidence_len - len(evidence))) + evidence)\n",
    "        targets.append(target)\n",
    "\n",
    "    return torch.as_tensor(claims), torch.as_tensor(evidences), torch.as_tensor(targets)"
   ],
   "execution_count": 5,
   "outputs": []
  },
  {
   "cell_type": "markdown",
   "metadata": {
    "id": "Fo02GPAtUBlt"
   },
   "source": [
    "## Glove"
   ]
  },
  {
   "cell_type": "code",
   "metadata": {
    "id": "gbq8J24TXLdm",
    "colab": {
     "base_uri": "https://localhost:8080/"
    },
    "outputId": "522230f3-deae-4b32-f0cd-1df47596426b"
   },
   "source": [
    "def get_voc_and_matrix(train_set, val_set, test_set):\n",
    "    if os.path.exists(\"res/vocabulary.pkl\") and os.path.exists(\"res/embedding_matrix.npy\"):\n",
    "      print('The vocabulary and the embedding matrix are already present. Loading them...')\n",
    "      with open('res/vocabulary.pkl', 'rb') as f:\n",
    "        vocabulary = pickle.load(f)\n",
    "      embedding_matrix = np.load(\"res/embedding_matrix.npy\", )\n",
    "      print(\"Done!\")\n",
    "    else:\n",
    "      print(\"The vocabulary and the embedding matrix are NOT present. Creating them...\")\n",
    "      voc_evidence_train = [item for sublist in train_set['Evidence'] for item in sublist]\n",
    "      voc_claim_train = [item for sublist in train_set['Claim'] for item in sublist]\n",
    "      TRAIN_VOC = set(voc_evidence_train + voc_claim_train)\n",
    "      voc_evidence_val = [item for sublist in val_set['Evidence'] for item in sublist]\n",
    "      voc_claim_val = [item for sublist in val_set['Claim'] for item in sublist]\n",
    "      VAL_VOC = set(voc_evidence_val + voc_claim_val)\n",
    "      voc_evidence_test = [item for sublist in test_set['Evidence'] for item in sublist]\n",
    "      voc_claim_test = [item for sublist in test_set['Claim'] for item in sublist]\n",
    "      TEST_VOC = set(voc_evidence_test + voc_claim_test)\n",
    "\n",
    "      inputs = train_set['Evidence'].tolist() + train_set['Claim'].tolist()\n",
    "      glove_voc, embedding_matrix = utils.get_glove(number_token=False)\n",
    "      vocabulary, embedding_matrix = utils.add_oov(glove_voc, TRAIN_VOC, embedding_matrix, inputs)\n",
    "      inputs = val_set['Evidence'].tolist() + val_set['Claim'].tolist()\n",
    "      vocabulary, embedding_matrix = utils.add_oov(vocabulary, VAL_VOC, embedding_matrix, inputs)\n",
    "      inputs = test_set['Evidence'].tolist() + test_set['Claim'].tolist()\n",
    "      vocabulary, embedding_matrix = utils.add_oov(vocabulary, TEST_VOC, embedding_matrix, inputs)\n",
    "\n",
    "      with open(\"res/vocabulary.pkl\", \"wb\") as file:\n",
    "        pickle.dump(vocabulary, file)\n",
    "      np.save(\"res/embedding_matrix.npy\", embedding_matrix)\n",
    "      print(\"Vocabulary and embedding matrix created! Remember to download the generated files.\")\n",
    "    return vocabulary, embedding_matrix\n"
   ],
   "execution_count": 6,
   "outputs": []
  },
  {
   "cell_type": "markdown",
   "metadata": {
    "collapsed": false,
    "pycharm": {
     "name": "#%% md\n"
    },
    "id": "--zNevYb2Wjg"
   },
   "source": [
    "## Tokenization"
   ]
  },
  {
   "cell_type": "code",
   "execution_count": 7,
   "outputs": [],
   "source": [
    "def tokenize(input: List, vocabulary) -> torch.Tensor:\n",
    "  result = list(map(lambda x: vocabulary[x], input))\n",
    "  return result\n",
    "\n",
    "def detokenize(input: torch.Tensor, inverse_vocabulary) -> List:\n",
    "  result = input.tolist()\n",
    "  # FIXME sistemare computazione\n",
    "  result = list(map(lambda x: inverse_vocabulary[x], result))\n",
    "  return result\n",
    "\n",
    "def full_tokenization(data, vocabulary):\n",
    "    data['Evidence'] = data['Evidence'].map(lambda x: tokenize(x, vocabulary))\n",
    "    data['Claim'] = data['Claim'].map(lambda x: tokenize(x, vocabulary))\n",
    "    data['Label'] = data['Label'].map(lambda x: float(1.0) if x == 'SUPPORTS' else float(0.0))\n",
    "    return data"
   ],
   "metadata": {
    "collapsed": false,
    "pycharm": {
     "name": "#%%\n"
    }
   }
  },
  {
   "cell_type": "markdown",
   "source": [
    "# Putting everything together"
   ],
   "metadata": {
    "collapsed": false
   }
  },
  {
   "cell_type": "code",
   "execution_count": 8,
   "outputs": [],
   "source": [
    "def load_data(padding=False):\n",
    "    utils.download_data('dataset')\n",
    "    train_set = pd.read_csv(\"dataset/train_pairs.csv\")\n",
    "    val_set = pd.read_csv(\"dataset/val_pairs.csv\")\n",
    "    test_set = pd.read_csv(\"dataset/test_pairs.csv\")\n",
    "\n",
    "    # preprocessing\n",
    "    train_set = full_preprocessing(train_set)\n",
    "    val_set = full_preprocessing(val_set)\n",
    "    test_set = full_preprocessing(test_set)\n",
    "\n",
    "    if padding:\n",
    "        evidence_lens = [len(te) for te in train_set['Evidence']] + [len(ve) for ve in val_set['Evidence']] + [len(te) for te in test_set['Evidence']]\n",
    "        max_evidence_len = np.quantile(evidence_lens, 0.99, interpolation='nearest')\n",
    "\n",
    "        claim_lens = [len(te) for te in train_set['Claim']] + [len(ve) for ve in val_set['Claim']] + [len(te) for te in test_set['Claim']]\n",
    "        max_claim_len = np.quantile(claim_lens, 0.99, interpolation='nearest')\n",
    "\n",
    "        tr_ev_lens = train_set['Evidence'].map(lambda e: len(e))\n",
    "        tr_claim_lens = train_set['Claim'].map(lambda c: len(c))\n",
    "        train_set = train_set.drop(train_set[(tr_ev_lens >= max_evidence_len) | (tr_claim_lens >= max_claim_len)].index).reset_index()\n",
    "        va_ev_lens = val_set['Evidence'].map(lambda e: len(e))\n",
    "        va_claim_lens = val_set['Claim'].map(lambda c: len(c))\n",
    "        val_set = val_set.drop(val_set[(va_ev_lens >= max_evidence_len) | (va_claim_lens >= max_claim_len)].index).reset_index()\n",
    "        te_ev_lens = test_set['Evidence'].map(lambda e: len(e))\n",
    "        te_claim_lens = test_set['Claim'].map(lambda c: len(c))\n",
    "        test_set = test_set.drop(test_set[(te_ev_lens >= max_evidence_len) | (te_claim_lens >= max_claim_len)].index).reset_index()\n",
    "\n",
    "        train_set.loc[:, 'Evidence'] = train_set['Evidence'].map(lambda x: x + (['<PAD>'] * (max_evidence_len - len(x))))\n",
    "        val_set.loc[:, 'Evidence'] = val_set['Evidence'].map(lambda x: x + (['<PAD>'] * (max_evidence_len - len(x))))\n",
    "        test_set.loc[:, 'Evidence'] = test_set['Evidence'].map(lambda x: x + (['<PAD>'] * (max_evidence_len - len(x))))\n",
    "\n",
    "        train_set.loc[:, 'Claim'] = train_set['Claim'].map(lambda x: x + (['<PAD>'] * (max_claim_len - len(x))))\n",
    "        val_set.loc[:, 'Claim'] = val_set['Claim'].map(lambda x: x + (['<PAD>'] * (max_claim_len - len(x))))\n",
    "        test_set.loc[:, 'Claim'] = test_set['Claim'].map(lambda x: x + (['<PAD>'] * (max_claim_len - len(x))))\n",
    "\n",
    "\n",
    "    vocabulary, embedding_matrix = get_voc_and_matrix(train_set, val_set, test_set)\n",
    "\n",
    "    # tokenization\n",
    "    train_set = full_tokenization(train_set, vocabulary)\n",
    "    val_set = full_tokenization(val_set, vocabulary)\n",
    "    test_set = full_tokenization(test_set, vocabulary)\n",
    "\n",
    "    return vocabulary, embedding_matrix, (train_set, val_set, test_set)"
   ],
   "metadata": {
    "collapsed": false,
    "pycharm": {
     "name": "#%%\n"
    }
   }
  },
  {
   "cell_type": "markdown",
   "metadata": {
    "collapsed": false,
    "id": "84ym75Vh2Wjh"
   },
   "source": [
    "# Model definition"
   ]
  },
  {
   "cell_type": "code",
   "execution_count": 9,
   "outputs": [],
   "source": [
    "# lambda layers\n",
    "\n",
    "class LambdaLast(torch.nn.Module):\n",
    "  def forward(self, x):\n",
    "    return x[:,-1]\n",
    "\n",
    "class LambdaAvg(torch.nn.Module):\n",
    "  def forward(self, x):\n",
    "    return torch.mean(x, dim=1)\n",
    "\n",
    "class LambdaConcatenation(torch.nn.Module):\n",
    "  def forward(self, x, y):\n",
    "    return torch.cat((x, y), dim=1)\n",
    "\n",
    "class LambdaSum(torch.nn.Module):\n",
    "  def forward(self, x, y):\n",
    "    return x + y\n",
    "\n",
    "class LambdaMean(torch.nn.Module):\n",
    "  def forward(self, x, y):\n",
    "    return (x + y) / 2\n"
   ],
   "metadata": {
    "pycharm": {
     "name": "#%%\n"
    },
    "id": "VMWeAnUSFmQn"
   }
  },
  {
   "cell_type": "code",
   "metadata": {
    "id": "J0Hk8G5NcuS4"
   },
   "source": [
    "def get_binary_classifier(name:str,\n",
    "                    w_in: int,\n",
    "                    w_hidden: int,\n",
    "                    n_layers=2\n",
    "                          ) -> nn.Sequential:\n",
    "    \"\"\"Gets a sequential container with a linear+relu+linear classifier\n",
    "\n",
    "    Args:\n",
    "        name: the name prefix to append to each layer in the container.\n",
    "        w_in: the number of the input features.\n",
    "        w_hidden: the number of internal weights\n",
    "\n",
    "    Returns: the created sequential.\n",
    "    \"\"\"\n",
    "    assert n_layers >= 2, f'n_layers is {n_layers}, must be >= 2'\n",
    "    container = nn.Sequential()\n",
    "    container.add_module(f'{name}_fc1', nn.Linear(in_features=w_in, out_features=w_hidden))    \n",
    "    container.add_module(f'{name}_ReLU', nn.ReLU())\n",
    "    for i in range(n_layers-2):\n",
    "      container.add_module(f'{name}_fc{i+2}', nn.Linear(in_features=w_hidden, out_features=w_hidden))\n",
    "      container.add_module(f'{name}_ReLU', nn.ReLU())\n",
    "    container.add_module(f'{name}_fc2', nn.Linear(in_features=w_hidden, out_features=1))\n",
    "    return container\n",
    "\n",
    " \n",
    "class RNNEncoder(torch.nn.Module):\n",
    "\n",
    "  def __init__(self, input_size, hidden_size, num_layers, rnn_type='elman', output_fn='last', verbose=False):\n",
    "    super().__init__()\n",
    "    if verbose:\n",
    "      print('Initializing RNNEncoder ')\n",
    "    types = {'elman': nn.RNN, 'lstm': nn.LSTM, 'gru': nn.GRU}\n",
    "    output_layers = {'last': LambdaLast, 'avg': LambdaAvg}\n",
    "    try:\n",
    "      self.output_layer = output_layers[output_fn]()\n",
    "    except:\n",
    "      raise ValueError(f\"wrong type '{output_fn}', must be in {list(output_layers.keys())}\")\n",
    "\n",
    "    try:\n",
    "      rec_module = types[rnn_type]\n",
    "    except:\n",
    "      valid_types = list(types.keys())\n",
    "      raise ValueError(f\"wrong type '{rnn_type}', must be in {valid_types}\")\n",
    "    self.rec_module = rec_module(input_size=input_size, hidden_size=hidden_size,\n",
    "                                 bidirectional=True, batch_first=True,\n",
    "                                 num_layers=num_layers)\n",
    "    \n",
    "  def forward(self, x):\n",
    "    x, _ = self.rec_module(x)\n",
    "    x = self.output_layer(x)\n",
    "    return x\n",
    "\n",
    "\n",
    "class BagOfVectorsEncoder(torch.nn.Module):\n",
    "\n",
    "  def __init__(self):\n",
    "    super().__init__()\n",
    "\n",
    "  def forward(self, x):\n",
    "    # TODO: check if the mean is computed on the right axis\n",
    "    return torch.mean(x, dim=1)\n",
    "\n",
    "\n",
    "class MLPEncoder(torch.nn.Module):\n",
    "\n",
    "  def __init__(self, ws_in, w_out, layers=None, name='mlp'):\n",
    "    super().__init__()\n",
    "    # the builiding of the network is postponed until input's size is known\n",
    "    self.ws_in = ws_in\n",
    "    self.name = name\n",
    "    self.__build_mlps(w_out, layers)\n",
    "\n",
    "  def forward(self, x):\n",
    "    batch_size, max_tokens, embedding_dim = x.shape\n",
    "    in_features = max_tokens * embedding_dim\n",
    "    x = torch.reshape(x, (batch_size, in_features))\n",
    "    if in_features == self.ws_in[0]:\n",
    "        x = self.evidence_mlp(x)\n",
    "    elif in_features == self.ws_in[1]:\n",
    "        x = self.claim_mlp(x)\n",
    "    else:\n",
    "        raise ValueError(f'wrong input shape {x.shape}, must be in {self.ws_in}')\n",
    "    return x\n",
    "\n",
    "  def __build_mlps(self, w_out, layers):\n",
    "    if layers is None:\n",
    "        layers = [w_out, w_out]\n",
    "    else:\n",
    "        layers = [w_out] + layers\n",
    "\n",
    "    self.evidence_mlp = nn.Sequential()\n",
    "    self.evidence_mlp.add_module(f'{self.name}_fc1', nn.Linear(in_features=self.ws_in[0], out_features=layers[0]))\n",
    "    for i, (w_in, w_out) in enumerate(zip(layers[:-1], layers[1:])):\n",
    "      self.evidence_mlp.add_module(f'{self.name}_ReLU', nn.ReLU())\n",
    "      self.evidence_mlp.add_module(f'{self.name}_fc{i+2}', nn.Linear(in_features=w_in, out_features=w_out))\n",
    "\n",
    "    self.claim_mlp = nn.Sequential()\n",
    "    self.claim_mlp.add_module(f'{self.name}_fc1', nn.Linear(in_features=self.ws_in[1], out_features=layers[0]))\n",
    "    for i, (w_in, w_out) in enumerate(zip(layers[:-1], layers[1:])):\n",
    "      self.claim_mlp.add_module(f'{self.name}_ReLU', nn.ReLU())\n",
    "      self.claim_mlp.add_module(f'{self.name}_fc{i+2}', nn.Linear(in_features=w_in, out_features=w_out))"
   ],
   "execution_count": 35,
   "outputs": []
  },
  {
   "cell_type": "code",
   "metadata": {
    "id": "-rpXu4uhqcnH"
   },
   "source": [
    "class FactChecker(torch.nn.Module):\n",
    "\n",
    "  def __init__(self, embedding_matrix, encoder, merger, ws_in=None, rnn_type=None, rnn_output=None, rec_size=1, hid_size=50, n_layers_classifier=3, cosine_similarity=False):\n",
    "    \"\"\"\n",
    "      A recurrent network performing Neural Language Inference (Fact Checking).\n",
    "      Params:\n",
    "        embedding_matrix: the embedding matrix for word embedding\n",
    "        encoder: [rnn, mlp, bag], the encoder to compute the sentence embedding\n",
    "        merger: [concatenation, sum, mean], the multi-input merging strategy\n",
    "        n_layers_classifier: int, the number of layers in the classifier\n",
    "        RNNEncoder params, only relevant if encoder==rnn:\n",
    "          rnn_type: [elman, lstm, gru], the RNN architecure used in the encoder\n",
    "          rnn_output: [last, avg], the function to compute the sentence encoding from the RNN hidden states\n",
    "          rec_size: int, the number of layers in the rnn\n",
    "          hid_size: int, the hidden size of the rnn\n",
    "\n",
    "\n",
    "    \"\"\"\n",
    "    super().__init__()\n",
    "    self.hid_size = hid_size\n",
    "    self.cosine_similarity = cosine_similarity\n",
    "\n",
    "    # Word embedding\n",
    "    emb_size = embedding_matrix.shape[1]\n",
    "    self.emb_layer = nn.Embedding.from_pretrained(torch.as_tensor(embedding_matrix))\n",
    "\n",
    "    # Sentence embedding\n",
    "    if encoder == 'rnn':\n",
    "      self.encoder = RNNEncoder(emb_size, hid_size, rec_size, rnn_type=rnn_type, output_fn=rnn_output)\n",
    "    elif encoder == 'mlp':\n",
    "      self.encoder = MLPEncoder(ws_in=ws_in, w_out=100)\n",
    "    elif encoder == 'bag':\n",
    "      self.encoder = BagOfVectorsEncoder()\n",
    "    else:\n",
    "      raise ValueError(f\"Wrong encoder '{encoder}', must be in ['rnn', 'mlp', 'bag']\")\n",
    "\n",
    "    # Merging\n",
    "    merging_strategies = {\n",
    "        'concatenation': LambdaConcatenation,\n",
    "        'sum': LambdaSum,\n",
    "        'mean': LambdaMean\n",
    "    }\n",
    "    try:\n",
    "      merging_layer = merging_strategies[merger]\n",
    "    except:\n",
    "      valid_strategies = list(merging_strategies.keys())\n",
    "      raise ValueError(f\"wrong type '{merger}', must be in {valid_strategies}\")\n",
    "    self.merger = merging_layer()\n",
    "\n",
    "    # Classifier\n",
    "    classifier_in = self.hid_size * 2 if encoder=='rnn' else 100\n",
    "    if merger == 'concatenation':\n",
    "      classifier_in *= 2\n",
    "    if self.cosine_similarity:\n",
    "      classifier_in += 1\n",
    "    self.classifier = get_binary_classifier('classifier', w_in=classifier_in, w_hidden=classifier_in//2, n_layers=n_layers_classifier)\n",
    "\n",
    "  def forward(self, claim, evidence, debug=False):\n",
    "    # Word embedding\n",
    "    claim = self.emb_layer(claim).float()\n",
    "    evidence = self.emb_layer(evidence).float()\n",
    "    if debug:\n",
    "      print(\"After word embedding\")\n",
    "      print(f\"\\tclaim.shape: {claim.shape}\")\n",
    "      print(f\"\\tevidence.shape: {evidence.shape}\")\n",
    "    # Sentence embedding\n",
    "    claim = self.encoder(claim)\n",
    "    evidence = self.encoder(evidence)\n",
    "    if debug:\n",
    "      print(\"After phrase encoding\")\n",
    "      print(f\"\\tclaim.shape: {claim.shape}\")\n",
    "      print(f\"\\tevidence.shape: {evidence.shape}\")\n",
    "    # Merging\n",
    "    merged_data = self.merger(claim, evidence)\n",
    "    if debug:\n",
    "      print(\"After merging\")\n",
    "      print(f\"\\tmerged_data.shape: {merged_data.shape}\")\n",
    "    #Cosine Similarity\n",
    "    if self.cosine_similarity:\n",
    "      cs = torch.nn.functional.cosine_similarity(claim,evidence, dim=1)\n",
    "      cs = torch.unsqueeze(cs, dim=1)\n",
    "      merged_data = torch.cat((merged_data, cs), dim=1)\n",
    "    # Classifying\n",
    "    output = self.classifier(merged_data)\n",
    "\n",
    "    return output"
   ],
   "execution_count": 27,
   "outputs": []
  },
  {
   "cell_type": "markdown",
   "metadata": {
    "id": "_GDv0pqw3UsB"
   },
   "source": [
    "# Training"
   ]
  },
  {
   "cell_type": "code",
   "metadata": {
    "id": "OWtu6Umy3UPr"
   },
   "source": [
    "def training_step(model, optimizer, loss_fn, data_loader, device):\n",
    "  model.train()\n",
    "  log_dict = {'train/loss': [], 'train/accuracy': [], 'train/precision': [], 'train/recall': [], 'train/f1': []}\n",
    "\n",
    "  for (claims, evidences, labels) in data_loader:\n",
    "    # forward\n",
    "    claims = claims.to(device)\n",
    "    evidences = evidences.to(device)\n",
    "    labels = labels.to(device)\n",
    "\n",
    "    outputs = model(claims, evidences)\n",
    "    outputs = outputs.view(outputs.size(0))\n",
    "    loss = loss_fn(outputs, labels)\n",
    "    loss_value = loss.item()\n",
    "\n",
    "    if not math.isfinite(loss_value):\n",
    "      print(f\"Loss is {loss_value}, stopping training\")\n",
    "      exit(1)\n",
    "\n",
    "    # backward\n",
    "    optimizer.zero_grad()\n",
    "    loss.backward()\n",
    "    optimizer.step()\n",
    "\n",
    "    with torch.no_grad():\n",
    "        preds = torch.sigmoid(outputs).round()\n",
    "        labels, preds = labels.cpu().numpy(), preds.cpu().numpy()\n",
    "        acc = ((labels == preds).sum() / labels.size).item()\n",
    "        prec = precision_score(labels, preds)\n",
    "        rec = recall_score(labels, preds)\n",
    "        f1 = f1_score(labels, preds)\n",
    "\n",
    "\n",
    "    log_dict['train/loss'].append(loss_value)\n",
    "    log_dict['train/accuracy'].append(acc)\n",
    "    log_dict['train/precision'].append(prec)\n",
    "    log_dict['train/recall'].append(rec)\n",
    "    log_dict['train/f1'].append(f1)\n",
    "\n",
    "  return log_dict\n",
    "\n",
    "\n",
    "def evaluate(model, loss_fn, data_loader, device):\n",
    "  \"\"\"\n",
    "    Evaluate model on the given dataloader.\n",
    "    Parameters:\n",
    "      model: torch.nn.Module to evaluate\n",
    "      loss_fn: torch.nn criterion to use to compute loss, given outputs and targets\n",
    "      data_loader: torch.utils.data.DataLoader\n",
    "      device: torch.device where evaluation is performed\n",
    "    Returns log dict {'valid/loss' : mean loss, 'valid/{metric}': mean metric}\n",
    "  \"\"\"\n",
    "  model.eval()\n",
    "  assert len(data_loader) == 1 # must be a single batch\n",
    "  split = 'valid' # TODO implement for test set\n",
    "  with torch.no_grad():\n",
    "    claims, evidences, labels = next(iter(data_loader))\n",
    "    claims = claims.to(device)\n",
    "    evidences = evidences.to(device)\n",
    "    labels = labels.to(device)\n",
    "\n",
    "    outputs = model(claims, evidences)\n",
    "    outputs = outputs.view(outputs.size(0))\n",
    "    loss_value = loss_fn(outputs, labels).item()\n",
    "    preds = torch.sigmoid(outputs).round()\n",
    "\n",
    "    labels, preds = labels.cpu().numpy(), preds.cpu().numpy()\n",
    "    acc = ((labels == preds).sum() / data_loader.batch_size).item()\n",
    "    prec = precision_score(labels, preds)\n",
    "    rec = recall_score(labels, preds)\n",
    "    f1 = f1_score(labels, preds)\n",
    "\n",
    "  log_dict = {f'{split}/loss': loss_value,\n",
    "              f'{split}/accuracy': acc,\n",
    "              f'{split}/precision': prec,\n",
    "              f'{split}/recall': rec,\n",
    "              f'{split}/f1': f1}\n",
    "  return log_dict\n"
   ],
   "execution_count": 12,
   "outputs": []
  },
  {
   "cell_type": "code",
   "metadata": {
    "id": "em6r40Wq7NWn"
   },
   "source": [
    "DEFAULT_PARAMS = {\n",
    "          'encoder': 'rnn',\n",
    "          'merger': 'concatenation',\n",
    "          'rnn_type': 'elman',\n",
    "          'rnn_output': 'last',\n",
    "          'rec_size': 1,\n",
    "          'hid_size': 50,\n",
    "          'cosine_similarity': False\n",
    "      }\n",
    "def train(optimizer, lr, device, n_epochs, verbose, batch_size, test=False, tags=None, **model_params):\n",
    "  model_params = {**DEFAULT_PARAMS, **model_params}\n",
    "\n",
    "  cfg_dict = {'epochs': n_epochs, 'batch_size': batch_size, 'optimizer': optimizer, 'lr': lr, 'params': model_params}\n",
    "\n",
    "  wandb.login(key=utils.get_wandbkey())\n",
    "  run = wandb.init(project=\"assignment-two\", entity=\"nlpetroni\", reinit=True, config=cfg_dict, tags=tags)\n",
    "  wandb.define_metric(\"train_step\")\n",
    "  wandb.define_metric(\"epoch\")\n",
    "  wandb.define_metric('train/loss', step_metric=\"train_step\", summary=\"min\")\n",
    "  wandb.define_metric(\"train/accuracy\", step_metric=\"train_step\", summary=\"max\")\n",
    "  wandb.define_metric(\"valid/loss\", step_metric=\"epoch\", summary=\"min\")\n",
    "  wandb.define_metric(\"valid/accuracy\", step_metric=\"epoch\", summary=\"max\")\n",
    "  wandb.define_metric(\"valid/precision\", step_metric=\"epoch\", summary=\"max\")\n",
    "  wandb.define_metric(\"valid/recall\", step_metric=\"epoch\", summary=\"max\")\n",
    "  wandb.define_metric(\"valid/f1\", step_metric=\"epoch\", summary=\"max\")\n",
    "\n",
    "  if model_params['encoder'] == 'mlp':\n",
    "      # with MLP encoder, every sequence must have the same length, thus we must pad at the dataset level\n",
    "      padding = True\n",
    "      collate_fn = to_tensor_collate\n",
    "  else:\n",
    "      # with other encoders, pad each batch independently\n",
    "      padding = False\n",
    "      collate_fn = pad_batch_collate\n",
    "\n",
    "  vocabulary, embedding_matrix, dataset = load_data(padding=padding)\n",
    "  train_set, valid_set, test_set = dataset\n",
    "  train_ds = Dataset(train_set['Claim'], train_set['Evidence'], train_set['Label'])\n",
    "  valid_ds = Dataset(valid_set['Claim'], valid_set['Evidence'], valid_set['Label'])\n",
    "  test_ds = Dataset(test_set['Claim'], test_set['Evidence'], test_set['Label'])\n",
    "  train_dl = torch.utils.data.DataLoader(train_ds, batch_size=batch_size, collate_fn=collate_fn, shuffle=True)\n",
    "  valid_dl = torch.utils.data.DataLoader(valid_ds, batch_size=len(valid_ds), collate_fn=collate_fn)\n",
    "  test_dl = torch.utils.data.DataLoader(test_ds, batch_size=len(test_ds), collate_fn=collate_fn)\n",
    "  if model_params['encoder'] == 'mlp':\n",
    "      model_params['ws_in'] = (len(train_set.loc[0, 'Evidence'] * embedding_matrix.shape[1]), len(train_set.loc[0, 'Claim'] * embedding_matrix.shape[1]))\n",
    "\n",
    "  model = FactChecker(embedding_matrix, **model_params)\n",
    "  model.to(device)\n",
    "  wandb.watch(model, log_graph=True)\n",
    "  if verbose:\n",
    "    print(summary(model))\n",
    "\n",
    "  params = [p for p in model.parameters() if p.requires_grad]\n",
    "  if optimizer == 'rmsprop':\n",
    "    optimizer = torch.optim.RMSprop(params, lr=lr, alpha=0.99, momentum=0.5, weight_decay=0)\n",
    "  elif optimizer == 'adam':\n",
    "    optimizer = torch.optim.Adam(params, lr=lr, betas=(0.9, 0.999), weight_decay=0)\n",
    "  else:\n",
    "    raise ValueError(f'wrong optim {optimizer}, either rmsprop or adam')\n",
    "\n",
    "  loss = nn.BCEWithLogitsLoss()\n",
    "  train_step = 0\n",
    "  print('STARTING TRAINING')\n",
    "  print('Evaluation metrics are computed on validation set\\n')\n",
    "  print(f'EPOCHS | TRAIN LOSS | VALID LOSS | ACCURACY | PRECISION | RECALL | F1')\n",
    "\n",
    "  for epoch in range(n_epochs):\n",
    "    log_dict = training_step(model, optimizer, loss, train_dl, device)\n",
    "    if not test:\n",
    "      log_dict.update(evaluate(model, loss, valid_dl, device))\n",
    "      for batch_loss, batch_acc, batch_f1 in zip(log_dict['train/loss'], log_dict['train/accuracy'], log_dict['train/f1']):\n",
    "        wandb.log({'train_step': train_step, 'epoch': epoch, 'train/loss': batch_loss, 'train/accuracy': batch_acc,\n",
    "                   'train/f1': batch_f1})\n",
    "        train_step += 1\n",
    "      wandb.log({'epoch': epoch, 'valid/loss': log_dict['valid/loss'],\n",
    "                 'valid/accuracy': log_dict['valid/accuracy'],\n",
    "                 'valid/precision': log_dict['valid/precision'],\n",
    "                 'valid/recall': log_dict['valid/recall'],\n",
    "                 'valid/f1': log_dict['valid/f1']})\n",
    "      print(f'[{epoch:02d}/{n_epochs:02d}]| {np.mean(log_dict[\"train/loss\"]):10.3f} | {log_dict[\"valid/loss\"]:10.3f} | {log_dict[\"valid/accuracy\"]:8.3f} | {log_dict[\"valid/precision\"]:9.3f} | {log_dict[\"valid/recall\"]:6.3f} | {log_dict[\"valid/f1\"]:.3f}')\n",
    "  if test:\n",
    "    log_dict = evaluate(model, loss, test_dl, device)\n",
    "    wandb.log()\n",
    "\n",
    "  run.finish()\n",
    "  return model"
   ],
   "execution_count": 17,
   "outputs": []
  },
  {
   "cell_type": "code",
   "metadata": {
    "id": "z18L9MxcgiE0"
   },
   "source": [
    "def GridSearch(parameters, optimizer_name='adam', device=None, verbose=True):\n",
    "  for rnn_type in parameters['rnn_type']:\n",
    "    for lr in parameters['lr']:\n",
    "      for batch_size in parameters['batch_size']:\n",
    "        for num_layer_class in parameters['num_layer_class']:\n",
    "          for num_layer_rnn in parameters['num_layer_rnn']:\n",
    "            train(optimizer_name=optimizer_name, lr=lr, device=device, n_epochs=20, verbose=verbose, batch_size=batch_size,\n",
    "                encoder='rnn', merger='concatenation', rnn_type=rnn_type, rnn_output='last', hid_size=50 , n_layers_classifier=num_layer_class, rec_size=num_layer_rnn)"
   ],
   "execution_count": 14,
   "outputs": []
  },
  {
   "cell_type": "markdown",
   "source": [
    "# Hyperparameters tuning"
   ],
   "metadata": {
    "collapsed": false
   }
  },
  {
   "cell_type": "markdown",
   "source": [
    "## Sentence encoding\n",
    "### Last state of a RNN"
   ],
   "metadata": {
    "collapsed": false
   }
  },
  {
   "cell_type": "code",
   "execution_count": 15,
   "outputs": [],
   "source": [
    "out_dir = './models'\n",
    "if not os.path.isdir(out_dir):\n",
    "    os.mkdir(out_dir)\n",
    "lr = 1e-3\n",
    "epochs = 20\n",
    "batch_size = 512\n",
    "rec_size = 2\n",
    "hid_size = 50\n",
    "tag = 'encoding choice'"
   ],
   "metadata": {
    "collapsed": false,
    "pycharm": {
     "name": "#%%\n"
    }
   }
  },
  {
   "cell_type": "code",
   "execution_count": 20,
   "outputs": [
    {
     "name": "stderr",
     "output_type": "stream",
     "text": [
      "\u001B[34m\u001B[1mwandb\u001B[0m: \u001B[33mWARNING\u001B[0m Calling wandb.login() after wandb.init() has no effect.\n"
     ]
    },
    {
     "data": {
      "text/plain": "<IPython.core.display.HTML object>",
      "text/html": "Finishing last run (ID:1qmtedbo) before initializing another..."
     },
     "metadata": {},
     "output_type": "display_data"
    },
    {
     "data": {
      "text/plain": "<IPython.core.display.HTML object>",
      "text/html": "<br/>Waiting for W&B process to finish, PID 4250... <strong style=\"color:green\">(success).</strong>"
     },
     "metadata": {},
     "output_type": "display_data"
    },
    {
     "data": {
      "text/plain": "VBox(children=(Label(value=' 0.00MB of 0.00MB uploaded (0.00MB deduped)\\r'), FloatProgress(value=1.0, max=1.0)…",
      "application/vnd.jupyter.widget-view+json": {
       "version_major": 2,
       "version_minor": 0,
       "model_id": "e900a23e51e34a0bb5596401f3958195"
      }
     },
     "metadata": {},
     "output_type": "display_data"
    },
    {
     "data": {
      "text/plain": "<IPython.core.display.HTML object>",
      "text/html": "<style>\n    table.wandb td:nth-child(1) { padding: 0 10px; text-align: right }\n    .wandb-row { display: flex; flex-direction: row; flex-wrap: wrap; width: 100% }\n    .wandb-col { display: flex; flex-direction: column; flex-basis: 100%; flex: 1; padding: 10px; }\n    </style>\n<div class=\"wandb-row\"><div class=\"wandb-col\">\n</div><div class=\"wandb-col\">\n</div></div>\nSynced 6 W&B file(s), 0 media file(s), 0 artifact file(s) and 0 other file(s)\n<br/>Synced <strong style=\"color:#cdcd00\">denim-shadow-285</strong>: <a href=\"https://wandb.ai/nlpetroni/assignment-two/runs/1qmtedbo\" target=\"_blank\">https://wandb.ai/nlpetroni/assignment-two/runs/1qmtedbo</a><br/>\nFind logs at: <code>./wandb/run-20211211_155404-1qmtedbo/logs</code><br/>\n"
     },
     "metadata": {},
     "output_type": "display_data"
    },
    {
     "data": {
      "text/plain": "<IPython.core.display.HTML object>",
      "text/html": "Successfully finished last run (ID:1qmtedbo). Initializing new run:<br/>"
     },
     "metadata": {},
     "output_type": "display_data"
    },
    {
     "data": {
      "text/plain": "<IPython.core.display.HTML object>",
      "text/html": "\n                    Syncing run <strong><a href=\"https://wandb.ai/nlpetroni/assignment-two/runs/1vn0ydxz\" target=\"_blank\">laced-disco-286</a></strong> to <a href=\"https://wandb.ai/nlpetroni/assignment-two\" target=\"_blank\">Weights & Biases</a> (<a href=\"https://docs.wandb.com/integrations/jupyter.html\" target=\"_blank\">docs</a>).<br/>\n\n                "
     },
     "metadata": {},
     "output_type": "display_data"
    },
    {
     "name": "stdout",
     "output_type": "stream",
     "text": [
      "The vocabulary and the embedding matrix are already present. Loading them...\n",
      "Done!\n"
     ]
    },
    {
     "name": "stderr",
     "output_type": "stream",
     "text": [
      "\u001B[34m\u001B[1mwandb\u001B[0m: logging graph, to disable use `wandb.watch(log_graph=False)`\n"
     ]
    },
    {
     "name": "stdout",
     "output_type": "stream",
     "text": [
      "STARTING TRAINING\n",
      "Evaluation metrics are computed on validation set\n",
      "\n",
      "EPOCHS | TRAIN LOSS | VALID LOSS | ACCURACY | PRECISION | RECALL | F1\n",
      "[00/20]|      0.509 |      0.667 |    0.648 |     0.592 |  0.971 | 0.736\n",
      "[01/20]|      0.426 |      0.598 |    0.673 |     0.609 |  0.982 | 0.752\n",
      "[02/20]|      0.399 |      0.589 |    0.697 |     0.631 |  0.958 | 0.761\n",
      "[03/20]|      0.385 |      0.647 |    0.687 |     0.621 |  0.977 | 0.759\n",
      "[04/20]|      0.373 |      0.559 |    0.709 |     0.642 |  0.955 | 0.768\n",
      "[05/20]|      0.363 |      0.556 |    0.712 |     0.645 |  0.956 | 0.770\n",
      "[06/20]|      0.357 |      0.577 |    0.716 |     0.648 |  0.958 | 0.773\n",
      "[07/20]|      0.349 |      0.559 |    0.709 |     0.640 |  0.964 | 0.770\n",
      "[08/20]|      0.343 |      0.621 |    0.713 |     0.643 |  0.966 | 0.772\n",
      "[09/20]|      0.336 |      0.538 |    0.725 |     0.660 |  0.939 | 0.775\n",
      "[10/20]|      0.329 |      0.542 |    0.736 |     0.673 |  0.929 | 0.780\n",
      "[11/20]|      0.322 |      0.603 |    0.727 |     0.659 |  0.950 | 0.778\n",
      "[12/20]|      0.317 |      0.538 |    0.741 |     0.681 |  0.913 | 0.780\n",
      "[13/20]|      0.309 |      0.564 |    0.742 |     0.681 |  0.920 | 0.783\n",
      "[14/20]|      0.302 |      0.569 |    0.744 |     0.683 |  0.919 | 0.783\n",
      "[15/20]|      0.298 |      0.617 |    0.736 |     0.670 |  0.941 | 0.782\n",
      "[16/20]|      0.291 |      0.608 |    0.734 |     0.670 |  0.929 | 0.779\n",
      "[17/20]|      0.283 |      0.568 |    0.745 |     0.683 |  0.921 | 0.785\n",
      "[18/20]|      0.278 |      0.615 |    0.745 |     0.684 |  0.916 | 0.783\n",
      "[19/20]|      0.272 |      0.606 |    0.740 |     0.678 |  0.921 | 0.781\n"
     ]
    },
    {
     "data": {
      "text/plain": "<IPython.core.display.HTML object>",
      "text/html": "<br/>Waiting for W&B process to finish, PID 4746... <strong style=\"color:green\">(success).</strong>"
     },
     "metadata": {},
     "output_type": "display_data"
    },
    {
     "data": {
      "text/plain": "VBox(children=(Label(value=' 0.00MB of 0.00MB uploaded (0.00MB deduped)\\r'), FloatProgress(value=1.0, max=1.0)…",
      "application/vnd.jupyter.widget-view+json": {
       "version_major": 2,
       "version_minor": 0,
       "model_id": "765c0a192582463da808cd9be6858c55"
      }
     },
     "metadata": {},
     "output_type": "display_data"
    },
    {
     "data": {
      "text/plain": "<IPython.core.display.HTML object>",
      "text/html": "<style>\n    table.wandb td:nth-child(1) { padding: 0 10px; text-align: right }\n    .wandb-row { display: flex; flex-direction: row; flex-wrap: wrap; width: 100% }\n    .wandb-col { display: flex; flex-direction: column; flex-basis: 100%; flex: 1; padding: 10px; }\n    </style>\n<div class=\"wandb-row\"><div class=\"wandb-col\">\n<h3>Run history:</h3><br/><table class=\"wandb\"><tr><td>epoch</td><td>▁▁▁▁▂▂▂▂▂▂▃▃▃▃▄▄▄▄▄▄▅▅▅▅▅▅▆▆▆▆▇▇▇▇▇▇████</td></tr><tr><td>train/accuracy</td><td>▁▄▃▅▅▅▄▆▅▇▆▆▆▆▆▆▇▅▇▇▇▇▆▆▇▇▇▇▇▇▇▆█▇██▆▇█▆</td></tr><tr><td>train/loss</td><td>█▆▆▄▅▅▅▄▄▃▃▄▃▃▄▃▂▃▂▃▂▂▃▃▂▃▂▃▃▂▁▃▂▂▁▂▃▂▁▂</td></tr><tr><td>train_step</td><td>▁▁▁▁▂▂▂▂▂▃▃▃▃▃▃▄▄▄▄▄▅▅▅▅▅▅▆▆▆▆▆▇▇▇▇▇▇███</td></tr><tr><td>valid/accuracy</td><td>▁▃▅▄▅▆▆▅▆▇▇▇███▇▇███</td></tr><tr><td>valid/f1</td><td>▁▃▅▄▆▆▆▆▆▇▇▇▇███▇███</td></tr><tr><td>valid/loss</td><td>█▄▄▇▂▂▃▂▅▁▁▅▁▂▃▅▅▃▅▅</td></tr><tr><td>valid/precision</td><td>▁▂▄▃▅▅▅▅▅▆▇▆███▇▇███</td></tr><tr><td>valid/recall</td><td>▇█▆▇▅▅▆▆▆▄▃▅▁▂▂▄▃▂▁▂</td></tr></table><br/></div><div class=\"wandb-col\">\n<h3>Run summary:</h3><br/><table class=\"wandb\"><tr><td>epoch</td><td>19</td></tr><tr><td>train_step</td><td>4759</td></tr></table>\n</div></div>\nSynced 6 W&B file(s), 1 media file(s), 0 artifact file(s) and 0 other file(s)\n<br/>Synced <strong style=\"color:#cdcd00\">laced-disco-286</strong>: <a href=\"https://wandb.ai/nlpetroni/assignment-two/runs/1vn0ydxz\" target=\"_blank\">https://wandb.ai/nlpetroni/assignment-two/runs/1vn0ydxz</a><br/>\nFind logs at: <code>./wandb/run-20211211_160238-1vn0ydxz/logs</code><br/>\n"
     },
     "metadata": {},
     "output_type": "display_data"
    }
   ],
   "source": [
    "# elman\n",
    "model = train(optimizer='adam', lr=lr, device=device, n_epochs=epochs, verbose=False, tags=[tag],\n",
    "                         batch_size=batch_size, encoder='rnn', merger='concatenation', rnn_type='elman',\n",
    "                         rnn_output='last', rec_size=rec_size, hid_size=hid_size, cosine_similarity=False)\n",
    "\n",
    "torch.save(model.state_dict(), os.path.join(out_dir, 'rnn_last.pth'))"
   ],
   "metadata": {
    "collapsed": false,
    "pycharm": {
     "name": "#%%\n"
    }
   }
  },
  {
   "cell_type": "code",
   "execution_count": 21,
   "outputs": [
    {
     "name": "stderr",
     "output_type": "stream",
     "text": [
      "\u001B[34m\u001B[1mwandb\u001B[0m: \u001B[33mWARNING\u001B[0m If you're specifying your api key in code, ensure this code is not shared publically.\n",
      "\u001B[34m\u001B[1mwandb\u001B[0m: \u001B[33mWARNING\u001B[0m Consider setting the WANDB_API_KEY environment variable, or running `wandb login` from the command line.\n",
      "\u001B[34m\u001B[1mwandb\u001B[0m: Appending key for api.wandb.ai to your netrc file: /home/diego/.netrc\n"
     ]
    },
    {
     "data": {
      "text/plain": "<IPython.core.display.HTML object>",
      "text/html": "\n                    Syncing run <strong><a href=\"https://wandb.ai/nlpetroni/assignment-two/runs/1tajc7pc\" target=\"_blank\">icy-dew-287</a></strong> to <a href=\"https://wandb.ai/nlpetroni/assignment-two\" target=\"_blank\">Weights & Biases</a> (<a href=\"https://docs.wandb.com/integrations/jupyter.html\" target=\"_blank\">docs</a>).<br/>\n\n                "
     },
     "metadata": {},
     "output_type": "display_data"
    },
    {
     "name": "stdout",
     "output_type": "stream",
     "text": [
      "The vocabulary and the embedding matrix are already present. Loading them...\n",
      "Done!\n"
     ]
    },
    {
     "name": "stderr",
     "output_type": "stream",
     "text": [
      "\u001B[34m\u001B[1mwandb\u001B[0m: logging graph, to disable use `wandb.watch(log_graph=False)`\n"
     ]
    },
    {
     "name": "stdout",
     "output_type": "stream",
     "text": [
      "STARTING TRAINING\n",
      "Evaluation metrics are computed on validation set\n",
      "\n",
      "EPOCHS | TRAIN LOSS | VALID LOSS | ACCURACY | PRECISION | RECALL | F1\n",
      "[00/20]|      0.501 |      0.633 |    0.678 |     0.617 |  0.951 | 0.749\n",
      "[01/20]|      0.401 |      0.599 |    0.705 |     0.637 |  0.962 | 0.767\n",
      "[02/20]|      0.375 |      0.571 |    0.713 |     0.644 |  0.966 | 0.773\n",
      "[03/20]|      0.360 |      0.556 |    0.732 |     0.663 |  0.954 | 0.782\n",
      "[04/20]|      0.346 |      0.511 |    0.743 |     0.678 |  0.936 | 0.786\n",
      "[05/20]|      0.336 |      0.558 |    0.728 |     0.657 |  0.963 | 0.781\n",
      "[06/20]|      0.326 |      0.530 |    0.736 |     0.668 |  0.947 | 0.783\n",
      "[07/20]|      0.315 |      0.533 |    0.743 |     0.678 |  0.932 | 0.785\n",
      "[08/20]|      0.306 |      0.517 |    0.748 |     0.684 |  0.928 | 0.788\n",
      "[09/20]|      0.297 |      0.563 |    0.743 |     0.673 |  0.953 | 0.789\n",
      "[10/20]|      0.288 |      0.577 |    0.744 |     0.678 |  0.940 | 0.788\n",
      "[11/20]|      0.279 |      0.561 |    0.748 |     0.680 |  0.942 | 0.790\n",
      "[12/20]|      0.272 |      0.612 |    0.743 |     0.676 |  0.943 | 0.787\n",
      "[13/20]|      0.263 |      0.579 |    0.744 |     0.680 |  0.928 | 0.785\n",
      "[14/20]|      0.254 |      0.614 |    0.751 |     0.687 |  0.927 | 0.790\n",
      "[15/20]|      0.247 |      0.588 |    0.753 |     0.695 |  0.909 | 0.788\n",
      "[16/20]|      0.237 |      0.637 |    0.741 |     0.679 |  0.921 | 0.782\n",
      "[17/20]|      0.230 |      0.678 |    0.747 |     0.685 |  0.923 | 0.786\n",
      "[18/20]|      0.221 |      0.676 |    0.753 |     0.694 |  0.911 | 0.788\n",
      "[19/20]|      0.213 |      0.657 |    0.753 |     0.704 |  0.881 | 0.783\n"
     ]
    },
    {
     "data": {
      "text/plain": "<IPython.core.display.HTML object>",
      "text/html": "<br/>Waiting for W&B process to finish, PID 5711... <strong style=\"color:green\">(success).</strong>"
     },
     "metadata": {},
     "output_type": "display_data"
    },
    {
     "data": {
      "text/plain": "VBox(children=(Label(value=' 0.00MB of 0.00MB uploaded (0.00MB deduped)\\r'), FloatProgress(value=1.0, max=1.0)…",
      "application/vnd.jupyter.widget-view+json": {
       "version_major": 2,
       "version_minor": 0,
       "model_id": "dcbaf6558e70480584371a0cbcfaa8f5"
      }
     },
     "metadata": {},
     "output_type": "display_data"
    },
    {
     "data": {
      "text/plain": "<IPython.core.display.HTML object>",
      "text/html": "<style>\n    table.wandb td:nth-child(1) { padding: 0 10px; text-align: right }\n    .wandb-row { display: flex; flex-direction: row; flex-wrap: wrap; width: 100% }\n    .wandb-col { display: flex; flex-direction: column; flex-basis: 100%; flex: 1; padding: 10px; }\n    </style>\n<div class=\"wandb-row\"><div class=\"wandb-col\">\n<h3>Run history:</h3><br/><table class=\"wandb\"><tr><td>epoch</td><td>▁▁▁▁▂▂▂▂▂▂▃▃▃▃▄▄▄▄▄▄▅▅▅▅▅▅▆▆▆▆▇▇▇▇▇▇████</td></tr><tr><td>train/accuracy</td><td>▁▄▅▄▅▅▅▅▇▆▆▅▆▆▅▇▆▇▆▆▆▆▇▆█▇▇▇▆▆▅▇▇▇▇▇▇▇█▇</td></tr><tr><td>train/loss</td><td>█▆▅▅▄▄▄▄▃▃▃▄▄▄▃▃▃▃▃▃▃▃▂▃▁▂▂▂▂▃▃▂▁▂▂▁▁▂▁▁</td></tr><tr><td>train_step</td><td>▁▁▁▁▂▂▂▂▂▃▃▃▃▃▃▄▄▄▄▄▅▅▅▅▅▅▆▆▆▆▆▇▇▇▇▇▇███</td></tr><tr><td>valid/accuracy</td><td>▁▃▄▆▇▆▆▇█▇▇▇▇▇██▇▇██</td></tr><tr><td>valid/f1</td><td>▁▄▅▇▇▆▇▇█████▇██▇▇█▇</td></tr><tr><td>valid/loss</td><td>▆▅▄▃▁▃▂▂▁▃▄▃▅▄▅▄▆██▇</td></tr><tr><td>valid/precision</td><td>▁▃▃▅▆▄▅▆▆▆▆▆▆▆▇▇▆▆▇█</td></tr><tr><td>valid/recall</td><td>▇██▇▅█▆▅▅▇▆▆▆▅▅▃▄▄▃▁</td></tr></table><br/></div><div class=\"wandb-col\">\n<h3>Run summary:</h3><br/><table class=\"wandb\"><tr><td>epoch</td><td>19</td></tr><tr><td>train_step</td><td>4759</td></tr></table>\n</div></div>\nSynced 6 W&B file(s), 1 media file(s), 0 artifact file(s) and 0 other file(s)\n<br/>Synced <strong style=\"color:#cdcd00\">icy-dew-287</strong>: <a href=\"https://wandb.ai/nlpetroni/assignment-two/runs/1tajc7pc\" target=\"_blank\">https://wandb.ai/nlpetroni/assignment-two/runs/1tajc7pc</a><br/>\nFind logs at: <code>./wandb/run-20211211_161242-1tajc7pc/logs</code><br/>\n"
     },
     "metadata": {},
     "output_type": "display_data"
    }
   ],
   "source": [
    "# lstm\n",
    "model = train(optimizer='adam', lr=lr, device=device, n_epochs=epochs, verbose=False, tags=[tag],\n",
    "                        batch_size=batch_size, encoder='rnn', merger='concatenation', rnn_type='lstm',\n",
    "                        rnn_output='last', rec_size=rec_size, hid_size=hid_size, cosine_similarity=False)\n",
    "torch.save(model.state_dict(), os.path.join(out_dir, 'lstm_last.pth'))"
   ],
   "metadata": {
    "collapsed": false,
    "pycharm": {
     "name": "#%%\n"
    }
   }
  },
  {
   "cell_type": "code",
   "execution_count": 22,
   "outputs": [
    {
     "name": "stderr",
     "output_type": "stream",
     "text": [
      "\u001B[34m\u001B[1mwandb\u001B[0m: \u001B[33mWARNING\u001B[0m If you're specifying your api key in code, ensure this code is not shared publically.\n",
      "\u001B[34m\u001B[1mwandb\u001B[0m: \u001B[33mWARNING\u001B[0m Consider setting the WANDB_API_KEY environment variable, or running `wandb login` from the command line.\n",
      "\u001B[34m\u001B[1mwandb\u001B[0m: Appending key for api.wandb.ai to your netrc file: /home/diego/.netrc\n"
     ]
    },
    {
     "data": {
      "text/plain": "<IPython.core.display.HTML object>",
      "text/html": "\n                    Syncing run <strong><a href=\"https://wandb.ai/nlpetroni/assignment-two/runs/3rholblr\" target=\"_blank\">eager-cherry-288</a></strong> to <a href=\"https://wandb.ai/nlpetroni/assignment-two\" target=\"_blank\">Weights & Biases</a> (<a href=\"https://docs.wandb.com/integrations/jupyter.html\" target=\"_blank\">docs</a>).<br/>\n\n                "
     },
     "metadata": {},
     "output_type": "display_data"
    },
    {
     "name": "stdout",
     "output_type": "stream",
     "text": [
      "The vocabulary and the embedding matrix are already present. Loading them...\n",
      "Done!\n"
     ]
    },
    {
     "name": "stderr",
     "output_type": "stream",
     "text": [
      "\u001B[34m\u001B[1mwandb\u001B[0m: logging graph, to disable use `wandb.watch(log_graph=False)`\n",
      "/home/diego/miniconda3/envs/nlp/lib/python3.9/site-packages/sklearn/metrics/_classification.py:1308: UndefinedMetricWarning: Precision is ill-defined and being set to 0.0 due to no predicted samples. Use `zero_division` parameter to control this behavior.\n",
      "  _warn_prf(average, modifier, msg_start, len(result))\n"
     ]
    },
    {
     "name": "stdout",
     "output_type": "stream",
     "text": [
      "STARTING TRAINING\n",
      "Evaluation metrics are computed on validation set\n",
      "\n",
      "EPOCHS | TRAIN LOSS | VALID LOSS | ACCURACY | PRECISION | RECALL | F1\n",
      "[00/20]|      0.485 |      0.637 |    0.669 |     0.606 |  0.984 | 0.750\n",
      "[01/20]|      0.391 |      0.570 |    0.695 |     0.627 |  0.977 | 0.764\n",
      "[02/20]|      0.368 |      0.559 |    0.718 |     0.648 |  0.967 | 0.776\n",
      "[03/20]|      0.353 |      0.529 |    0.737 |     0.669 |  0.946 | 0.784\n",
      "[04/20]|      0.341 |      0.518 |    0.738 |     0.670 |  0.947 | 0.785\n",
      "[05/20]|      0.329 |      0.570 |    0.730 |     0.658 |  0.967 | 0.783\n",
      "[06/20]|      0.319 |      0.530 |    0.748 |     0.682 |  0.939 | 0.790\n",
      "[07/20]|      0.309 |      0.518 |    0.751 |     0.687 |  0.928 | 0.790\n",
      "[08/20]|      0.298 |      0.532 |    0.752 |     0.685 |  0.939 | 0.792\n",
      "[09/20]|      0.288 |      0.538 |    0.753 |     0.690 |  0.927 | 0.791\n",
      "[10/20]|      0.279 |      0.561 |    0.755 |     0.690 |  0.934 | 0.794\n",
      "[11/20]|      0.269 |      0.548 |    0.760 |     0.699 |  0.919 | 0.794\n",
      "[12/20]|      0.260 |      0.550 |    0.759 |     0.703 |  0.902 | 0.790\n",
      "[13/20]|      0.251 |      0.600 |    0.755 |     0.693 |  0.922 | 0.791\n",
      "[14/20]|      0.240 |      0.602 |    0.754 |     0.691 |  0.929 | 0.792\n",
      "[15/20]|      0.234 |      0.665 |    0.749 |     0.684 |  0.934 | 0.790\n",
      "[16/20]|      0.223 |      0.655 |    0.755 |     0.692 |  0.924 | 0.791\n",
      "[17/20]|      0.215 |      0.679 |    0.754 |     0.695 |  0.913 | 0.789\n",
      "[18/20]|      0.205 |      0.715 |    0.747 |     0.684 |  0.924 | 0.786\n",
      "[19/20]|      0.197 |      0.794 |    0.739 |     0.676 |  0.929 | 0.782\n"
     ]
    },
    {
     "data": {
      "text/plain": "<IPython.core.display.HTML object>",
      "text/html": "<br/>Waiting for W&B process to finish, PID 5823... <strong style=\"color:green\">(success).</strong>"
     },
     "metadata": {},
     "output_type": "display_data"
    },
    {
     "data": {
      "text/plain": "VBox(children=(Label(value=' 0.00MB of 0.00MB uploaded (0.00MB deduped)\\r'), FloatProgress(value=1.0, max=1.0)…",
      "application/vnd.jupyter.widget-view+json": {
       "version_major": 2,
       "version_minor": 0,
       "model_id": "cab09f13d58e4e3693892f76c019c9f1"
      }
     },
     "metadata": {},
     "output_type": "display_data"
    },
    {
     "data": {
      "text/plain": "<IPython.core.display.HTML object>",
      "text/html": "<style>\n    table.wandb td:nth-child(1) { padding: 0 10px; text-align: right }\n    .wandb-row { display: flex; flex-direction: row; flex-wrap: wrap; width: 100% }\n    .wandb-col { display: flex; flex-direction: column; flex-basis: 100%; flex: 1; padding: 10px; }\n    </style>\n<div class=\"wandb-row\"><div class=\"wandb-col\">\n<h3>Run history:</h3><br/><table class=\"wandb\"><tr><td>epoch</td><td>▁▁▁▁▂▂▂▂▂▂▃▃▃▃▄▄▄▄▄▄▅▅▅▅▅▅▆▆▆▆▇▇▇▇▇▇████</td></tr><tr><td>train/accuracy</td><td>▁▄▄▄▅▆▆▅▆▄▆▆▆▆▆▆▆▆▇▅▇▆▇█▆▆▆▇▇▇█▇▇▇▇▇████</td></tr><tr><td>train/loss</td><td>█▆▆▅▅▄▄▅▄▅▄▄▄▄▃▄▃▃▃▄▃▃▂▂▃▃▃▃▃▂▂▂▂▂▂▂▁▂▂▁</td></tr><tr><td>train_step</td><td>▁▁▁▁▂▂▂▂▂▃▃▃▃▃▃▄▄▄▄▄▅▅▅▅▅▅▆▆▆▆▆▇▇▇▇▇▇███</td></tr><tr><td>valid/accuracy</td><td>▁▃▅▆▆▆▇▇▇▇█████▇██▇▆</td></tr><tr><td>valid/f1</td><td>▁▃▅▆▇▆▇▇█▇██▇██▇█▇▇▆</td></tr><tr><td>valid/loss</td><td>▄▂▂▁▁▂▁▁▁▂▂▂▂▃▃▅▄▅▆█</td></tr><tr><td>valid/precision</td><td>▁▃▄▆▆▅▆▇▇▇▇██▇▇▇▇▇▇▆</td></tr><tr><td>valid/recall</td><td>█▇▇▅▅▇▄▃▄▃▄▂▁▃▃▄▃▂▃▃</td></tr></table><br/></div><div class=\"wandb-col\">\n<h3>Run summary:</h3><br/><table class=\"wandb\"><tr><td>epoch</td><td>19</td></tr><tr><td>train_step</td><td>4759</td></tr></table>\n</div></div>\nSynced 6 W&B file(s), 1 media file(s), 0 artifact file(s) and 0 other file(s)\n<br/>Synced <strong style=\"color:#cdcd00\">eager-cherry-288</strong>: <a href=\"https://wandb.ai/nlpetroni/assignment-two/runs/3rholblr\" target=\"_blank\">https://wandb.ai/nlpetroni/assignment-two/runs/3rholblr</a><br/>\nFind logs at: <code>./wandb/run-20211211_161745-3rholblr/logs</code><br/>\n"
     },
     "metadata": {},
     "output_type": "display_data"
    }
   ],
   "source": [
    "# gru\n",
    "model = train(optimizer='adam', lr=lr, device=device, n_epochs=epochs, verbose=False, tags=[tag],\n",
    "                       batch_size=batch_size, encoder='rnn', merger='concatenation', rnn_type='gru',\n",
    "                       rnn_output='last', rec_size=rec_size, hid_size=hid_size, cosine_similarity=False)\n",
    "torch.save(model.state_dict(), os.path.join(out_dir, 'gru_last.pth'))"
   ],
   "metadata": {
    "collapsed": false,
    "pycharm": {
     "name": "#%%\n"
    }
   }
  },
  {
   "cell_type": "markdown",
   "source": [
    "### Average of all the output states of a RNN"
   ],
   "metadata": {
    "collapsed": false
   }
  },
  {
   "cell_type": "code",
   "execution_count": 18,
   "outputs": [
    {
     "name": "stderr",
     "output_type": "stream",
     "text": [
      "\u001B[34m\u001B[1mwandb\u001B[0m: \u001B[33mWARNING\u001B[0m If you're specifying your api key in code, ensure this code is not shared publically.\n",
      "\u001B[34m\u001B[1mwandb\u001B[0m: \u001B[33mWARNING\u001B[0m Consider setting the WANDB_API_KEY environment variable, or running `wandb login` from the command line.\n",
      "\u001B[34m\u001B[1mwandb\u001B[0m: Appending key for api.wandb.ai to your netrc file: /home/diego/.netrc\n"
     ]
    },
    {
     "data": {
      "text/plain": "<IPython.core.display.HTML object>",
      "text/html": "\n                    Syncing run <strong><a href=\"https://wandb.ai/nlpetroni/assignment-two/runs/1f11ierd\" target=\"_blank\">fearless-bee-294</a></strong> to <a href=\"https://wandb.ai/nlpetroni/assignment-two\" target=\"_blank\">Weights & Biases</a> (<a href=\"https://docs.wandb.com/integrations/jupyter.html\" target=\"_blank\">docs</a>).<br/>\n\n                "
     },
     "metadata": {},
     "output_type": "display_data"
    },
    {
     "name": "stdout",
     "output_type": "stream",
     "text": [
      "The vocabulary and the embedding matrix are already present. Loading them...\n",
      "Done!\n"
     ]
    },
    {
     "name": "stderr",
     "output_type": "stream",
     "text": [
      "\u001B[34m\u001B[1mwandb\u001B[0m: logging graph, to disable use `wandb.watch(log_graph=False)`\n"
     ]
    },
    {
     "name": "stdout",
     "output_type": "stream",
     "text": [
      "STARTING TRAINING\n",
      "Evaluation metrics are computed on validation set\n",
      "\n",
      "EPOCHS | TRAIN LOSS | VALID LOSS | ACCURACY | PRECISION | RECALL | F1\n",
      "[00/20]|      0.517 |      0.659 |    0.637 |     0.584 |  0.968 | 0.729\n",
      "[01/20]|      0.440 |      0.630 |    0.682 |     0.621 |  0.950 | 0.751\n",
      "[02/20]|      0.411 |      0.570 |    0.699 |     0.634 |  0.953 | 0.761\n",
      "[03/20]|      0.395 |      0.563 |    0.706 |     0.639 |  0.956 | 0.766\n",
      "[04/20]|      0.385 |      0.567 |    0.707 |     0.641 |  0.952 | 0.766\n",
      "[05/20]|      0.374 |      0.522 |    0.731 |     0.671 |  0.912 | 0.773\n",
      "[06/20]|      0.368 |      0.585 |    0.716 |     0.651 |  0.941 | 0.770\n",
      "[07/20]|      0.362 |      0.550 |    0.721 |     0.657 |  0.935 | 0.772\n",
      "[08/20]|      0.354 |      0.579 |    0.717 |     0.651 |  0.947 | 0.771\n",
      "[09/20]|      0.349 |      0.621 |    0.710 |     0.641 |  0.965 | 0.770\n",
      "[10/20]|      0.346 |      0.583 |    0.719 |     0.651 |  0.956 | 0.774\n",
      "[11/20]|      0.340 |      0.515 |    0.737 |     0.685 |  0.884 | 0.772\n",
      "[12/20]|      0.336 |      0.577 |    0.724 |     0.655 |  0.955 | 0.777\n",
      "[13/20]|      0.331 |      0.568 |    0.725 |     0.658 |  0.950 | 0.777\n",
      "[14/20]|      0.324 |      0.547 |    0.734 |     0.666 |  0.944 | 0.781\n",
      "[15/20]|      0.321 |      0.614 |    0.731 |     0.664 |  0.943 | 0.779\n",
      "[16/20]|      0.314 |      0.541 |    0.739 |     0.681 |  0.906 | 0.778\n",
      "[17/20]|      0.313 |      0.603 |    0.718 |     0.649 |  0.960 | 0.774\n",
      "[18/20]|      0.307 |      0.589 |    0.727 |     0.663 |  0.934 | 0.775\n",
      "[19/20]|      0.302 |      0.681 |    0.721 |     0.651 |  0.961 | 0.776\n"
     ]
    },
    {
     "data": {
      "text/plain": "<IPython.core.display.HTML object>",
      "text/html": "<br/>Waiting for W&B process to finish, PID 9008... <strong style=\"color:green\">(success).</strong>"
     },
     "metadata": {},
     "output_type": "display_data"
    },
    {
     "data": {
      "text/plain": "VBox(children=(Label(value=' 0.00MB of 0.00MB uploaded (0.00MB deduped)\\r'), FloatProgress(value=1.0, max=1.0)…",
      "application/vnd.jupyter.widget-view+json": {
       "version_major": 2,
       "version_minor": 0,
       "model_id": "f8927cb0b6a24aa6ab29a0bea554f99b"
      }
     },
     "metadata": {},
     "output_type": "display_data"
    },
    {
     "data": {
      "text/plain": "<IPython.core.display.HTML object>",
      "text/html": "<style>\n    table.wandb td:nth-child(1) { padding: 0 10px; text-align: right }\n    .wandb-row { display: flex; flex-direction: row; flex-wrap: wrap; width: 100% }\n    .wandb-col { display: flex; flex-direction: column; flex-basis: 100%; flex: 1; padding: 10px; }\n    </style>\n<div class=\"wandb-row\"><div class=\"wandb-col\">\n<h3>Run history:</h3><br/><table class=\"wandb\"><tr><td>epoch</td><td>▁▁▁▁▂▂▂▂▂▂▃▃▃▃▄▄▄▄▄▄▅▅▅▅▅▅▆▆▆▆▇▇▇▇▇▇████</td></tr><tr><td>train/accuracy</td><td>▁▁▄▅▄▃▅▅▆▅▄▅▅▅▅▆▆▆▅▆▇▅▇▆▇▅█▇▅▅▆▅▇▇▆█▇▆▇▆</td></tr><tr><td>train/f1</td><td>▂▁▄▆▄▂▅▅▆▄▄▄▅▄▅▅▆▅▄▆▇▅▇▅▇▅█▇▅▅▆▅▇▇▆█▇▅▇▆</td></tr><tr><td>train/loss</td><td>██▆▄▅▇▅▄▃▅▅▄▄▅▄▄▃▄▅▃▃▄▃▃▂▄▂▃▃▄▂▃▂▂▂▁▂▄▂▂</td></tr><tr><td>train_step</td><td>▁▁▁▁▂▂▂▂▂▃▃▃▃▃▃▄▄▄▄▄▅▅▅▅▅▅▆▆▆▆▆▇▇▇▇▇▇███</td></tr><tr><td>valid/accuracy</td><td>▁▄▅▆▆▇▆▇▇▆▇█▇▇█▇█▇▇▇</td></tr><tr><td>valid/f1</td><td>▁▄▅▆▆▇▆▇▇▆▇▇▇▇███▇▇▇</td></tr><tr><td>valid/loss</td><td>▇▆▃▃▃▁▄▂▄▅▄▁▄▃▂▅▂▅▄█</td></tr><tr><td>valid/precision</td><td>▁▄▄▅▅▇▆▆▆▅▆█▆▆▇▇█▅▆▆</td></tr><tr><td>valid/recall</td><td>█▆▇▇▇▃▆▅▆█▇▁▇▆▆▆▃▇▅▇</td></tr></table><br/></div><div class=\"wandb-col\">\n<h3>Run summary:</h3><br/><table class=\"wandb\"><tr><td>epoch</td><td>19</td></tr><tr><td>train/f1</td><td>0.91216</td></tr><tr><td>train_step</td><td>4759</td></tr></table>\n</div></div>\nSynced 6 W&B file(s), 1 media file(s), 0 artifact file(s) and 0 other file(s)\n<br/>Synced <strong style=\"color:#cdcd00\">fearless-bee-294</strong>: <a href=\"https://wandb.ai/nlpetroni/assignment-two/runs/1f11ierd\" target=\"_blank\">https://wandb.ai/nlpetroni/assignment-two/runs/1f11ierd</a><br/>\nFind logs at: <code>./wandb/run-20211211_180708-1f11ierd/logs</code><br/>\n"
     },
     "metadata": {},
     "output_type": "display_data"
    }
   ],
   "source": [
    "# elman\n",
    "model = train(optimizer='adam', lr=lr, device=device, n_epochs=epochs, verbose=False, tags=[tag],\n",
    "                        batch_size=batch_size, encoder='rnn', merger='concatenation', rnn_type='elman',\n",
    "                        rnn_output='avg', rec_size=rec_size, hid_size=hid_size, cosine_similarity=False)\n",
    "torch.save(model.state_dict(), os.path.join(out_dir, 'rnn_avg.pth'))"
   ],
   "metadata": {
    "collapsed": false,
    "pycharm": {
     "name": "#%%\n"
    }
   }
  },
  {
   "cell_type": "code",
   "execution_count": 19,
   "outputs": [
    {
     "data": {
      "text/plain": "<IPython.core.display.HTML object>",
      "text/html": "\n                    Syncing run <strong><a href=\"https://wandb.ai/nlpetroni/assignment-two/runs/3jkqpybq\" target=\"_blank\">frosty-tree-293</a></strong> to <a href=\"https://wandb.ai/nlpetroni/assignment-two\" target=\"_blank\">Weights & Biases</a> (<a href=\"https://docs.wandb.com/integrations/jupyter.html\" target=\"_blank\">docs</a>).<br/>\n\n                "
     },
     "metadata": {},
     "output_type": "display_data"
    },
    {
     "name": "stdout",
     "output_type": "stream",
     "text": [
      "The vocabulary and the embedding matrix are already present. Loading them...\n",
      "Done!\n"
     ]
    },
    {
     "name": "stderr",
     "output_type": "stream",
     "text": [
      "\u001B[34m\u001B[1mwandb\u001B[0m: logging graph, to disable use `wandb.watch(log_graph=False)`\n",
      "/home/diego/miniconda3/envs/nlp/lib/python3.9/site-packages/sklearn/metrics/_classification.py:1308: UndefinedMetricWarning: Precision is ill-defined and being set to 0.0 due to no predicted samples. Use `zero_division` parameter to control this behavior.\n",
      "  _warn_prf(average, modifier, msg_start, len(result))\n",
      "/home/diego/miniconda3/envs/nlp/lib/python3.9/site-packages/sklearn/metrics/_classification.py:1308: UndefinedMetricWarning: Precision is ill-defined and being set to 0.0 due to no predicted samples. Use `zero_division` parameter to control this behavior.\n",
      "  _warn_prf(average, modifier, msg_start, len(result))\n"
     ]
    },
    {
     "name": "stdout",
     "output_type": "stream",
     "text": [
      "STARTING TRAINING\n",
      "Evaluation metrics are computed on validation set\n",
      "\n",
      "EPOCHS | TRAIN LOSS | VALID LOSS | ACCURACY | PRECISION | RECALL | F1\n",
      "[00/20]|      0.519 |      0.650 |    0.659 |     0.599 |  0.979 | 0.743\n",
      "[01/20]|      0.409 |      0.607 |    0.685 |     0.619 |  0.981 | 0.759\n",
      "[02/20]|      0.383 |      0.553 |    0.714 |     0.645 |  0.966 | 0.773\n",
      "[03/20]|      0.368 |      0.534 |    0.722 |     0.651 |  0.965 | 0.778\n",
      "[04/20]|      0.358 |      0.600 |    0.729 |     0.660 |  0.954 | 0.780\n",
      "[05/20]|      0.347 |      0.599 |    0.725 |     0.656 |  0.956 | 0.778\n",
      "[06/20]|      0.338 |      0.544 |    0.730 |     0.661 |  0.952 | 0.780\n",
      "[07/20]|      0.332 |      0.529 |    0.735 |     0.670 |  0.932 | 0.780\n",
      "[08/20]|      0.323 |      0.543 |    0.735 |     0.667 |  0.948 | 0.783\n",
      "[09/20]|      0.315 |      0.595 |    0.729 |     0.659 |  0.957 | 0.780\n",
      "[10/20]|      0.308 |      0.578 |    0.737 |     0.669 |  0.945 | 0.783\n",
      "[11/20]|      0.302 |      0.567 |    0.734 |     0.665 |  0.953 | 0.783\n",
      "[12/20]|      0.296 |      0.528 |    0.749 |     0.688 |  0.918 | 0.787\n",
      "[13/20]|      0.289 |      0.599 |    0.751 |     0.686 |  0.932 | 0.790\n",
      "[14/20]|      0.282 |      0.585 |    0.738 |     0.670 |  0.946 | 0.784\n",
      "[15/20]|      0.274 |      0.663 |    0.734 |     0.666 |  0.946 | 0.782\n",
      "[16/20]|      0.267 |      0.597 |    0.745 |     0.680 |  0.935 | 0.787\n",
      "[17/20]|      0.262 |      0.590 |    0.751 |     0.691 |  0.914 | 0.787\n",
      "[18/20]|      0.257 |      0.627 |    0.752 |     0.694 |  0.911 | 0.788\n",
      "[19/20]|      0.249 |      0.680 |    0.742 |     0.676 |  0.939 | 0.786\n"
     ]
    },
    {
     "data": {
      "text/plain": "<IPython.core.display.HTML object>",
      "text/html": "<br/>Waiting for W&B process to finish, PID 8659... <strong style=\"color:green\">(success).</strong>"
     },
     "metadata": {},
     "output_type": "display_data"
    },
    {
     "data": {
      "text/plain": "VBox(children=(Label(value=' 0.00MB of 0.00MB uploaded (0.00MB deduped)\\r'), FloatProgress(value=1.0, max=1.0)…",
      "application/vnd.jupyter.widget-view+json": {
       "version_major": 2,
       "version_minor": 0,
       "model_id": "c2ebe8c5943c47ffb7f1f8cfe95dc8af"
      }
     },
     "metadata": {},
     "output_type": "display_data"
    },
    {
     "data": {
      "text/plain": "<IPython.core.display.HTML object>",
      "text/html": "<style>\n    table.wandb td:nth-child(1) { padding: 0 10px; text-align: right }\n    .wandb-row { display: flex; flex-direction: row; flex-wrap: wrap; width: 100% }\n    .wandb-col { display: flex; flex-direction: column; flex-basis: 100%; flex: 1; padding: 10px; }\n    </style>\n<div class=\"wandb-row\"><div class=\"wandb-col\">\n<h3>Run history:</h3><br/><table class=\"wandb\"><tr><td>epoch</td><td>▁▁▁▁▂▂▂▂▂▂▃▃▃▃▄▄▄▄▄▄▅▅▅▅▅▅▆▆▆▆▇▇▇▇▇▇████</td></tr><tr><td>train/accuracy</td><td>▁▃▅▅▅▆▆▄▆▆▄▅▆▆▄▆▅▇▆▆▆▅▆▆▆▆▆▅▅▆▇▇▇▆▆▆▆▇██</td></tr><tr><td>train/f1</td><td>▁▃▅▄▄▆▆▃▅▆▄▄▅▅▃▅▅▇▆▅▆▄▆▅▆▅▅▄▅▆▆▆▆▅▆▆▅▇█▇</td></tr><tr><td>train/loss</td><td>█▆▅▅▅▄▄▅▄▄▅▄▄▄▅▃▄▃▃▃▃▄▃▃▃▄▄▄▄▃▃▃▃▄▃▂▃▃▁▂</td></tr><tr><td>train_step</td><td>▁▁▁▁▂▂▂▂▂▃▃▃▃▃▃▄▄▄▄▄▅▅▅▅▅▅▆▆▆▆▆▇▇▇▇▇▇███</td></tr><tr><td>valid/accuracy</td><td>▁▃▅▆▆▆▆▇▇▆▇▇██▇▇▇██▇</td></tr><tr><td>valid/f1</td><td>▁▃▅▆▆▆▇▆▇▇▇▇▇█▇▇███▇</td></tr><tr><td>valid/loss</td><td>▇▅▂▁▄▄▂▁▂▄▃▃▁▄▄▇▄▄▆█</td></tr><tr><td>valid/precision</td><td>▁▂▄▅▆▅▆▆▆▅▆▆█▇▆▆▇██▇</td></tr><tr><td>valid/recall</td><td>██▇▆▅▆▅▃▅▆▄▅▂▃▄▅▃▁▁▄</td></tr></table><br/></div><div class=\"wandb-col\">\n<h3>Run summary:</h3><br/><table class=\"wandb\"><tr><td>epoch</td><td>19</td></tr><tr><td>train/f1</td><td>0.9479</td></tr><tr><td>train_step</td><td>4759</td></tr></table>\n</div></div>\nSynced 6 W&B file(s), 1 media file(s), 0 artifact file(s) and 0 other file(s)\n<br/>Synced <strong style=\"color:#cdcd00\">frosty-tree-293</strong>: <a href=\"https://wandb.ai/nlpetroni/assignment-two/runs/3jkqpybq\" target=\"_blank\">https://wandb.ai/nlpetroni/assignment-two/runs/3jkqpybq</a><br/>\nFind logs at: <code>./wandb/run-20211211_180213-3jkqpybq/logs</code><br/>\n"
     },
     "metadata": {},
     "output_type": "display_data"
    },
    {
     "name": "stderr",
     "output_type": "stream",
     "text": [
      "\u001B[34m\u001B[1mwandb\u001B[0m: \u001B[33mWARNING\u001B[0m If you're specifying your api key in code, ensure this code is not shared publically.\n",
      "\u001B[34m\u001B[1mwandb\u001B[0m: \u001B[33mWARNING\u001B[0m Consider setting the WANDB_API_KEY environment variable, or running `wandb login` from the command line.\n",
      "\u001B[34m\u001B[1mwandb\u001B[0m: Appending key for api.wandb.ai to your netrc file: /home/diego/.netrc\n"
     ]
    },
    {
     "data": {
      "text/plain": "<IPython.core.display.HTML object>",
      "text/html": "\n                    Syncing run <strong><a href=\"https://wandb.ai/nlpetroni/assignment-two/runs/xb7a152f\" target=\"_blank\">fearless-smoke-295</a></strong> to <a href=\"https://wandb.ai/nlpetroni/assignment-two\" target=\"_blank\">Weights & Biases</a> (<a href=\"https://docs.wandb.com/integrations/jupyter.html\" target=\"_blank\">docs</a>).<br/>\n\n                "
     },
     "metadata": {},
     "output_type": "display_data"
    },
    {
     "name": "stdout",
     "output_type": "stream",
     "text": [
      "The vocabulary and the embedding matrix are already present. Loading them...\n",
      "Done!\n"
     ]
    },
    {
     "name": "stderr",
     "output_type": "stream",
     "text": [
      "\u001B[34m\u001B[1mwandb\u001B[0m: logging graph, to disable use `wandb.watch(log_graph=False)`\n",
      "/home/diego/miniconda3/envs/nlp/lib/python3.9/site-packages/sklearn/metrics/_classification.py:1308: UndefinedMetricWarning: Precision is ill-defined and being set to 0.0 due to no predicted samples. Use `zero_division` parameter to control this behavior.\n",
      "  _warn_prf(average, modifier, msg_start, len(result))\n",
      "/home/diego/miniconda3/envs/nlp/lib/python3.9/site-packages/sklearn/metrics/_classification.py:1308: UndefinedMetricWarning: Precision is ill-defined and being set to 0.0 due to no predicted samples. Use `zero_division` parameter to control this behavior.\n",
      "  _warn_prf(average, modifier, msg_start, len(result))\n"
     ]
    },
    {
     "name": "stdout",
     "output_type": "stream",
     "text": [
      "STARTING TRAINING\n",
      "Evaluation metrics are computed on validation set\n",
      "\n",
      "EPOCHS | TRAIN LOSS | VALID LOSS | ACCURACY | PRECISION | RECALL | F1\n",
      "[00/20]|      0.519 |      0.641 |    0.669 |     0.608 |  0.966 | 0.747\n",
      "[01/20]|      0.407 |      0.585 |    0.695 |     0.628 |  0.970 | 0.762\n",
      "[02/20]|      0.383 |      0.519 |    0.722 |     0.661 |  0.922 | 0.770\n",
      "[03/20]|      0.370 |      0.563 |    0.723 |     0.653 |  0.960 | 0.777\n",
      "[04/20]|      0.357 |      0.536 |    0.715 |     0.646 |  0.965 | 0.774\n",
      "[05/20]|      0.348 |      0.617 |    0.716 |     0.644 |  0.978 | 0.777\n",
      "[06/20]|      0.341 |      0.580 |    0.725 |     0.654 |  0.963 | 0.779\n",
      "[07/20]|      0.331 |      0.551 |    0.736 |     0.669 |  0.941 | 0.782\n",
      "[08/20]|      0.324 |      0.530 |    0.740 |     0.674 |  0.940 | 0.785\n",
      "[09/20]|      0.316 |      0.532 |    0.735 |     0.669 |  0.940 | 0.782\n",
      "[10/20]|      0.308 |      0.566 |    0.731 |     0.664 |  0.946 | 0.780\n",
      "[11/20]|      0.302 |      0.578 |    0.742 |     0.674 |  0.943 | 0.786\n",
      "[12/20]|      0.297 |      0.549 |    0.738 |     0.676 |  0.924 | 0.781\n",
      "[13/20]|      0.288 |      0.572 |    0.742 |     0.680 |  0.924 | 0.783\n",
      "[14/20]|      0.283 |      0.609 |    0.733 |     0.664 |  0.953 | 0.782\n",
      "[15/20]|      0.276 |      0.631 |    0.737 |     0.669 |  0.945 | 0.784\n",
      "[16/20]|      0.269 |      0.572 |    0.742 |     0.683 |  0.909 | 0.780\n",
      "[17/20]|      0.264 |      0.570 |    0.748 |     0.690 |  0.907 | 0.784\n",
      "[18/20]|      0.256 |      0.573 |    0.752 |     0.698 |  0.895 | 0.784\n",
      "[19/20]|      0.249 |      0.633 |    0.739 |     0.673 |  0.939 | 0.784\n"
     ]
    },
    {
     "data": {
      "text/plain": "<IPython.core.display.HTML object>",
      "text/html": "<br/>Waiting for W&B process to finish, PID 9197... <strong style=\"color:green\">(success).</strong>"
     },
     "metadata": {},
     "output_type": "display_data"
    },
    {
     "data": {
      "text/plain": "VBox(children=(Label(value=' 0.00MB of 0.00MB uploaded (0.00MB deduped)\\r'), FloatProgress(value=1.0, max=1.0)…",
      "application/vnd.jupyter.widget-view+json": {
       "version_major": 2,
       "version_minor": 0,
       "model_id": "999152d5092e4d729d7fe917a23a7090"
      }
     },
     "metadata": {},
     "output_type": "display_data"
    },
    {
     "data": {
      "text/plain": "<IPython.core.display.HTML object>",
      "text/html": "<style>\n    table.wandb td:nth-child(1) { padding: 0 10px; text-align: right }\n    .wandb-row { display: flex; flex-direction: row; flex-wrap: wrap; width: 100% }\n    .wandb-col { display: flex; flex-direction: column; flex-basis: 100%; flex: 1; padding: 10px; }\n    </style>\n<div class=\"wandb-row\"><div class=\"wandb-col\">\n<h3>Run history:</h3><br/><table class=\"wandb\"><tr><td>epoch</td><td>▁▁▁▁▂▂▂▂▂▂▃▃▃▃▄▄▄▄▄▄▅▅▅▅▅▅▆▆▆▆▇▇▇▇▇▇████</td></tr><tr><td>train/accuracy</td><td>▁▄▄▅▅▅▆▆▆▆▆▆▆▆▆▇▇▇█▆▆▇▇▇▆▇▇▇▇▆▇▇█▇▇▇█▇██</td></tr><tr><td>train/f1</td><td>▁▄▃▅▅▅▆▆▅▆▅▆▆▆▆▇▇▇▇▅▅▇▇▇▆▇▇▇▆▆▇▇▇▆▇▆▇▇▇█</td></tr><tr><td>train/loss</td><td>█▆▅▅▅▄▃▄▄▃▄▃▃▃▃▂▃▂▁▃▃▂▂▂▂▃▂▂▂▃▂▂▂▂▂▃▁▂▁▁</td></tr><tr><td>train_step</td><td>▁▁▁▁▂▂▂▂▂▃▃▃▃▃▃▄▄▄▄▄▅▅▅▅▅▅▆▆▆▆▆▇▇▇▇▇▇███</td></tr><tr><td>valid/accuracy</td><td>▁▃▅▆▅▅▆▇▇▇▆▇▇▇▆▇▇██▇</td></tr><tr><td>valid/f1</td><td>▁▄▅▆▆▆▇▇█▇▇█▇▇▇▇▇███</td></tr><tr><td>valid/loss</td><td>█▅▁▄▂▇▅▃▂▂▄▄▃▄▆▇▄▄▄█</td></tr><tr><td>valid/precision</td><td>▁▃▅▄▄▄▅▆▆▆▅▆▆▇▅▆▇▇█▆</td></tr><tr><td>valid/recall</td><td>▇▇▃▆▇█▇▅▅▅▅▅▃▃▆▅▂▂▁▅</td></tr></table><br/></div><div class=\"wandb-col\">\n<h3>Run summary:</h3><br/><table class=\"wandb\"><tr><td>epoch</td><td>19</td></tr><tr><td>train/f1</td><td>0.92496</td></tr><tr><td>train_step</td><td>4759</td></tr></table>\n</div></div>\nSynced 6 W&B file(s), 1 media file(s), 0 artifact file(s) and 0 other file(s)\n<br/>Synced <strong style=\"color:#cdcd00\">fearless-smoke-295</strong>: <a href=\"https://wandb.ai/nlpetroni/assignment-two/runs/xb7a152f\" target=\"_blank\">https://wandb.ai/nlpetroni/assignment-two/runs/xb7a152f</a><br/>\nFind logs at: <code>./wandb/run-20211211_181022-xb7a152f/logs</code><br/>\n"
     },
     "metadata": {},
     "output_type": "display_data"
    }
   ],
   "source": [
    "# lstm\n",
    "model = train(optimizer='adam', lr=lr, device=device, n_epochs=epochs, verbose=False, tags=[tag],\n",
    "                       batch_size=batch_size, encoder='rnn', merger='concatenation', rnn_type='lstm',\n",
    "                       rnn_output='avg', rec_size=rec_size, hid_size=hid_size, cosine_similarity=False)\n",
    "torch.save(model.state_dict(), os.path.join(out_dir, 'lstm_avg.pth'))"
   ],
   "metadata": {
    "collapsed": false,
    "pycharm": {
     "name": "#%%\n"
    }
   }
  },
  {
   "cell_type": "code",
   "execution_count": 20,
   "outputs": [
    {
     "name": "stderr",
     "output_type": "stream",
     "text": [
      "\u001B[34m\u001B[1mwandb\u001B[0m: \u001B[33mWARNING\u001B[0m If you're specifying your api key in code, ensure this code is not shared publically.\n",
      "\u001B[34m\u001B[1mwandb\u001B[0m: \u001B[33mWARNING\u001B[0m Consider setting the WANDB_API_KEY environment variable, or running `wandb login` from the command line.\n",
      "\u001B[34m\u001B[1mwandb\u001B[0m: Appending key for api.wandb.ai to your netrc file: /home/diego/.netrc\n"
     ]
    },
    {
     "data": {
      "text/plain": "<IPython.core.display.HTML object>",
      "text/html": "\n                    Syncing run <strong><a href=\"https://wandb.ai/nlpetroni/assignment-two/runs/1zv54a5b\" target=\"_blank\">mild-brook-296</a></strong> to <a href=\"https://wandb.ai/nlpetroni/assignment-two\" target=\"_blank\">Weights & Biases</a> (<a href=\"https://docs.wandb.com/integrations/jupyter.html\" target=\"_blank\">docs</a>).<br/>\n\n                "
     },
     "metadata": {},
     "output_type": "display_data"
    },
    {
     "name": "stdout",
     "output_type": "stream",
     "text": [
      "The vocabulary and the embedding matrix are already present. Loading them...\n",
      "Done!\n"
     ]
    },
    {
     "name": "stderr",
     "output_type": "stream",
     "text": [
      "\u001B[34m\u001B[1mwandb\u001B[0m: logging graph, to disable use `wandb.watch(log_graph=False)`\n"
     ]
    },
    {
     "name": "stdout",
     "output_type": "stream",
     "text": [
      "STARTING TRAINING\n",
      "Evaluation metrics are computed on validation set\n",
      "\n",
      "EPOCHS | TRAIN LOSS | VALID LOSS | ACCURACY | PRECISION | RECALL | F1\n",
      "[00/20]|      0.490 |      0.599 |    0.692 |     0.629 |  0.949 | 0.756\n",
      "[01/20]|      0.392 |      0.570 |    0.708 |     0.640 |  0.960 | 0.768\n",
      "[02/20]|      0.371 |      0.606 |    0.705 |     0.635 |  0.974 | 0.769\n",
      "[03/20]|      0.357 |      0.567 |    0.721 |     0.651 |  0.964 | 0.777\n",
      "[04/20]|      0.348 |      0.587 |    0.720 |     0.649 |  0.968 | 0.777\n",
      "[05/20]|      0.338 |      0.575 |    0.730 |     0.657 |  0.968 | 0.783\n",
      "[06/20]|      0.330 |      0.594 |    0.719 |     0.648 |  0.970 | 0.777\n",
      "[07/20]|      0.322 |      0.534 |    0.739 |     0.668 |  0.958 | 0.787\n",
      "[08/20]|      0.312 |      0.514 |    0.747 |     0.682 |  0.934 | 0.788\n",
      "[09/20]|      0.305 |      0.537 |    0.738 |     0.669 |  0.952 | 0.785\n",
      "[10/20]|      0.298 |      0.545 |    0.746 |     0.679 |  0.942 | 0.789\n",
      "[11/20]|      0.291 |      0.527 |    0.751 |     0.686 |  0.930 | 0.790\n",
      "[12/20]|      0.284 |      0.546 |    0.744 |     0.677 |  0.939 | 0.787\n",
      "[13/20]|      0.277 |      0.525 |    0.755 |     0.695 |  0.913 | 0.789\n",
      "[14/20]|      0.269 |      0.581 |    0.750 |     0.683 |  0.939 | 0.791\n",
      "[15/20]|      0.265 |      0.576 |    0.752 |     0.684 |  0.943 | 0.793\n",
      "[16/20]|      0.257 |      0.564 |    0.748 |     0.683 |  0.932 | 0.789\n",
      "[17/20]|      0.251 |      0.605 |    0.752 |     0.686 |  0.935 | 0.791\n",
      "[18/20]|      0.245 |      0.605 |    0.748 |     0.682 |  0.939 | 0.790\n",
      "[19/20]|      0.238 |      0.657 |    0.750 |     0.684 |  0.936 | 0.791\n"
     ]
    },
    {
     "data": {
      "text/plain": "<IPython.core.display.HTML object>",
      "text/html": "<br/>Waiting for W&B process to finish, PID 9533... <strong style=\"color:green\">(success).</strong>"
     },
     "metadata": {},
     "output_type": "display_data"
    },
    {
     "data": {
      "text/plain": "VBox(children=(Label(value=' 0.00MB of 0.00MB uploaded (0.00MB deduped)\\r'), FloatProgress(value=1.0, max=1.0)…",
      "application/vnd.jupyter.widget-view+json": {
       "version_major": 2,
       "version_minor": 0,
       "model_id": "6429b3735b0242bc875c1c861a1ef330"
      }
     },
     "metadata": {},
     "output_type": "display_data"
    },
    {
     "data": {
      "text/plain": "<IPython.core.display.HTML object>",
      "text/html": "<style>\n    table.wandb td:nth-child(1) { padding: 0 10px; text-align: right }\n    .wandb-row { display: flex; flex-direction: row; flex-wrap: wrap; width: 100% }\n    .wandb-col { display: flex; flex-direction: column; flex-basis: 100%; flex: 1; padding: 10px; }\n    </style>\n<div class=\"wandb-row\"><div class=\"wandb-col\">\n<h3>Run history:</h3><br/><table class=\"wandb\"><tr><td>epoch</td><td>▁▁▁▁▂▂▂▂▂▂▃▃▃▃▄▄▄▄▄▄▅▅▅▅▅▅▆▆▆▆▇▇▇▇▇▇████</td></tr><tr><td>train/accuracy</td><td>▁▂▅▅▅▅▄▆▆▅▅▆▆▆▆▆▆▅▆▆▆▇▆▇▇▆▇▆▇▇▇▇▇▇█▆█▆▇▆</td></tr><tr><td>train/f1</td><td>▁▁▅▄▅▅▄▆▅▅▅▅▆▅▆▆▅▄▆▆▅▆▆▆▇▅▆▆▇▇▇▆▆▇▇▆█▆▇▆</td></tr><tr><td>train/loss</td><td>█▇▅▅▄▄▄▃▄▄▄▄▃▃▃▃▃▄▂▄▃▂▃▂▃▃▂▃▂▂▂▂▂▂▁▂▁▃▂▂</td></tr><tr><td>train_step</td><td>▁▁▁▁▂▂▂▂▂▃▃▃▃▃▃▄▄▄▄▄▅▅▅▅▅▅▆▆▆▆▆▇▇▇▇▇▇███</td></tr><tr><td>valid/accuracy</td><td>▁▃▂▄▄▅▄▆▇▆▇█▇█▇█▇█▇█</td></tr><tr><td>valid/f1</td><td>▁▃▃▅▅▆▅▇▇▇▇▇▇▇██▇█▇█</td></tr><tr><td>valid/loss</td><td>▅▄▆▄▅▄▅▂▁▂▃▂▃▂▄▄▃▅▅█</td></tr><tr><td>valid/precision</td><td>▁▂▂▃▃▄▃▅▇▅▆▇▆█▇▇▇▇▇▇</td></tr><tr><td>valid/recall</td><td>▅▆█▇▇▇▇▆▃▅▄▃▄▁▄▄▃▄▄▄</td></tr></table><br/></div><div class=\"wandb-col\">\n<h3>Run summary:</h3><br/><table class=\"wandb\"><tr><td>epoch</td><td>19</td></tr><tr><td>train/f1</td><td>0.94915</td></tr><tr><td>train_step</td><td>4759</td></tr></table>\n</div></div>\nSynced 6 W&B file(s), 1 media file(s), 0 artifact file(s) and 0 other file(s)\n<br/>Synced <strong style=\"color:#cdcd00\">mild-brook-296</strong>: <a href=\"https://wandb.ai/nlpetroni/assignment-two/runs/1zv54a5b\" target=\"_blank\">https://wandb.ai/nlpetroni/assignment-two/runs/1zv54a5b</a><br/>\nFind logs at: <code>./wandb/run-20211211_181532-1zv54a5b/logs</code><br/>\n"
     },
     "metadata": {},
     "output_type": "display_data"
    }
   ],
   "source": [
    "# gru\n",
    "model = train(optimizer='adam', lr=lr, device=device, n_epochs=epochs, verbose=False, tags=[tag],\n",
    "                      batch_size=batch_size, encoder='rnn', merger='concatenation', rnn_type='gru',\n",
    "                      rnn_output='avg', rec_size=rec_size, hid_size=hid_size, cosine_similarity=False)\n",
    "torch.save(model.state_dict(), os.path.join(out_dir, 'gru_avg.pth'))"
   ],
   "metadata": {
    "collapsed": false,
    "pycharm": {
     "name": "#%%\n"
    }
   }
  },
  {
   "cell_type": "markdown",
   "source": [
    "### MLP layer"
   ],
   "metadata": {
    "collapsed": false
   }
  },
  {
   "cell_type": "code",
   "execution_count": 36,
   "outputs": [
    {
     "name": "stderr",
     "output_type": "stream",
     "text": [
      "\u001B[34m\u001B[1mwandb\u001B[0m: \u001B[33mWARNING\u001B[0m Calling wandb.login() after wandb.init() has no effect.\n"
     ]
    },
    {
     "data": {
      "text/plain": "<IPython.core.display.HTML object>",
      "text/html": "Finishing last run (ID:3ij0vqf0) before initializing another..."
     },
     "metadata": {},
     "output_type": "display_data"
    },
    {
     "data": {
      "text/plain": "<IPython.core.display.HTML object>",
      "text/html": "<br/>Waiting for W&B process to finish, PID 9019... <strong style=\"color:green\">(success).</strong>"
     },
     "metadata": {},
     "output_type": "display_data"
    },
    {
     "data": {
      "text/plain": "VBox(children=(Label(value=' 0.00MB of 0.00MB uploaded (0.00MB deduped)\\r'), FloatProgress(value=1.0, max=1.0)…",
      "application/vnd.jupyter.widget-view+json": {
       "version_major": 2,
       "version_minor": 0,
       "model_id": "f3f379e07cf5449793fad55b5e23d52e"
      }
     },
     "metadata": {},
     "output_type": "display_data"
    },
    {
     "data": {
      "text/plain": "<IPython.core.display.HTML object>",
      "text/html": "<style>\n    table.wandb td:nth-child(1) { padding: 0 10px; text-align: right }\n    .wandb-row { display: flex; flex-direction: row; flex-wrap: wrap; width: 100% }\n    .wandb-col { display: flex; flex-direction: column; flex-basis: 100%; flex: 1; padding: 10px; }\n    </style>\n<div class=\"wandb-row\"><div class=\"wandb-col\">\n</div><div class=\"wandb-col\">\n</div></div>\nSynced 6 W&B file(s), 0 media file(s), 0 artifact file(s) and 0 other file(s)\n<br/>Synced <strong style=\"color:#cdcd00\">fanciful-sound-317</strong>: <a href=\"https://wandb.ai/nlpetroni/assignment-two/runs/3ij0vqf0\" target=\"_blank\">https://wandb.ai/nlpetroni/assignment-two/runs/3ij0vqf0</a><br/>\nFind logs at: <code>./wandb/run-20211213_013028-3ij0vqf0/logs</code><br/>\n"
     },
     "metadata": {},
     "output_type": "display_data"
    },
    {
     "data": {
      "text/plain": "<IPython.core.display.HTML object>",
      "text/html": "Successfully finished last run (ID:3ij0vqf0). Initializing new run:<br/>"
     },
     "metadata": {},
     "output_type": "display_data"
    },
    {
     "data": {
      "text/plain": "<IPython.core.display.HTML object>",
      "text/html": "\n                    Syncing run <strong><a href=\"https://wandb.ai/nlpetroni/assignment-two/runs/n2l3xocq\" target=\"_blank\">efficient-dawn-318</a></strong> to <a href=\"https://wandb.ai/nlpetroni/assignment-two\" target=\"_blank\">Weights & Biases</a> (<a href=\"https://docs.wandb.com/integrations/jupyter.html\" target=\"_blank\">docs</a>).<br/>\n\n                "
     },
     "metadata": {},
     "output_type": "display_data"
    },
    {
     "name": "stdout",
     "output_type": "stream",
     "text": [
      "The vocabulary and the embedding matrix are already present. Loading them...\n",
      "Done!\n"
     ]
    },
    {
     "name": "stderr",
     "output_type": "stream",
     "text": [
      "\u001B[34m\u001B[1mwandb\u001B[0m: logging graph, to disable use `wandb.watch(log_graph=False)`\n",
      "/home/diego/miniconda3/envs/nlp/lib/python3.9/site-packages/sklearn/metrics/_classification.py:1308: UndefinedMetricWarning: Precision is ill-defined and being set to 0.0 due to no predicted samples. Use `zero_division` parameter to control this behavior.\n",
      "  _warn_prf(average, modifier, msg_start, len(result))\n"
     ]
    },
    {
     "name": "stdout",
     "output_type": "stream",
     "text": [
      "STARTING TRAINING\n",
      "Evaluation metrics are computed on validation set\n",
      "\n",
      "EPOCHS | TRAIN LOSS | VALID LOSS | ACCURACY | PRECISION | RECALL | F1\n",
      "[00/20]|      0.498 |      0.644 |    0.628 |     0.579 |  0.951 | 0.720\n",
      "[01/20]|      0.424 |      0.666 |    0.646 |     0.594 |  0.938 | 0.727\n",
      "[02/20]|      0.386 |      0.619 |    0.661 |     0.609 |  0.911 | 0.730\n",
      "[03/20]|      0.355 |      0.593 |    0.686 |     0.642 |  0.849 | 0.731\n",
      "[04/20]|      0.326 |      0.690 |    0.679 |     0.628 |  0.884 | 0.734\n",
      "[05/20]|      0.295 |      0.680 |    0.687 |     0.651 |  0.809 | 0.722\n",
      "[06/20]|      0.276 |      0.768 |    0.678 |     0.626 |  0.893 | 0.736\n",
      "[07/20]|      0.248 |      0.913 |    0.677 |     0.626 |  0.891 | 0.735\n",
      "[08/20]|      0.229 |      0.887 |    0.682 |     0.636 |  0.858 | 0.731\n",
      "[09/20]|      0.214 |      0.900 |    0.693 |     0.653 |  0.829 | 0.730\n",
      "[10/20]|      0.198 |      1.084 |    0.689 |     0.646 |  0.842 | 0.731\n",
      "[11/20]|      0.182 |      1.014 |    0.684 |     0.644 |  0.833 | 0.726\n",
      "[12/20]|      0.173 |      1.208 |    0.684 |     0.640 |  0.847 | 0.729\n",
      "[13/20]|      0.161 |      1.147 |    0.684 |     0.647 |  0.816 | 0.722\n",
      "[14/20]|      0.151 |      1.420 |    0.676 |     0.625 |  0.886 | 0.733\n",
      "[15/20]|      0.138 |      1.513 |    0.677 |     0.630 |  0.863 | 0.729\n",
      "[16/20]|      0.129 |      1.500 |    0.680 |     0.637 |  0.840 | 0.725\n",
      "[17/20]|      0.125 |      1.766 |    0.682 |     0.632 |  0.877 | 0.735\n",
      "[18/20]|      0.117 |      1.722 |    0.678 |     0.633 |  0.856 | 0.728\n",
      "[19/20]|      0.114 |      1.603 |    0.688 |     0.649 |  0.825 | 0.727\n"
     ]
    },
    {
     "data": {
      "text/plain": "<IPython.core.display.HTML object>",
      "text/html": "<br/>Waiting for W&B process to finish, PID 9081... <strong style=\"color:green\">(success).</strong>"
     },
     "metadata": {},
     "output_type": "display_data"
    },
    {
     "data": {
      "text/plain": "VBox(children=(Label(value=' 0.00MB of 0.00MB uploaded (0.00MB deduped)\\r'), FloatProgress(value=1.0, max=1.0)…",
      "application/vnd.jupyter.widget-view+json": {
       "version_major": 2,
       "version_minor": 0,
       "model_id": "43acb0cd35e24d6592625fa9d41aaa4f"
      }
     },
     "metadata": {},
     "output_type": "display_data"
    },
    {
     "data": {
      "text/plain": "<IPython.core.display.HTML object>",
      "text/html": "<style>\n    table.wandb td:nth-child(1) { padding: 0 10px; text-align: right }\n    .wandb-row { display: flex; flex-direction: row; flex-wrap: wrap; width: 100% }\n    .wandb-col { display: flex; flex-direction: column; flex-basis: 100%; flex: 1; padding: 10px; }\n    </style>\n<div class=\"wandb-row\"><div class=\"wandb-col\">\n<h3>Run history:</h3><br/><table class=\"wandb\"><tr><td>epoch</td><td>▁▁▁▁▂▂▂▂▂▂▃▃▃▃▄▄▄▄▄▄▅▅▅▅▅▅▆▆▆▆▇▇▇▇▇▇████</td></tr><tr><td>train/accuracy</td><td>▁▂▃▂▃▃▂▃▄▄▄▄▃▅▅▆▆▅▆▆▆▅▆▇▇▇▇▇██▇▇▇▇█▇████</td></tr><tr><td>train/f1</td><td>▁▂▃▂▃▃▂▃▄▃▄▄▃▅▅▅▆▅▆▆▆▅▆▇▇▇▇▇▇█▇▇▇▇█▇█▇██</td></tr><tr><td>train/loss</td><td>█▇▆▇▆▆▆▆▅▅▄▄▅▄▃▄▃▄▃▂▂▃▂▂▂▂▂▂▂▁▁▂▂▁▁▁▁▁▁▁</td></tr><tr><td>train_step</td><td>▁▁▁▁▂▂▂▂▂▃▃▃▃▃▃▄▄▄▄▄▅▅▅▅▅▅▆▆▆▆▆▇▇▇▇▇▇███</td></tr><tr><td>valid/accuracy</td><td>▁▃▅▇▇▇▆▆▇██▇▇▇▆▆▇▇▆█</td></tr><tr><td>valid/f1</td><td>▁▄▅▆▇▂██▆▆▆▄▅▂▇▅▃█▄▄</td></tr><tr><td>valid/loss</td><td>▁▁▁▁▂▂▂▃▃▃▄▄▅▄▆▆▆██▇</td></tr><tr><td>valid/precision</td><td>▁▂▄▇▆█▅▅▆█▇▇▇▇▅▆▇▆▆█</td></tr><tr><td>valid/recall</td><td>█▇▆▃▅▁▅▅▃▂▃▂▃▁▅▄▃▄▃▂</td></tr></table><br/></div><div class=\"wandb-col\">\n<h3>Run summary:</h3><br/><table class=\"wandb\"><tr><td>epoch</td><td>19</td></tr><tr><td>train/f1</td><td>0.95238</td></tr><tr><td>train_step</td><td>4659</td></tr></table>\n</div></div>\nSynced 6 W&B file(s), 1 media file(s), 0 artifact file(s) and 0 other file(s)\n<br/>Synced <strong style=\"color:#cdcd00\">efficient-dawn-318</strong>: <a href=\"https://wandb.ai/nlpetroni/assignment-two/runs/n2l3xocq\" target=\"_blank\">https://wandb.ai/nlpetroni/assignment-two/runs/n2l3xocq</a><br/>\nFind logs at: <code>./wandb/run-20211213_013242-n2l3xocq/logs</code><br/>\n"
     },
     "metadata": {},
     "output_type": "display_data"
    }
   ],
   "source": [
    "model = train(optimizer='adam', lr=lr, device=device, n_epochs=epochs, verbose=False,  tags=[tag],\n",
    "              batch_size=batch_size, encoder='mlp', merger='concatenation', cosine_similarity=False)\n",
    "torch.save(model.state_dict(), os.path.join(out_dir, 'mlp.pth'))"
   ],
   "metadata": {
    "collapsed": false,
    "pycharm": {
     "name": "#%%\n"
    }
   }
  },
  {
   "cell_type": "markdown",
   "source": [
    "### Bag of vectors"
   ],
   "metadata": {
    "collapsed": false
   }
  },
  {
   "cell_type": "code",
   "execution_count": 22,
   "outputs": [
    {
     "name": "stderr",
     "output_type": "stream",
     "text": [
      "\u001B[34m\u001B[1mwandb\u001B[0m: \u001B[33mWARNING\u001B[0m Calling wandb.login() after wandb.init() has no effect.\n"
     ]
    },
    {
     "data": {
      "text/plain": "<IPython.core.display.HTML object>",
      "text/html": "Finishing last run (ID:wwq85mek) before initializing another..."
     },
     "metadata": {},
     "output_type": "display_data"
    },
    {
     "data": {
      "text/plain": "<IPython.core.display.HTML object>",
      "text/html": "<br/>Waiting for W&B process to finish, PID 9616... <strong style=\"color:green\">(success).</strong>"
     },
     "metadata": {},
     "output_type": "display_data"
    },
    {
     "data": {
      "text/plain": "VBox(children=(Label(value=' 0.00MB of 0.00MB uploaded (0.00MB deduped)\\r'), FloatProgress(value=1.0, max=1.0)…",
      "application/vnd.jupyter.widget-view+json": {
       "version_major": 2,
       "version_minor": 0,
       "model_id": "4fd3dc9e9133404a86d5446e45411f68"
      }
     },
     "metadata": {},
     "output_type": "display_data"
    },
    {
     "data": {
      "text/plain": "<IPython.core.display.HTML object>",
      "text/html": "<style>\n    table.wandb td:nth-child(1) { padding: 0 10px; text-align: right }\n    .wandb-row { display: flex; flex-direction: row; flex-wrap: wrap; width: 100% }\n    .wandb-col { display: flex; flex-direction: column; flex-basis: 100%; flex: 1; padding: 10px; }\n    </style>\n<div class=\"wandb-row\"><div class=\"wandb-col\">\n</div><div class=\"wandb-col\">\n</div></div>\nSynced 6 W&B file(s), 0 media file(s), 0 artifact file(s) and 0 other file(s)\n<br/>Synced <strong style=\"color:#cdcd00\">zesty-universe-297</strong>: <a href=\"https://wandb.ai/nlpetroni/assignment-two/runs/wwq85mek\" target=\"_blank\">https://wandb.ai/nlpetroni/assignment-two/runs/wwq85mek</a><br/>\nFind logs at: <code>./wandb/run-20211211_182003-wwq85mek/logs</code><br/>\n"
     },
     "metadata": {},
     "output_type": "display_data"
    },
    {
     "data": {
      "text/plain": "<IPython.core.display.HTML object>",
      "text/html": "Successfully finished last run (ID:wwq85mek). Initializing new run:<br/>"
     },
     "metadata": {},
     "output_type": "display_data"
    },
    {
     "data": {
      "text/plain": "<IPython.core.display.HTML object>",
      "text/html": "\n                    Syncing run <strong><a href=\"https://wandb.ai/nlpetroni/assignment-two/runs/2yquowis\" target=\"_blank\">pretty-glade-298</a></strong> to <a href=\"https://wandb.ai/nlpetroni/assignment-two\" target=\"_blank\">Weights & Biases</a> (<a href=\"https://docs.wandb.com/integrations/jupyter.html\" target=\"_blank\">docs</a>).<br/>\n\n                "
     },
     "metadata": {},
     "output_type": "display_data"
    },
    {
     "name": "stdout",
     "output_type": "stream",
     "text": [
      "The vocabulary and the embedding matrix are already present. Loading them...\n",
      "Done!\n"
     ]
    },
    {
     "name": "stderr",
     "output_type": "stream",
     "text": [
      "\u001B[34m\u001B[1mwandb\u001B[0m: logging graph, to disable use `wandb.watch(log_graph=False)`\n"
     ]
    },
    {
     "name": "stdout",
     "output_type": "stream",
     "text": [
      "STARTING TRAINING\n",
      "Evaluation metrics are computed on validation set\n",
      "\n",
      "EPOCHS | TRAIN LOSS | VALID LOSS | ACCURACY | PRECISION | RECALL | F1\n",
      "[00/20]|      0.569 |      0.754 |    0.521 |     0.513 |  0.989 | 0.676\n",
      "[01/20]|      0.533 |      0.747 |    0.553 |     0.531 |  0.973 | 0.687\n",
      "[02/20]|      0.523 |      0.752 |    0.565 |     0.538 |  0.968 | 0.691\n",
      "[03/20]|      0.518 |      0.756 |    0.567 |     0.539 |  0.967 | 0.693\n",
      "[04/20]|      0.515 |      0.733 |    0.576 |     0.545 |  0.957 | 0.695\n",
      "[05/20]|      0.512 |      0.702 |    0.593 |     0.557 |  0.935 | 0.698\n",
      "[06/20]|      0.508 |      0.747 |    0.577 |     0.545 |  0.968 | 0.698\n",
      "[07/20]|      0.503 |      0.740 |    0.586 |     0.551 |  0.967 | 0.702\n",
      "[08/20]|      0.497 |      0.718 |    0.594 |     0.557 |  0.955 | 0.704\n",
      "[09/20]|      0.492 |      0.720 |    0.600 |     0.560 |  0.961 | 0.708\n",
      "[10/20]|      0.487 |      0.706 |    0.605 |     0.564 |  0.953 | 0.709\n",
      "[11/20]|      0.482 |      0.691 |    0.610 |     0.568 |  0.948 | 0.710\n",
      "[12/20]|      0.478 |      0.683 |    0.614 |     0.571 |  0.940 | 0.711\n",
      "[13/20]|      0.475 |      0.695 |    0.609 |     0.567 |  0.949 | 0.710\n",
      "[14/20]|      0.472 |      0.691 |    0.617 |     0.573 |  0.944 | 0.713\n",
      "[15/20]|      0.468 |      0.700 |    0.616 |     0.572 |  0.947 | 0.713\n",
      "[16/20]|      0.465 |      0.693 |    0.618 |     0.574 |  0.942 | 0.713\n",
      "[17/20]|      0.463 |      0.694 |    0.617 |     0.573 |  0.944 | 0.713\n",
      "[18/20]|      0.460 |      0.693 |    0.623 |     0.578 |  0.937 | 0.715\n",
      "[19/20]|      0.459 |      0.704 |    0.619 |     0.573 |  0.951 | 0.715\n"
     ]
    },
    {
     "data": {
      "text/plain": "<IPython.core.display.HTML object>",
      "text/html": "<br/>Waiting for W&B process to finish, PID 9660... <strong style=\"color:green\">(success).</strong>"
     },
     "metadata": {},
     "output_type": "display_data"
    },
    {
     "data": {
      "text/plain": "VBox(children=(Label(value=' 0.00MB of 0.00MB uploaded (0.00MB deduped)\\r'), FloatProgress(value=1.0, max=1.0)…",
      "application/vnd.jupyter.widget-view+json": {
       "version_major": 2,
       "version_minor": 0,
       "model_id": "885efc5bfccb443e9e992a231c2eea23"
      }
     },
     "metadata": {},
     "output_type": "display_data"
    },
    {
     "data": {
      "text/plain": "<IPython.core.display.HTML object>",
      "text/html": "<style>\n    table.wandb td:nth-child(1) { padding: 0 10px; text-align: right }\n    .wandb-row { display: flex; flex-direction: row; flex-wrap: wrap; width: 100% }\n    .wandb-col { display: flex; flex-direction: column; flex-basis: 100%; flex: 1; padding: 10px; }\n    </style>\n<div class=\"wandb-row\"><div class=\"wandb-col\">\n<h3>Run history:</h3><br/><table class=\"wandb\"><tr><td>epoch</td><td>▁▁▁▁▂▂▂▂▂▂▃▃▃▃▄▄▄▄▄▄▅▅▅▅▅▅▆▆▆▆▇▇▇▇▇▇████</td></tr><tr><td>train/accuracy</td><td>▂▁▄▁▄▄▄▃▆▅▅▆▆▃▃▄▅▄▃▄▄▄▆▅▄▅▅▆▇▅▇▇▆▅█▄█▅▅▆</td></tr><tr><td>train/f1</td><td>▄▂▄▁▄▅▄▃▆▆▅▆▆▃▃▅▆▄▂▄▄▄▇▅▅▅▅▆█▅▇▇▆▅█▄█▅▆▅</td></tr><tr><td>train/loss</td><td>██▆█▅▅▅▆▅▃▆▄▅▆▅▅▄▅▅▆▆▅▃▂▄▃▄▃▂▃▂▂▃▂▁▄▁▃▃▃</td></tr><tr><td>train_step</td><td>▁▁▁▁▂▂▂▂▂▃▃▃▃▃▃▄▄▄▄▄▅▅▅▅▅▅▆▆▆▆▆▇▇▇▇▇▇███</td></tr><tr><td>valid/accuracy</td><td>▁▃▄▄▅▆▅▅▆▆▇▇▇▇██████</td></tr><tr><td>valid/f1</td><td>▁▃▄▄▄▅▅▆▆▇▇▇▇▇██████</td></tr><tr><td>valid/loss</td><td>█▇██▆▃▇▆▄▅▃▂▁▂▂▃▂▂▂▃</td></tr><tr><td>valid/precision</td><td>▁▃▄▄▄▆▄▅▆▆▆▇▇▇▇▇█▇██</td></tr><tr><td>valid/recall</td><td>█▆▅▅▄▁▅▅▄▄▃▃▂▃▂▃▂▂▁▃</td></tr></table><br/></div><div class=\"wandb-col\">\n<h3>Run summary:</h3><br/><table class=\"wandb\"><tr><td>epoch</td><td>19</td></tr><tr><td>train/f1</td><td>0.8589</td></tr><tr><td>train_step</td><td>4759</td></tr></table>\n</div></div>\nSynced 6 W&B file(s), 1 media file(s), 0 artifact file(s) and 0 other file(s)\n<br/>Synced <strong style=\"color:#cdcd00\">pretty-glade-298</strong>: <a href=\"https://wandb.ai/nlpetroni/assignment-two/runs/2yquowis\" target=\"_blank\">https://wandb.ai/nlpetroni/assignment-two/runs/2yquowis</a><br/>\nFind logs at: <code>./wandb/run-20211211_182043-2yquowis/logs</code><br/>\n"
     },
     "metadata": {},
     "output_type": "display_data"
    }
   ],
   "source": [
    "model = train(optimizer='adam', lr=lr, device=device, n_epochs=epochs, verbose=False,  tags=[tag],\n",
    "              batch_size=batch_size, encoder='bag', merger='concatenation', cosine_similarity=False)\n",
    "torch.save(model.state_dict(), os.path.join(out_dir, 'bow.pth'))"
   ],
   "metadata": {
    "collapsed": false,
    "pycharm": {
     "name": "#%%\n"
    }
   }
  },
  {
   "cell_type": "markdown",
   "source": [
    "The best sentence embedding is"
   ],
   "metadata": {
    "collapsed": false
   }
  },
  {
   "cell_type": "code",
   "execution_count": null,
   "outputs": [],
   "source": [],
   "metadata": {
    "collapsed": false,
    "pycharm": {
     "name": "#%%\n"
    }
   }
  }
 ]
}