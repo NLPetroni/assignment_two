{
 "cells": [
  {
   "cell_type": "markdown",
   "metadata": {
    "colab_type": "text",
    "id": "view-in-github"
   },
   "source": [
    "<a href=\"https://colab.research.google.com/github/NLPetroni/assignment_two/blob/main/solution_2.ipynb\" target=\"_parent\"><img src=\"https://colab.research.google.com/assets/colab-badge.svg\" alt=\"Open In Colab\"/></a>"
   ]
  },
  {
   "cell_type": "markdown",
   "metadata": {
    "id": "m5ldIOU6KPl4"
   },
   "source": [
    "# Imports and downloads\n",
    "\n"
   ]
  },
  {
   "cell_type": "code",
   "execution_count": 1,
   "metadata": {
    "colab": {
     "base_uri": "https://localhost:8080/"
    },
    "id": "zpI5pddAJRU5",
    "outputId": "648f54d7-47c3-432b-b50c-5bbb9f9b2c44"
   },
   "outputs": [],
   "source": [
    "import random\n",
    "\n",
    "import numpy as np\n",
    "import pandas as pd\n",
    "import sys\n",
    "import os\n",
    "\n",
    "try:\n",
    "  import google.colab\n",
    "  IN_COLAB = True\n",
    "except:\n",
    "  IN_COLAB = False\n",
    "\n",
    "if IN_COLAB:\n",
    "  %cd /content\n",
    "  !rm -rf assignment_two &> /dev/null\n",
    "  !git clone https://github.com/NLPetroni/assignment_two &> /dev/null\n",
    "  %cd assignment_two\n",
    "  sys.path.append(os.getcwd())\n",
    "  !git clone https://gitlab.com/sasso-effe/nlp-assignment-data.git &> /dev/null\n",
    "  !mv nlp-assignment-data/embedding_matrix.npy res/embedding_matrix.npy\n",
    "  !rm -rf nlp-assignment-data\n",
    "  !pip install wandb &> /dev/null\n",
    "  !pip install torchinfo"
   ]
  },
  {
   "cell_type": "code",
   "execution_count": 2,
   "metadata": {
    "id": "o2uzDyzCKrGy",
    "pycharm": {
     "name": "#%%\n"
    }
   },
   "outputs": [],
   "source": [
    "import re\n",
    "import math\n",
    "from functools import reduce\n",
    "from typing import List, Callable\n",
    "import pickle\n",
    "\n",
    "import wandb\n",
    "import nltk\n",
    "from nltk.corpus import stopwords\n",
    "import torch\n",
    "from torch import nn\n",
    "from torchinfo import summary\n",
    "from sklearn.metrics import f1_score, precision_score, recall_score, accuracy_score\n",
    "\n",
    "from src import utils\n",
    "\n",
    "device = torch.device('cuda') if torch.cuda.is_available() else torch.device('cpu')"
   ]
  },
  {
   "cell_type": "code",
   "execution_count": 3,
   "metadata": {
    "colab": {
     "base_uri": "https://localhost:8080/"
    },
    "id": "0zr8CGx9JmRN",
    "outputId": "a25cb69d-87af-48a5-b384-1b71afceee2c"
   },
   "outputs": [
    {
     "name": "stdout",
     "output_type": "stream",
     "text": [
      "Index(['Unnamed: 0', 'Claim', 'Evidence', 'ID', 'Label'], dtype='object')\n",
      "Total rows of the train set: 121740\n",
      "Total rows of the validation set: 7165\n",
      "Total rows of the test set: 7189\n",
      "SUPPORTS    89389\n",
      "REFUTES     32351\n",
      "Name: Label, dtype: int64\n"
     ]
    }
   ],
   "source": [
    "utils.download_data('dataset')\n",
    "train_set = pd.read_csv(\"dataset/train_pairs.csv\")\n",
    "val_set = pd.read_csv(\"dataset/val_pairs.csv\")\n",
    "test_set = pd.read_csv(\"dataset/test_pairs.csv\")\n",
    "\n",
    "print(train_set.columns)\n",
    "print(\"Total rows of the train set: {:d}\".format(len(train_set)))\n",
    "print(\"Total rows of the validation set: {:d}\".format(len(val_set)))\n",
    "print(\"Total rows of the test set: {:d}\".format(len(test_set)))\n",
    "print(train_set['Label'].value_counts())"
   ]
  },
  {
   "cell_type": "markdown",
   "metadata": {
    "id": "yBtVzSl_J0CR"
   },
   "source": [
    "# Dataset pre-processing and conversion"
   ]
  },
  {
   "cell_type": "code",
   "execution_count": 4,
   "metadata": {
    "id": "mps78KxwJ1e6"
   },
   "outputs": [],
   "source": [
    "REPLACE_BY_SPACE_RE = re.compile('[/(){}\\[\\]\\|@,;\\t-]')\n",
    "GOOD_SYMBOLS_RE = re.compile('[^0-9a-z #+_]')\n",
    "BAD_SYMBOLS_RE = re.compile('(-LRB-)|(-RRB-)|(-LSB-)|(-RSB-)')\n",
    "INSIDE_SQAURE_BRACKETS_RE = re.compile('(-LSB-).*?(-RSB-)')\n",
    "\n",
    "try:\n",
    "    STOPWORDS = set(stopwords.words('english'))\n",
    "except LookupError:\n",
    "    nltk.download('stopwords')\n",
    "    STOPWORDS = set(stopwords.words('english'))\n",
    "\n",
    "def remove_inside_square_brackets(text: str) -> str:\n",
    "    return INSIDE_SQAURE_BRACKETS_RE.sub('', text)\n",
    "\n",
    "def remove_bad_symbols(text: str) -> str:\n",
    "    return BAD_SYMBOLS_RE.sub('', text)\n",
    "\n",
    "def remove_final_tags(text: str) -> str:\n",
    "   return re.sub('\\.\\t.*?$', '', text) \n",
    "\n",
    "def lower(text: str) -> str:\n",
    "    \"\"\"\n",
    "    Transforms given text to lower case.\n",
    "    Example:\n",
    "    Input: 'I really like New York city'\n",
    "    Output: 'i really like new your city'\n",
    "    \"\"\"\n",
    "\n",
    "    return text.lower()\n",
    "\n",
    "def replace_special_characters(text: str) -> str:\n",
    "    \"\"\"\n",
    "    Replaces special characters, such as paranthesis,\n",
    "    with spacing character\n",
    "    \"\"\"\n",
    "\n",
    "    return REPLACE_BY_SPACE_RE.sub(' ', text)\n",
    "\n",
    "def replace_br(text: str) -> str:\n",
    "    \"\"\"\n",
    "    Replaces br characters\n",
    "    \"\"\"\n",
    "\n",
    "    return text.replace('</br>', '')\n",
    "\n",
    "def filter_out_uncommon_symbols(text: str) -> str:\n",
    "    \"\"\"\n",
    "    Removes any special character that is not in the\n",
    "    good symbols list (check regular expression)\n",
    "    \"\"\"\n",
    "\n",
    "    return GOOD_SYMBOLS_RE.sub('', text)\n",
    "\n",
    "def remove_stopwords(text: str) -> str:\n",
    "    return ' '.join([x for x in text.split() if x and x not in STOPWORDS])\n",
    "\n",
    "\n",
    "def strip_text(text: str) -> str:\n",
    "    \"\"\"\n",
    "    Removes any left or right spacing (including carriage return) from text.\n",
    "    Example:\n",
    "    Input: '  This assignment is cool\\n'\n",
    "    Output: 'This assignment is cool'\n",
    "    \"\"\"\n",
    "\n",
    "    return text.strip()\n",
    "\n",
    "def split_text(text: str) -> List:\n",
    "  return text.split()\n",
    "\n",
    "PREPROCESSING_PIPELINE = [\n",
    "                          remove_inside_square_brackets,\n",
    "                          remove_bad_symbols,\n",
    "                          lower,\n",
    "                          remove_final_tags,\n",
    "                          replace_special_characters,\n",
    "                          filter_out_uncommon_symbols,\n",
    "                          strip_text,\n",
    "                          split_text\n",
    "                          ]\n",
    "\n",
    "# Anchor method\n",
    "\n",
    "def text_prepare(text: str,\n",
    "                 filter_methods: List[Callable[[str], str]] = None) -> str:\n",
    "    \"\"\"\n",
    "    Applies a list of pre-processing functions in sequence (reduce).\n",
    "    Note that the order is important here!\n",
    "    \"\"\"\n",
    "\n",
    "    filter_methods = filter_methods if filter_methods is not None else PREPROCESSING_PIPELINE\n",
    "\n",
    "    return reduce(lambda txt, f: f(txt), filter_methods, text)\n",
    "\n",
    "def full_preprocessing(dataset):\n",
    "    # In the evidences there is an id at the beginning of the sequence which is\n",
    "    # removed with the splice [:1]\n",
    "    dataset['Evidence'] = dataset['Evidence'].apply(lambda txt: text_prepare(txt)[1:])\n",
    "    dataset['Claim'] = dataset['Claim'].apply(lambda txt: text_prepare(txt))\n",
    "    return dataset\n"
   ]
  },
  {
   "cell_type": "markdown",
   "metadata": {
    "collapsed": false,
    "id": "kFRnAOuk2Wjb",
    "pycharm": {
     "name": "#%% md\n"
    }
   },
   "source": [
    "## Padding"
   ]
  },
  {
   "cell_type": "code",
   "execution_count": 5,
   "metadata": {
    "id": "ePHzgALO2Wjd",
    "pycharm": {
     "name": "#%%\n"
    }
   },
   "outputs": [],
   "source": [
    "class Dataset(torch.utils.data.Dataset):\n",
    "    \"\"\"Simple dataset class to use dataloaders (batching) \"\"\"\n",
    "    def __init__(self, ids, claims, evidences, labels, majority_vote=False):\n",
    "        self.majority_vote = majority_vote\n",
    "        if self.majority_vote:\n",
    "            self.ids = ids\n",
    "            self.indexes = list(set(self.ids))\n",
    "            self.majority_data = [[(claims[i], evidences[i], labels[i]) for i, id in enumerate(self.ids) if id == idx]\n",
    "                                  for idx in self.indexes]\n",
    "        else:\n",
    "            self.claims = claims\n",
    "            self.evidences = evidences\n",
    "            self.labels = torch.tensor(labels, dtype=torch.float)\n",
    "\n",
    "    def __getitem__(self, idx):\n",
    "        if self.majority_vote:\n",
    "          item = self.majority_data[idx]\n",
    "        else:\n",
    "          item = self.claims[idx], self.evidences[idx], self.labels[idx]        \n",
    "        return item\n",
    "    def __len__(self):\n",
    "        return len(self.indexes) if self.majority_vote else self.claims.shape[0]"
   ]
  },
  {
   "cell_type": "code",
   "execution_count": 40,
   "metadata": {
    "id": "dMzmoTsXf_1_"
   },
   "outputs": [],
   "source": [
    "def to_tensor_collate(batch):\n",
    "    claims, evidences, labels = zip(*batch)\n",
    "    return torch.as_tensor(claims), torch.as_tensor(evidences), torch.as_tensor(labels)\n",
    "\n",
    "\n",
    "def pad_batch_collate(batch):\n",
    "    \"\"\"Used by DataLoader to pad each batch independently\"\"\"\n",
    "    claims, evidences, targets = zip(*batch)\n",
    "\n",
    "    claims = utils.pad_data(claims)\n",
    "    evidences = utils.pad_data(evidences)\n",
    "    targets = torch.as_tensor(targets)\n",
    "\n",
    "    return claims, evidences, targets\n",
    "\n",
    "\n",
    "def pad_vote_collate(batch):\n",
    "    \"\"\"\n",
    "    Collate function for the dataloader, used for majority voting evaluation.\n",
    "    Returns:\n",
    "        A list of batches, where each batch contains all the pairs claim-evidence for a single claim.\n",
    "        The list is unpacked in the evaluation method and passed batch-by-batch to the model.\n",
    "    \"\"\"\n",
    "    batch_res = []\n",
    "    for elem in batch:\n",
    "        claims, evidences, targets = zip(*elem)\n",
    "        max_evidence_len = int(np.max([len(evidence) for (_, evidence, _) in elem]))\n",
    "        claims = utils.pad_data(claims)\n",
    "        # if 'evidences = torch.as_tensor (evidences)' works, it's faster\n",
    "        evidences = utils.pad_data(evidences)\n",
    "        targets = torch.as_tensor(targets)\n",
    "        batch_res.append([claims, evidences, targets])\n",
    "\n",
    "    return batch_res"
   ]
  },
  {
   "cell_type": "markdown",
   "metadata": {
    "id": "Fo02GPAtUBlt"
   },
   "source": [
    "## Glove"
   ]
  },
  {
   "cell_type": "code",
   "execution_count": 7,
   "metadata": {
    "id": "gbq8J24TXLdm"
   },
   "outputs": [],
   "source": [
    "def __generate_voc_and_matrix(train_set, val_set, test_set):\n",
    "  voc_evidence_train = [item for sublist in train_set['Evidence'] for item in sublist]\n",
    "  voc_claim_train = [item for sublist in train_set['Claim'] for item in sublist]\n",
    "  TRAIN_VOC = set(voc_evidence_train + voc_claim_train)\n",
    "  voc_evidence_val = [item for sublist in val_set['Evidence'] for item in sublist]\n",
    "  voc_claim_val = [item for sublist in val_set['Claim'] for item in sublist]\n",
    "  VAL_VOC = set(voc_evidence_val + voc_claim_val)\n",
    "  voc_evidence_test = [item for sublist in test_set['Evidence'] for item in sublist]\n",
    "  voc_claim_test = [item for sublist in test_set['Claim'] for item in sublist]\n",
    "  TEST_VOC = set(voc_evidence_test + voc_claim_test)\n",
    "\n",
    "  inputs = train_set['Evidence'].tolist() + train_set['Claim'].tolist()\n",
    "  glove_voc, embedding_matrix = utils.get_glove(number_token=False)\n",
    "  vocabulary, embedding_matrix = utils.add_oov(glove_voc, TRAIN_VOC, embedding_matrix, inputs)\n",
    "  inputs = val_set['Evidence'].tolist() + val_set['Claim'].tolist()\n",
    "  vocabulary, embedding_matrix = utils.add_oov(vocabulary, VAL_VOC, embedding_matrix, inputs)\n",
    "  inputs = test_set['Evidence'].tolist() + test_set['Claim'].tolist()\n",
    "  vocabulary, embedding_matrix = utils.add_oov(vocabulary, TEST_VOC, embedding_matrix, inputs)\n",
    "\n",
    "  with open(\"res/vocabulary.pkl\", \"wb\") as file:\n",
    "    pickle.dump(vocabulary, file)\n",
    "  np.save(\"res/embedding_matrix.npy\", embedding_matrix)\n",
    "  return vocabulary, embedding_matrix\n",
    "\n",
    "\n",
    "def get_voc_and_matrix(train_set, val_set, test_set):\n",
    "    if os.path.exists(\"res/vocabulary.pkl\"):\n",
    "      print('The vocabulary is already present. Loading it...', end=' ')\n",
    "      with open('res/vocabulary.pkl', 'rb') as f:\n",
    "        vocabulary = pickle.load(f)\n",
    "      print('Done!')\n",
    "      if os.path.exists(\"res/embedding_matrix.npy\"):\n",
    "        print('The embedding matrix is already present. Loading it...', end=' ')\n",
    "        embedding_matrix = np.load(\"res/embedding_matrix.npy\", )\n",
    "        print(\"Done!\")\n",
    "      else:\n",
    "        print('The embedding matrix is NOT present. You can download it from https://gitlab.com/sasso-effe/nlp-assignment-data and put it in the res folder. Alternatively you can generate a new embedding matrix, but the process is very long.\\n')\n",
    "        answer = input('Do you want to generate a new embedding matrix (and a new vocabulary)? (Y/n)')\n",
    "        answer = answer in ['Y', 'y', 'yes', 'Yes']\n",
    "        if answer:\n",
    "          vocabulary, embedding_matrix = __generate_voc_and_matrix(train_set, val_set, test_set)\n",
    "          print(\"Vocabulary and embedding matrix created! Remember to download the generated files if you are on Colab.\")\n",
    "        else:\n",
    "          raise Exception('Downaload the embedding matrix from https://gitlab.com/sasso-effe/nlp-assignment-data and rerun this cell')\n",
    "    else:\n",
    "      print(\"The vocabulary and the embedding matrix are NOT present. Creating them...\")\n",
    "      vocabulary, embedding_matrix = __generate_voc_and_matrix(train_set, val_set, test_set)\n",
    "      print(\"Vocabulary and embedding matrix created! Remember to download the generated files if you are on Colab.\")\n",
    "    return vocabulary, embedding_matrix\n"
   ]
  },
  {
   "cell_type": "markdown",
   "metadata": {
    "collapsed": false,
    "id": "--zNevYb2Wjg",
    "pycharm": {
     "name": "#%% md\n"
    }
   },
   "source": [
    "## Tokenization"
   ]
  },
  {
   "cell_type": "code",
   "execution_count": 8,
   "metadata": {
    "id": "m1CpnhNzeDy4",
    "pycharm": {
     "name": "#%%\n"
    }
   },
   "outputs": [],
   "source": [
    "def tokenize(input: List, vocabulary) -> torch.Tensor:\n",
    "  result = list(map(lambda x: vocabulary[x], input))\n",
    "  return result\n",
    "\n",
    "def detokenize(input: torch.Tensor, inverse_vocabulary) -> List:\n",
    "  result = input.tolist()\n",
    "  # FIXME sistemare computazione\n",
    "  result = list(map(lambda x: inverse_vocabulary[x], result))\n",
    "  return result\n",
    "\n",
    "def full_tokenization(data, vocabulary):\n",
    "    data['Evidence'] = data['Evidence'].map(lambda x: tokenize(x, vocabulary))\n",
    "    data['Claim'] = data['Claim'].map(lambda x: tokenize(x, vocabulary))\n",
    "    data['Label'] = data['Label'].map(lambda x: float(1.0) if x == 'SUPPORTS' else float(0.0))\n",
    "    return data"
   ]
  },
  {
   "cell_type": "markdown",
   "metadata": {
    "collapsed": false,
    "id": "nHOZVjHYeDy5"
   },
   "source": [
    "# Putting everything together"
   ]
  },
  {
   "cell_type": "code",
   "execution_count": 10,
   "metadata": {
    "id": "KVG0j-fPeDy5",
    "pycharm": {
     "name": "#%%\n"
    }
   },
   "outputs": [],
   "source": [
    "def load_data(padding=False):\n",
    "    utils.download_data('dataset')\n",
    "    train_set = pd.read_csv(\"dataset/train_pairs.csv\")\n",
    "    val_set = pd.read_csv(\"dataset/val_pairs.csv\")\n",
    "    test_set = pd.read_csv(\"dataset/test_pairs.csv\")\n",
    "\n",
    "    # preprocessing\n",
    "    train_set = full_preprocessing(train_set)\n",
    "    val_set = full_preprocessing(val_set)\n",
    "    test_set = full_preprocessing(test_set)\n",
    "\n",
    "    if padding:\n",
    "        evidence_lens = [len(te) for te in train_set['Evidence']] + [len(ve) for ve in val_set['Evidence']] + [len(te) for te in test_set['Evidence']]\n",
    "        max_evidence_len = np.quantile(evidence_lens, 0.99, interpolation='nearest')\n",
    "\n",
    "        claim_lens = [len(te) for te in train_set['Claim']] + [len(ve) for ve in val_set['Claim']] + [len(te) for te in test_set['Claim']]\n",
    "        max_claim_len = np.quantile(claim_lens, 0.99, interpolation='nearest')\n",
    "\n",
    "        tr_ev_lens = train_set['Evidence'].map(lambda e: len(e))\n",
    "        tr_claim_lens = train_set['Claim'].map(lambda c: len(c))\n",
    "        train_set = train_set.drop(train_set[(tr_ev_lens >= max_evidence_len) | (tr_claim_lens >= max_claim_len)].index).reset_index()\n",
    "        va_ev_lens = val_set['Evidence'].map(lambda e: len(e))\n",
    "        va_claim_lens = val_set['Claim'].map(lambda c: len(c))\n",
    "        val_set = val_set.drop(val_set[(va_ev_lens >= max_evidence_len) | (va_claim_lens >= max_claim_len)].index).reset_index()\n",
    "        te_ev_lens = test_set['Evidence'].map(lambda e: len(e))\n",
    "        te_claim_lens = test_set['Claim'].map(lambda c: len(c))\n",
    "        test_set = test_set.drop(test_set[(te_ev_lens >= max_evidence_len) | (te_claim_lens >= max_claim_len)].index).reset_index()\n",
    "\n",
    "        train_set.loc[:, 'Evidence'] = train_set['Evidence'].map(lambda x: x + (['<PAD>'] * (max_evidence_len - len(x))))\n",
    "        val_set.loc[:, 'Evidence'] = val_set['Evidence'].map(lambda x: x + (['<PAD>'] * (max_evidence_len - len(x))))\n",
    "        test_set.loc[:, 'Evidence'] = test_set['Evidence'].map(lambda x: x + (['<PAD>'] * (max_evidence_len - len(x))))\n",
    "\n",
    "        train_set.loc[:, 'Claim'] = train_set['Claim'].map(lambda x: x + (['<PAD>'] * (max_claim_len - len(x))))\n",
    "        val_set.loc[:, 'Claim'] = val_set['Claim'].map(lambda x: x + (['<PAD>'] * (max_claim_len - len(x))))\n",
    "        test_set.loc[:, 'Claim'] = test_set['Claim'].map(lambda x: x + (['<PAD>'] * (max_claim_len - len(x))))\n",
    "\n",
    "\n",
    "    vocabulary, embedding_matrix = get_voc_and_matrix(train_set, val_set, test_set)\n",
    "\n",
    "    # tokenization\n",
    "    train_set = full_tokenization(train_set, vocabulary)\n",
    "    val_set = full_tokenization(val_set, vocabulary)\n",
    "    test_set = full_tokenization(test_set, vocabulary)\n",
    "\n",
    "    return vocabulary, embedding_matrix, (train_set, val_set, test_set)"
   ]
  },
  {
   "cell_type": "markdown",
   "metadata": {
    "collapsed": false,
    "id": "84ym75Vh2Wjh"
   },
   "source": [
    "# Model definition"
   ]
  },
  {
   "cell_type": "code",
   "execution_count": 10,
   "metadata": {
    "id": "VMWeAnUSFmQn",
    "pycharm": {
     "name": "#%%\n"
    }
   },
   "outputs": [],
   "source": [
    "# lambda layers\n",
    "\n",
    "class LambdaLast(torch.nn.Module):\n",
    "  def forward(self, x):\n",
    "    return x[:,-1]\n",
    "\n",
    "class LambdaAvg(torch.nn.Module):\n",
    "  def forward(self, x):\n",
    "    return torch.mean(x, dim=1)\n",
    "\n",
    "class LambdaConcatenation(torch.nn.Module):\n",
    "  def forward(self, x, y):\n",
    "    return torch.cat((x, y), dim=1)\n",
    "\n",
    "class LambdaSum(torch.nn.Module):\n",
    "  def forward(self, x, y):\n",
    "    return x + y\n",
    "\n",
    "class LambdaMean(torch.nn.Module):\n",
    "  def forward(self, x, y):\n",
    "    return (x + y) / 2\n"
   ]
  },
  {
   "cell_type": "code",
   "execution_count": 11,
   "metadata": {
    "id": "J0Hk8G5NcuS4"
   },
   "outputs": [],
   "source": [
    "def get_binary_classifier(name:str,\n",
    "                    w_in: int,\n",
    "                    w_hidden: int,\n",
    "                    n_layers=2\n",
    "                          ) -> nn.Sequential:\n",
    "    \"\"\"Gets a sequential container with a linear+relu+linear classifier\n",
    "\n",
    "    Args:\n",
    "        name: the name prefix to append to each layer in the container.\n",
    "        w_in: the number of the input features.\n",
    "        w_hidden: the number of internal weights\n",
    "\n",
    "    Returns: the created sequential.\n",
    "    \"\"\"\n",
    "    assert n_layers >= 2, f'n_layers is {n_layers}, must be >= 2'\n",
    "    container = nn.Sequential()\n",
    "    container.add_module(f'{name}_fc1', nn.Linear(in_features=w_in, out_features=w_hidden))    \n",
    "    container.add_module(f'{name}_ReLU', nn.ReLU())\n",
    "    for i in range(n_layers-2):\n",
    "      container.add_module(f'{name}_fc{i+2}', nn.Linear(in_features=w_hidden, out_features=w_hidden))\n",
    "      container.add_module(f'{name}_ReLU', nn.ReLU())\n",
    "    container.add_module(f'{name}_fc2', nn.Linear(in_features=w_hidden, out_features=1))\n",
    "    return container\n",
    "\n",
    " \n",
    "class RNNEncoder(torch.nn.Module):\n",
    "\n",
    "  def __init__(self, input_size, hidden_size, num_layers, rnn_type='elman', output_fn='last', verbose=False):\n",
    "    super().__init__()\n",
    "    if verbose:\n",
    "      print('Initializing RNNEncoder ')\n",
    "    types = {'elman': nn.RNN, 'lstm': nn.LSTM, 'gru': nn.GRU}\n",
    "    output_layers = {'last': LambdaLast, 'avg': LambdaAvg}\n",
    "    try:\n",
    "      self.output_layer = output_layers[output_fn]()\n",
    "    except:\n",
    "      raise ValueError(f\"wrong type '{output_fn}', must be in {list(output_layers.keys())}\")\n",
    "\n",
    "    try:\n",
    "      rec_module = types[rnn_type]\n",
    "    except:\n",
    "      valid_types = list(types.keys())\n",
    "      raise ValueError(f\"wrong type '{rnn_type}', must be in {valid_types}\")\n",
    "    self.rec_module = rec_module(input_size=input_size, hidden_size=hidden_size,\n",
    "                                 bidirectional=True, batch_first=True,\n",
    "                                 num_layers=num_layers)\n",
    "    \n",
    "  def forward(self, x):\n",
    "    x, _ = self.rec_module(x)\n",
    "    x = self.output_layer(x)\n",
    "    x, _ = torch.nn.utils.rnn.pad_packed_sequence(x, batch_first=True, padding_value=400000)\n",
    "    return x\n",
    "\n",
    "class BagOfVectorsEncoder(torch.nn.Module):\n",
    "\n",
    "  def __init__(self):\n",
    "    super().__init__()\n",
    "\n",
    "  def forward(self, x):\n",
    "    x, _ = torch.nn.utils.rnn.pad_packed_sequence(x, batch_first=True, padding_value=400000)\n",
    "    # TODO: check if the mean is computed on the right axis\n",
    "    return torch.mean(x, dim=1)\n",
    "\n",
    "\n",
    "class MLPEncoder(torch.nn.Module):\n",
    "\n",
    "  def __init__(self, ws_in, w_out, layers=None, name='mlp'):\n",
    "    super().__init__()\n",
    "    self.ws_in = ws_in\n",
    "    self.name = name\n",
    "    self.__build_mlps(w_out, layers)\n",
    "\n",
    "  def forward(self, x):\n",
    "    batch_size, max_tokens, embedding_dim = x.shape\n",
    "    in_features = max_tokens * embedding_dim\n",
    "    x = torch.reshape(x, (batch_size, in_features))\n",
    "    if in_features == self.ws_in[0]:\n",
    "        x = self.evidence_mlp(x)\n",
    "    elif in_features == self.ws_in[1]:\n",
    "        x = self.claim_mlp(x)\n",
    "    else:\n",
    "        raise ValueError(f'wrong input shape {x.shape}, must be in {self.ws_in}')\n",
    "    return x\n",
    "\n",
    "  def __build_mlps(self, w_out, layers):\n",
    "    if layers is None:\n",
    "        layers = [w_out, w_out]\n",
    "    else:\n",
    "        layers = [w_out] + layers\n",
    "\n",
    "    self.evidence_mlp = nn.Sequential()\n",
    "    self.evidence_mlp.add_module(f'{self.name}_fc1', nn.Linear(in_features=self.ws_in[0], out_features=layers[0]))\n",
    "    for i, (w_in, w_out) in enumerate(zip(layers[:-1], layers[1:])):\n",
    "      self.evidence_mlp.add_module(f'{self.name}_ReLU', nn.ReLU())\n",
    "      self.evidence_mlp.add_module(f'{self.name}_fc{i+2}', nn.Linear(in_features=w_in, out_features=w_out))\n",
    "\n",
    "    self.claim_mlp = nn.Sequential()\n",
    "    self.claim_mlp.add_module(f'{self.name}_fc1', nn.Linear(in_features=self.ws_in[1], out_features=layers[0]))\n",
    "    for i, (w_in, w_out) in enumerate(zip(layers[:-1], layers[1:])):\n",
    "      self.claim_mlp.add_module(f'{self.name}_ReLU', nn.ReLU())\n",
    "      self.claim_mlp.add_module(f'{self.name}_fc{i+2}', nn.Linear(in_features=w_in, out_features=w_out))"
   ]
  },
  {
   "cell_type": "code",
   "execution_count": 12,
   "metadata": {
    "id": "-rpXu4uhqcnH"
   },
   "outputs": [],
   "source": [
    "class FactChecker(torch.nn.Module):\n",
    "\n",
    "  def __init__(self, embedding_matrix, encoder, merger, ws_in=None, rnn_type=None, rnn_output=None, rec_size=1, hid_size=50, n_layers_classifier=3, cosine_similarity=False):\n",
    "    \"\"\"\n",
    "      A recurrent network performing Neural Language Inference (Fact Checking).\n",
    "      Params:\n",
    "        embedding_matrix: the embedding matrix for word embedding\n",
    "        encoder: [rnn, mlp, bag], the encoder to compute the sentence embedding\n",
    "        merger: [concatenation, sum, mean], the multi-input merging strategy\n",
    "        n_layers_classifier: int, the number of layers in the classifier\n",
    "        RNNEncoder params, only relevant if encoder==rnn:\n",
    "          rnn_type: [elman, lstm, gru], the RNN architecure used in the encoder\n",
    "          rnn_output: [last, avg], the function to compute the sentence encoding from the RNN hidden states\n",
    "          rec_size: int, the number of layers in the rnn\n",
    "          hid_size: int, the hidden size of the rnn\n",
    "    \"\"\"\n",
    "    super().__init__()\n",
    "    self.hid_size = hid_size\n",
    "    self.cosine_similarity = cosine_similarity\n",
    "\n",
    "    # Word embedding\n",
    "    emb_size = embedding_matrix.shape[1]\n",
    "    self.emb_layer = nn.Embedding.from_pretrained(torch.as_tensor(embedding_matrix))\n",
    "\n",
    "    # Sentence embedding\n",
    "    if encoder == 'rnn':\n",
    "      self.encoder = RNNEncoder(emb_size, hid_size, rec_size, rnn_type=rnn_type, output_fn=rnn_output)\n",
    "    elif encoder == 'mlp':\n",
    "      self.encoder = MLPEncoder(ws_in=ws_in, w_out=100)\n",
    "    elif encoder == 'bag':\n",
    "      self.encoder = BagOfVectorsEncoder()\n",
    "    else:\n",
    "      raise ValueError(f\"Wrong encoder '{encoder}', must be in ['rnn', 'mlp', 'bag']\")\n",
    "\n",
    "    # Merging\n",
    "    merging_strategies = {\n",
    "        'concatenation': LambdaConcatenation,\n",
    "        'sum': LambdaSum,\n",
    "        'mean': LambdaMean\n",
    "    }\n",
    "    try:\n",
    "      merging_layer = merging_strategies[merger]\n",
    "    except:\n",
    "      valid_strategies = list(merging_strategies.keys())\n",
    "      raise ValueError(f\"wrong type '{merger}', must be in {valid_strategies}\")\n",
    "    self.merger = merging_layer()\n",
    "\n",
    "    # Classifier\n",
    "    classifier_in = self.hid_size * 2 if encoder=='rnn' else 100\n",
    "    if merger == 'concatenation':\n",
    "      classifier_in *= 2\n",
    "    if self.cosine_similarity:\n",
    "      classifier_in += 1\n",
    "    self.classifier = get_binary_classifier('classifier', w_in=classifier_in, w_hidden=classifier_in//2, n_layers=n_layers_classifier)\n",
    "\n",
    "  def forward(self, claim, evidence, debug=False):\n",
    "    # Word embedding\n",
    "    claim = self.emb_layer(claim).float()\n",
    "    evidence = self.emb_layer(evidence).float()\n",
    "    if debug:\n",
    "      print(\"After word embedding\")\n",
    "      print(f\"\\tclaim.shape: {claim.shape}\")\n",
    "      print(f\"\\tevidence.shape: {evidence.shape}\")\n",
    "    # Sentence embedding\n",
    "    claim = self.encoder(claim)\n",
    "    evidence = self.encoder(evidence)\n",
    "    if debug:\n",
    "      print(\"After phrase encoding\")\n",
    "      print(f\"\\tclaim.shape: {claim.shape}\")\n",
    "      print(f\"\\tevidence.shape: {evidence.shape}\")\n",
    "    # Merging\n",
    "    merged_data = self.merger(claim, evidence)\n",
    "    if debug:\n",
    "      print(\"After merging\")\n",
    "      print(f\"\\tmerged_data.shape: {merged_data.shape}\")\n",
    "    #Cosine Similarity\n",
    "    if self.cosine_similarity:\n",
    "      cs = torch.nn.functional.cosine_similarity(claim,evidence, dim=1)\n",
    "      cs = torch.unsqueeze(cs, dim=1)\n",
    "      merged_data = torch.cat((merged_data, cs), dim=1)\n",
    "    # Classifying\n",
    "    output = self.classifier(merged_data)\n",
    "\n",
    "    return output"
   ]
  },
  {
   "cell_type": "markdown",
   "metadata": {
    "id": "_GDv0pqw3UsB"
   },
   "source": [
    "# Training"
   ]
  },
  {
   "cell_type": "code",
   "execution_count": 13,
   "metadata": {
    "id": "OWtu6Umy3UPr"
   },
   "outputs": [],
   "source": [
    "def training_step(model, optimizer, loss_fn, data_loader, device):\n",
    "  model.train()\n",
    "  log_dict = {'train/loss': [], 'train/accuracy': [], 'train/precision': [], 'train/recall': [], 'train/f1': []}\n",
    "\n",
    "  for (claims, evidences, labels) in data_loader:\n",
    "    # forward\n",
    "    claims = claims.to(device)\n",
    "    evidences = evidences.to(device)\n",
    "    labels = labels.to(device)\n",
    "\n",
    "    outputs = model(claims, evidences)\n",
    "    outputs = outputs.view(outputs.size(0))\n",
    "    loss = loss_fn(outputs, labels)\n",
    "    loss_value = loss.item()\n",
    "\n",
    "    if not math.isfinite(loss_value):\n",
    "      print(f\"Loss is {loss_value}, stopping training\")\n",
    "      exit(1)\n",
    "\n",
    "    # backward\n",
    "    optimizer.zero_grad()\n",
    "    loss.backward()\n",
    "    optimizer.step()\n",
    "\n",
    "    with torch.no_grad():\n",
    "        preds = torch.sigmoid(outputs).round()\n",
    "        labels, preds = labels.cpu().numpy(), preds.cpu().numpy()\n",
    "        acc = ((labels == preds).sum() / labels.size).item()\n",
    "        prec = precision_score(labels, preds)\n",
    "        rec = recall_score(labels, preds)\n",
    "        f1 = f1_score(labels, preds)\n",
    "\n",
    "\n",
    "    log_dict['train/loss'].append(loss_value)\n",
    "    log_dict['train/accuracy'].append(acc)\n",
    "    log_dict['train/precision'].append(prec)\n",
    "    log_dict['train/recall'].append(rec)\n",
    "    log_dict['train/f1'].append(f1)\n",
    "\n",
    "  return log_dict\n",
    "\n",
    "\n",
    "def evaluate(model, loss_fn, data_loader, device):\n",
    "  \"\"\"\n",
    "    Evaluate model on the given dataloader.\n",
    "    Parameters:\n",
    "      model: torch.nn.Module to evaluate\n",
    "      loss_fn: torch.nn criterion to use to compute loss, given outputs and targets\n",
    "      data_loader: torch.utils.data.DataLoader\n",
    "      device: torch.device where evaluation is performed\n",
    "    Returns log dict {'valid/loss' : mean loss, 'valid/{metric}': mean metric}\n",
    "  \"\"\"\n",
    "  model.eval()\n",
    "  assert len(data_loader) == 1 # must be a single batch\n",
    "  split = 'valid' # TODO implement for test set\n",
    "\n",
    "  with torch.no_grad():\n",
    "    data = next(iter(data_loader))\n",
    "\n",
    "    # Variables for majority voting\n",
    "    vote_labels = []\n",
    "    vote_preds = []\n",
    "    # Variable for standard\n",
    "    loss_values = []\n",
    "    std_labels = []\n",
    "    std_preds = []\n",
    "    for claims, evidences, labels in data:\n",
    "      claims = claims.to(device)\n",
    "      evidences = evidences.to(device)\n",
    "      labels = labels.to(device)\n",
    "      outputs = model(claims, evidences)\n",
    "      outputs = outputs.view(outputs.size(0))\n",
    "      preds = torch.sigmoid(outputs).round()\n",
    "      loss_values.append(loss_fn(outputs, labels).cpu().numpy())\n",
    "      labels = list(labels.cpu())\n",
    "      preds = list(preds.cpu())\n",
    "      # Majority voting\n",
    "      true_label = np.mean(labels).round()\n",
    "      predicted_label = np.mean(preds).round()\n",
    "      vote_labels.append(true_label)\n",
    "      vote_preds.append(predicted_label)\n",
    "      # Standard\n",
    "      std_labels += labels\n",
    "      std_preds += preds\n",
    "    # Majority voting\n",
    "    vote_acc = accuracy_score(vote_labels, vote_preds)\n",
    "    vote_prec = precision_score(vote_labels, vote_preds)\n",
    "    vote_rec = recall_score(vote_labels, vote_preds)\n",
    "    vote_f1 = f1_score(vote_labels, vote_preds)\n",
    "    # Standard\n",
    "    acc = accuracy_score(std_labels, std_preds)\n",
    "    prec = precision_score(std_labels, std_preds)\n",
    "    rec = recall_score(std_labels, std_preds)\n",
    "    f1 = f1_score(std_labels, std_preds)\n",
    "  log_dict = {f'{split}/loss': np.mean(np.concatenate(loss_values)),\n",
    "              f'{split}/accuracy': acc,\n",
    "              f'{split}/precision': prec,\n",
    "              f'{split}/recall': rec,\n",
    "              f'{split}/f1': f1,\n",
    "              f'{split}/vote_accuracy': vote_acc,\n",
    "              f'{split}/vote_precision': vote_prec,\n",
    "              f'{split}/vote_recall': vote_rec,\n",
    "              f'{split}/vote_f1': vote_f1}\n",
    "  return log_dict\n"
   ]
  },
  {
   "cell_type": "code",
   "execution_count": 14,
   "metadata": {
    "id": "em6r40Wq7NWn"
   },
   "outputs": [],
   "source": [
    "DEFAULT_PARAMS = {\n",
    "          'encoder': 'rnn',\n",
    "          'merger': 'concatenation',\n",
    "          'rnn_type': 'elman',\n",
    "          'rnn_output': 'last',\n",
    "          'rec_size': 1,\n",
    "          'hid_size': 50,\n",
    "          'cosine_similarity': False\n",
    "      }\n",
    "def train(optimizer, lr, device, n_epochs, verbose, batch_size, test=False, tags=None, **model_params):\n",
    "  model_params = {**DEFAULT_PARAMS, **model_params}\n",
    "\n",
    "  cfg_dict = {'epochs': n_epochs, 'batch_size': batch_size, 'optimizer': optimizer, 'lr': lr, 'params': model_params}\n",
    "\n",
    "  wandb.login(key=utils.get_wandbkey())\n",
    "  run = wandb.init(project=\"assignment-two\", entity=\"nlpetroni\", reinit=True, config=cfg_dict, tags=tags)\n",
    "  wandb.define_metric(\"train_step\")\n",
    "  wandb.define_metric(\"epoch\")\n",
    "  wandb.define_metric('train/loss', step_metric=\"train_step\", summary=\"min\")\n",
    "  wandb.define_metric(\"train/accuracy\", step_metric=\"train_step\", summary=\"max\")\n",
    "  wandb.define_metric(\"valid/loss\", step_metric=\"epoch\", summary=\"min\")\n",
    "  wandb.define_metric(\"valid/accuracy\", step_metric=\"epoch\", summary=\"max\")\n",
    "  wandb.define_metric(\"valid/precision\", step_metric=\"epoch\", summary=\"max\")\n",
    "  wandb.define_metric(\"valid/recall\", step_metric=\"epoch\", summary=\"max\")\n",
    "  wandb.define_metric(\"valid/f1\", step_metric=\"epoch\", summary=\"max\")\n",
    "  wandb.define_metric(\"valid/vote_accuracy\", step_metric=\"epoch\", summary=\"max\")\n",
    "  wandb.define_metric(\"valid/vote_precision\", step_metric=\"epoch\", summary=\"max\")\n",
    "  wandb.define_metric(\"valid/vote_recall\", step_metric=\"epoch\", summary=\"max\")\n",
    "  wandb.define_metric(\"valid/vote_f1\", step_metric=\"epoch\", summary=\"max\")\n",
    "\n",
    "  if model_params['encoder'] == 'mlp':\n",
    "      # with MLP encoder, every sequence must have the same length, thus we must pad at the dataset level\n",
    "      padding = True\n",
    "      collate_fn = to_tensor_collate\n",
    "  else:\n",
    "      # with other encoders, pad each batch independently\n",
    "      padding = False\n",
    "      collate_fn = pad_batch_collate\n",
    "\n",
    "  vocabulary, embedding_matrix, dataset = load_data(padding=padding)\n",
    "  train_set, valid_set, test_set = dataset\n",
    "  train_ds = Dataset(train_set['ID'], train_set['Claim'], train_set['Evidence'], train_set['Label'])\n",
    "  valid_ds = Dataset(valid_set['ID'], valid_set['Claim'], valid_set['Evidence'], valid_set['Label'], majority_vote=True)\n",
    "  test_ds = Dataset(test_set['ID'], test_set['Claim'], test_set['Evidence'], test_set['Label'], majority_vote=True)\n",
    "  train_dl = torch.utils.data.DataLoader(train_ds, batch_size=batch_size, collate_fn=collate_fn, shuffle=True)\n",
    "  valid_dl = torch.utils.data.DataLoader(valid_ds, batch_size=len(valid_ds), collate_fn=pad_vote_collate)\n",
    "  test_dl = torch.utils.data.DataLoader(test_ds, batch_size=len(test_ds), collate_fn=pad_vote_collate)\n",
    "  if model_params['encoder'] == 'mlp':\n",
    "      model_params['ws_in'] = (len(train_set.loc[0, 'Evidence'] * embedding_matrix.shape[1]), len(train_set.loc[0, 'Claim'] * embedding_matrix.shape[1]))\n",
    "\n",
    "  model = FactChecker(embedding_matrix, **model_params)\n",
    "  model.to(device)\n",
    "  wandb.watch(model, log_graph=True)\n",
    "  if verbose:\n",
    "    print(summary(model))\n",
    "\n",
    "  params = [p for p in model.parameters() if p.requires_grad]\n",
    "  if optimizer == 'rmsprop':\n",
    "    optimizer = torch.optim.RMSprop(params, lr=lr, alpha=0.99, momentum=0.5, weight_decay=0)\n",
    "  elif optimizer == 'adam':\n",
    "    optimizer = torch.optim.Adam(params, lr=lr, betas=(0.9, 0.999), weight_decay=0)\n",
    "  else:\n",
    "    raise ValueError(f'wrong optim {optimizer}, either rmsprop or adam')\n",
    "\n",
    "  loss = nn.BCEWithLogitsLoss()\n",
    "  valid_loss = nn.BCEWithLogitsLoss(reduction='none')\n",
    "  train_step = 0\n",
    "  print('STARTING TRAINING')\n",
    "  print('Evaluation metrics are computed on validation set\\n')\n",
    "  print(f'EPOCHS | TRAIN LOSS | VALID LOSS | ACCURACY | PRECISION | RECALL | {\"F1\":^5} | V_ACC | V_PREC | V_REC | V_F1')\n",
    "\n",
    "  for epoch in range(n_epochs):\n",
    "    log_dict = training_step(model, optimizer, loss, train_dl, device)\n",
    "    if not test:\n",
    "      log_dict.update(evaluate(model, valid_loss, valid_dl, device))\n",
    "      for batch_loss, batch_acc, batch_f1 in zip(log_dict['train/loss'], log_dict['train/accuracy'], log_dict['train/f1']):\n",
    "        wandb.log({'train_step': train_step, 'epoch': epoch, 'train/loss': batch_loss, 'train/accuracy': batch_acc,\n",
    "                   'train/f1': batch_f1})\n",
    "        train_step += 1\n",
    "      wandb.log({'epoch': epoch, 'valid/loss': log_dict['valid/loss'],\n",
    "                 'valid/accuracy': log_dict['valid/accuracy'],\n",
    "                 'valid/precision': log_dict['valid/precision'],\n",
    "                 'valid/recall': log_dict['valid/recall'],\n",
    "                 'valid/f1': log_dict['valid/f1'],\n",
    "                 'valid/vote_accuracy': log_dict['valid/vote_accuracy'],\n",
    "                 'valid/vote_precision': log_dict['valid/vote_precision'],\n",
    "                 'valid/vote_recall': log_dict['valid/vote_recall'],\n",
    "                 'valid/vote_f1': log_dict['valid/vote_f1']})\n",
    "      print(f'[{epoch:02d}/{n_epochs:02d}]| {np.mean(log_dict[\"train/loss\"]):10.3f} | {log_dict[\"valid/loss\"]:10.3f} | {log_dict[\"valid/accuracy\"]:8.3f} | {log_dict[\"valid/precision\"]:9.3f} | {log_dict[\"valid/recall\"]:6.3f} | {log_dict[\"valid/f1\"]:4.3f} | {log_dict[\"valid/vote_accuracy\"]:5.3f} | {log_dict[\"valid/vote_precision\"]:6.3f} | {log_dict[\"valid/vote_recall\"]:5.3f} | {log_dict[\"valid/vote_f1\"]:4.3f}')\n",
    "  if test:\n",
    "    log_dict = evaluate(model, loss, test_dl, device)\n",
    "    wandb.log()\n",
    "\n",
    "  run.finish()\n",
    "  return model"
   ]
  },
  {
   "cell_type": "code",
   "execution_count": 18,
   "metadata": {
    "id": "z18L9MxcgiE0"
   },
   "outputs": [],
   "source": [
    "def GridSearch(parameters, optimizer_name='adam', device=None, verbose=True):\n",
    "  for rnn_type in parameters['rnn_type']:\n",
    "    for lr in parameters['lr']:\n",
    "      for batch_size in parameters['batch_size']:\n",
    "        for num_layer_class in parameters['num_layer_class']:\n",
    "          for num_layer_rnn in parameters['num_layer_rnn']:\n",
    "            train(optimizer_name=optimizer_name, lr=lr, device=device, n_epochs=20, verbose=verbose, batch_size=batch_size,\n",
    "                encoder='rnn', merger='concatenation', rnn_type=rnn_type, rnn_output='last', hid_size=50 , n_layers_classifier=num_layer_class, rec_size=num_layer_rnn)"
   ]
  },
  {
   "cell_type": "markdown",
   "metadata": {
    "collapsed": false,
    "id": "akZiNIWqeDzB"
   },
   "source": [
    "# Hyperparameters tuning"
   ]
  },
  {
   "cell_type": "markdown",
   "metadata": {
    "collapsed": false,
    "id": "TzJjmqcSeDzB"
   },
   "source": [
    "## Sentence encoding\n",
    "### Last state of a RNN"
   ]
  },
  {
   "cell_type": "code",
   "execution_count": 16,
   "metadata": {
    "id": "QAdfhdhPeDzC",
    "pycharm": {
     "name": "#%%\n"
    }
   },
   "outputs": [],
   "source": [
    "out_dir = './models'\n",
    "if not os.path.isdir(out_dir):\n",
    "    os.mkdir(out_dir)\n",
    "lr = 1e-3\n",
    "epochs = 20\n",
    "batch_size = 512\n",
    "rec_size = 2\n",
    "hid_size = 50\n",
    "tag = 'encoding choice'"
   ]
  },
  {
   "cell_type": "code",
   "execution_count": 17,
   "metadata": {
    "id": "qjdEGxMaeDzC",
    "pycharm": {
     "name": "#%%\n"
    }
   },
   "outputs": [
    {
     "name": "stderr",
     "output_type": "stream",
     "text": [
      "\u001B[34m\u001B[1mwandb\u001B[0m: Currently logged in as: \u001B[33mdiegochine\u001B[0m (use `wandb login --relogin` to force relogin)\n",
      "\u001B[34m\u001B[1mwandb\u001B[0m: \u001B[33mWARNING\u001B[0m If you're specifying your api key in code, ensure this code is not shared publically.\n",
      "\u001B[34m\u001B[1mwandb\u001B[0m: \u001B[33mWARNING\u001B[0m Consider setting the WANDB_API_KEY environment variable, or running `wandb login` from the command line.\n",
      "\u001B[34m\u001B[1mwandb\u001B[0m: Appending key for api.wandb.ai to your netrc file: /home/diego/.netrc\n"
     ]
    },
    {
     "data": {
      "text/html": [
       "\n",
       "                    Syncing run <strong><a href=\"https://wandb.ai/nlpetroni/assignment-two/runs/32env9mu\" target=\"_blank\">warm-moon-346</a></strong> to <a href=\"https://wandb.ai/nlpetroni/assignment-two\" target=\"_blank\">Weights & Biases</a> (<a href=\"https://docs.wandb.com/integrations/jupyter.html\" target=\"_blank\">docs</a>).<br/>\n",
       "\n",
       "                "
      ],
      "text/plain": [
       "<IPython.core.display.HTML object>"
      ]
     },
     "metadata": {},
     "output_type": "display_data"
    },
    {
     "name": "stdout",
     "output_type": "stream",
     "text": [
      "The vocabulary is already present. Loading it... Done!\n",
      "The embedding matrix are already present. Loading it... Done!\n"
     ]
    },
    {
     "name": "stderr",
     "output_type": "stream",
     "text": [
      "\u001B[34m\u001B[1mwandb\u001B[0m: logging graph, to disable use `wandb.watch(log_graph=False)`\n"
     ]
    },
    {
     "name": "stdout",
     "output_type": "stream",
     "text": [
      "STARTING TRAINING\n",
      "Evaluation metrics are computed on validation set\n",
      "\n",
      "EPOCHS | TRAIN LOSS | VALID LOSS | ACCURACY | PRECISION | RECALL |  F1   | V_ACC | V_PREC | V_REC | V_F1\n",
      "[00/20]|      0.508 |      0.645 |    0.652 |     0.623 |  0.785 | 0.695 | 0.649 |  0.619 | 0.778 | 0.689\n",
      "[01/20]|      0.421 |      0.633 |    0.661 |     0.621 |  0.839 | 0.714 | 0.657 |  0.616 | 0.833 | 0.708\n",
      "[02/20]|      0.398 |      0.607 |    0.679 |     0.638 |  0.837 | 0.724 | 0.676 |  0.634 | 0.833 | 0.720\n",
      "[03/20]|      0.382 |      0.592 |    0.679 |     0.662 |  0.740 | 0.699 | 0.677 |  0.659 | 0.732 | 0.693\n",
      "[04/20]|      0.373 |      0.641 |    0.661 |     0.643 |  0.735 | 0.686 | 0.658 |  0.639 | 0.728 | 0.681\n",
      "[05/20]|      0.363 |      0.607 |    0.680 |     0.664 |  0.740 | 0.700 | 0.679 |  0.662 | 0.733 | 0.695\n",
      "[06/20]|      0.354 |      0.608 |    0.684 |     0.649 |  0.813 | 0.722 | 0.681 |  0.645 | 0.805 | 0.716\n",
      "[07/20]|      0.347 |      0.601 |    0.682 |     0.652 |  0.793 | 0.715 | 0.680 |  0.648 | 0.785 | 0.710\n",
      "[08/20]|      0.340 |      0.591 |    0.694 |     0.662 |  0.803 | 0.725 | 0.692 |  0.659 | 0.796 | 0.721\n",
      "[09/20]|      0.332 |      0.591 |    0.694 |     0.679 |  0.746 | 0.711 | 0.693 |  0.677 | 0.738 | 0.706\n",
      "[10/20]|      0.326 |      0.609 |    0.692 |     0.667 |  0.778 | 0.718 | 0.691 |  0.665 | 0.770 | 0.714\n",
      "[11/20]|      0.320 |      0.608 |    0.687 |     0.650 |  0.817 | 0.724 | 0.686 |  0.648 | 0.810 | 0.720\n",
      "[12/20]|      0.312 |      0.604 |    0.686 |     0.683 |  0.702 | 0.693 | 0.686 |  0.683 | 0.694 | 0.688\n",
      "[13/20]|      0.306 |      0.617 |    0.683 |     0.671 |  0.729 | 0.699 | 0.681 |  0.668 | 0.720 | 0.693\n",
      "[14/20]|      0.299 |      0.619 |    0.683 |     0.679 |  0.703 | 0.691 | 0.683 |  0.679 | 0.696 | 0.687\n",
      "[15/20]|      0.293 |      0.606 |    0.696 |     0.665 |  0.798 | 0.726 | 0.694 |  0.663 | 0.790 | 0.721\n",
      "[16/20]|      0.288 |      0.629 |    0.701 |     0.682 |  0.760 | 0.719 | 0.700 |  0.681 | 0.752 | 0.715\n",
      "[17/20]|      0.281 |      0.621 |    0.698 |     0.687 |  0.737 | 0.711 | 0.698 |  0.686 | 0.730 | 0.707\n",
      "[18/20]|      0.274 |      0.630 |    0.689 |     0.680 |  0.723 | 0.701 | 0.688 |  0.679 | 0.713 | 0.696\n",
      "[19/20]|      0.269 |      0.644 |    0.694 |     0.683 |  0.735 | 0.708 | 0.693 |  0.681 | 0.726 | 0.703\n"
     ]
    },
    {
     "data": {
      "text/html": [
       "<br/>Waiting for W&B process to finish, PID 7473... <strong style=\"color:green\">(success).</strong>"
      ],
      "text/plain": [
       "<IPython.core.display.HTML object>"
      ]
     },
     "metadata": {},
     "output_type": "display_data"
    },
    {
     "data": {
      "application/vnd.jupyter.widget-view+json": {
       "model_id": "a15f8c8b6e764628b83338eec6f0b7d9",
       "version_major": 2,
       "version_minor": 0
      },
      "text/plain": [
       "VBox(children=(Label(value=' 0.00MB of 0.00MB uploaded (0.00MB deduped)\\r'), FloatProgress(value=1.0, max=1.0)…"
      ]
     },
     "metadata": {},
     "output_type": "display_data"
    },
    {
     "data": {
      "text/html": [
       "<style>\n",
       "    table.wandb td:nth-child(1) { padding: 0 10px; text-align: right }\n",
       "    .wandb-row { display: flex; flex-direction: row; flex-wrap: wrap; width: 100% }\n",
       "    .wandb-col { display: flex; flex-direction: column; flex-basis: 100%; flex: 1; padding: 10px; }\n",
       "    </style>\n",
       "<div class=\"wandb-row\"><div class=\"wandb-col\">\n",
       "<h3>Run history:</h3><br/><table class=\"wandb\"><tr><td>epoch</td><td>▁▁▁▁▂▂▂▂▂▂▃▃▃▃▄▄▄▄▄▄▅▅▅▅▅▅▆▆▆▆▇▇▇▇▇▇████</td></tr><tr><td>train/accuracy</td><td>▁▃▅▆▅▅▅▆▆▅▆▇▆▆▇▆▇▆▆▆▇▆▇▆▇▇▇▆▇▇▇▇▇▇▇▇▇█▇█</td></tr><tr><td>train/f1</td><td>▁▂▄▆▅▅▅▆▆▅▆▇▅▆▇▆▇▆▆▆▇▆▇▆▇▆▇▆▇▇▇▆▇▇▇▇▇▇▇█</td></tr><tr><td>train/loss</td><td>█▇▅▄▄▄▅▄▃▄▃▃▄▃▃▃▃▂▃▃▃▃▂▃▂▃▂▃▂▂▂▂▂▂▁▂▁▂▂▁</td></tr><tr><td>train_step</td><td>▁▁▁▁▂▂▂▂▂▃▃▃▃▃▃▄▄▄▄▄▅▅▅▅▅▅▆▆▆▆▆▇▇▇▇▇▇███</td></tr><tr><td>valid/accuracy</td><td>▁▂▅▅▂▅▆▅▇▇▇▆▆▅▅▇██▆▇</td></tr><tr><td>valid/f1</td><td>▃▆█▃▁▃▇▆█▅▇█▂▃▂█▇▅▄▅</td></tr><tr><td>valid/loss</td><td>█▆▃▁█▃▃▂▁▁▃▃▃▄▅▃▆▅▆█</td></tr><tr><td>valid/precision</td><td>▁▁▃▅▃▆▄▄▅▇▆▄█▆▇▆██▇█</td></tr><tr><td>valid/recall</td><td>▅██▃▃▃▇▆▆▃▅▇▁▂▁▆▄▃▂▃</td></tr><tr><td>valid/vote_accuracy</td><td>▁▂▅▅▂▅▅▅▇▇▇▆▆▅▆▇██▆▇</td></tr><tr><td>valid/vote_f1</td><td>▃▆█▃▁▄▇▆█▅▇█▂▃▂█▇▆▄▅</td></tr><tr><td>valid/vote_precision</td><td>▁▁▃▅▃▆▄▄▅▇▆▄█▆▇▆██▇█</td></tr><tr><td>valid/vote_recall</td><td>▅██▃▃▃▇▆▆▃▅▇▁▂▁▆▄▃▂▃</td></tr></table><br/></div><div class=\"wandb-col\">\n",
       "<h3>Run summary:</h3><br/><table class=\"wandb\"><tr><td>epoch</td><td>19</td></tr><tr><td>train/f1</td><td>0.91497</td></tr><tr><td>train_step</td><td>4759</td></tr><tr><td>valid/vote_accuracy</td><td>0.69344</td></tr><tr><td>valid/vote_f1</td><td>0.70292</td></tr><tr><td>valid/vote_precision</td><td>0.68144</td></tr><tr><td>valid/vote_recall</td><td>0.72579</td></tr></table>\n",
       "</div></div>\n",
       "Synced 6 W&B file(s), 1 media file(s), 0 artifact file(s) and 0 other file(s)\n",
       "<br/>Synced <strong style=\"color:#cdcd00\">warm-moon-346</strong>: <a href=\"https://wandb.ai/nlpetroni/assignment-two/runs/32env9mu\" target=\"_blank\">https://wandb.ai/nlpetroni/assignment-two/runs/32env9mu</a><br/>\n",
       "Find logs at: <code>./wandb/run-20211214_181729-32env9mu/logs</code><br/>\n"
      ],
      "text/plain": [
       "<IPython.core.display.HTML object>"
      ]
     },
     "metadata": {},
     "output_type": "display_data"
    }
   ],
   "source": [
    "# elman\n",
    "model = train(optimizer='adam', lr=lr, device=device, n_epochs=epochs, verbose=False, tags=[tag],\n",
    "              batch_size=batch_size, encoder='rnn', merger='concatenation', rnn_type='elman',\n",
    "              rnn_output='last', rec_size=rec_size, hid_size=hid_size, cosine_similarity=False)\n",
    "torch.save(model.state_dict(), os.path.join(out_dir, 'rnn_last.pth'))"
   ]
  },
  {
   "cell_type": "code",
   "execution_count": 18,
   "metadata": {
    "id": "_d9YmAkseDzD",
    "pycharm": {
     "name": "#%%\n"
    }
   },
   "outputs": [
    {
     "name": "stderr",
     "output_type": "stream",
     "text": [
      "\u001B[34m\u001B[1mwandb\u001B[0m: \u001B[33mWARNING\u001B[0m If you're specifying your api key in code, ensure this code is not shared publically.\n",
      "\u001B[34m\u001B[1mwandb\u001B[0m: \u001B[33mWARNING\u001B[0m Consider setting the WANDB_API_KEY environment variable, or running `wandb login` from the command line.\n",
      "\u001B[34m\u001B[1mwandb\u001B[0m: Appending key for api.wandb.ai to your netrc file: /home/diego/.netrc\n"
     ]
    },
    {
     "data": {
      "text/html": [
       "\n",
       "                    Syncing run <strong><a href=\"https://wandb.ai/nlpetroni/assignment-two/runs/htnl9b4g\" target=\"_blank\">revived-wood-347</a></strong> to <a href=\"https://wandb.ai/nlpetroni/assignment-two\" target=\"_blank\">Weights & Biases</a> (<a href=\"https://docs.wandb.com/integrations/jupyter.html\" target=\"_blank\">docs</a>).<br/>\n",
       "\n",
       "                "
      ],
      "text/plain": [
       "<IPython.core.display.HTML object>"
      ]
     },
     "metadata": {},
     "output_type": "display_data"
    },
    {
     "name": "stdout",
     "output_type": "stream",
     "text": [
      "The vocabulary is already present. Loading it... Done!\n",
      "The embedding matrix are already present. Loading it... Done!\n"
     ]
    },
    {
     "name": "stderr",
     "output_type": "stream",
     "text": [
      "\u001B[34m\u001B[1mwandb\u001B[0m: logging graph, to disable use `wandb.watch(log_graph=False)`\n",
      "/home/diego/miniconda3/envs/nlp/lib/python3.9/site-packages/sklearn/metrics/_classification.py:1308: UndefinedMetricWarning: Precision is ill-defined and being set to 0.0 due to no predicted samples. Use `zero_division` parameter to control this behavior.\n",
      "  _warn_prf(average, modifier, msg_start, len(result))\n"
     ]
    },
    {
     "name": "stdout",
     "output_type": "stream",
     "text": [
      "STARTING TRAINING\n",
      "Evaluation metrics are computed on validation set\n",
      "\n",
      "EPOCHS | TRAIN LOSS | VALID LOSS | ACCURACY | PRECISION | RECALL |  F1   | V_ACC | V_PREC | V_REC | V_F1\n",
      "[00/20]|      0.513 |      0.575 |    0.694 |     0.652 |  0.842 | 0.735 | 0.692 |  0.649 | 0.836 | 0.731\n",
      "[01/20]|      0.402 |      0.544 |    0.713 |     0.649 |  0.936 | 0.767 | 0.711 |  0.646 | 0.932 | 0.763\n",
      "[02/20]|      0.378 |      0.556 |    0.710 |     0.642 |  0.961 | 0.769 | 0.708 |  0.639 | 0.958 | 0.766\n",
      "[03/20]|      0.361 |      0.539 |    0.726 |     0.657 |  0.955 | 0.778 | 0.724 |  0.653 | 0.952 | 0.775\n",
      "[04/20]|      0.347 |      0.589 |    0.712 |     0.643 |  0.963 | 0.771 | 0.710 |  0.640 | 0.962 | 0.768\n",
      "[05/20]|      0.334 |      0.624 |    0.715 |     0.644 |  0.973 | 0.775 | 0.713 |  0.640 | 0.972 | 0.772\n",
      "[06/20]|      0.324 |      0.593 |    0.722 |     0.652 |  0.960 | 0.777 | 0.722 |  0.650 | 0.959 | 0.775\n",
      "[07/20]|      0.315 |      0.552 |    0.735 |     0.664 |  0.956 | 0.784 | 0.733 |  0.661 | 0.954 | 0.781\n",
      "[08/20]|      0.304 |      0.567 |    0.740 |     0.669 |  0.960 | 0.788 | 0.740 |  0.667 | 0.959 | 0.786\n",
      "[09/20]|      0.295 |      0.592 |    0.728 |     0.657 |  0.960 | 0.780 | 0.726 |  0.654 | 0.959 | 0.778\n",
      "[10/20]|      0.287 |      0.605 |    0.727 |     0.658 |  0.958 | 0.780 | 0.727 |  0.655 | 0.957 | 0.778\n",
      "[11/20]|      0.279 |      0.583 |    0.736 |     0.666 |  0.952 | 0.784 | 0.736 |  0.665 | 0.951 | 0.783\n",
      "[12/20]|      0.270 |      0.591 |    0.737 |     0.668 |  0.947 | 0.784 | 0.736 |  0.666 | 0.946 | 0.781\n",
      "[13/20]|      0.262 |      0.582 |    0.744 |     0.675 |  0.946 | 0.788 | 0.742 |  0.673 | 0.944 | 0.786\n",
      "[14/20]|      0.252 |      0.648 |    0.741 |     0.673 |  0.945 | 0.786 | 0.741 |  0.671 | 0.943 | 0.784\n",
      "[15/20]|      0.245 |      0.616 |    0.748 |     0.681 |  0.937 | 0.789 | 0.747 |  0.679 | 0.935 | 0.787\n",
      "[16/20]|      0.238 |      0.620 |    0.745 |     0.680 |  0.934 | 0.787 | 0.745 |  0.678 | 0.932 | 0.785\n",
      "[17/20]|      0.229 |      0.645 |    0.747 |     0.685 |  0.919 | 0.785 | 0.746 |  0.683 | 0.917 | 0.783\n",
      "[18/20]|      0.221 |      0.696 |    0.743 |     0.676 |  0.943 | 0.787 | 0.742 |  0.673 | 0.941 | 0.785\n",
      "[19/20]|      0.213 |      0.683 |    0.748 |     0.681 |  0.937 | 0.789 | 0.748 |  0.680 | 0.936 | 0.788\n"
     ]
    },
    {
     "data": {
      "text/html": [
       "<br/>Waiting for W&B process to finish, PID 7712... <strong style=\"color:green\">(success).</strong>"
      ],
      "text/plain": [
       "<IPython.core.display.HTML object>"
      ]
     },
     "metadata": {},
     "output_type": "display_data"
    },
    {
     "data": {
      "application/vnd.jupyter.widget-view+json": {
       "model_id": "66bf3b78780b4e4fabcab1cb294a0c50",
       "version_major": 2,
       "version_minor": 0
      },
      "text/plain": [
       "VBox(children=(Label(value=' 0.00MB of 0.00MB uploaded (0.00MB deduped)\\r'), FloatProgress(value=1.0, max=1.0)…"
      ]
     },
     "metadata": {},
     "output_type": "display_data"
    },
    {
     "data": {
      "text/html": [
       "<style>\n",
       "    table.wandb td:nth-child(1) { padding: 0 10px; text-align: right }\n",
       "    .wandb-row { display: flex; flex-direction: row; flex-wrap: wrap; width: 100% }\n",
       "    .wandb-col { display: flex; flex-direction: column; flex-basis: 100%; flex: 1; padding: 10px; }\n",
       "    </style>\n",
       "<div class=\"wandb-row\"><div class=\"wandb-col\">\n",
       "<h3>Run history:</h3><br/><table class=\"wandb\"><tr><td>epoch</td><td>▁▁▁▁▂▂▂▂▂▂▃▃▃▃▄▄▄▄▄▄▅▅▅▅▅▅▆▆▆▆▇▇▇▇▇▇████</td></tr><tr><td>train/accuracy</td><td>▁▃▅▅▅▅▆▆▅▇▅▆▆▆▇▇▆▆▆▆▇▇▇█▆▇█▇▇▇▇▆▇█▇████▇</td></tr><tr><td>train/f1</td><td>▁▂▅▄▄▅▅▆▅▇▅▆▆▅▇▇▆▆▆▆▇▆▇█▆▇█▆▇▇▇▆▇█▇▇███▆</td></tr><tr><td>train/loss</td><td>█▆▅▄▄▄▃▄▄▃▄▃▂▃▂▂▃▃▃▃▂▃▂▁▂▂▁▃▂▂▂▂▂▁▂▂▁▁▁▂</td></tr><tr><td>train_step</td><td>▁▁▁▁▂▂▂▂▂▃▃▃▃▃▃▄▄▄▄▄▅▅▅▅▅▅▆▆▆▆▆▇▇▇▇▇▇███</td></tr><tr><td>valid/accuracy</td><td>▁▃▃▅▃▄▅▆▇▅▅▆▇▇▇███▇█</td></tr><tr><td>valid/f1</td><td>▁▅▅▇▆▆▆▇█▇▇▇▇████▇██</td></tr><tr><td>valid/loss</td><td>▃▁▂▁▃▅▃▂▂▃▄▃▃▃▆▄▅▆█▇</td></tr><tr><td>valid/precision</td><td>▃▂▁▃▁▁▃▅▅▄▄▅▅▆▆▇▇█▆▇</td></tr><tr><td>valid/recall</td><td>▁▆▇▇▇█▇▇▇▇▇▇▇▇▆▆▆▅▆▆</td></tr><tr><td>valid/vote_accuracy</td><td>▁▃▃▅▃▄▅▆▇▅▅▆▆▇▇███▇█</td></tr><tr><td>valid/vote_f1</td><td>▁▅▅▆▆▆▆▇█▇▇▇▇████▇██</td></tr><tr><td>valid/vote_precision</td><td>▃▂▁▃▁▁▃▅▅▃▄▅▅▆▆▇▇█▆█</td></tr><tr><td>valid/vote_recall</td><td>▁▆▇▇▇█▇▇▇▇▇▇▇▇▇▆▆▅▆▆</td></tr></table><br/></div><div class=\"wandb-col\">\n",
       "<h3>Run summary:</h3><br/><table class=\"wandb\"><tr><td>epoch</td><td>19</td></tr><tr><td>train/f1</td><td>0.94118</td></tr><tr><td>train_step</td><td>4759</td></tr><tr><td>valid/vote_accuracy</td><td>0.74788</td></tr><tr><td>valid/vote_f1</td><td>0.78762</td></tr><tr><td>valid/vote_precision</td><td>0.68009</td></tr><tr><td>valid/vote_recall</td><td>0.93553</td></tr></table>\n",
       "</div></div>\n",
       "Synced 6 W&B file(s), 1 media file(s), 0 artifact file(s) and 0 other file(s)\n",
       "<br/>Synced <strong style=\"color:#cdcd00\">revived-wood-347</strong>: <a href=\"https://wandb.ai/nlpetroni/assignment-two/runs/htnl9b4g\" target=\"_blank\">https://wandb.ai/nlpetroni/assignment-two/runs/htnl9b4g</a><br/>\n",
       "Find logs at: <code>./wandb/run-20211214_182430-htnl9b4g/logs</code><br/>\n"
      ],
      "text/plain": [
       "<IPython.core.display.HTML object>"
      ]
     },
     "metadata": {},
     "output_type": "display_data"
    }
   ],
   "source": [
    "# lstm\n",
    "model = train(optimizer='adam', lr=lr, device=device, n_epochs=epochs, verbose=False, tags=[tag],\n",
    "                        batch_size=batch_size, encoder='rnn', merger='concatenation', rnn_type='lstm',\n",
    "                        rnn_output='last', rec_size=rec_size, hid_size=hid_size, cosine_similarity=False)\n",
    "torch.save(model.state_dict(), os.path.join(out_dir, 'lstm_last.pth'))"
   ]
  },
  {
   "cell_type": "code",
   "execution_count": 19,
   "metadata": {
    "id": "qL3ULPDxeDzE",
    "pycharm": {
     "name": "#%%\n"
    }
   },
   "outputs": [
    {
     "name": "stderr",
     "output_type": "stream",
     "text": [
      "\u001B[34m\u001B[1mwandb\u001B[0m: \u001B[33mWARNING\u001B[0m If you're specifying your api key in code, ensure this code is not shared publically.\n",
      "\u001B[34m\u001B[1mwandb\u001B[0m: \u001B[33mWARNING\u001B[0m Consider setting the WANDB_API_KEY environment variable, or running `wandb login` from the command line.\n",
      "\u001B[34m\u001B[1mwandb\u001B[0m: Appending key for api.wandb.ai to your netrc file: /home/diego/.netrc\n"
     ]
    },
    {
     "data": {
      "text/html": [
       "\n",
       "                    Syncing run <strong><a href=\"https://wandb.ai/nlpetroni/assignment-two/runs/3q3tb7do\" target=\"_blank\">fresh-sky-348</a></strong> to <a href=\"https://wandb.ai/nlpetroni/assignment-two\" target=\"_blank\">Weights & Biases</a> (<a href=\"https://docs.wandb.com/integrations/jupyter.html\" target=\"_blank\">docs</a>).<br/>\n",
       "\n",
       "                "
      ],
      "text/plain": [
       "<IPython.core.display.HTML object>"
      ]
     },
     "metadata": {},
     "output_type": "display_data"
    },
    {
     "name": "stdout",
     "output_type": "stream",
     "text": [
      "The vocabulary is already present. Loading it... Done!\n",
      "The embedding matrix are already present. Loading it... Done!\n"
     ]
    },
    {
     "name": "stderr",
     "output_type": "stream",
     "text": [
      "\u001B[34m\u001B[1mwandb\u001B[0m: logging graph, to disable use `wandb.watch(log_graph=False)`\n"
     ]
    },
    {
     "name": "stdout",
     "output_type": "stream",
     "text": [
      "STARTING TRAINING\n",
      "Evaluation metrics are computed on validation set\n",
      "\n",
      "EPOCHS | TRAIN LOSS | VALID LOSS | ACCURACY | PRECISION | RECALL |  F1   | V_ACC | V_PREC | V_REC | V_F1\n",
      "[00/20]|      0.479 |      0.616 |    0.682 |     0.618 |  0.966 | 0.754 | 0.680 |  0.615 | 0.964 | 0.751\n",
      "[01/20]|      0.390 |      0.571 |    0.702 |     0.635 |  0.963 | 0.765 | 0.700 |  0.631 | 0.961 | 0.762\n",
      "[02/20]|      0.366 |      0.555 |    0.708 |     0.640 |  0.965 | 0.769 | 0.706 |  0.636 | 0.962 | 0.766\n",
      "[03/20]|      0.351 |      0.542 |    0.724 |     0.653 |  0.966 | 0.779 | 0.722 |  0.649 | 0.964 | 0.776\n",
      "[04/20]|      0.339 |      0.626 |    0.708 |     0.637 |  0.978 | 0.772 | 0.706 |  0.634 | 0.976 | 0.769\n",
      "[05/20]|      0.327 |      0.566 |    0.724 |     0.653 |  0.966 | 0.779 | 0.722 |  0.650 | 0.965 | 0.776\n",
      "[06/20]|      0.317 |      0.537 |    0.735 |     0.666 |  0.951 | 0.784 | 0.734 |  0.663 | 0.949 | 0.781\n",
      "[07/20]|      0.307 |      0.550 |    0.729 |     0.658 |  0.961 | 0.781 | 0.727 |  0.655 | 0.959 | 0.778\n",
      "[08/20]|      0.296 |      0.600 |    0.723 |     0.653 |  0.965 | 0.778 | 0.722 |  0.650 | 0.964 | 0.776\n",
      "[09/20]|      0.286 |      0.577 |    0.734 |     0.662 |  0.962 | 0.785 | 0.732 |  0.659 | 0.960 | 0.782\n",
      "[10/20]|      0.276 |      0.564 |    0.739 |     0.668 |  0.956 | 0.787 | 0.738 |  0.666 | 0.954 | 0.784\n",
      "[11/20]|      0.266 |      0.607 |    0.736 |     0.666 |  0.954 | 0.784 | 0.734 |  0.663 | 0.952 | 0.781\n",
      "[12/20]|      0.258 |      0.589 |    0.742 |     0.673 |  0.951 | 0.788 | 0.740 |  0.669 | 0.949 | 0.785\n",
      "[13/20]|      0.248 |      0.609 |    0.737 |     0.668 |  0.951 | 0.785 | 0.736 |  0.665 | 0.951 | 0.783\n",
      "[14/20]|      0.238 |      0.636 |    0.739 |     0.671 |  0.946 | 0.785 | 0.739 |  0.669 | 0.945 | 0.784\n",
      "[15/20]|      0.229 |      0.661 |    0.736 |     0.667 |  0.953 | 0.784 | 0.735 |  0.664 | 0.951 | 0.782\n",
      "[16/20]|      0.220 |      0.652 |    0.737 |     0.669 |  0.944 | 0.783 | 0.736 |  0.667 | 0.942 | 0.781\n",
      "[17/20]|      0.211 |      0.616 |    0.736 |     0.674 |  0.924 | 0.779 | 0.735 |  0.671 | 0.921 | 0.777\n",
      "[18/20]|      0.203 |      0.678 |    0.737 |     0.673 |  0.930 | 0.781 | 0.736 |  0.671 | 0.928 | 0.779\n",
      "[19/20]|      0.193 |      0.747 |    0.734 |     0.667 |  0.940 | 0.781 | 0.734 |  0.666 | 0.939 | 0.779\n"
     ]
    },
    {
     "data": {
      "text/html": [
       "<br/>Waiting for W&B process to finish, PID 7849... <strong style=\"color:green\">(success).</strong>"
      ],
      "text/plain": [
       "<IPython.core.display.HTML object>"
      ]
     },
     "metadata": {},
     "output_type": "display_data"
    },
    {
     "data": {
      "application/vnd.jupyter.widget-view+json": {
       "model_id": "3200c3f4560d4a789696df27c639dc57",
       "version_major": 2,
       "version_minor": 0
      },
      "text/plain": [
       "VBox(children=(Label(value=' 0.00MB of 0.00MB uploaded (0.00MB deduped)\\r'), FloatProgress(value=1.0, max=1.0)…"
      ]
     },
     "metadata": {},
     "output_type": "display_data"
    },
    {
     "data": {
      "text/html": [
       "<style>\n",
       "    table.wandb td:nth-child(1) { padding: 0 10px; text-align: right }\n",
       "    .wandb-row { display: flex; flex-direction: row; flex-wrap: wrap; width: 100% }\n",
       "    .wandb-col { display: flex; flex-direction: column; flex-basis: 100%; flex: 1; padding: 10px; }\n",
       "    </style>\n",
       "<div class=\"wandb-row\"><div class=\"wandb-col\">\n",
       "<h3>Run history:</h3><br/><table class=\"wandb\"><tr><td>epoch</td><td>▁▁▁▁▂▂▂▂▂▂▃▃▃▃▄▄▄▄▄▄▅▅▅▅▅▅▆▆▆▆▇▇▇▇▇▇████</td></tr><tr><td>train/accuracy</td><td>▁▃▄▄▅▆▅▅▅▅▅▆▆▄▆▅▅▆▅▅▇▆▆▆▆▆▇▇▇▆▆▇▇▆█▇▇▆█▇</td></tr><tr><td>train/f1</td><td>▁▂▃▄▅▆▅▅▄▄▅▆▅▄▆▄▄▅▅▅▆▅▅▅▆▆▇▆▇▆▆▇▇▆█▆▇▆█▇</td></tr><tr><td>train/loss</td><td>█▇▆▆▅▅▄▅▅▅▄▄▄▅▄▅▅▄▄▄▃▃▃▃▄▃▂▃▂▃▃▂▂▃▂▃▂▃▁▂</td></tr><tr><td>train_step</td><td>▁▁▁▁▂▂▂▂▂▃▃▃▃▃▃▄▄▄▄▄▅▅▅▅▅▅▆▆▆▆▆▇▇▇▇▇▇███</td></tr><tr><td>valid/accuracy</td><td>▁▃▄▆▄▆▇▆▆▇█▇█▇█▇▇▇▇▇</td></tr><tr><td>valid/f1</td><td>▁▃▄▆▅▆▇▇▆▇█▇█▇▇▇▇▆▇▆</td></tr><tr><td>valid/loss</td><td>▄▂▂▁▄▂▁▁▃▂▂▃▃▃▄▅▅▄▆█</td></tr><tr><td>valid/precision</td><td>▁▃▄▅▃▅▇▆▅▇▇▇█▇█▇▇██▇</td></tr><tr><td>valid/recall</td><td>▇▆▆▆█▆▄▆▆▆▅▅▅▅▄▅▄▁▂▃</td></tr><tr><td>valid/vote_accuracy</td><td>▁▃▄▆▄▆▇▆▆▇█▇███▇█▇█▇</td></tr><tr><td>valid/vote_f1</td><td>▁▃▄▆▅▆▇▇▆▇█▇███▇▇▆▇▇</td></tr><tr><td>valid/vote_precision</td><td>▁▃▄▅▃▅▇▆▅▇▇▇█▇█▇███▇</td></tr><tr><td>valid/vote_recall</td><td>▆▆▆▆█▇▄▆▆▆▅▅▅▅▄▅▄▁▂▃</td></tr></table><br/></div><div class=\"wandb-col\">\n",
       "<h3>Run summary:</h3><br/><table class=\"wandb\"><tr><td>epoch</td><td>19</td></tr><tr><td>train/f1</td><td>0.93718</td></tr><tr><td>train_step</td><td>4759</td></tr><tr><td>valid/vote_accuracy</td><td>0.73367</td></tr><tr><td>valid/vote_f1</td><td>0.77885</td></tr><tr><td>valid/vote_precision</td><td>0.66559</td></tr><tr><td>valid/vote_recall</td><td>0.93856</td></tr></table>\n",
       "</div></div>\n",
       "Synced 6 W&B file(s), 1 media file(s), 0 artifact file(s) and 0 other file(s)\n",
       "<br/>Synced <strong style=\"color:#cdcd00\">fresh-sky-348</strong>: <a href=\"https://wandb.ai/nlpetroni/assignment-two/runs/3q3tb7do\" target=\"_blank\">https://wandb.ai/nlpetroni/assignment-two/runs/3q3tb7do</a><br/>\n",
       "Find logs at: <code>./wandb/run-20211214_183327-3q3tb7do/logs</code><br/>\n"
      ],
      "text/plain": [
       "<IPython.core.display.HTML object>"
      ]
     },
     "metadata": {},
     "output_type": "display_data"
    }
   ],
   "source": [
    "# gru\n",
    "model = train(optimizer='adam', lr=lr, device=device, n_epochs=epochs, verbose=False, tags=[tag],\n",
    "                       batch_size=batch_size, encoder='rnn', merger='concatenation', rnn_type='gru',\n",
    "                       rnn_output='last', rec_size=rec_size, hid_size=hid_size, cosine_similarity=False)\n",
    "torch.save(model.state_dict(), os.path.join(out_dir, 'gru_last.pth'))"
   ]
  },
  {
   "cell_type": "markdown",
   "metadata": {
    "collapsed": false,
    "id": "CGR2DD7veDzF"
   },
   "source": [
    "### Average of all the output states of a RNN"
   ]
  },
  {
   "cell_type": "code",
   "execution_count": 20,
   "metadata": {
    "id": "uBAiGI3PeDzF",
    "pycharm": {
     "name": "#%%\n"
    }
   },
   "outputs": [
    {
     "name": "stderr",
     "output_type": "stream",
     "text": [
      "\u001B[34m\u001B[1mwandb\u001B[0m: \u001B[33mWARNING\u001B[0m If you're specifying your api key in code, ensure this code is not shared publically.\n",
      "\u001B[34m\u001B[1mwandb\u001B[0m: \u001B[33mWARNING\u001B[0m Consider setting the WANDB_API_KEY environment variable, or running `wandb login` from the command line.\n",
      "\u001B[34m\u001B[1mwandb\u001B[0m: Appending key for api.wandb.ai to your netrc file: /home/diego/.netrc\n"
     ]
    },
    {
     "data": {
      "text/html": [
       "\n",
       "                    Syncing run <strong><a href=\"https://wandb.ai/nlpetroni/assignment-two/runs/2mz9b840\" target=\"_blank\">bright-capybara-349</a></strong> to <a href=\"https://wandb.ai/nlpetroni/assignment-two\" target=\"_blank\">Weights & Biases</a> (<a href=\"https://docs.wandb.com/integrations/jupyter.html\" target=\"_blank\">docs</a>).<br/>\n",
       "\n",
       "                "
      ],
      "text/plain": [
       "<IPython.core.display.HTML object>"
      ]
     },
     "metadata": {},
     "output_type": "display_data"
    },
    {
     "name": "stdout",
     "output_type": "stream",
     "text": [
      "The vocabulary is already present. Loading it... Done!\n",
      "The embedding matrix are already present. Loading it... Done!\n"
     ]
    },
    {
     "name": "stderr",
     "output_type": "stream",
     "text": [
      "\u001B[34m\u001B[1mwandb\u001B[0m: logging graph, to disable use `wandb.watch(log_graph=False)`\n",
      "/home/diego/miniconda3/envs/nlp/lib/python3.9/site-packages/sklearn/metrics/_classification.py:1308: UndefinedMetricWarning: Precision is ill-defined and being set to 0.0 due to no predicted samples. Use `zero_division` parameter to control this behavior.\n",
      "  _warn_prf(average, modifier, msg_start, len(result))\n"
     ]
    },
    {
     "name": "stdout",
     "output_type": "stream",
     "text": [
      "STARTING TRAINING\n",
      "Evaluation metrics are computed on validation set\n",
      "\n",
      "EPOCHS | TRAIN LOSS | VALID LOSS | ACCURACY | PRECISION | RECALL |  F1   | V_ACC | V_PREC | V_REC | V_F1\n",
      "[00/20]|      0.532 |      0.669 |    0.653 |     0.614 |  0.840 | 0.709 | 0.653 |  0.612 | 0.832 | 0.705\n",
      "[01/20]|      0.451 |      0.641 |    0.674 |     0.625 |  0.880 | 0.731 | 0.672 |  0.623 | 0.873 | 0.727\n",
      "[02/20]|      0.422 |      0.620 |    0.702 |     0.679 |  0.775 | 0.724 | 0.700 |  0.678 | 0.763 | 0.718\n",
      "[03/20]|      0.403 |      0.600 |    0.697 |     0.645 |  0.883 | 0.746 | 0.694 |  0.642 | 0.876 | 0.741\n",
      "[04/20]|      0.406 |      0.579 |    0.719 |     0.690 |  0.802 | 0.742 | 0.717 |  0.689 | 0.790 | 0.736\n",
      "[05/20]|      0.384 |      0.582 |    0.711 |     0.683 |  0.795 | 0.735 | 0.708 |  0.681 | 0.783 | 0.728\n",
      "[06/20]|      0.377 |      0.596 |    0.713 |     0.665 |  0.869 | 0.753 | 0.712 |  0.663 | 0.862 | 0.749\n",
      "[07/20]|      0.371 |      0.572 |    0.714 |     0.675 |  0.834 | 0.746 | 0.711 |  0.672 | 0.824 | 0.740\n",
      "[08/20]|      0.364 |      0.547 |    0.721 |     0.688 |  0.818 | 0.747 | 0.719 |  0.686 | 0.808 | 0.742\n",
      "[09/20]|      0.357 |      0.568 |    0.724 |     0.705 |  0.777 | 0.739 | 0.721 |  0.703 | 0.766 | 0.733\n",
      "[10/20]|      0.353 |      0.554 |    0.719 |     0.693 |  0.795 | 0.740 | 0.716 |  0.690 | 0.784 | 0.734\n",
      "[11/20]|      0.350 |      0.559 |    0.725 |     0.687 |  0.833 | 0.753 | 0.722 |  0.684 | 0.824 | 0.748\n",
      "[12/20]|      0.344 |      0.557 |    0.721 |     0.698 |  0.787 | 0.740 | 0.719 |  0.695 | 0.777 | 0.734\n",
      "[13/20]|      0.338 |      0.564 |    0.721 |     0.685 |  0.827 | 0.749 | 0.719 |  0.682 | 0.818 | 0.744\n",
      "[14/20]|      0.333 |      0.561 |    0.727 |     0.698 |  0.809 | 0.749 | 0.724 |  0.695 | 0.797 | 0.742\n",
      "[15/20]|      0.329 |      0.597 |    0.725 |     0.683 |  0.849 | 0.757 | 0.722 |  0.680 | 0.840 | 0.751\n",
      "[16/20]|      0.323 |      0.543 |    0.720 |     0.697 |  0.786 | 0.739 | 0.717 |  0.695 | 0.774 | 0.733\n",
      "[17/20]|      0.321 |      0.552 |    0.723 |     0.693 |  0.808 | 0.746 | 0.721 |  0.691 | 0.799 | 0.741\n",
      "[18/20]|      0.316 |      0.581 |    0.725 |     0.692 |  0.821 | 0.751 | 0.722 |  0.689 | 0.809 | 0.744\n",
      "[19/20]|      0.310 |      0.563 |    0.725 |     0.704 |  0.785 | 0.742 | 0.723 |  0.702 | 0.773 | 0.736\n"
     ]
    },
    {
     "data": {
      "text/html": [
       "<br/>Waiting for W&B process to finish, PID 8064... <strong style=\"color:green\">(success).</strong>"
      ],
      "text/plain": [
       "<IPython.core.display.HTML object>"
      ]
     },
     "metadata": {},
     "output_type": "display_data"
    },
    {
     "data": {
      "application/vnd.jupyter.widget-view+json": {
       "model_id": "18d705d6f41a4cc4afc7e112598c0dc7",
       "version_major": 2,
       "version_minor": 0
      },
      "text/plain": [
       "VBox(children=(Label(value=' 0.00MB of 0.00MB uploaded (0.00MB deduped)\\r'), FloatProgress(value=1.0, max=1.0)…"
      ]
     },
     "metadata": {},
     "output_type": "display_data"
    },
    {
     "data": {
      "text/html": [
       "<style>\n",
       "    table.wandb td:nth-child(1) { padding: 0 10px; text-align: right }\n",
       "    .wandb-row { display: flex; flex-direction: row; flex-wrap: wrap; width: 100% }\n",
       "    .wandb-col { display: flex; flex-direction: column; flex-basis: 100%; flex: 1; padding: 10px; }\n",
       "    </style>\n",
       "<div class=\"wandb-row\"><div class=\"wandb-col\">\n",
       "<h3>Run history:</h3><br/><table class=\"wandb\"><tr><td>epoch</td><td>▁▁▁▁▂▂▂▂▂▂▃▃▃▃▄▄▄▄▄▄▅▅▅▅▅▅▆▆▆▆▇▇▇▇▇▇████</td></tr><tr><td>train/accuracy</td><td>▁▁▄▄▄▅▅▅▆▆▆▆▅▇▅▇▅▇▅▆█▅▇▆▆▇▆▇▇▇▇▆▇▇▇▇█▆▇█</td></tr><tr><td>train/f1</td><td>▁▁▄▄▄▅▄▄▅▆▆▆▄▇▄▆▅▇▅▅█▅▇▆▆▆▆▇█▇▇▆▇▇█▇█▆▇█</td></tr><tr><td>train/loss</td><td>█▇▅▅▅▄▅▄▄▃▃▄▄▃▄▂▅▃▃▃▂▄▂▂▂▃▃▂▁▂▂▃▂▂▁▂▁▃▁▁</td></tr><tr><td>train_step</td><td>▁▁▁▁▂▂▂▂▂▃▃▃▃▃▃▄▄▄▄▄▅▅▅▅▅▅▆▆▆▆▆▇▇▇▇▇▇███</td></tr><tr><td>valid/accuracy</td><td>▁▃▆▅▇▆▇▇▇█▇█▇▇██▇███</td></tr><tr><td>valid/f1</td><td>▁▄▃▆▆▅▇▆▇▅▆▇▅▇▇█▅▆▇▆</td></tr><tr><td>valid/loss</td><td>█▆▅▄▃▃▄▃▁▂▂▂▂▂▂▄▁▁▃▂</td></tr><tr><td>valid/precision</td><td>▁▂▆▃▇▆▅▆▇█▇▇▇▆▇▆▇▇▇█</td></tr><tr><td>valid/recall</td><td>▅█▁█▃▂▇▅▄▁▂▅▂▄▃▆▂▃▄▂</td></tr><tr><td>valid/vote_accuracy</td><td>▁▃▆▅▇▆▇▇██▇█▇▇██▇███</td></tr><tr><td>valid/vote_f1</td><td>▁▄▃▆▆▅█▆▇▅▅▇▅▇▇█▅▆▇▆</td></tr><tr><td>valid/vote_precision</td><td>▁▂▆▃▇▆▅▆▇█▇▇▇▆▇▆▇▇▇█</td></tr><tr><td>valid/vote_recall</td><td>▅█▁█▃▂▇▅▄▁▂▅▂▄▃▆▂▃▄▂</td></tr></table><br/></div><div class=\"wandb-col\">\n",
       "<h3>Run summary:</h3><br/><table class=\"wandb\"><tr><td>epoch</td><td>19</td></tr><tr><td>train/f1</td><td>0.91228</td></tr><tr><td>train_step</td><td>4759</td></tr><tr><td>valid/vote_accuracy</td><td>0.72278</td></tr><tr><td>valid/vote_f1</td><td>0.73592</td></tr><tr><td>valid/vote_precision</td><td>0.70223</td></tr><tr><td>valid/vote_recall</td><td>0.773</td></tr></table>\n",
       "</div></div>\n",
       "Synced 6 W&B file(s), 1 media file(s), 0 artifact file(s) and 0 other file(s)\n",
       "<br/>Synced <strong style=\"color:#cdcd00\">bright-capybara-349</strong>: <a href=\"https://wandb.ai/nlpetroni/assignment-two/runs/2mz9b840\" target=\"_blank\">https://wandb.ai/nlpetroni/assignment-two/runs/2mz9b840</a><br/>\n",
       "Find logs at: <code>./wandb/run-20211214_184156-2mz9b840/logs</code><br/>\n"
      ],
      "text/plain": [
       "<IPython.core.display.HTML object>"
      ]
     },
     "metadata": {},
     "output_type": "display_data"
    }
   ],
   "source": [
    "# elman\n",
    "model = train(optimizer='adam', lr=lr, device=device, n_epochs=epochs, verbose=False, tags=[tag],\n",
    "                        batch_size=batch_size, encoder='rnn', merger='concatenation', rnn_type='elman',\n",
    "                        rnn_output='avg', rec_size=rec_size, hid_size=hid_size, cosine_similarity=False)\n",
    "torch.save(model.state_dict(), os.path.join(out_dir, 'rnn_avg.pth'))"
   ]
  },
  {
   "cell_type": "code",
   "execution_count": 21,
   "metadata": {
    "id": "iD9H5FwaeDzG",
    "pycharm": {
     "name": "#%%\n"
    }
   },
   "outputs": [
    {
     "name": "stderr",
     "output_type": "stream",
     "text": [
      "\u001B[34m\u001B[1mwandb\u001B[0m: \u001B[33mWARNING\u001B[0m If you're specifying your api key in code, ensure this code is not shared publically.\n",
      "\u001B[34m\u001B[1mwandb\u001B[0m: \u001B[33mWARNING\u001B[0m Consider setting the WANDB_API_KEY environment variable, or running `wandb login` from the command line.\n",
      "\u001B[34m\u001B[1mwandb\u001B[0m: Appending key for api.wandb.ai to your netrc file: /home/diego/.netrc\n"
     ]
    },
    {
     "data": {
      "text/html": [
       "\n",
       "                    Syncing run <strong><a href=\"https://wandb.ai/nlpetroni/assignment-two/runs/2sm1aeg5\" target=\"_blank\">driven-dragon-350</a></strong> to <a href=\"https://wandb.ai/nlpetroni/assignment-two\" target=\"_blank\">Weights & Biases</a> (<a href=\"https://docs.wandb.com/integrations/jupyter.html\" target=\"_blank\">docs</a>).<br/>\n",
       "\n",
       "                "
      ],
      "text/plain": [
       "<IPython.core.display.HTML object>"
      ]
     },
     "metadata": {},
     "output_type": "display_data"
    },
    {
     "name": "stdout",
     "output_type": "stream",
     "text": [
      "The vocabulary is already present. Loading it... Done!\n",
      "The embedding matrix are already present. Loading it... Done!\n"
     ]
    },
    {
     "name": "stderr",
     "output_type": "stream",
     "text": [
      "\u001B[34m\u001B[1mwandb\u001B[0m: logging graph, to disable use `wandb.watch(log_graph=False)`\n"
     ]
    },
    {
     "name": "stdout",
     "output_type": "stream",
     "text": [
      "STARTING TRAINING\n",
      "Evaluation metrics are computed on validation set\n",
      "\n",
      "EPOCHS | TRAIN LOSS | VALID LOSS | ACCURACY | PRECISION | RECALL |  F1   | V_ACC | V_PREC | V_REC | V_F1\n",
      "[00/20]|      0.522 |      0.712 |    0.624 |     0.574 |  0.986 | 0.726 | 0.623 |  0.571 | 0.985 | 0.723\n",
      "[01/20]|      0.418 |      0.617 |    0.673 |     0.610 |  0.975 | 0.750 | 0.672 |  0.607 | 0.973 | 0.748\n",
      "[02/20]|      0.393 |      0.616 |    0.681 |     0.615 |  0.977 | 0.755 | 0.680 |  0.613 | 0.975 | 0.753\n",
      "[03/20]|      0.379 |      0.584 |    0.699 |     0.631 |  0.966 | 0.764 | 0.697 |  0.629 | 0.963 | 0.761\n",
      "[04/20]|      0.367 |      0.557 |    0.715 |     0.650 |  0.938 | 0.768 | 0.713 |  0.648 | 0.934 | 0.765\n",
      "[05/20]|      0.357 |      0.558 |    0.719 |     0.652 |  0.950 | 0.773 | 0.718 |  0.650 | 0.946 | 0.771\n",
      "[06/20]|      0.346 |      0.569 |    0.717 |     0.650 |  0.950 | 0.772 | 0.715 |  0.647 | 0.947 | 0.769\n",
      "[07/20]|      0.340 |      0.586 |    0.716 |     0.648 |  0.957 | 0.772 | 0.714 |  0.645 | 0.954 | 0.769\n",
      "[08/20]|      0.329 |      0.578 |    0.722 |     0.657 |  0.935 | 0.772 | 0.721 |  0.655 | 0.933 | 0.769\n",
      "[09/20]|      0.321 |      0.588 |    0.725 |     0.657 |  0.950 | 0.777 | 0.724 |  0.654 | 0.949 | 0.774\n",
      "[10/20]|      0.313 |      0.587 |    0.729 |     0.665 |  0.934 | 0.777 | 0.728 |  0.662 | 0.930 | 0.773\n",
      "[11/20]|      0.307 |      0.619 |    0.724 |     0.657 |  0.945 | 0.775 | 0.722 |  0.654 | 0.943 | 0.772\n",
      "[12/20]|      0.300 |      0.604 |    0.723 |     0.657 |  0.942 | 0.774 | 0.722 |  0.654 | 0.939 | 0.771\n",
      "[13/20]|      0.292 |      0.630 |    0.719 |     0.657 |  0.927 | 0.769 | 0.717 |  0.654 | 0.923 | 0.765\n",
      "[14/20]|      0.286 |      0.633 |    0.721 |     0.656 |  0.937 | 0.772 | 0.720 |  0.654 | 0.935 | 0.769\n",
      "[15/20]|      0.279 |      0.633 |    0.722 |     0.658 |  0.933 | 0.772 | 0.721 |  0.656 | 0.930 | 0.769\n",
      "[16/20]|      0.272 |      0.634 |    0.720 |     0.657 |  0.932 | 0.770 | 0.719 |  0.654 | 0.930 | 0.768\n",
      "[17/20]|      0.268 |      0.650 |    0.731 |     0.673 |  0.909 | 0.773 | 0.731 |  0.671 | 0.903 | 0.770\n",
      "[18/20]|      0.259 |      0.690 |    0.727 |     0.666 |  0.916 | 0.772 | 0.727 |  0.665 | 0.913 | 0.769\n",
      "[19/20]|      0.255 |      0.705 |    0.715 |     0.659 |  0.898 | 0.760 | 0.713 |  0.657 | 0.893 | 0.757\n"
     ]
    },
    {
     "data": {
      "text/html": [
       "<br/>Waiting for W&B process to finish, PID 8177... <strong style=\"color:green\">(success).</strong>"
      ],
      "text/plain": [
       "<IPython.core.display.HTML object>"
      ]
     },
     "metadata": {},
     "output_type": "display_data"
    },
    {
     "data": {
      "application/vnd.jupyter.widget-view+json": {
       "model_id": "9907224891d446b492e468f0e3fd06a1",
       "version_major": 2,
       "version_minor": 0
      },
      "text/plain": [
       "VBox(children=(Label(value=' 0.00MB of 0.00MB uploaded (0.00MB deduped)\\r'), FloatProgress(value=1.0, max=1.0)…"
      ]
     },
     "metadata": {},
     "output_type": "display_data"
    },
    {
     "data": {
      "text/html": [
       "<style>\n",
       "    table.wandb td:nth-child(1) { padding: 0 10px; text-align: right }\n",
       "    .wandb-row { display: flex; flex-direction: row; flex-wrap: wrap; width: 100% }\n",
       "    .wandb-col { display: flex; flex-direction: column; flex-basis: 100%; flex: 1; padding: 10px; }\n",
       "    </style>\n",
       "<div class=\"wandb-row\"><div class=\"wandb-col\">\n",
       "<h3>Run history:</h3><br/><table class=\"wandb\"><tr><td>epoch</td><td>▁▁▁▁▂▂▂▂▂▂▃▃▃▃▄▄▄▄▄▄▅▅▅▅▅▅▆▆▆▆▇▇▇▇▇▇████</td></tr><tr><td>train/accuracy</td><td>▁▁▂▅▃▆▄▅▆▄▆▆▅▆▄▅▇▄▇▆▆▆▆▅▆▆▆▆▆▆▆▆█▇▇▇▇▇▇▇</td></tr><tr><td>train/f1</td><td>▂▁▁▄▃▅▄▅▅▄▆▆▅▆▄▅▇▃▇▆▆▆▅▅▆▆▆▆▆▆▆▆█▇▇▇▆▆▇▇</td></tr><tr><td>train/loss</td><td>█▇▇▅▅▄▅▄▃▅▄▃▄▃▄▄▂▅▃▄▃▃▃▃▃▃▂▄▃▃▃▃▁▂▂▂▃▂▂▂</td></tr><tr><td>train_step</td><td>▁▁▁▁▂▂▂▂▂▃▃▃▃▃▃▄▄▄▄▄▅▅▅▅▅▅▆▆▆▆▆▇▇▇▇▇▇███</td></tr><tr><td>valid/accuracy</td><td>▁▄▅▆▇▇▇▇▇███▇▇▇▇▇██▇</td></tr><tr><td>valid/f1</td><td>▁▄▅▆▇▇▇▇▇████▇▇▇▇▇▇▆</td></tr><tr><td>valid/loss</td><td>█▄▄▂▁▁▂▂▂▂▂▄▃▄▄▄▄▅▇█</td></tr><tr><td>valid/precision</td><td>▁▄▄▅▆▇▆▆▇▇▇▇▇▇▇▇▇██▇</td></tr><tr><td>valid/recall</td><td>█▇▇▆▄▅▅▆▄▅▄▅▅▃▄▄▄▂▂▁</td></tr><tr><td>valid/vote_accuracy</td><td>▁▄▅▆▇▇▇▇▇██▇▇▇▇▇▇██▇</td></tr><tr><td>valid/vote_f1</td><td>▁▄▅▆▇▇▇▇▇████▇▇▇▇▇▇▆</td></tr><tr><td>valid/vote_precision</td><td>▁▃▄▅▆▇▆▆▇▇▇▇▇▇▇▇▇██▇</td></tr><tr><td>valid/vote_recall</td><td>█▇▇▆▄▅▅▆▄▅▄▅▅▃▄▄▄▂▂▁</td></tr></table><br/></div><div class=\"wandb-col\">\n",
       "<h3>Run summary:</h3><br/><table class=\"wandb\"><tr><td>epoch</td><td>19</td></tr><tr><td>train/f1</td><td>0.94669</td></tr><tr><td>train_step</td><td>4759</td></tr><tr><td>valid/vote_accuracy</td><td>0.7131</td></tr><tr><td>valid/vote_f1</td><td>0.75676</td></tr><tr><td>valid/vote_precision</td><td>0.65651</td></tr><tr><td>valid/vote_recall</td><td>0.89316</td></tr></table>\n",
       "</div></div>\n",
       "Synced 6 W&B file(s), 1 media file(s), 0 artifact file(s) and 0 other file(s)\n",
       "<br/>Synced <strong style=\"color:#cdcd00\">driven-dragon-350</strong>: <a href=\"https://wandb.ai/nlpetroni/assignment-two/runs/2sm1aeg5\" target=\"_blank\">https://wandb.ai/nlpetroni/assignment-two/runs/2sm1aeg5</a><br/>\n",
       "Find logs at: <code>./wandb/run-20211214_184911-2sm1aeg5/logs</code><br/>\n"
      ],
      "text/plain": [
       "<IPython.core.display.HTML object>"
      ]
     },
     "metadata": {},
     "output_type": "display_data"
    }
   ],
   "source": [
    "# lstm\n",
    "model = train(optimizer='adam', lr=lr, device=device, n_epochs=epochs, verbose=False, tags=[tag],\n",
    "                       batch_size=batch_size, encoder='rnn', merger='concatenation', rnn_type='lstm',\n",
    "                       rnn_output='avg', rec_size=rec_size, hid_size=hid_size, cosine_similarity=False)\n",
    "torch.save(model.state_dict(), os.path.join(out_dir, 'lstm_avg.pth'))"
   ]
  },
  {
   "cell_type": "code",
   "execution_count": 22,
   "metadata": {
    "id": "tn5da_pgeDzH",
    "pycharm": {
     "name": "#%%\n"
    }
   },
   "outputs": [
    {
     "name": "stderr",
     "output_type": "stream",
     "text": [
      "\u001B[34m\u001B[1mwandb\u001B[0m: \u001B[33mWARNING\u001B[0m If you're specifying your api key in code, ensure this code is not shared publically.\n",
      "\u001B[34m\u001B[1mwandb\u001B[0m: \u001B[33mWARNING\u001B[0m Consider setting the WANDB_API_KEY environment variable, or running `wandb login` from the command line.\n",
      "\u001B[34m\u001B[1mwandb\u001B[0m: Appending key for api.wandb.ai to your netrc file: /home/diego/.netrc\n"
     ]
    },
    {
     "data": {
      "text/html": [
       "\n",
       "                    Syncing run <strong><a href=\"https://wandb.ai/nlpetroni/assignment-two/runs/2pctnmbx\" target=\"_blank\">vital-dust-351</a></strong> to <a href=\"https://wandb.ai/nlpetroni/assignment-two\" target=\"_blank\">Weights & Biases</a> (<a href=\"https://docs.wandb.com/integrations/jupyter.html\" target=\"_blank\">docs</a>).<br/>\n",
       "\n",
       "                "
      ],
      "text/plain": [
       "<IPython.core.display.HTML object>"
      ]
     },
     "metadata": {},
     "output_type": "display_data"
    },
    {
     "name": "stdout",
     "output_type": "stream",
     "text": [
      "The vocabulary is already present. Loading it... Done!\n",
      "The embedding matrix are already present. Loading it... Done!\n"
     ]
    },
    {
     "name": "stderr",
     "output_type": "stream",
     "text": [
      "\u001B[34m\u001B[1mwandb\u001B[0m: logging graph, to disable use `wandb.watch(log_graph=False)`\n",
      "/home/diego/miniconda3/envs/nlp/lib/python3.9/site-packages/sklearn/metrics/_classification.py:1308: UndefinedMetricWarning: Precision is ill-defined and being set to 0.0 due to no predicted samples. Use `zero_division` parameter to control this behavior.\n",
      "  _warn_prf(average, modifier, msg_start, len(result))\n"
     ]
    },
    {
     "name": "stdout",
     "output_type": "stream",
     "text": [
      "STARTING TRAINING\n",
      "Evaluation metrics are computed on validation set\n",
      "\n",
      "EPOCHS | TRAIN LOSS | VALID LOSS | ACCURACY | PRECISION | RECALL |  F1   | V_ACC | V_PREC | V_REC | V_F1\n",
      "[00/20]|      0.492 |      0.632 |    0.672 |     0.609 |  0.973 | 0.749 | 0.670 |  0.606 | 0.970 | 0.746\n",
      "[01/20]|      0.394 |      0.649 |    0.676 |     0.611 |  0.984 | 0.754 | 0.674 |  0.607 | 0.983 | 0.751\n",
      "[02/20]|      0.370 |      0.586 |    0.699 |     0.630 |  0.975 | 0.766 | 0.697 |  0.627 | 0.974 | 0.763\n",
      "[03/20]|      0.357 |      0.563 |    0.711 |     0.642 |  0.963 | 0.771 | 0.709 |  0.639 | 0.960 | 0.767\n",
      "[04/20]|      0.345 |      0.591 |    0.704 |     0.635 |  0.971 | 0.768 | 0.702 |  0.631 | 0.969 | 0.765\n",
      "[05/20]|      0.336 |      0.515 |    0.740 |     0.675 |  0.934 | 0.783 | 0.740 |  0.673 | 0.929 | 0.781\n",
      "[06/20]|      0.327 |      0.539 |    0.732 |     0.664 |  0.946 | 0.781 | 0.730 |  0.662 | 0.942 | 0.778\n",
      "[07/20]|      0.319 |      0.516 |    0.745 |     0.679 |  0.937 | 0.787 | 0.744 |  0.678 | 0.932 | 0.785\n",
      "[08/20]|      0.311 |      0.555 |    0.738 |     0.670 |  0.943 | 0.784 | 0.737 |  0.669 | 0.939 | 0.781\n",
      "[09/20]|      0.302 |      0.594 |    0.731 |     0.661 |  0.954 | 0.781 | 0.730 |  0.660 | 0.951 | 0.779\n",
      "[10/20]|      0.295 |      0.583 |    0.733 |     0.664 |  0.951 | 0.782 | 0.732 |  0.662 | 0.948 | 0.780\n",
      "[11/20]|      0.288 |      0.546 |    0.746 |     0.682 |  0.930 | 0.787 | 0.745 |  0.680 | 0.926 | 0.784\n",
      "[12/20]|      0.280 |      0.574 |    0.748 |     0.683 |  0.934 | 0.789 | 0.748 |  0.683 | 0.929 | 0.787\n",
      "[13/20]|      0.274 |      0.575 |    0.749 |     0.683 |  0.937 | 0.790 | 0.748 |  0.681 | 0.932 | 0.787\n",
      "[14/20]|      0.267 |      0.573 |    0.747 |     0.684 |  0.926 | 0.787 | 0.747 |  0.683 | 0.921 | 0.784\n",
      "[15/20]|      0.260 |      0.584 |    0.748 |     0.687 |  0.917 | 0.786 | 0.748 |  0.686 | 0.913 | 0.783\n",
      "[16/20]|      0.251 |      0.646 |    0.743 |     0.674 |  0.951 | 0.789 | 0.742 |  0.672 | 0.947 | 0.786\n",
      "[17/20]|      0.246 |      0.595 |    0.750 |     0.692 |  0.909 | 0.786 | 0.749 |  0.690 | 0.904 | 0.783\n",
      "[18/20]|      0.239 |      0.648 |    0.742 |     0.678 |  0.929 | 0.784 | 0.741 |  0.676 | 0.923 | 0.781\n",
      "[19/20]|      0.231 |      0.675 |    0.743 |     0.682 |  0.920 | 0.783 | 0.742 |  0.680 | 0.914 | 0.780\n"
     ]
    },
    {
     "data": {
      "text/html": [
       "<br/>Waiting for W&B process to finish, PID 8433... <strong style=\"color:green\">(success).</strong>"
      ],
      "text/plain": [
       "<IPython.core.display.HTML object>"
      ]
     },
     "metadata": {},
     "output_type": "display_data"
    },
    {
     "data": {
      "application/vnd.jupyter.widget-view+json": {
       "model_id": "a3328937768f4ccabe83eff81a96fe18",
       "version_major": 2,
       "version_minor": 0
      },
      "text/plain": [
       "VBox(children=(Label(value=' 0.00MB of 0.00MB uploaded (0.00MB deduped)\\r'), FloatProgress(value=1.0, max=1.0)…"
      ]
     },
     "metadata": {},
     "output_type": "display_data"
    },
    {
     "data": {
      "text/html": [
       "<style>\n",
       "    table.wandb td:nth-child(1) { padding: 0 10px; text-align: right }\n",
       "    .wandb-row { display: flex; flex-direction: row; flex-wrap: wrap; width: 100% }\n",
       "    .wandb-col { display: flex; flex-direction: column; flex-basis: 100%; flex: 1; padding: 10px; }\n",
       "    </style>\n",
       "<div class=\"wandb-row\"><div class=\"wandb-col\">\n",
       "<h3>Run history:</h3><br/><table class=\"wandb\"><tr><td>epoch</td><td>▁▁▁▁▂▂▂▂▂▂▃▃▃▃▄▄▄▄▄▄▅▅▅▅▅▅▆▆▆▆▇▇▇▇▇▇████</td></tr><tr><td>train/accuracy</td><td>▁▃▅▅▄▅▆▅▅▅▅▅▆▆▆▆▇▆▆▆▆▆▇▅▆▆▇▇▇▆▇▇▆▆▇█▇▆▇█</td></tr><tr><td>train/f1</td><td>▁▃▄▄▄▅▅▅▅▅▅▄▅▅▆▅▇▅▅▆▅▆▆▅▆▆▇▇▆▆▇▆▆▆▆█▆▆▇█</td></tr><tr><td>train/loss</td><td>█▆▅▅▅▄▄▄▄▄▄▅▃▃▃▄▂▃▄▃▄▃▂▃▃▃▂▂▂▂▂▃▂▃▂▁▂▂▂▁</td></tr><tr><td>train_step</td><td>▁▁▁▁▂▂▂▂▂▃▃▃▃▃▃▄▄▄▄▄▅▅▅▅▅▅▆▆▆▆▆▇▇▇▇▇▇███</td></tr><tr><td>valid/accuracy</td><td>▁▁▃▅▄▇▆█▇▆▆█████▇█▇▇</td></tr><tr><td>valid/f1</td><td>▁▂▄▅▄▇▆█▇▇▇███▇▇█▇▇▇</td></tr><tr><td>valid/loss</td><td>▆▇▄▃▄▁▂▁▃▄▄▂▄▄▄▄▇▄▇█</td></tr><tr><td>valid/precision</td><td>▁▁▃▄▃▇▆▇▆▅▆▇▇▇▇█▆█▇▇</td></tr><tr><td>valid/recall</td><td>▇█▇▆▇▃▄▄▄▅▅▃▃▄▃▂▅▁▃▂</td></tr><tr><td>valid/vote_accuracy</td><td>▁▁▃▄▄▇▆█▇▆▇█████▇█▇▇</td></tr><tr><td>valid/vote_f1</td><td>▁▂▄▅▄▇▆█▇▇▇████▇█▇▇▇</td></tr><tr><td>valid/vote_precision</td><td>▁▁▃▄▃▇▆▇▆▅▆▇▇▇▇█▆█▇▇</td></tr><tr><td>valid/vote_recall</td><td>▇█▇▆▇▃▄▄▄▅▅▃▃▃▂▂▅▁▃▂</td></tr></table><br/></div><div class=\"wandb-col\">\n",
       "<h3>Run summary:</h3><br/><table class=\"wandb\"><tr><td>epoch</td><td>19</td></tr><tr><td>train/f1</td><td>0.94617</td></tr><tr><td>train_step</td><td>4759</td></tr><tr><td>valid/vote_accuracy</td><td>0.74183</td></tr><tr><td>valid/vote_f1</td><td>0.77971</td></tr><tr><td>valid/vote_precision</td><td>0.67964</td></tr><tr><td>valid/vote_recall</td><td>0.91435</td></tr></table>\n",
       "</div></div>\n",
       "Synced 6 W&B file(s), 1 media file(s), 0 artifact file(s) and 0 other file(s)\n",
       "<br/>Synced <strong style=\"color:#cdcd00\">vital-dust-351</strong>: <a href=\"https://wandb.ai/nlpetroni/assignment-two/runs/2pctnmbx\" target=\"_blank\">https://wandb.ai/nlpetroni/assignment-two/runs/2pctnmbx</a><br/>\n",
       "Find logs at: <code>./wandb/run-20211214_185757-2pctnmbx/logs</code><br/>\n"
      ],
      "text/plain": [
       "<IPython.core.display.HTML object>"
      ]
     },
     "metadata": {},
     "output_type": "display_data"
    }
   ],
   "source": [
    "# gru\n",
    "model = train(optimizer='adam', lr=lr, device=device, n_epochs=epochs, verbose=False, tags=[tag],\n",
    "                      batch_size=batch_size, encoder='rnn', merger='concatenation', rnn_type='gru',\n",
    "                      rnn_output='avg', rec_size=rec_size, hid_size=hid_size, cosine_similarity=False)\n",
    "torch.save(model.state_dict(), os.path.join(out_dir, 'gru_avg.pth'))"
   ]
  },
  {
   "cell_type": "markdown",
   "metadata": {
    "collapsed": false,
    "id": "RDfhUdY8eDzH"
   },
   "source": [
    "### MLP layer"
   ]
  },
  {
   "cell_type": "code",
   "execution_count": 23,
   "metadata": {
    "id": "mR2aA4R-eDzI",
    "pycharm": {
     "name": "#%%\n"
    }
   },
   "outputs": [
    {
     "name": "stderr",
     "output_type": "stream",
     "text": [
      "\u001B[34m\u001B[1mwandb\u001B[0m: \u001B[33mWARNING\u001B[0m If you're specifying your api key in code, ensure this code is not shared publically.\n",
      "\u001B[34m\u001B[1mwandb\u001B[0m: \u001B[33mWARNING\u001B[0m Consider setting the WANDB_API_KEY environment variable, or running `wandb login` from the command line.\n",
      "\u001B[34m\u001B[1mwandb\u001B[0m: Appending key for api.wandb.ai to your netrc file: /home/diego/.netrc\n"
     ]
    },
    {
     "data": {
      "text/html": [
       "\n",
       "                    Syncing run <strong><a href=\"https://wandb.ai/nlpetroni/assignment-two/runs/pwy70833\" target=\"_blank\">fluent-energy-352</a></strong> to <a href=\"https://wandb.ai/nlpetroni/assignment-two\" target=\"_blank\">Weights & Biases</a> (<a href=\"https://docs.wandb.com/integrations/jupyter.html\" target=\"_blank\">docs</a>).<br/>\n",
       "\n",
       "                "
      ],
      "text/plain": [
       "<IPython.core.display.HTML object>"
      ]
     },
     "metadata": {},
     "output_type": "display_data"
    },
    {
     "name": "stdout",
     "output_type": "stream",
     "text": [
      "The vocabulary is already present. Loading it... Done!\n",
      "The embedding matrix are already present. Loading it... Done!\n"
     ]
    },
    {
     "name": "stderr",
     "output_type": "stream",
     "text": [
      "\u001B[34m\u001B[1mwandb\u001B[0m: logging graph, to disable use `wandb.watch(log_graph=False)`\n"
     ]
    },
    {
     "name": "stdout",
     "output_type": "stream",
     "text": [
      "STARTING TRAINING\n",
      "Evaluation metrics are computed on validation set\n",
      "\n",
      "EPOCHS | TRAIN LOSS | VALID LOSS | ACCURACY | PRECISION | RECALL |  F1   | V_ACC | V_PREC | V_REC | V_F1\n",
      "[00/20]|      0.491 |      0.611 |    0.638 |     0.593 |  0.891 | 0.712 | 0.639 |  0.592 | 0.887 | 0.710\n",
      "[01/20]|      0.422 |      0.663 |    0.643 |     0.591 |  0.938 | 0.725 | 0.642 |  0.589 | 0.935 | 0.723\n",
      "[02/20]|      0.381 |      0.659 |    0.675 |     0.625 |  0.885 | 0.732 | 0.675 |  0.624 | 0.881 | 0.730\n",
      "[03/20]|      0.350 |      0.603 |    0.690 |     0.662 |  0.784 | 0.718 | 0.690 |  0.661 | 0.777 | 0.714\n",
      "[04/20]|      0.317 |      0.643 |    0.680 |     0.629 |  0.883 | 0.735 | 0.682 |  0.629 | 0.881 | 0.734\n",
      "[05/20]|      0.288 |      0.700 |    0.684 |     0.634 |  0.878 | 0.736 | 0.685 |  0.633 | 0.875 | 0.735\n",
      "[06/20]|      0.265 |      0.737 |    0.691 |     0.652 |  0.827 | 0.729 | 0.691 |  0.650 | 0.822 | 0.726\n",
      "[07/20]|      0.243 |      0.808 |    0.685 |     0.636 |  0.871 | 0.735 | 0.686 |  0.635 | 0.868 | 0.734\n",
      "[08/20]|      0.220 |      0.943 |    0.686 |     0.633 |  0.890 | 0.740 | 0.688 |  0.634 | 0.886 | 0.739\n",
      "[09/20]|      0.205 |      0.983 |    0.680 |     0.635 |  0.854 | 0.729 | 0.682 |  0.635 | 0.849 | 0.727\n",
      "[10/20]|      0.189 |      1.074 |    0.678 |     0.631 |  0.865 | 0.729 | 0.678 |  0.630 | 0.861 | 0.728\n",
      "[11/20]|      0.175 |      1.279 |    0.680 |     0.630 |  0.881 | 0.735 | 0.682 |  0.630 | 0.878 | 0.734\n",
      "[12/20]|      0.159 |      1.311 |    0.666 |     0.615 |  0.896 | 0.730 | 0.668 |  0.615 | 0.894 | 0.728\n",
      "[13/20]|      0.154 |      1.433 |    0.672 |     0.621 |  0.891 | 0.732 | 0.673 |  0.620 | 0.887 | 0.730\n",
      "[14/20]|      0.141 |      1.513 |    0.680 |     0.634 |  0.858 | 0.729 | 0.682 |  0.634 | 0.856 | 0.729\n",
      "[15/20]|      0.130 |      1.614 |    0.679 |     0.632 |  0.867 | 0.731 | 0.681 |  0.632 | 0.865 | 0.730\n",
      "[16/20]|      0.122 |      1.618 |    0.677 |     0.637 |  0.829 | 0.720 | 0.678 |  0.636 | 0.827 | 0.719\n",
      "[17/20]|      0.123 |      1.669 |    0.675 |     0.629 |  0.859 | 0.726 | 0.676 |  0.629 | 0.857 | 0.725\n",
      "[18/20]|      0.110 |      1.956 |    0.672 |     0.623 |  0.882 | 0.730 | 0.674 |  0.622 | 0.880 | 0.729\n",
      "[19/20]|      0.109 |      1.823 |    0.683 |     0.636 |  0.861 | 0.732 | 0.683 |  0.635 | 0.857 | 0.730\n"
     ]
    },
    {
     "data": {
      "text/html": [
       "<br/>Waiting for W&B process to finish, PID 8744... <strong style=\"color:green\">(success).</strong>"
      ],
      "text/plain": [
       "<IPython.core.display.HTML object>"
      ]
     },
     "metadata": {},
     "output_type": "display_data"
    },
    {
     "data": {
      "application/vnd.jupyter.widget-view+json": {
       "model_id": "0f0c7cfaa1b44d3796f08a4ad980b20f",
       "version_major": 2,
       "version_minor": 0
      },
      "text/plain": [
       "VBox(children=(Label(value=' 0.00MB of 0.00MB uploaded (0.00MB deduped)\\r'), FloatProgress(value=1.0, max=1.0)…"
      ]
     },
     "metadata": {},
     "output_type": "display_data"
    },
    {
     "data": {
      "text/html": [
       "<style>\n",
       "    table.wandb td:nth-child(1) { padding: 0 10px; text-align: right }\n",
       "    .wandb-row { display: flex; flex-direction: row; flex-wrap: wrap; width: 100% }\n",
       "    .wandb-col { display: flex; flex-direction: column; flex-basis: 100%; flex: 1; padding: 10px; }\n",
       "    </style>\n",
       "<div class=\"wandb-row\"><div class=\"wandb-col\">\n",
       "<h3>Run history:</h3><br/><table class=\"wandb\"><tr><td>epoch</td><td>▁▁▁▁▂▂▂▂▂▂▃▃▃▃▄▄▄▄▄▄▅▅▅▅▅▅▆▆▆▆▇▇▇▇▇▇████</td></tr><tr><td>train/accuracy</td><td>▁▂▃▃▄▄▄▄▄▅▆▅▅▅▆▆▆▇▇▆▇▆▇▇██▇▇▆▇█▇██▇▇█▇█▇</td></tr><tr><td>train/f1</td><td>▁▁▃▃▄▄▄▄▄▅▆▅▅▅▆▅▆▆▇▆▆▆▇▇██▇▇▆▇█▇██▇▇▇▇█▇</td></tr><tr><td>train/loss</td><td>██▆▆▆▆▅▅▄▄▄▄▄▄▃▃▃▃▃▃▂▃▃▂▂▁▂▂▂▂▁▂▁▁▂▂▁▂▁▂</td></tr><tr><td>train_step</td><td>▁▁▁▁▂▂▂▂▂▃▃▃▃▃▃▄▄▄▄▄▅▅▅▅▅▅▆▆▆▆▆▇▇▇▇▇▇███</td></tr><tr><td>valid/accuracy</td><td>▁▂▆█▆▇█▇▇▇▆▇▅▅▇▆▆▆▅▇</td></tr><tr><td>valid/f1</td><td>▁▄▆▂▇▇▅▇█▅▅▇▅▆▅▆▃▅▅▆</td></tr><tr><td>valid/loss</td><td>▁▁▁▁▁▂▂▂▃▃▃▄▅▅▆▆▆▇█▇</td></tr><tr><td>valid/precision</td><td>▁▁▄█▅▅▇▅▅▅▅▅▃▄▅▅▆▅▄▅</td></tr><tr><td>valid/recall</td><td>▆█▆▁▆▅▃▅▆▄▅▅▆▆▄▅▃▄▅▅</td></tr><tr><td>valid/vote_accuracy</td><td>▁▁▆█▇▇█▇█▇▆▇▅▆▇▇▆▆▆▇</td></tr><tr><td>valid/vote_f1</td><td>▁▄▆▂▇▇▅▇█▅▅▇▅▆▆▆▃▅▆▆</td></tr><tr><td>valid/vote_precision</td><td>▁▁▄█▅▅▇▅▅▅▅▅▃▄▅▅▆▅▄▅</td></tr><tr><td>valid/vote_recall</td><td>▆█▆▁▆▅▃▅▆▄▅▅▆▆▄▅▃▅▆▅</td></tr></table><br/></div><div class=\"wandb-col\">\n",
       "<h3>Run summary:</h3><br/><table class=\"wandb\"><tr><td>epoch</td><td>19</td></tr><tr><td>train/f1</td><td>1.0</td></tr><tr><td>train_step</td><td>4659</td></tr><tr><td>valid/vote_accuracy</td><td>0.68309</td></tr><tr><td>valid/vote_f1</td><td>0.72953</td></tr><tr><td>valid/vote_precision</td><td>0.63492</td></tr><tr><td>valid/vote_recall</td><td>0.85727</td></tr></table>\n",
       "</div></div>\n",
       "Synced 6 W&B file(s), 1 media file(s), 0 artifact file(s) and 0 other file(s)\n",
       "<br/>Synced <strong style=\"color:#cdcd00\">fluent-energy-352</strong>: <a href=\"https://wandb.ai/nlpetroni/assignment-two/runs/pwy70833\" target=\"_blank\">https://wandb.ai/nlpetroni/assignment-two/runs/pwy70833</a><br/>\n",
       "Find logs at: <code>./wandb/run-20211214_190624-pwy70833/logs</code><br/>\n"
      ],
      "text/plain": [
       "<IPython.core.display.HTML object>"
      ]
     },
     "metadata": {},
     "output_type": "display_data"
    }
   ],
   "source": [
    "model = train(optimizer='adam', lr=lr, device=device, n_epochs=epochs, verbose=False,  tags=[tag],\n",
    "              batch_size=batch_size, encoder='mlp', merger='concatenation', cosine_similarity=False)\n",
    "torch.save(model.state_dict(), os.path.join(out_dir, 'mlp.pth'))"
   ]
  },
  {
   "cell_type": "markdown",
   "metadata": {
    "collapsed": false,
    "id": "TLpzTPkReDzJ"
   },
   "source": [
    "### Bag of vectors"
   ]
  },
  {
   "cell_type": "code",
   "execution_count": 24,
   "metadata": {
    "id": "bqX_UdQoeDzK",
    "pycharm": {
     "name": "#%%\n"
    }
   },
   "outputs": [
    {
     "name": "stderr",
     "output_type": "stream",
     "text": [
      "\u001B[34m\u001B[1mwandb\u001B[0m: \u001B[33mWARNING\u001B[0m If you're specifying your api key in code, ensure this code is not shared publically.\n",
      "\u001B[34m\u001B[1mwandb\u001B[0m: \u001B[33mWARNING\u001B[0m Consider setting the WANDB_API_KEY environment variable, or running `wandb login` from the command line.\n",
      "\u001B[34m\u001B[1mwandb\u001B[0m: Appending key for api.wandb.ai to your netrc file: /home/diego/.netrc\n"
     ]
    },
    {
     "data": {
      "text/html": [
       "\n",
       "                    Syncing run <strong><a href=\"https://wandb.ai/nlpetroni/assignment-two/runs/r4sjc3zd\" target=\"_blank\">effortless-lake-353</a></strong> to <a href=\"https://wandb.ai/nlpetroni/assignment-two\" target=\"_blank\">Weights & Biases</a> (<a href=\"https://docs.wandb.com/integrations/jupyter.html\" target=\"_blank\">docs</a>).<br/>\n",
       "\n",
       "                "
      ],
      "text/plain": [
       "<IPython.core.display.HTML object>"
      ]
     },
     "metadata": {},
     "output_type": "display_data"
    },
    {
     "name": "stdout",
     "output_type": "stream",
     "text": [
      "The vocabulary is already present. Loading it... Done!\n",
      "The embedding matrix are already present. Loading it... Done!\n"
     ]
    },
    {
     "name": "stderr",
     "output_type": "stream",
     "text": [
      "\u001B[34m\u001B[1mwandb\u001B[0m: logging graph, to disable use `wandb.watch(log_graph=False)`\n"
     ]
    },
    {
     "name": "stdout",
     "output_type": "stream",
     "text": [
      "STARTING TRAINING\n",
      "Evaluation metrics are computed on validation set\n",
      "\n",
      "EPOCHS | TRAIN LOSS | VALID LOSS | ACCURACY | PRECISION | RECALL |  F1   | V_ACC | V_PREC | V_REC | V_F1\n",
      "[00/20]|      0.570 |      0.898 |    0.516 |     0.510 |  0.993 | 0.674 | 0.512 |  0.506 | 0.992 | 0.670\n",
      "[01/20]|      0.534 |      0.789 |    0.583 |     0.552 |  0.913 | 0.688 | 0.581 |  0.549 | 0.907 | 0.684\n",
      "[02/20]|      0.524 |      0.788 |    0.599 |     0.565 |  0.885 | 0.690 | 0.598 |  0.563 | 0.879 | 0.686\n",
      "[03/20]|      0.519 |      0.726 |    0.610 |     0.582 |  0.804 | 0.675 | 0.610 |  0.580 | 0.793 | 0.670\n",
      "[04/20]|      0.514 |      0.802 |    0.600 |     0.565 |  0.899 | 0.694 | 0.599 |  0.562 | 0.894 | 0.691\n",
      "[05/20]|      0.508 |      0.749 |    0.613 |     0.579 |  0.855 | 0.690 | 0.612 |  0.576 | 0.847 | 0.686\n",
      "[06/20]|      0.502 |      0.825 |    0.601 |     0.564 |  0.910 | 0.697 | 0.600 |  0.562 | 0.906 | 0.694\n",
      "[07/20]|      0.496 |      0.724 |    0.624 |     0.591 |  0.820 | 0.687 | 0.623 |  0.589 | 0.809 | 0.682\n",
      "[08/20]|      0.491 |      0.784 |    0.614 |     0.576 |  0.888 | 0.698 | 0.613 |  0.573 | 0.883 | 0.695\n",
      "[09/20]|      0.486 |      0.811 |    0.614 |     0.575 |  0.896 | 0.701 | 0.614 |  0.573 | 0.892 | 0.698\n",
      "[10/20]|      0.482 |      0.823 |    0.611 |     0.573 |  0.888 | 0.697 | 0.610 |  0.571 | 0.883 | 0.694\n",
      "[11/20]|      0.479 |      0.791 |    0.622 |     0.582 |  0.892 | 0.704 | 0.622 |  0.579 | 0.889 | 0.701\n",
      "[12/20]|      0.475 |      0.845 |    0.614 |     0.573 |  0.912 | 0.704 | 0.614 |  0.571 | 0.910 | 0.702\n",
      "[13/20]|      0.472 |      0.825 |    0.623 |     0.582 |  0.893 | 0.705 | 0.622 |  0.579 | 0.890 | 0.702\n",
      "[14/20]|      0.468 |      0.850 |    0.618 |     0.577 |  0.910 | 0.706 | 0.617 |  0.574 | 0.906 | 0.703\n",
      "[15/20]|      0.466 |      0.792 |    0.633 |     0.592 |  0.874 | 0.706 | 0.632 |  0.589 | 0.870 | 0.703\n",
      "[16/20]|      0.463 |      0.823 |    0.626 |     0.584 |  0.899 | 0.708 | 0.626 |  0.582 | 0.896 | 0.705\n",
      "[17/20]|      0.460 |      0.874 |    0.625 |     0.582 |  0.916 | 0.711 | 0.624 |  0.578 | 0.913 | 0.708\n",
      "[18/20]|      0.457 |      0.821 |    0.628 |     0.587 |  0.881 | 0.705 | 0.628 |  0.585 | 0.879 | 0.702\n",
      "[19/20]|      0.455 |      0.749 |    0.649 |     0.613 |  0.822 | 0.702 | 0.648 |  0.611 | 0.816 | 0.699\n"
     ]
    },
    {
     "data": {
      "text/html": [
       "<br/>Waiting for W&B process to finish, PID 8929... <strong style=\"color:green\">(success).</strong>"
      ],
      "text/plain": [
       "<IPython.core.display.HTML object>"
      ]
     },
     "metadata": {},
     "output_type": "display_data"
    },
    {
     "data": {
      "application/vnd.jupyter.widget-view+json": {
       "model_id": "ad9017776856468584242d474d5784e4",
       "version_major": 2,
       "version_minor": 0
      },
      "text/plain": [
       "VBox(children=(Label(value=' 0.00MB of 0.00MB uploaded (0.00MB deduped)\\r'), FloatProgress(value=1.0, max=1.0)…"
      ]
     },
     "metadata": {},
     "output_type": "display_data"
    },
    {
     "data": {
      "text/html": [
       "<style>\n",
       "    table.wandb td:nth-child(1) { padding: 0 10px; text-align: right }\n",
       "    .wandb-row { display: flex; flex-direction: row; flex-wrap: wrap; width: 100% }\n",
       "    .wandb-col { display: flex; flex-direction: column; flex-basis: 100%; flex: 1; padding: 10px; }\n",
       "    </style>\n",
       "<div class=\"wandb-row\"><div class=\"wandb-col\">\n",
       "<h3>Run history:</h3><br/><table class=\"wandb\"><tr><td>epoch</td><td>▁▁▁▁▂▂▂▂▂▂▃▃▃▃▄▄▄▄▄▄▅▅▅▅▅▅▆▆▆▆▇▇▇▇▇▇████</td></tr><tr><td>train/accuracy</td><td>▂▂▂▁▂▃▄▅▃▃▅▄▆▅▅▅▆▃▂▅▅▅▄▄▄▄▆▆▇▄▆▅▅▅▅▇▆▇█▆</td></tr><tr><td>train/f1</td><td>▂▂▃▁▁▄▅▅▃▂▅▄▆▅▅▅▆▃▂▄▅▅▄▄▄▃▆▆▆▃▆▄▅▄▅▇▆▇█▅</td></tr><tr><td>train/loss</td><td>█▇▇██▆▄▄▆▆▅▄▅▄▄▄▃▆▅▄▃▄▅▄▃▅▃▃▃▄▃▄▄▄▄▂▃▂▁▄</td></tr><tr><td>train_step</td><td>▁▁▁▁▂▂▂▂▂▃▃▃▃▃▃▄▄▄▄▄▅▅▅▅▅▅▆▆▆▆▆▇▇▇▇▇▇███</td></tr><tr><td>valid/accuracy</td><td>▁▅▅▆▅▆▅▇▆▆▆▇▆▇▆▇▇▇▇█</td></tr><tr><td>valid/f1</td><td>▁▄▄▁▅▄▅▃▆▆▅▇▇▇▇▇▇█▇▆</td></tr><tr><td>valid/loss</td><td>█▄▄▁▄▂▅▁▃▄▅▄▆▅▆▄▅▇▅▂</td></tr><tr><td>valid/precision</td><td>▁▄▅▆▅▆▅▇▅▅▅▆▅▆▆▇▆▆▆█</td></tr><tr><td>valid/recall</td><td>█▅▄▁▅▃▅▂▄▄▄▄▅▄▅▄▅▅▄▂</td></tr><tr><td>valid/vote_accuracy</td><td>▁▅▅▆▅▆▆▇▆▆▆▇▆▇▆▇▇▇▇█</td></tr><tr><td>valid/vote_f1</td><td>▁▄▄▁▅▄▅▃▆▆▅▇▇▇▇▇██▇▆</td></tr><tr><td>valid/vote_precision</td><td>▁▄▅▆▅▆▅▇▅▅▅▆▅▆▆▇▆▆▆█</td></tr><tr><td>valid/vote_recall</td><td>█▅▄▁▅▃▅▂▄▄▄▄▅▄▅▄▅▅▄▂</td></tr></table><br/></div><div class=\"wandb-col\">\n",
       "<h3>Run summary:</h3><br/><table class=\"wandb\"><tr><td>epoch</td><td>19</td></tr><tr><td>train/f1</td><td>0.88274</td></tr><tr><td>train_step</td><td>4759</td></tr><tr><td>valid/vote_accuracy</td><td>0.64837</td></tr><tr><td>valid/vote_f1</td><td>0.6988</td></tr><tr><td>valid/vote_precision</td><td>0.61087</td></tr><tr><td>valid/vote_recall</td><td>0.81628</td></tr></table>\n",
       "</div></div>\n",
       "Synced 6 W&B file(s), 1 media file(s), 0 artifact file(s) and 0 other file(s)\n",
       "<br/>Synced <strong style=\"color:#cdcd00\">effortless-lake-353</strong>: <a href=\"https://wandb.ai/nlpetroni/assignment-two/runs/r4sjc3zd\" target=\"_blank\">https://wandb.ai/nlpetroni/assignment-two/runs/r4sjc3zd</a><br/>\n",
       "Find logs at: <code>./wandb/run-20211214_190906-r4sjc3zd/logs</code><br/>\n"
      ],
      "text/plain": [
       "<IPython.core.display.HTML object>"
      ]
     },
     "metadata": {},
     "output_type": "display_data"
    }
   ],
   "source": [
    "model = train(optimizer='adam', lr=lr, device=device, n_epochs=epochs, verbose=False,  tags=[tag],\n",
    "              batch_size=batch_size, encoder='bag', merger='concatenation', cosine_similarity=False)\n",
    "torch.save(model.state_dict(), os.path.join(out_dir, 'bow.pth'))"
   ]
  },
  {
   "cell_type": "markdown",
   "metadata": {
    "collapsed": false,
    "id": "M4hGLXSGeDzK",
    "pycharm": {
     "name": "#%% md\n"
    }
   },
   "source": [
    "The best sentence embedding is taking **the last state of an RNN encoder (LSTM)**. Indeed it reaches the highest valalues between all the runs in F1 score (both standard and group voting) and in accuracy (only group voting, since taking the average of the states of a GRU RNN results in a barely better standard accuracy)."
   ]
  },
  {
   "cell_type": "markdown",
   "metadata": {
    "collapsed": false
   },
   "source": [
    "## Merging"
   ]
  },
  {
   "cell_type": "code",
   "execution_count": 19,
   "metadata": {
    "collapsed": false,
    "pycharm": {
     "name": "#%%\n"
    }
   },
   "outputs": [],
   "source": [
    "out_dir = './models'\n",
    "if not os.path.isdir(out_dir):\n",
    "    os.mkdir(out_dir)\n",
    "lr = 1e-3\n",
    "epochs = 20\n",
    "batch_size = 512\n",
    "rec_size = 2\n",
    "hid_size = 50\n",
    "tag = 'merging choice'\n",
    "encoder = 'rnn'\n",
    "rnn_type = 'lstm'\n",
    "rnn_output = 'last'"
   ]
  },
  {
   "cell_type": "markdown",
   "metadata": {
    "collapsed": false
   },
   "source": [
    "### Concatenation"
   ]
  },
  {
   "cell_type": "code",
   "execution_count": null,
   "metadata": {
    "collapsed": false,
    "pycharm": {
     "name": "#%%\n"
    }
   },
   "outputs": [],
   "source": [
    "model = train(optimizer='adam', lr=lr, device=device, n_epochs=epochs, verbose=False,  tags=[tag],\n",
    "              batch_size=batch_size, encoder=encoder, rnn_type=rnn_type, rnn_output=rnn_output, merger='concatenate', cosine_similarity=False)"
   ]
  },
  {
   "cell_type": "markdown",
   "metadata": {
    "collapsed": false
   },
   "source": [
    "### Sum"
   ]
  },
  {
   "cell_type": "code",
   "execution_count": null,
   "metadata": {
    "collapsed": false,
    "pycharm": {
     "name": "#%%\n"
    }
   },
   "outputs": [],
   "source": [
    "model = train(optimizer='adam', lr=lr, device=device, n_epochs=epochs, verbose=False,  tags=[tag],\n",
    "              batch_size=batch_size, encoder=encoder, rnn_type=rnn_type, rnn_output=rnn_output, merger='sum', cosine_similarity=False)"
   ]
  },
  {
   "cell_type": "markdown",
   "metadata": {
    "collapsed": false
   },
   "source": [
    "### Mean"
   ]
  },
  {
   "cell_type": "code",
   "execution_count": null,
   "metadata": {
    "collapsed": false,
    "pycharm": {
     "name": "#%%\n"
    }
   },
   "outputs": [],
   "source": [
    "model = train(optimizer='adam', lr=lr, device=device, n_epochs=epochs, verbose=False,  tags=[tag],\n",
    "              batch_size=batch_size, encoder=encoder, rnn_type=rnn_type, rnn_output=rnn_output, merger='mean', cosine_similarity=False)"
   ]
  },
  {
   "cell_type": "markdown",
   "metadata": {
    "collapsed": false
   },
   "source": [
    "The best merging strategy is"
   ]
  },
  {
   "cell_type": "markdown",
   "metadata": {
    "collapsed": false
   },
   "source": [
    "## Other hyperparameters tuning"
   ]
  },
  {
   "cell_type": "code",
   "execution_count": null,
   "metadata": {
    "collapsed": false,
    "pycharm": {
     "name": "#%%\n"
    }
   },
   "outputs": [],
   "source": [
    "out_dir = './models'\n",
    "if not os.path.isdir(out_dir):\n",
    "    os.mkdir(out_dir)\n",
    "epochs = 20\n",
    "batch_size = 512\n",
    "tag = 'hyperparameters tuning'\n",
    "encoder = ''\n",
    "rnn_type = ''\n",
    "rnn_output = ''\n",
    "merger = ''\n",
    "\n",
    "lrs = [1e-3, 1e-4, 1e-5]\n",
    "rec_sizes = [1, 2]\n",
    "hid_sizes = random.sample(range(25,100), 3)\n",
    "n_layers_classifiers = [2, 3]\n",
    "\n",
    "for run in range(10):\n",
    "    lr = random.uniform(1e-5, 1e-3)\n",
    "    rec_size = random.randint(1, 2)\n",
    "    hid_size = random.randint(25, 100)\n",
    "    n_layers_classifier = random.randint(2,3)\n"
   ]
  }
 ],
 "metadata": {
  "accelerator": "GPU",
  "colab": {
   "include_colab_link": true,
   "name": "solution_2.ipynb",
   "provenance": []
  },
  "kernelspec": {
   "display_name": "Python 3 (ipykernel)",
   "language": "python",
   "name": "python3"
  },
  "language_info": {
   "name": "python",
   "version": "3.9.7"
  },
  "widgets": {
   "application/vnd.jupyter.widget-state+json": {
    "200099ba3a27443b9b95462f31cad767": {
     "model_module": "@jupyter-widgets/controls",
     "model_module_version": "1.5.0",
     "model_name": "FloatProgressModel",
     "state": {
      "_dom_classes": [],
      "_model_module": "@jupyter-widgets/controls",
      "_model_module_version": "1.5.0",
      "_model_name": "FloatProgressModel",
      "_view_count": null,
      "_view_module": "@jupyter-widgets/controls",
      "_view_module_version": "1.5.0",
      "_view_name": "ProgressView",
      "bar_style": "",
      "description": "",
      "description_tooltip": null,
      "layout": "IPY_MODEL_76b187d7d8d34555ad9a4084e4c414d5",
      "max": 1,
      "min": 0,
      "orientation": "horizontal",
      "style": "IPY_MODEL_8e527db73ead44e78df8c79e89abb3c6",
      "value": 1
     }
    },
    "350482763fa64da7a1c155b5a3b7a630": {
     "model_module": "@jupyter-widgets/controls",
     "model_module_version": "1.5.0",
     "model_name": "DescriptionStyleModel",
     "state": {
      "_model_module": "@jupyter-widgets/controls",
      "_model_module_version": "1.5.0",
      "_model_name": "DescriptionStyleModel",
      "_view_count": null,
      "_view_module": "@jupyter-widgets/base",
      "_view_module_version": "1.2.0",
      "_view_name": "StyleView",
      "description_width": ""
     }
    },
    "76b187d7d8d34555ad9a4084e4c414d5": {
     "model_module": "@jupyter-widgets/base",
     "model_module_version": "1.2.0",
     "model_name": "LayoutModel",
     "state": {
      "_model_module": "@jupyter-widgets/base",
      "_model_module_version": "1.2.0",
      "_model_name": "LayoutModel",
      "_view_count": null,
      "_view_module": "@jupyter-widgets/base",
      "_view_module_version": "1.2.0",
      "_view_name": "LayoutView",
      "align_content": null,
      "align_items": null,
      "align_self": null,
      "border": null,
      "bottom": null,
      "display": null,
      "flex": null,
      "flex_flow": null,
      "grid_area": null,
      "grid_auto_columns": null,
      "grid_auto_flow": null,
      "grid_auto_rows": null,
      "grid_column": null,
      "grid_gap": null,
      "grid_row": null,
      "grid_template_areas": null,
      "grid_template_columns": null,
      "grid_template_rows": null,
      "height": null,
      "justify_content": null,
      "justify_items": null,
      "left": null,
      "margin": null,
      "max_height": null,
      "max_width": null,
      "min_height": null,
      "min_width": null,
      "object_fit": null,
      "object_position": null,
      "order": null,
      "overflow": null,
      "overflow_x": null,
      "overflow_y": null,
      "padding": null,
      "right": null,
      "top": null,
      "visibility": null,
      "width": null
     }
    },
    "88c803e66f0a49758785f6bcc72b2eae": {
     "model_module": "@jupyter-widgets/controls",
     "model_module_version": "1.5.0",
     "model_name": "VBoxModel",
     "state": {
      "_dom_classes": [],
      "_model_module": "@jupyter-widgets/controls",
      "_model_module_version": "1.5.0",
      "_model_name": "VBoxModel",
      "_view_count": null,
      "_view_module": "@jupyter-widgets/controls",
      "_view_module_version": "1.5.0",
      "_view_name": "VBoxView",
      "box_style": "",
      "children": [
       "IPY_MODEL_8c6fa31295804fbb9af6c33fc36c3286",
       "IPY_MODEL_200099ba3a27443b9b95462f31cad767"
      ],
      "layout": "IPY_MODEL_9b2711700bda49dbb6092a2600f328d3"
     }
    },
    "8c6fa31295804fbb9af6c33fc36c3286": {
     "model_module": "@jupyter-widgets/controls",
     "model_module_version": "1.5.0",
     "model_name": "LabelModel",
     "state": {
      "_dom_classes": [],
      "_model_module": "@jupyter-widgets/controls",
      "_model_module_version": "1.5.0",
      "_model_name": "LabelModel",
      "_view_count": null,
      "_view_module": "@jupyter-widgets/controls",
      "_view_module_version": "1.5.0",
      "_view_name": "LabelView",
      "description": "",
      "description_tooltip": null,
      "layout": "IPY_MODEL_e8f9a0d5883a4dc6ab99f13720591f89",
      "placeholder": "​",
      "style": "IPY_MODEL_350482763fa64da7a1c155b5a3b7a630",
      "value": " 0.01MB of 0.01MB uploaded (0.00MB deduped)\r"
     }
    },
    "8e527db73ead44e78df8c79e89abb3c6": {
     "model_module": "@jupyter-widgets/controls",
     "model_module_version": "1.5.0",
     "model_name": "ProgressStyleModel",
     "state": {
      "_model_module": "@jupyter-widgets/controls",
      "_model_module_version": "1.5.0",
      "_model_name": "ProgressStyleModel",
      "_view_count": null,
      "_view_module": "@jupyter-widgets/base",
      "_view_module_version": "1.2.0",
      "_view_name": "StyleView",
      "bar_color": null,
      "description_width": ""
     }
    },
    "9b2711700bda49dbb6092a2600f328d3": {
     "model_module": "@jupyter-widgets/base",
     "model_module_version": "1.2.0",
     "model_name": "LayoutModel",
     "state": {
      "_model_module": "@jupyter-widgets/base",
      "_model_module_version": "1.2.0",
      "_model_name": "LayoutModel",
      "_view_count": null,
      "_view_module": "@jupyter-widgets/base",
      "_view_module_version": "1.2.0",
      "_view_name": "LayoutView",
      "align_content": null,
      "align_items": null,
      "align_self": null,
      "border": null,
      "bottom": null,
      "display": null,
      "flex": null,
      "flex_flow": null,
      "grid_area": null,
      "grid_auto_columns": null,
      "grid_auto_flow": null,
      "grid_auto_rows": null,
      "grid_column": null,
      "grid_gap": null,
      "grid_row": null,
      "grid_template_areas": null,
      "grid_template_columns": null,
      "grid_template_rows": null,
      "height": null,
      "justify_content": null,
      "justify_items": null,
      "left": null,
      "margin": null,
      "max_height": null,
      "max_width": null,
      "min_height": null,
      "min_width": null,
      "object_fit": null,
      "object_position": null,
      "order": null,
      "overflow": null,
      "overflow_x": null,
      "overflow_y": null,
      "padding": null,
      "right": null,
      "top": null,
      "visibility": null,
      "width": null
     }
    },
    "e8f9a0d5883a4dc6ab99f13720591f89": {
     "model_module": "@jupyter-widgets/base",
     "model_module_version": "1.2.0",
     "model_name": "LayoutModel",
     "state": {
      "_model_module": "@jupyter-widgets/base",
      "_model_module_version": "1.2.0",
      "_model_name": "LayoutModel",
      "_view_count": null,
      "_view_module": "@jupyter-widgets/base",
      "_view_module_version": "1.2.0",
      "_view_name": "LayoutView",
      "align_content": null,
      "align_items": null,
      "align_self": null,
      "border": null,
      "bottom": null,
      "display": null,
      "flex": null,
      "flex_flow": null,
      "grid_area": null,
      "grid_auto_columns": null,
      "grid_auto_flow": null,
      "grid_auto_rows": null,
      "grid_column": null,
      "grid_gap": null,
      "grid_row": null,
      "grid_template_areas": null,
      "grid_template_columns": null,
      "grid_template_rows": null,
      "height": null,
      "justify_content": null,
      "justify_items": null,
      "left": null,
      "margin": null,
      "max_height": null,
      "max_width": null,
      "min_height": null,
      "min_width": null,
      "object_fit": null,
      "object_position": null,
      "order": null,
      "overflow": null,
      "overflow_x": null,
      "overflow_y": null,
      "padding": null,
      "right": null,
      "top": null,
      "visibility": null,
      "width": null
     }
    }
   }
  }
 },
 "nbformat": 4,
 "nbformat_minor": 0
}