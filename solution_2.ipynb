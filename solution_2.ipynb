{
  "nbformat": 4,
  "nbformat_minor": 0,
  "metadata": {
    "colab": {
      "name": "solution_2.ipynb",
      "provenance": [],
      "include_colab_link": true
    },
    "kernelspec": {
      "name": "python3",
      "language": "python",
      "display_name": "Python 3 (ipykernel)"
    },
    "language_info": {
      "name": "python"
    },
    "accelerator": "GPU",
    "widgets": {
      "application/vnd.jupyter.widget-state+json": {
        "5d6b6df4b14544a399c2a0e2bd9a9665": {
          "model_module": "@jupyter-widgets/controls",
          "model_name": "VBoxModel",
          "model_module_version": "1.5.0",
          "state": {
            "_view_name": "VBoxView",
            "_dom_classes": [],
            "_model_name": "VBoxModel",
            "_view_module": "@jupyter-widgets/controls",
            "_model_module_version": "1.5.0",
            "_view_count": null,
            "_view_module_version": "1.5.0",
            "box_style": "",
            "layout": "IPY_MODEL_588f840b4fed4e77b39927864a1ae95b",
            "_model_module": "@jupyter-widgets/controls",
            "children": [
              "IPY_MODEL_1aa577f5ca1f441a94e37be4782923ec",
              "IPY_MODEL_62295e9300c54fcd8af83d2afa5d3dde"
            ]
          }
        },
        "588f840b4fed4e77b39927864a1ae95b": {
          "model_module": "@jupyter-widgets/base",
          "model_name": "LayoutModel",
          "model_module_version": "1.2.0",
          "state": {
            "_view_name": "LayoutView",
            "grid_template_rows": null,
            "right": null,
            "justify_content": null,
            "_view_module": "@jupyter-widgets/base",
            "overflow": null,
            "_model_module_version": "1.2.0",
            "_view_count": null,
            "flex_flow": null,
            "width": null,
            "min_width": null,
            "border": null,
            "align_items": null,
            "bottom": null,
            "_model_module": "@jupyter-widgets/base",
            "top": null,
            "grid_column": null,
            "overflow_y": null,
            "overflow_x": null,
            "grid_auto_flow": null,
            "grid_area": null,
            "grid_template_columns": null,
            "flex": null,
            "_model_name": "LayoutModel",
            "justify_items": null,
            "grid_row": null,
            "max_height": null,
            "align_content": null,
            "visibility": null,
            "align_self": null,
            "height": null,
            "min_height": null,
            "padding": null,
            "grid_auto_rows": null,
            "grid_gap": null,
            "max_width": null,
            "order": null,
            "_view_module_version": "1.2.0",
            "grid_template_areas": null,
            "object_position": null,
            "object_fit": null,
            "grid_auto_columns": null,
            "margin": null,
            "display": null,
            "left": null
          }
        },
        "1aa577f5ca1f441a94e37be4782923ec": {
          "model_module": "@jupyter-widgets/controls",
          "model_name": "LabelModel",
          "model_module_version": "1.5.0",
          "state": {
            "_view_name": "LabelView",
            "style": "IPY_MODEL_2f9d45ed2a0247a990545c33be238478",
            "_dom_classes": [],
            "description": "",
            "_model_name": "LabelModel",
            "placeholder": "​",
            "_view_module": "@jupyter-widgets/controls",
            "_model_module_version": "1.5.0",
            "value": " 0.01MB of 0.01MB uploaded (0.00MB deduped)\r",
            "_view_count": null,
            "_view_module_version": "1.5.0",
            "description_tooltip": null,
            "_model_module": "@jupyter-widgets/controls",
            "layout": "IPY_MODEL_ce1f66fd70b447e3becd369e8c7faa59"
          }
        },
        "62295e9300c54fcd8af83d2afa5d3dde": {
          "model_module": "@jupyter-widgets/controls",
          "model_name": "FloatProgressModel",
          "model_module_version": "1.5.0",
          "state": {
            "_view_name": "ProgressView",
            "style": "IPY_MODEL_dee4e314b2254244bf9cf900984e58b5",
            "_dom_classes": [],
            "description": "",
            "_model_name": "FloatProgressModel",
            "bar_style": "",
            "max": 1,
            "_view_module": "@jupyter-widgets/controls",
            "_model_module_version": "1.5.0",
            "value": 1,
            "_view_count": null,
            "_view_module_version": "1.5.0",
            "orientation": "horizontal",
            "min": 0,
            "description_tooltip": null,
            "_model_module": "@jupyter-widgets/controls",
            "layout": "IPY_MODEL_0a42e2bbc95247449fb4421cf2c531c9"
          }
        },
        "2f9d45ed2a0247a990545c33be238478": {
          "model_module": "@jupyter-widgets/controls",
          "model_name": "DescriptionStyleModel",
          "model_module_version": "1.5.0",
          "state": {
            "_view_name": "StyleView",
            "_model_name": "DescriptionStyleModel",
            "description_width": "",
            "_view_module": "@jupyter-widgets/base",
            "_model_module_version": "1.5.0",
            "_view_count": null,
            "_view_module_version": "1.2.0",
            "_model_module": "@jupyter-widgets/controls"
          }
        },
        "ce1f66fd70b447e3becd369e8c7faa59": {
          "model_module": "@jupyter-widgets/base",
          "model_name": "LayoutModel",
          "model_module_version": "1.2.0",
          "state": {
            "_view_name": "LayoutView",
            "grid_template_rows": null,
            "right": null,
            "justify_content": null,
            "_view_module": "@jupyter-widgets/base",
            "overflow": null,
            "_model_module_version": "1.2.0",
            "_view_count": null,
            "flex_flow": null,
            "width": null,
            "min_width": null,
            "border": null,
            "align_items": null,
            "bottom": null,
            "_model_module": "@jupyter-widgets/base",
            "top": null,
            "grid_column": null,
            "overflow_y": null,
            "overflow_x": null,
            "grid_auto_flow": null,
            "grid_area": null,
            "grid_template_columns": null,
            "flex": null,
            "_model_name": "LayoutModel",
            "justify_items": null,
            "grid_row": null,
            "max_height": null,
            "align_content": null,
            "visibility": null,
            "align_self": null,
            "height": null,
            "min_height": null,
            "padding": null,
            "grid_auto_rows": null,
            "grid_gap": null,
            "max_width": null,
            "order": null,
            "_view_module_version": "1.2.0",
            "grid_template_areas": null,
            "object_position": null,
            "object_fit": null,
            "grid_auto_columns": null,
            "margin": null,
            "display": null,
            "left": null
          }
        },
        "dee4e314b2254244bf9cf900984e58b5": {
          "model_module": "@jupyter-widgets/controls",
          "model_name": "ProgressStyleModel",
          "model_module_version": "1.5.0",
          "state": {
            "_view_name": "StyleView",
            "_model_name": "ProgressStyleModel",
            "description_width": "",
            "_view_module": "@jupyter-widgets/base",
            "_model_module_version": "1.5.0",
            "_view_count": null,
            "_view_module_version": "1.2.0",
            "bar_color": null,
            "_model_module": "@jupyter-widgets/controls"
          }
        },
        "0a42e2bbc95247449fb4421cf2c531c9": {
          "model_module": "@jupyter-widgets/base",
          "model_name": "LayoutModel",
          "model_module_version": "1.2.0",
          "state": {
            "_view_name": "LayoutView",
            "grid_template_rows": null,
            "right": null,
            "justify_content": null,
            "_view_module": "@jupyter-widgets/base",
            "overflow": null,
            "_model_module_version": "1.2.0",
            "_view_count": null,
            "flex_flow": null,
            "width": null,
            "min_width": null,
            "border": null,
            "align_items": null,
            "bottom": null,
            "_model_module": "@jupyter-widgets/base",
            "top": null,
            "grid_column": null,
            "overflow_y": null,
            "overflow_x": null,
            "grid_auto_flow": null,
            "grid_area": null,
            "grid_template_columns": null,
            "flex": null,
            "_model_name": "LayoutModel",
            "justify_items": null,
            "grid_row": null,
            "max_height": null,
            "align_content": null,
            "visibility": null,
            "align_self": null,
            "height": null,
            "min_height": null,
            "padding": null,
            "grid_auto_rows": null,
            "grid_gap": null,
            "max_width": null,
            "order": null,
            "_view_module_version": "1.2.0",
            "grid_template_areas": null,
            "object_position": null,
            "object_fit": null,
            "grid_auto_columns": null,
            "margin": null,
            "display": null,
            "left": null
          }
        }
      }
    }
  },
  "cells": [
    {
      "cell_type": "markdown",
      "metadata": {
        "id": "view-in-github",
        "colab_type": "text"
      },
      "source": [
        "<a href=\"https://colab.research.google.com/github/NLPetroni/assignment_two/blob/main/solution_2.ipynb\" target=\"_parent\"><img src=\"https://colab.research.google.com/assets/colab-badge.svg\" alt=\"Open In Colab\"/></a>"
      ]
    },
    {
      "cell_type": "markdown",
      "metadata": {
        "id": "m5ldIOU6KPl4"
      },
      "source": [
        "# Imports and downloads\n",
        "\n"
      ]
    },
    {
      "cell_type": "code",
      "metadata": {
        "colab": {
          "base_uri": "https://localhost:8080/"
        },
        "id": "zpI5pddAJRU5",
        "outputId": "5025c70f-2b16-4202-bdfb-bf4868a578d3"
      },
      "source": [
        "import numpy as np\n",
        "import pandas as pd\n",
        "import sys\n",
        "import os\n",
        "\n",
        "try:\n",
        "  import google.colab\n",
        "  IN_COLAB = True\n",
        "except:\n",
        "  IN_COLAB = False\n",
        "\n",
        "if IN_COLAB:\n",
        "  %cd /content\n",
        "  !rm -rf assignment_two &> /dev/null\n",
        "  !git clone https://github.com/NLPetroni/assignment_two &> /dev/null\n",
        "  %cd assignment_two\n",
        "  sys.path.append(os.getcwd())\n",
        "  !git clone https://gitlab.com/sasso-effe/nlp-assignment-data.git &> /dev/null\n",
        "  !mv nlp-assignment-data/embedding_matrix.npy res/embedding_matrix.npy\n",
        "  !rm -rf nlp-assignment-data\n",
        "  !pip install wandb &> /dev/null\n"
      ],
      "execution_count": 1,
      "outputs": [
        {
          "output_type": "stream",
          "name": "stdout",
          "text": [
            "/content\n",
            "/content/assignment_two\n"
          ]
        }
      ]
    },
    {
      "cell_type": "code",
      "metadata": {
        "id": "o2uzDyzCKrGy"
      },
      "source": [
        "from src import utils\n",
        "import re\n",
        "from functools import reduce\n",
        "import nltk\n",
        "from nltk.corpus import stopwords\n",
        "from typing import List, Callable, Dict\n",
        "import random\n",
        "import torch\n",
        "from torch import nn\n",
        "from torchsummary import summary\n",
        "import math\n",
        "import wandb"
      ],
      "execution_count": 2,
      "outputs": []
    },
    {
      "cell_type": "code",
      "metadata": {
        "id": "0zr8CGx9JmRN",
        "colab": {
          "base_uri": "https://localhost:8080/"
        },
        "outputId": "fe14588a-f83d-4bcf-9914-875c57900a2d"
      },
      "source": [
        "utils.download_data('dataset')\n",
        "train_set = pd.read_csv(\"dataset/train_pairs.csv\")\n",
        "val_set = pd.read_csv(\"dataset/val_pairs.csv\")\n",
        "test_set = pd.read_csv(\"dataset/test_pairs.csv\")"
      ],
      "execution_count": 3,
      "outputs": [
        {
          "output_type": "stream",
          "name": "stdout",
          "text": [
            "Downloading FEVER data splits...\n",
            "Download completed!\n",
            "Extracting dataset...\n",
            "Extraction completed!\n"
          ]
        }
      ]
    },
    {
      "cell_type": "code",
      "metadata": {
        "colab": {
          "base_uri": "https://localhost:8080/"
        },
        "id": "eZ59KJhcJr5I",
        "outputId": "3c96ad20-74fb-4874-80ef-7cfc8aa1aaf6"
      },
      "source": [
        "print(train_set.columns)\n",
        "print(\"Total rows of the train set: {:d}\".format(len(train_set)))\n",
        "print(\"Total rows of the validation set: {:d}\".format(len(val_set)))\n",
        "print(\"Total rows of the test set: {:d}\".format(len(test_set)))"
      ],
      "execution_count": 4,
      "outputs": [
        {
          "output_type": "stream",
          "name": "stdout",
          "text": [
            "Index(['Unnamed: 0', 'Claim', 'Evidence', 'ID', 'Label'], dtype='object')\n",
            "Total rows of the train set: 121740\n",
            "Total rows of the validation set: 7165\n",
            "Total rows of the test set: 7189\n"
          ]
        }
      ]
    },
    {
      "cell_type": "code",
      "metadata": {
        "colab": {
          "base_uri": "https://localhost:8080/"
        },
        "id": "kTfRZo0zJv16",
        "outputId": "b10cb629-a80c-4e71-9190-771e2c458052"
      },
      "source": [
        "train_set['Label'].value_counts()"
      ],
      "execution_count": 5,
      "outputs": [
        {
          "output_type": "execute_result",
          "data": {
            "text/plain": [
              "SUPPORTS    89389\n",
              "REFUTES     32351\n",
              "Name: Label, dtype: int64"
            ]
          },
          "metadata": {},
          "execution_count": 5
        }
      ]
    },
    {
      "cell_type": "markdown",
      "metadata": {
        "id": "yBtVzSl_J0CR"
      },
      "source": [
        "# Dataset pre-processing and conversion"
      ]
    },
    {
      "cell_type": "code",
      "metadata": {
        "id": "mps78KxwJ1e6"
      },
      "source": [
        "REPLACE_BY_SPACE_RE = re.compile('[/(){}\\[\\]\\|@,;\\t-]')\n",
        "GOOD_SYMBOLS_RE = re.compile('[^0-9a-z #+_]')\n",
        "BAD_SYMBOLS_RE = re.compile('(-LRB-)|(-RRB-)|(-LSB-)|(-RSB-)')\n",
        "INSIDE_SQAURE_BRACKETS_RE = re.compile('(-LSB-).*?(-RSB-)')\n",
        "\n",
        "try:\n",
        "    STOPWORDS = set(stopwords.words('english'))\n",
        "except LookupError:\n",
        "    nltk.download('stopwords')\n",
        "    STOPWORDS = set(stopwords.words('english'))\n",
        "\n",
        "def remove_inside_square_brackets(text: str) -> str:\n",
        "    return INSIDE_SQAURE_BRACKETS_RE.sub('', text)\n",
        "\n",
        "def remove_bad_symbols(text: str) -> str:\n",
        "    return BAD_SYMBOLS_RE.sub('', text)\n",
        "\n",
        "def remove_final_tags(text: str) -> str:\n",
        "   return re.sub('\\.\\t.*?$', '', text) \n",
        "\n",
        "def lower(text: str) -> str:\n",
        "    \"\"\"\n",
        "    Transforms given text to lower case.\n",
        "    Example:\n",
        "    Input: 'I really like New York city'\n",
        "    Output: 'i really like new your city'\n",
        "    \"\"\"\n",
        "\n",
        "    return text.lower()\n",
        "\n",
        "def replace_special_characters(text: str) -> str:\n",
        "    \"\"\"\n",
        "    Replaces special characters, such as paranthesis,\n",
        "    with spacing character\n",
        "    \"\"\"\n",
        "\n",
        "    return REPLACE_BY_SPACE_RE.sub(' ', text)\n",
        "\n",
        "def replace_br(text: str) -> str:\n",
        "    \"\"\"\n",
        "    Replaces br characters\n",
        "    \"\"\"\n",
        "\n",
        "    return text.replace('</br>', '')\n",
        "\n",
        "def filter_out_uncommon_symbols(text: str) -> str:\n",
        "    \"\"\"\n",
        "    Removes any special character that is not in the\n",
        "    good symbols list (check regular expression)\n",
        "    \"\"\"\n",
        "\n",
        "    return GOOD_SYMBOLS_RE.sub('', text)\n",
        "\n",
        "def remove_stopwords(text: str) -> str:\n",
        "    return ' '.join([x for x in text.split() if x and x not in STOPWORDS])\n",
        "\n",
        "\n",
        "def strip_text(text: str) -> str:\n",
        "    \"\"\"\n",
        "    Removes any left or right spacing (including carriage return) from text.\n",
        "    Example:\n",
        "    Input: '  This assignment is cool\\n'\n",
        "    Output: 'This assignment is cool'\n",
        "    \"\"\"\n",
        "\n",
        "    return text.strip()\n",
        "\n",
        "def split_text(text: str) -> List:\n",
        "  return text.split()\n",
        "\n",
        "PREPROCESSING_PIPELINE = [\n",
        "                          remove_inside_square_brackets,\n",
        "                          remove_bad_symbols,\n",
        "                          lower,\n",
        "                          remove_final_tags,\n",
        "                          replace_special_characters,\n",
        "                          filter_out_uncommon_symbols,\n",
        "                          remove_stopwords,\n",
        "                          strip_text,\n",
        "                          split_text\n",
        "                          ]\n",
        "\n",
        "# Anchor method\n",
        "\n",
        "def text_prepare(text: str,\n",
        "                 filter_methods: List[Callable[[str], str]] = None) -> str:\n",
        "    \"\"\"\n",
        "    Applies a list of pre-processing functions in sequence (reduce).\n",
        "    Note that the order is important here!\n",
        "    \"\"\"\n",
        "\n",
        "    filter_methods = filter_methods if filter_methods is not None else PREPROCESSING_PIPELINE\n",
        "\n",
        "    return reduce(lambda txt, f: f(txt), filter_methods, text)\n",
        "\n",
        "\n",
        "# In the evidences there is an id at the beginning of the sequence which is\n",
        "# removed with the splice [:1]\n",
        "train_set['Evidence'] = train_set['Evidence'].apply(lambda txt: text_prepare(txt)[1:])\n",
        "train_set['Claim'] = train_set['Claim'].apply(lambda txt: text_prepare(txt))\n",
        "\n",
        "val_set['Evidence'] = val_set['Evidence'].apply(lambda txt: text_prepare(txt)[1:])\n",
        "val_set['Claim'] = val_set['Claim'].apply(lambda txt: text_prepare(txt))\n",
        "\n",
        "test_set['Evidence'] = test_set['Evidence'].apply(lambda txt: text_prepare(txt)[1:])\n",
        "test_set['Claim'] = test_set['Claim'].apply(lambda txt: text_prepare(txt))"
      ],
      "execution_count": 6,
      "outputs": []
    },
    {
      "cell_type": "markdown",
      "metadata": {
        "collapsed": false,
        "pycharm": {
          "name": "#%% md\n"
        },
        "id": "kFRnAOuk2Wjb"
      },
      "source": [
        "## Padding"
      ]
    },
    {
      "cell_type": "code",
      "metadata": {
        "pycharm": {
          "name": "#%%\n"
        },
        "id": "jIOi2u_m2Wjd"
      },
      "source": [
        "# add padding to the train set\n",
        "max_claim = max(map(lambda x : len(x), train_set['Claim']))\n",
        "max_evidence = max(map(lambda x : len(x), train_set['Evidence']))\n",
        "train_set['Claim'] = utils.pad_data(train_set['Claim'],max_claim)\n",
        "train_set['Evidence'] = utils.pad_data(train_set['Evidence'],max_evidence)\n",
        "\n",
        "# add padding to the validation set\n",
        "max_claim = max(map(lambda x : len(x), val_set['Claim']))\n",
        "max_evidence = max(map(lambda x : len(x), val_set['Evidence']))\n",
        "val_set['Claim'] = utils.pad_data(val_set['Claim'],max_claim)\n",
        "val_set['Evidence'] = utils.pad_data(val_set['Evidence'],max_evidence)"
      ],
      "execution_count": 7,
      "outputs": []
    },
    {
      "cell_type": "code",
      "metadata": {
        "pycharm": {
          "name": "#%%\n"
        },
        "id": "ePHzgALO2Wjd"
      },
      "source": [
        "class Dataset(torch.utils.data.Dataset):\n",
        "    \"\"\"Simple dataset class to use dataloaders (batching) \"\"\"\n",
        "    def __init__(self, claims, evidences, labels):\n",
        "        self.claims = claims\n",
        "        self.evidences = evidences\n",
        "        self.labels = torch.tensor(labels, dtype=torch.float)\n",
        "    def __getitem__(self, idx):\n",
        "        return self.claims[idx], self.evidences[idx], self.labels[idx]\n",
        "    def __len__(self):\n",
        "        return self.claims.shape[0]"
      ],
      "execution_count": 16,
      "outputs": []
    },
    {
      "cell_type": "markdown",
      "metadata": {
        "id": "Fo02GPAtUBlt"
      },
      "source": [
        "## Glove"
      ]
    },
    {
      "cell_type": "code",
      "metadata": {
        "id": "gbq8J24TXLdm",
        "colab": {
          "base_uri": "https://localhost:8080/"
        },
        "outputId": "ae51d47d-f610-4568-d79c-a2653c3e6b66"
      },
      "source": [
        "import pickle\n",
        "\n",
        "if (os.path.exists(\"res/vocabulary.pkl\") and os.path.exists(\"res/embedding_matrix.npy\")):\n",
        "  print('The vocabulary and the embedding matrix are already present. Loading them...')\n",
        "  with open('res/vocabulary.pkl', 'rb') as f:\n",
        "    VOCABULARY = pickle.load(f)\n",
        "  EMBEDDING_MATRIX = np.load(\"res/embedding_matrix.npy\", )\n",
        "  print(\"Done!\")\n",
        "  \n",
        "else:\n",
        "  print(\"The vocabulary and the embedding matrix are NOT present. Creating them...\")\n",
        "  TRAIN_VOC = set(vocabulary)\n",
        "  voc_evidence = [item for sublist in val_set[:]['Evidence'] for item in sublist]\n",
        "  voc_claim = [item for sublist in val_set[:]['Claim'] for item in sublist]\n",
        "  VAL_VOC = set(voc_evidence + voc_claim)\n",
        "\n",
        "  inputs = train_set[:]['Evidence'].tolist() + train_set[:]['Claim'].tolist()\n",
        "  glove_voc, embedding_matrix = utils.get_glove(number_token=False)\n",
        "  vocabulary, embedding_matrix = utils.add_oov(glove_voc, TRAIN_VOC, embedding_matrix, inputs)\n",
        "  inputs = val_set[:]['Evidence'].tolist() + val_set[:]['Claim'].tolist()\n",
        "  vocabulary, embedding_matrix = utils.add_oov(vocabulary, VAL_VOC, embedding_matrix, inputs)\n",
        "\n",
        "  with open(\"res/vocabulary.pkl\", \"wb\") as file:\n",
        "    pickle.dump(vocabulary, file)\n",
        "  np.save(\"res/embedding_matrix.npy\", embedding_matrix)\n",
        "  print(\"Vocabulary and embedding matrix created! Remember to download the generated files.\")"
      ],
      "execution_count": 9,
      "outputs": [
        {
          "output_type": "stream",
          "name": "stdout",
          "text": [
            "The vocabulary and the embedding matrix are already present. Loading them...\n",
            "Done!\n"
          ]
        }
      ]
    },
    {
      "cell_type": "markdown",
      "metadata": {
        "collapsed": false,
        "pycharm": {
          "name": "#%% md\n"
        },
        "id": "--zNevYb2Wjg"
      },
      "source": [
        "## Tokenization"
      ]
    },
    {
      "cell_type": "code",
      "metadata": {
        "pycharm": {
          "name": "#%%\n"
        },
        "id": "W7Li-ZY72Wjh"
      },
      "source": [
        "voc_key_list = list(VOCABULARY.keys())\n",
        "voc_val_list = list(VOCABULARY.values())\n",
        "\n",
        "def tokenize(input: List) -> torch.Tensor:\n",
        "  result = list(map(lambda x: VOCABULARY[x], input))\n",
        "  return torch.tensor(result)\n",
        "\n",
        "def detokenize(input: torch.Tensor) -> List:\n",
        "  result = input.tolist()\n",
        "  result = list(map(lambda x: voc_key_list[voc_val_list.index(x)], result))\n",
        "  return result\n",
        "\n",
        "# tokenize training set\n",
        "train_set['Evidence'] = train_set['Evidence'].map(tokenize)\n",
        "train_set['Claim'] = train_set['Claim'].map(tokenize)\n",
        "train_set['Label'] = train_set['Label'].map(lambda x: float(1.0) if x == 'SUPPORTS' else float(0.0))\n",
        "\n",
        "# tokenize validation set\n",
        "val_set['Evidence'] = val_set['Evidence'].map(tokenize)\n",
        "val_set['Claim'] = val_set['Claim'].map(tokenize)\n",
        "val_set['Label'] = val_set['Label'].map(lambda x: float(1.0) if x == 'SUPPORTS' else float(0.0))"
      ],
      "execution_count": 10,
      "outputs": []
    },
    {
      "cell_type": "markdown",
      "metadata": {
        "collapsed": false,
        "id": "84ym75Vh2Wjh"
      },
      "source": [
        "# Model definition"
      ]
    },
    {
      "cell_type": "code",
      "metadata": {
        "id": "J0Hk8G5NcuS4"
      },
      "source": [
        "def get_binary_classifier(name:str,\n",
        "                    w_in: int,\n",
        "                    w_hidden: int) -> nn.Sequential:\n",
        "    \"\"\"Gets a sequential container with a linear+relu+linear classifier\n",
        "\n",
        "    Args:\n",
        "        name: the name prefix to append to each layer in the container.\n",
        "        w_in: the number of the input features.\n",
        "        w_hidden: the number of internal weights\n",
        "\n",
        "    Returns: the created sequential.\n",
        "    \"\"\"\n",
        "    container = nn.Sequential()\n",
        "    container.add_module(f'{name}_fc1', nn.Linear(in_features=w_in, out_features=w_hidden))    \n",
        "    container.add_module(f'{name}_ReLU', nn.ReLU(inplace=True))\n",
        "    container.add_module(f'{name}_fc2', nn.Linear(in_features=w_hidden, out_features=1))\n",
        "    container.add_module(f'{name}_sigmoid', nn.Sigmoid())\n",
        "    return container\n",
        "\n",
        " \n",
        "class RNNEncoder(torch.nn.Module):\n",
        "\n",
        "  def __init__(self, input_size, hidden_size, num_layers, rnn_type='elman', output_state='last', verbose=False):\n",
        "    super().__init__()\n",
        "    if verbose:\n",
        "      print('Initializing RNNEncoder ')\n",
        "    types = {'elman': nn.RNN, 'lstm': nn.LSTM, 'gru': nn.GRU}\n",
        "    states = {\n",
        "        'last': lambda x: x[:,-1],\n",
        "        'avg': lambda x: torch.mean(x, dim=1)}\n",
        "    \n",
        "    try:\n",
        "      self.output_state_fn = states[output_state]\n",
        "    except:\n",
        "      valid_states = list(states.keys())\n",
        "      raise ValueError(f\"wrong type '{output_state}', must be in {valid_states}\")\n",
        "\n",
        "    try:\n",
        "      rec_module = types[rnn_type]\n",
        "    except:\n",
        "      valid_types = list(types.keys())\n",
        "      raise ValueError(f\"wrong type '{rnn_type}', must be in {valid_types}\")\n",
        "    self.rec_module = rec_module(input_size=input_size, hidden_size=hidden_size,\n",
        "                                 bidirectional=True, batch_first=True,\n",
        "                                 num_layers=num_layers)\n",
        "    \n",
        "  def forward(self, x):\n",
        "    output, _ = self.rec_module(x)\n",
        "    return self.output_state_fn(output)\n",
        "\n",
        "class BagOfVectorsEncoder(torch.nn.Module):\n",
        "\n",
        "  def __init__(self):\n",
        "    super().__init__()\n",
        "\n",
        "  def forward(self, x):\n",
        "    # TODO: check if the mean is computed on the right axis\n",
        "    return torch.mean(x, dim=1)\n"
      ],
      "execution_count": 11,
      "outputs": []
    },
    {
      "cell_type": "code",
      "metadata": {
        "id": "-rpXu4uhqcnH"
      },
      "source": [
        "class FactChecker(torch.nn.Module):\n",
        "\n",
        "  def __init__(self, embedding_matrix, encoder, merger, rnn_type=None, rnn_output=None, rec_size=1, hid_size=50):\n",
        "    \"\"\"\n",
        "      A recurrent network performing Neural Language Inference (Fact Checking).\n",
        "      Params:\n",
        "        embedding_matrix: the embedding matrix for word embedding\n",
        "        encoder: [rnn, mlp, bag], the encoder to compute the sentence embedding\n",
        "        merger: [concatenation, sum, mean], the multi-input merging strategy\n",
        "        RNNEncoder params, only relevant if encoder==rnn:\n",
        "          rnn_type: [elman, lstm, gru], the RNN architecure used in the encoder\n",
        "          rnn_output: [last, avg], the function to compute the sentence encoding from the RNN hidden states\n",
        "          rec_size: int, the number of layers in the rnn\n",
        "          hid_size: int, the hidden size of the rnn\n",
        "\n",
        "    \"\"\"\n",
        "    super().__init__()\n",
        "    self.hid_size = hid_size\n",
        "\n",
        "    # Word embedding\n",
        "    emb_size = embedding_matrix.shape[1]\n",
        "    self.emb_layer = nn.Embedding.from_pretrained(torch.as_tensor(embedding_matrix))\n",
        "\n",
        "    # Sentence embedding\n",
        "    if encoder == 'rnn':\n",
        "      self.encoder = RNNEncoder(emb_size, hid_size, rec_size, rnn_type=rnn_type, output_state=rnn_output)\n",
        "    elif encoder == 'mlp':\n",
        "      pass #TODO: implement\n",
        "    elif encoder == 'bag':\n",
        "      self.encoder = BagOfVectorsEncoder()\n",
        "    else:\n",
        "      raise ValueError(f\"Wrong encoder '{encoder}', must be in ['rnn', 'mlp', 'bag']\")\n",
        "\n",
        "    # Merging\n",
        "    merging_strategies = {\n",
        "        'concatenation': lambda claim, ev: torch.cat((claim, ev), dim=1),\n",
        "        'sum': lambda claim, ev : claim + ev,\n",
        "        'mean': lambda claim, ev : (claim + ev) / 2\n",
        "    }\n",
        "    try:\n",
        "      merging_fn = merging_strategies[merger]\n",
        "    except:\n",
        "      valid_strategies = list(merging_strategies.keys())\n",
        "      raise ValueError(f\"wrong type '{merger}', must be in {valid_strategies}\")\n",
        "    self.merger = merging_fn\n",
        "\n",
        "    # Classifier\n",
        "    classifier_in = self.hid_size * 2\n",
        "    if merger == 'concatenation':\n",
        "      classifier_in *= 2\n",
        "    self.classifier = get_binary_classifier('classifier', w_in=classifier_in, w_hidden=self.hid_size)\n",
        "\n",
        "  def __call__(self, claim, evidence, debug=False):\n",
        "    # Word embedding\n",
        "    claim = self.emb_layer(claim).float()\n",
        "    evidence = self.emb_layer(evidence).float()\n",
        "    if debug:\n",
        "      print(\"After word embedding\")\n",
        "      print(f\"\\tclaim.shape: {claim.shape}\")\n",
        "      print(f\"\\tevidence.shape: {evidence.shape}\")\n",
        "    # Sentence embedding\n",
        "    claim = self.encoder(claim)\n",
        "    evidence = self.encoder(evidence)\n",
        "    if debug:\n",
        "      print(\"After phrase encoding\")\n",
        "      print(f\"\\tclaim.shape: {claim.shape}\")\n",
        "      print(f\"\\tevidence.shape: {evidence.shape}\")\n",
        "    # Merging\n",
        "    merged_data = self.merger(claim, evidence)\n",
        "    if debug:\n",
        "      print(\"After merging\")\n",
        "      print(f\"\\tmerged_data.shape: {merged_data.shape}\")\n",
        "    # Classifying\n",
        "    output = self.classifier(merged_data)\n",
        "\n",
        "\n",
        "\n",
        "    return output"
      ],
      "execution_count": 12,
      "outputs": []
    },
    {
      "cell_type": "markdown",
      "metadata": {
        "id": "_GDv0pqw3UsB"
      },
      "source": [
        "# Training"
      ]
    },
    {
      "cell_type": "code",
      "metadata": {
        "id": "OWtu6Umy3UPr"
      },
      "source": [
        "def training_step(model, optimizer, loss_fn, data_loader, device):\n",
        "  model.train()\n",
        "  log_dict = {'train/loss': []}\n",
        "\n",
        "  for (claim, evidence, label) in data_loader:\n",
        "    # forward\n",
        "    if device is not None:\n",
        "      claim = torch.tensor(claim).to(device)\n",
        "      evidence = torch.tensor(evidence).to(device)\n",
        "      label = torch.tensor(label).to(device)\n",
        "    output = torch.squeeze(model(claim, evidence))\n",
        "    loss = loss_fn(output, label)\n",
        "    loss_value = loss.item()\n",
        "\n",
        "    if not math.isfinite(loss_value):\n",
        "      print(f\"Loss is {loss_value}, stopping training\")\n",
        "      exit(1)\n",
        "\n",
        "    # backward\n",
        "    optimizer.zero_grad()\n",
        "    loss.backward()\n",
        "    optimizer.step()\n",
        "\n",
        "    log_dict['train/loss'].append(loss_value)\n",
        "\n",
        "  return log_dict\n",
        "\n",
        "\n",
        "def evaluate(model, loss_fn, data_loader, device, metric='accuracy'):\n",
        "  \"\"\"\n",
        "    Evaluate model on the given dataloader.\n",
        "    Parameters:\n",
        "      model: torch.nn.Module to evaluate\n",
        "      loss_fn: torch.nn criterion to use to compute loss, given outputs and targets\n",
        "      data_loader: torch.utils.data.DataLoader\n",
        "      device: torch.device where evaluation is performed\n",
        "      metric: either 'accuracy' or 'f1'\n",
        "    Returns log dict {'valid/loss' : mean loss, 'valid/{metric}': mean metric}\n",
        "  \"\"\"\n",
        "  model.eval()\n",
        "  batch_losses = []\n",
        "  batch_metrics = []\n",
        "  if metric == 'f1':\n",
        "    assert len(data_loader) == 1 # must be a single batch\n",
        "    split = 'test'\n",
        "  else:\n",
        "    split = 'valid'\n",
        "  with torch.no_grad():\n",
        "    for claim, evidence, label in data_loader:\n",
        "      claim = claim.to(device)\n",
        "      evidence = evidence.to(device)\n",
        "      label = label.to(device)\n",
        "\n",
        "      logprobs = model(claim, evidence).transpose(1, 2)\n",
        "      loss_value = loss_fn(logprobs, label).item()\n",
        "      preds = torch.argmax(logprobs, 1)\n",
        "\n",
        "      if metric == 'accuracy':\n",
        "        metric_value = ((label == preds).sum() / (data_loader.batch_size * label.shape[1])).item()\n",
        "      else:\n",
        "        raise ValueError(f'wrong metric {metric}, must be in [accuracy]')\n",
        "\n",
        "      batch_losses.append(loss_value)\n",
        "      batch_metrics.append(metric_value)\n",
        "\n",
        "  log_dict = {f'{split}/loss': np.mean(batch_losses),\n",
        "             f'{split}/{metric}': np.mean(batch_metrics) if metric == 'accuracy' else batch_metrics[0]}\n",
        "  return log_dict\n"
      ],
      "execution_count": 13,
      "outputs": []
    },
    {
      "cell_type": "code",
      "metadata": {
        "id": "em6r40Wq7NWn"
      },
      "source": [
        "def train(optimizer_name, lr, loss_fn, device, n_epochs, verbose, batch_size, test=False, **model_params):\n",
        "  cfg_dict = {'epochs': n_epochs, 'batch_size': batch_size, 'optimizer': optimizer_name}\n",
        "\n",
        "  wandb.login(key=utils.get_wandbkey())\n",
        "  run = wandb.init(project=\"assignment-two\", entity=\"nlpetroni\", reinit=True, config=cfg_dict)\n",
        "  wandb.define_metric(\"train_step\")\n",
        "  wandb.define_metric(\"epoch\")\n",
        "  wandb.define_metric('train/loss', step_metric=\"train_step\", summary=\"min\")\n",
        "  wandb.define_metric(\"valid/loss\", step_metric=\"epoch\", summary=\"min\")\n",
        "  wandb.define_metric(\"valid/accuracy\", step_metric=\"epoch\", summary=\"max\")\n",
        "\n",
        "  if len(model_params) == 0:\n",
        "      model_params = {\n",
        "          'encoder': 'rnn',\n",
        "          'merger': 'concatenation',\n",
        "          'rnn_type': 'elman',\n",
        "          'rnn_output': 'last',\n",
        "          'rec_size': 1,\n",
        "          'hid_size': 50\n",
        "      }\n",
        "  train_dl = torch.utils.data.DataLoader(\n",
        "    Dataset(train_set['Claim'], train_set['Evidence'], train_set['Label']),\n",
        "    batch_size=batch_size)\n",
        "  valid_dl = torch.utils.data.DataLoader(\n",
        "    Dataset(val_set['Claim'], val_set['Evidence'], val_set['Label']),\n",
        "    batch_size=batch_size)\n",
        "\n",
        "  model = FactChecker(EMBEDDING_MATRIX, **model_params)\n",
        "  wandb.watch(model, log_graph=True)\n",
        "  #if verbose:\n",
        "    #print(summary(model))\n",
        "\n",
        "  params = [p for p in model.parameters() if p.requires_grad]\n",
        "  if optimizer_name == 'rmsprop':\n",
        "    optimizer = torch.optim.RMSprop(params, lr=lr, alpha=0.99, momentum=0.5, weight_decay=0)\n",
        "  elif optimizer_name == 'adam':\n",
        "    optimizer = torch.optim.Adam(params, lr=lr, betas=(0.9, 0.999), weight_decay=0)\n",
        "  else:\n",
        "    raise ValueError(f'wrong optim {optimizer_name}, either rmsprop or adam')\n",
        "\n",
        "  loss = nn.BCELoss()\n",
        "  train_step = 0\n",
        "  print('STARTING TRAINING')\n",
        "\n",
        "  for epoch in range(n_epochs):\n",
        "    log_dict = training_step(model, optimizer, loss, train_dl, device)\n",
        "    if not test:\n",
        "      log_dict.update(evaluate(model, loss, valid_dl, device, metric=metric))\n",
        "      for batch_loss in log_dict['train/loss']:\n",
        "        wandb.log({'train_step': train_step, 'epoch': epoch, 'train/loss': batch_loss})\n",
        "        train_step += 1\n",
        "      wandb.log({'epoch': epoch, 'valid/loss': log_dict['valid/loss'], 'valid/accuracy': log_dict['valid/accuracy']})\n",
        "      if (epoch % 50) == 0:\n",
        "        print(f'[{epoch:03d}/{n_epochs:03d}] train loss: {np.mean(log_dict[\"train/loss\"]):.3f}, valid loss: {log_dict[\"valid/loss\"]:.3f}, accuracy: {log_dict[\"valid/accuracy\"]:.2f}')\n",
        "  if test:\n",
        "    #log_dict = evaluate(model, loss, test_dl, device, metric=metric)\n",
        "    wandb.log()\n",
        "\n",
        "  run.finish()\n",
        "  return model\n"
      ],
      "execution_count": 17,
      "outputs": []
    },
    {
      "cell_type": "code",
      "metadata": {
        "id": "vJP2oodB-kS5",
        "pycharm": {
          "name": "#%%\n"
        },
        "colab": {
          "base_uri": "https://localhost:8080/",
          "height": 228,
          "referenced_widgets": [
            "5d6b6df4b14544a399c2a0e2bd9a9665",
            "588f840b4fed4e77b39927864a1ae95b",
            "1aa577f5ca1f441a94e37be4782923ec",
            "62295e9300c54fcd8af83d2afa5d3dde",
            "2f9d45ed2a0247a990545c33be238478",
            "ce1f66fd70b447e3becd369e8c7faa59",
            "dee4e314b2254244bf9cf900984e58b5",
            "0a42e2bbc95247449fb4421cf2c531c9"
          ]
        },
        "outputId": "d65a94ec-b459-43ac-f69e-d98abb5aa27c"
      },
      "source": [
        "train(optimizer_name='adam', lr=0.1, loss_fn='', device=None, n_epochs=1, verbose=True, batch_size=10)\n"
      ],
      "execution_count": null,
      "outputs": [
        {
          "output_type": "stream",
          "name": "stderr",
          "text": [
            "\u001b[34m\u001b[1mwandb\u001b[0m: \u001b[33mWARNING\u001b[0m Calling wandb.login() after wandb.init() has no effect.\n"
          ]
        },
        {
          "output_type": "display_data",
          "data": {
            "text/html": [
              "Finishing last run (ID:307v9k2b) before initializing another..."
            ],
            "text/plain": [
              "<IPython.core.display.HTML object>"
            ]
          },
          "metadata": {}
        },
        {
          "output_type": "display_data",
          "data": {
            "text/html": [
              "<br/>Waiting for W&B process to finish, PID 842... <strong style=\"color:green\">(success).</strong>"
            ],
            "text/plain": [
              "<IPython.core.display.HTML object>"
            ]
          },
          "metadata": {}
        },
        {
          "output_type": "display_data",
          "data": {
            "application/vnd.jupyter.widget-view+json": {
              "model_id": "5d6b6df4b14544a399c2a0e2bd9a9665",
              "version_minor": 0,
              "version_major": 2
            },
            "text/plain": [
              "VBox(children=(Label(value=' 0.00MB of 0.00MB uploaded (0.00MB deduped)\\r'), FloatProgress(value=1.0, max=1.0)…"
            ]
          },
          "metadata": {}
        },
        {
          "output_type": "display_data",
          "data": {
            "text/html": [
              "<style>\n",
              "    table.wandb td:nth-child(1) { padding: 0 10px; text-align: right }\n",
              "    .wandb-row { display: flex; flex-direction: row; flex-wrap: wrap; width: 100% }\n",
              "    .wandb-col { display: flex; flex-direction: column; flex-basis: 100%; flex: 1; padding: 10px; }\n",
              "    </style>\n",
              "<div class=\"wandb-row\"><div class=\"wandb-col\">\n",
              "</div><div class=\"wandb-col\">\n",
              "</div></div>\n",
              "Synced 5 W&B file(s), 1 media file(s), 0 artifact file(s) and 0 other file(s)\n",
              "<br/>Synced <strong style=\"color:#cdcd00\">deft-surf-36</strong>: <a href=\"https://wandb.ai/nlpetroni/assignment-two/runs/307v9k2b\" target=\"_blank\">https://wandb.ai/nlpetroni/assignment-two/runs/307v9k2b</a><br/>\n",
              "Find logs at: <code>./wandb/run-20211204_161203-307v9k2b/logs</code><br/>\n"
            ],
            "text/plain": [
              "<IPython.core.display.HTML object>"
            ]
          },
          "metadata": {}
        },
        {
          "output_type": "display_data",
          "data": {
            "text/html": [
              "Successfully finished last run (ID:307v9k2b). Initializing new run:<br/>"
            ],
            "text/plain": [
              "<IPython.core.display.HTML object>"
            ]
          },
          "metadata": {}
        },
        {
          "output_type": "display_data",
          "data": {
            "text/html": [
              "\n",
              "                    Syncing run <strong><a href=\"https://wandb.ai/nlpetroni/assignment-two/runs/scrrlt7r\" target=\"_blank\">absurd-voice-38</a></strong> to <a href=\"https://wandb.ai/nlpetroni/assignment-two\" target=\"_blank\">Weights & Biases</a> (<a href=\"https://docs.wandb.com/integrations/jupyter.html\" target=\"_blank\">docs</a>).<br/>\n",
              "\n",
              "                "
            ],
            "text/plain": [
              "<IPython.core.display.HTML object>"
            ]
          },
          "metadata": {}
        },
        {
          "output_type": "stream",
          "name": "stderr",
          "text": [
            "\u001b[34m\u001b[1mwandb\u001b[0m: logging graph, to disable use `wandb.watch(log_graph=False)`\n"
          ]
        },
        {
          "output_type": "stream",
          "name": "stdout",
          "text": [
            "STARTING TRAINING\n"
          ]
        }
      ]
    },
    {
      "cell_type": "code",
      "metadata": {
        "id": "zLN_2EgW3A0P"
      },
      "source": [
        "print(train_set.iloc[:10]['Label'])"
      ],
      "execution_count": null,
      "outputs": []
    }
  ]
}