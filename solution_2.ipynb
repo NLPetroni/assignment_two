{
  "cells": [
    {
      "cell_type": "markdown",
      "metadata": {
        "id": "view-in-github",
        "colab_type": "text"
      },
      "source": [
        "<a href=\"https://colab.research.google.com/github/NLPetroni/assignment_two/blob/main/solution_2.ipynb\" target=\"_parent\"><img src=\"https://colab.research.google.com/assets/colab-badge.svg\" alt=\"Open In Colab\"/></a>"
      ]
    },
    {
      "cell_type": "markdown",
      "metadata": {
        "id": "m5ldIOU6KPl4"
      },
      "source": [
        "# Imports and downloads\n",
        "\n"
      ]
    },
    {
      "cell_type": "code",
      "execution_count": 1,
      "metadata": {
        "colab": {
          "base_uri": "https://localhost:8080/"
        },
        "id": "zpI5pddAJRU5",
        "outputId": "bd207911-3186-48a8-c7c3-40b941645b9b"
      },
      "outputs": [
        {
          "output_type": "stream",
          "name": "stdout",
          "text": [
            "/content\n",
            "/content/assignment_two\n"
          ]
        }
      ],
      "source": [
        "import random\n",
        "\n",
        "import numpy as np\n",
        "import pandas as pd\n",
        "import sys\n",
        "import os\n",
        "\n",
        "try:\n",
        "  import google.colab\n",
        "  IN_COLAB = True\n",
        "except:\n",
        "  IN_COLAB = False\n",
        "\n",
        "if not os.path.isdir('res'):\n",
        "    os.mkdir('res')\n",
        "\n",
        "if IN_COLAB:\n",
        "  %cd /content\n",
        "  !rm -rf assignment_two &> /dev/null\n",
        "  !git clone https://github.com/NLPetroni/assignment_two &> /dev/null\n",
        "  %cd assignment_two\n",
        "  sys.path.append(os.getcwd())\n",
        "  !git clone https://gitlab.com/sasso-effe/nlp-assignment-data.git &> /dev/null\n",
        "  !mv nlp-assignment-data/embedding_matrix.npy res/embedding_matrix.npy\n",
        "  !rm -rf nlp-assignment-data\n",
        "  !pip install wandb &> /dev/null\n",
        "  !pip install torchinfo &> /dev/null"
      ]
    },
    {
      "cell_type": "code",
      "execution_count": 2,
      "metadata": {
        "id": "o2uzDyzCKrGy",
        "pycharm": {
          "name": "#%%\n"
        }
      },
      "outputs": [],
      "source": [
        "import re\n",
        "import math\n",
        "from functools import reduce\n",
        "from typing import List, Callable\n",
        "import pickle\n",
        "\n",
        "import wandb\n",
        "import nltk\n",
        "from nltk.corpus import stopwords\n",
        "import torch\n",
        "from torch import nn\n",
        "from torchinfo import summary\n",
        "from sklearn.metrics import f1_score, precision_score, recall_score, accuracy_score\n",
        "\n",
        "from src import utils\n",
        "\n",
        "device = torch.device('cuda') if torch.cuda.is_available() else torch.device('cpu')"
      ]
    },
    {
      "cell_type": "code",
      "execution_count": 3,
      "metadata": {
        "colab": {
          "base_uri": "https://localhost:8080/"
        },
        "id": "0zr8CGx9JmRN",
        "outputId": "e9033848-5c36-459a-c2ed-51975b9a1390"
      },
      "outputs": [
        {
          "output_type": "stream",
          "name": "stdout",
          "text": [
            "Downloading FEVER data splits...\n",
            "Download completed!\n",
            "Extracting dataset...\n",
            "Extraction completed!\n",
            "Index(['Unnamed: 0', 'Claim', 'Evidence', 'ID', 'Label'], dtype='object')\n",
            "Total rows of the train set: 121740\n",
            "Total rows of the validation set: 7165\n",
            "Total rows of the test set: 7189\n",
            "SUPPORTS    89389\n",
            "REFUTES     32351\n",
            "Name: Label, dtype: int64\n"
          ]
        }
      ],
      "source": [
        "def explore():\n",
        "    utils.download_data('dataset')\n",
        "    train_set = pd.read_csv(\"dataset/train_pairs.csv\")\n",
        "    val_set = pd.read_csv(\"dataset/val_pairs.csv\")\n",
        "    test_set = pd.read_csv(\"dataset/test_pairs.csv\")\n",
        "\n",
        "    print(train_set.columns)\n",
        "    print(\"Total rows of the train set: {:d}\".format(len(train_set)))\n",
        "    print(\"Total rows of the validation set: {:d}\".format(len(val_set)))\n",
        "    print(\"Total rows of the test set: {:d}\".format(len(test_set)))\n",
        "    print(train_set['Label'].value_counts())\n",
        "explore()"
      ]
    },
    {
      "cell_type": "markdown",
      "metadata": {
        "id": "yBtVzSl_J0CR"
      },
      "source": [
        "# Dataset pre-processing and conversion"
      ]
    },
    {
      "cell_type": "code",
      "execution_count": 4,
      "metadata": {
        "id": "mps78KxwJ1e6",
        "colab": {
          "base_uri": "https://localhost:8080/"
        },
        "outputId": "b3dc58e2-c8ad-4281-be6c-e2ca271951d7"
      },
      "outputs": [
        {
          "output_type": "stream",
          "name": "stdout",
          "text": [
            "[nltk_data] Downloading package stopwords to /root/nltk_data...\n",
            "[nltk_data]   Unzipping corpora/stopwords.zip.\n"
          ]
        }
      ],
      "source": [
        "REPLACE_BY_SPACE_RE = re.compile('[/(){}\\[\\]\\|@,;\\t-]')\n",
        "GOOD_SYMBOLS_RE = re.compile('[^0-9a-z #+_]')\n",
        "BAD_SYMBOLS_RE = re.compile('(-LRB-)|(-RRB-)|(-LSB-)|(-RSB-)')\n",
        "INSIDE_SQAURE_BRACKETS_RE = re.compile('(-LSB-).*?(-RSB-)')\n",
        "\n",
        "try:\n",
        "    STOPWORDS = set(stopwords.words('english'))\n",
        "except LookupError:\n",
        "    nltk.download('stopwords')\n",
        "    STOPWORDS = set(stopwords.words('english'))\n",
        "\n",
        "def remove_inside_square_brackets(text: str) -> str:\n",
        "    return INSIDE_SQAURE_BRACKETS_RE.sub('', text)\n",
        "\n",
        "def remove_bad_symbols(text: str) -> str:\n",
        "    return BAD_SYMBOLS_RE.sub('', text)\n",
        "\n",
        "def remove_final_tags(text: str) -> str:\n",
        "   return re.sub('\\.\\t.*?$', '', text) \n",
        "\n",
        "def lower(text: str) -> str:\n",
        "    \"\"\"\n",
        "    Transforms given text to lower case.\n",
        "    Example:\n",
        "    Input: 'I really like New York city'\n",
        "    Output: 'i really like new your city'\n",
        "    \"\"\"\n",
        "\n",
        "    return text.lower()\n",
        "\n",
        "def replace_special_characters(text: str) -> str:\n",
        "    \"\"\"\n",
        "    Replaces special characters, such as paranthesis,\n",
        "    with spacing character\n",
        "    \"\"\"\n",
        "\n",
        "    return REPLACE_BY_SPACE_RE.sub(' ', text)\n",
        "\n",
        "def replace_br(text: str) -> str:\n",
        "    \"\"\"\n",
        "    Replaces br characters\n",
        "    \"\"\"\n",
        "\n",
        "    return text.replace('</br>', '')\n",
        "\n",
        "def filter_out_uncommon_symbols(text: str) -> str:\n",
        "    \"\"\"\n",
        "    Removes any special character that is not in the\n",
        "    good symbols list (check regular expression)\n",
        "    \"\"\"\n",
        "\n",
        "    return GOOD_SYMBOLS_RE.sub('', text)\n",
        "\n",
        "def remove_stopwords(text: str) -> str:\n",
        "    return ' '.join([x for x in text.split() if x and x not in STOPWORDS])\n",
        "\n",
        "\n",
        "def strip_text(text: str) -> str:\n",
        "    \"\"\"\n",
        "    Removes any left or right spacing (including carriage return) from text.\n",
        "    Example:\n",
        "    Input: '  This assignment is cool\\n'\n",
        "    Output: 'This assignment is cool'\n",
        "    \"\"\"\n",
        "\n",
        "    return text.strip()\n",
        "\n",
        "def split_text(text: str) -> List:\n",
        "  return text.split()\n",
        "\n",
        "PREPROCESSING_PIPELINE = [\n",
        "                          remove_inside_square_brackets,\n",
        "                          remove_bad_symbols,\n",
        "                          lower,\n",
        "                          remove_final_tags,\n",
        "                          replace_special_characters,\n",
        "                          filter_out_uncommon_symbols,\n",
        "                          strip_text,\n",
        "                          split_text\n",
        "                          ]\n",
        "\n",
        "# Anchor method\n",
        "\n",
        "def text_prepare(text: str,\n",
        "                 filter_methods: List[Callable[[str], str]] = None) -> str:\n",
        "    \"\"\"\n",
        "    Applies a list of pre-processing functions in sequence (reduce).\n",
        "    Note that the order is important here!\n",
        "    \"\"\"\n",
        "\n",
        "    filter_methods = filter_methods if filter_methods is not None else PREPROCESSING_PIPELINE\n",
        "\n",
        "    return reduce(lambda txt, f: f(txt), filter_methods, text)\n",
        "\n",
        "def full_preprocessing(dataset):\n",
        "    # In the evidences there is an id at the beginning of the sequence which is\n",
        "    # removed with the splice [:1]\n",
        "    dataset['Evidence'] = dataset['Evidence'].apply(lambda txt: text_prepare(txt)[1:])\n",
        "    dataset['Claim'] = dataset['Claim'].apply(lambda txt: text_prepare(txt))\n",
        "    return dataset\n"
      ]
    },
    {
      "cell_type": "markdown",
      "metadata": {
        "collapsed": false,
        "id": "kFRnAOuk2Wjb",
        "pycharm": {
          "name": "#%% md\n"
        }
      },
      "source": [
        "## Padding"
      ]
    },
    {
      "cell_type": "code",
      "execution_count": 5,
      "metadata": {
        "id": "ePHzgALO2Wjd",
        "pycharm": {
          "name": "#%%\n"
        }
      },
      "outputs": [],
      "source": [
        "class Dataset(torch.utils.data.Dataset):\n",
        "    \"\"\"Simple dataset class to use dataloaders (batching) \"\"\"\n",
        "    def __init__(self, ids, claims, evidences, labels, majority_vote=False):\n",
        "        self.majority_vote = majority_vote\n",
        "        if self.majority_vote:\n",
        "            self.ids = ids\n",
        "            self.indexes = list(set(self.ids))\n",
        "            self.majority_data = [[(claims[i], evidences[i], labels[i]) for i, id in enumerate(self.ids) if id == idx]\n",
        "                                  for idx in self.indexes]\n",
        "        else:\n",
        "            self.claims = claims\n",
        "            self.evidences = evidences\n",
        "            self.labels = torch.tensor(labels, dtype=torch.float)\n",
        "\n",
        "    def __getitem__(self, idx):\n",
        "        if self.majority_vote:\n",
        "          item = self.majority_data[idx]\n",
        "        else:\n",
        "          item = self.claims[idx], self.evidences[idx], self.labels[idx]        \n",
        "        return item\n",
        "    def __len__(self):\n",
        "        return len(self.indexes) if self.majority_vote else self.claims.shape[0]"
      ]
    },
    {
      "cell_type": "code",
      "execution_count": 6,
      "metadata": {
        "id": "dMzmoTsXf_1_"
      },
      "outputs": [],
      "source": [
        "def to_tensor_collate(batch):\n",
        "    claims, evidences, labels = zip(*batch)\n",
        "    return torch.as_tensor(claims), None,  torch.as_tensor(evidences), None, torch.as_tensor(labels)\n",
        "\n",
        "\n",
        "def pad_batch_collate(batch):\n",
        "    \"\"\"Used by DataLoader to pad each batch independently\"\"\"\n",
        "    claims, evidences, targets = zip(*batch)\n",
        "\n",
        "    claims_lens = torch.as_tensor([len(seq) for seq in claims])\n",
        "    padded_claims = torch.nn.utils.rnn.pad_sequence([torch.as_tensor(seq) for seq in claims], \n",
        "                                                    batch_first=True, padding_value=utils.PAD_TOKEN)\n",
        "    evidences_lens = torch.as_tensor([len(seq) for seq in evidences])\n",
        "    padded_evidences = torch.nn.utils.rnn.pad_sequence([torch.as_tensor(seq) for seq in evidences], \n",
        "                                                    batch_first=True, padding_value=utils.PAD_TOKEN)\n",
        "    targets = torch.as_tensor(targets)\n",
        "\n",
        "    return padded_claims, claims_lens, padded_evidences, evidences_lens, targets\n",
        "\n",
        "\n",
        "def pad_vote_collate(batch):\n",
        "    \"\"\"\n",
        "    Collate function for the dataloader, used for majority voting evaluation.\n",
        "    Returns:\n",
        "        A list of batches, where each batch contains all the pairs claim-evidence for a single claim.\n",
        "        The list is unpacked in the evaluation method and passed batch-by-batch to the model.\n",
        "    \"\"\"\n",
        "    batch_res = []\n",
        "    \n",
        "    for elem in batch:\n",
        "        claims, evidences, targets = zip(*elem)\n",
        "        claims_lens = torch.as_tensor([len(seq) for seq in claims])\n",
        "        padded_claims = torch.nn.utils.rnn.pad_sequence([torch.as_tensor(seq) for seq in claims], \n",
        "                                                         batch_first=True, padding_value=utils.PAD_TOKEN)\n",
        "        evidences_lens = torch.as_tensor([len(seq) for seq in evidences])\n",
        "        padded_evidences = torch.nn.utils.rnn.pad_sequence([torch.as_tensor(seq) for seq in evidences], \n",
        "                                                            batch_first=True, padding_value=utils.PAD_TOKEN)\n",
        "        targets = torch.as_tensor(targets)\n",
        "        batch_res.append([padded_claims, claims_lens, padded_evidences, evidences_lens, targets])\n",
        "\n",
        "    return batch_res"
      ]
    },
    {
      "cell_type": "markdown",
      "metadata": {
        "id": "Fo02GPAtUBlt"
      },
      "source": [
        "## Glove"
      ]
    },
    {
      "cell_type": "code",
      "execution_count": 19,
      "metadata": {
        "id": "gbq8J24TXLdm"
      },
      "outputs": [],
      "source": [
        "def __generate_voc_and_matrix(train_set, val_set, test_set):\n",
        "  voc_evidence_train = [item for sublist in train_set['Evidence'] for item in sublist]\n",
        "  voc_claim_train = [item for sublist in train_set['Claim'] for item in sublist]\n",
        "  TRAIN_VOC = set(voc_evidence_train + voc_claim_train)\n",
        "  voc_evidence_val = [item for sublist in val_set['Evidence'] for item in sublist]\n",
        "  voc_claim_val = [item for sublist in val_set['Claim'] for item in sublist]\n",
        "  VAL_VOC = set(voc_evidence_val + voc_claim_val)\n",
        "  voc_evidence_test = [item for sublist in test_set['Evidence'] for item in sublist]\n",
        "  voc_claim_test = [item for sublist in test_set['Claim'] for item in sublist]\n",
        "  TEST_VOC = set(voc_evidence_test + voc_claim_test)\n",
        "\n",
        "  inputs = train_set['Evidence'].tolist() + train_set['Claim'].tolist()\n",
        "  glove_voc, embedding_matrix = utils.get_glove(number_token=False)\n",
        "  vocabulary, embedding_matrix = utils.add_oov(glove_voc, TRAIN_VOC, embedding_matrix, inputs)\n",
        "  inputs = val_set['Evidence'].tolist() + val_set['Claim'].tolist()\n",
        "  vocabulary, embedding_matrix = utils.add_oov(vocabulary, VAL_VOC, embedding_matrix, inputs)\n",
        "  inputs = test_set['Evidence'].tolist() + test_set['Claim'].tolist()\n",
        "  vocabulary, embedding_matrix = utils.add_oov(vocabulary, TEST_VOC, embedding_matrix, inputs)\n",
        "\n",
        "  with open(\"res/vocabulary.pkl\", \"wb\") as file:\n",
        "    pickle.dump(vocabulary, file)\n",
        "  np.save(\"res/embedding_matrix.npy\", embedding_matrix)\n",
        "  return vocabulary, embedding_matrix\n",
        "\n",
        "\n",
        "def get_voc_and_matrix(train_set, val_set, test_set):\n",
        "    if os.path.exists(\"res/vocabulary.pkl\"):\n",
        "      print('The vocabulary is already present. Loading it...', end=' ')\n",
        "      with open('res/vocabulary.pkl', 'rb') as f:\n",
        "        vocabulary = pickle.load(f)\n",
        "      print('Done!')\n",
        "      if os.path.exists(\"res/embedding_matrix.npy\"):\n",
        "        print('The embedding matrix is already present. Loading it...', end=' ')\n",
        "        embedding_matrix = np.load(\"res/embedding_matrix.npy\", )\n",
        "        print(\"Done!\")\n",
        "      else:\n",
        "        print('The embedding matrix is NOT present. You can download it from https://gitlab.com/sasso-effe/nlp-assignment-data and put it in the res folder. Alternatively you can generate a new embedding matrix, but the process is very long.\\n')\n",
        "        answer = input('Do you want to generate a new embedding matrix (and a new vocabulary)? (Y/n)')\n",
        "        answer = answer in ['Y', 'y', 'yes', 'Yes']\n",
        "        if answer:\n",
        "          vocabulary, embedding_matrix = __generate_voc_and_matrix(train_set, val_set, test_set)\n",
        "          print(\"Vocabulary and embedding matrix created! Remember to download the generated files if you are on Colab.\")\n",
        "        else:\n",
        "          raise Exception('Downaload the embedding matrix from https://gitlab.com/sasso-effe/nlp-assignment-data and rerun this cell')\n",
        "    else:\n",
        "      print(\"The vocabulary and the embedding matrix are NOT present. Creating them...\")\n",
        "      vocabulary, embedding_matrix = __generate_voc_and_matrix(train_set, val_set, test_set)\n",
        "      print(\"Vocabulary and embedding matrix created! Remember to download the generated files if you are on Colab.\")\n",
        "    return vocabulary, embedding_matrix\n"
      ]
    },
    {
      "cell_type": "markdown",
      "metadata": {
        "collapsed": false,
        "id": "--zNevYb2Wjg",
        "pycharm": {
          "name": "#%% md\n"
        }
      },
      "source": [
        "## Tokenization"
      ]
    },
    {
      "cell_type": "code",
      "execution_count": 8,
      "metadata": {
        "id": "m1CpnhNzeDy4",
        "pycharm": {
          "name": "#%%\n"
        }
      },
      "outputs": [],
      "source": [
        "def tokenize(input: List, vocabulary) -> torch.Tensor:\n",
        "  result = list(map(lambda x: vocabulary[x], input))\n",
        "  return result\n",
        "\n",
        "def detokenize(input: torch.Tensor, inverse_vocabulary) -> List:\n",
        "  result = input.tolist()\n",
        "  # FIXME sistemare computazione\n",
        "  result = list(map(lambda x: inverse_vocabulary[x], result))\n",
        "  return result\n",
        "\n",
        "def full_tokenization(data, vocabulary):\n",
        "    data['Evidence'] = data['Evidence'].map(lambda x: tokenize(x, vocabulary))\n",
        "    data['Claim'] = data['Claim'].map(lambda x: tokenize(x, vocabulary))\n",
        "    data['Label'] = data['Label'].map(lambda x: float(1.0) if x == 'SUPPORTS' else float(0.0))\n",
        "    return data"
      ]
    },
    {
      "cell_type": "markdown",
      "metadata": {
        "collapsed": false,
        "id": "nHOZVjHYeDy5"
      },
      "source": [
        "# Putting everything together"
      ]
    },
    {
      "cell_type": "code",
      "execution_count": 9,
      "metadata": {
        "id": "KVG0j-fPeDy5",
        "pycharm": {
          "name": "#%%\n"
        }
      },
      "outputs": [],
      "source": [
        "def load_data(padding=False):\n",
        "    utils.download_data('dataset')\n",
        "    train_set = pd.read_csv(\"dataset/train_pairs.csv\")\n",
        "    val_set = pd.read_csv(\"dataset/val_pairs.csv\")\n",
        "    test_set = pd.read_csv(\"dataset/test_pairs.csv\")\n",
        "\n",
        "    # preprocessing\n",
        "    train_set = full_preprocessing(train_set)\n",
        "    val_set = full_preprocessing(val_set)\n",
        "    test_set = full_preprocessing(test_set)\n",
        "\n",
        "    if padding:\n",
        "        evidence_lens = [len(te) for te in train_set['Evidence']] + [len(ve) for ve in val_set['Evidence']] + [len(te) for te in test_set['Evidence']]\n",
        "        max_evidence_len = np.quantile(evidence_lens, 0.99, interpolation='nearest')\n",
        "\n",
        "        claim_lens = [len(te) for te in train_set['Claim']] + [len(ve) for ve in val_set['Claim']] + [len(te) for te in test_set['Claim']]\n",
        "        max_claim_len = np.quantile(claim_lens, 0.99, interpolation='nearest')\n",
        "\n",
        "        tr_ev_lens = train_set['Evidence'].map(lambda e: len(e))\n",
        "        tr_claim_lens = train_set['Claim'].map(lambda c: len(c))\n",
        "        train_set = train_set.drop(train_set[(tr_ev_lens >= max_evidence_len) | (tr_claim_lens >= max_claim_len)].index).reset_index()\n",
        "        va_ev_lens = val_set['Evidence'].map(lambda e: len(e))\n",
        "        va_claim_lens = val_set['Claim'].map(lambda c: len(c))\n",
        "        val_set = val_set.drop(val_set[(va_ev_lens >= max_evidence_len) | (va_claim_lens >= max_claim_len)].index).reset_index()\n",
        "        te_ev_lens = test_set['Evidence'].map(lambda e: len(e))\n",
        "        te_claim_lens = test_set['Claim'].map(lambda c: len(c))\n",
        "        test_set = test_set.drop(test_set[(te_ev_lens >= max_evidence_len) | (te_claim_lens >= max_claim_len)].index).reset_index()\n",
        "\n",
        "        train_set.loc[:, 'Evidence'] = train_set['Evidence'].map(lambda x: x + (['<PAD>'] * (max_evidence_len - len(x))))\n",
        "        val_set.loc[:, 'Evidence'] = val_set['Evidence'].map(lambda x: x + (['<PAD>'] * (max_evidence_len - len(x))))\n",
        "        test_set.loc[:, 'Evidence'] = test_set['Evidence'].map(lambda x: x + (['<PAD>'] * (max_evidence_len - len(x))))\n",
        "\n",
        "        train_set.loc[:, 'Claim'] = train_set['Claim'].map(lambda x: x + (['<PAD>'] * (max_claim_len - len(x))))\n",
        "        val_set.loc[:, 'Claim'] = val_set['Claim'].map(lambda x: x + (['<PAD>'] * (max_claim_len - len(x))))\n",
        "        test_set.loc[:, 'Claim'] = test_set['Claim'].map(lambda x: x + (['<PAD>'] * (max_claim_len - len(x))))\n",
        "\n",
        "\n",
        "    vocabulary, embedding_matrix = get_voc_and_matrix(train_set, val_set, test_set)\n",
        "\n",
        "    # tokenization\n",
        "    train_set = full_tokenization(train_set, vocabulary)\n",
        "    val_set = full_tokenization(val_set, vocabulary)\n",
        "    test_set = full_tokenization(test_set, vocabulary)\n",
        "\n",
        "    return vocabulary, embedding_matrix, (train_set, val_set, test_set)"
      ]
    },
    {
      "cell_type": "markdown",
      "metadata": {
        "collapsed": false,
        "id": "84ym75Vh2Wjh"
      },
      "source": [
        "# Model definition"
      ]
    },
    {
      "cell_type": "code",
      "execution_count": 10,
      "metadata": {
        "id": "VMWeAnUSFmQn",
        "pycharm": {
          "name": "#%%\n"
        }
      },
      "outputs": [],
      "source": [
        "# lambda layers\n",
        "\n",
        "class LambdaLast(torch.nn.Module):\n",
        "    def forward(self, x, h_n):\n",
        "        # assuming bidirectional rnn, taking concatenation of last hidden states (of the last layer)\n",
        "        return torch.cat((h_n[-1], h_n[-2]), dim=1)\n",
        "\n",
        "class LambdaAvg(torch.nn.Module):\n",
        "  def forward(self, x, h_n):\n",
        "    # average of all the output features\n",
        "    return torch.mean(x, dim=1)\n",
        "\n",
        "class LambdaConcatenation(torch.nn.Module):\n",
        "  def forward(self, x, y):\n",
        "    return torch.cat((x, y), dim=1)\n",
        "\n",
        "class LambdaSum(torch.nn.Module):\n",
        "  def forward(self, x, y):\n",
        "    return x + y\n",
        "\n",
        "class LambdaMean(torch.nn.Module):\n",
        "  def forward(self, x, y):\n",
        "    return (x + y) / 2\n"
      ]
    },
    {
      "cell_type": "code",
      "execution_count": 11,
      "metadata": {
        "id": "J0Hk8G5NcuS4"
      },
      "outputs": [],
      "source": [
        "def get_binary_classifier(name:str, w_in: int, w_hidden: int, n_layers=2) -> nn.Sequential:\n",
        "    \"\"\"Gets a sequential container with a linear+relu+linear classifier\n",
        "\n",
        "    Args:\n",
        "        name: the name prefix to append to each layer in the container.\n",
        "        w_in: the number of the input features.\n",
        "        w_hidden: the number of internal weights\n",
        "\n",
        "    Returns: the created sequential.\n",
        "    \"\"\"\n",
        "    assert n_layers >= 2, f'n_layers is {n_layers}, must be >= 2'\n",
        "    container = nn.Sequential()\n",
        "    container.add_module(f'{name}_fc1', nn.Linear(in_features=w_in, out_features=w_hidden))    \n",
        "    container.add_module(f'{name}_ReLU', nn.ReLU())\n",
        "    for i in range(n_layers-2):\n",
        "      container.add_module(f'{name}_fc{i+2}', nn.Linear(in_features=w_hidden, out_features=w_hidden))\n",
        "      container.add_module(f'{name}_ReLU', nn.ReLU())\n",
        "    container.add_module(f'{name}_fc2', nn.Linear(in_features=w_hidden, out_features=1))\n",
        "    return container\n",
        "\n",
        " \n",
        "class RNNEncoder(torch.nn.Module):\n",
        "\n",
        "    def __init__(self, input_size, hidden_size, num_layers, rnn_type='elman', output_fn='last', verbose=False):\n",
        "        super().__init__()\n",
        "        if verbose:\n",
        "          print('Initializing RNNEncoder ')\n",
        "        types = {'elman': nn.RNN, 'lstm': nn.LSTM, 'gru': nn.GRU}\n",
        "        output_layers = {'last': LambdaLast, 'avg': LambdaAvg}\n",
        "        try:\n",
        "          self.output_layer = output_layers[output_fn]()\n",
        "        except:\n",
        "          raise ValueError(f\"wrong type '{output_fn}', must be in {list(output_layers.keys())}\")\n",
        "\n",
        "        try:\n",
        "          rec_module = types[rnn_type]\n",
        "        except:\n",
        "          valid_types = list(types.keys())\n",
        "          raise ValueError(f\"wrong type '{rnn_type}', must be in {valid_types}\")\n",
        "        self.rec_module = rec_module(input_size=input_size, hidden_size=hidden_size,\n",
        "                                     bidirectional=True, batch_first=True,\n",
        "                                     num_layers=num_layers)\n",
        "\n",
        "    def forward(self, x, lengths):\n",
        "        x = torch.nn.utils.rnn.pack_padded_sequence(x, lengths, batch_first=True, enforce_sorted=False)\n",
        "        x, h_n = self.rec_module(x)\n",
        "        if isinstance(h_n, tuple):\n",
        "            h_n, _ = h_n  # drop cell state\n",
        "        x, _ = torch.nn.utils.rnn.pad_packed_sequence(x, batch_first=True)\n",
        "        x = self.output_layer(x, h_n)\n",
        "        return x\n",
        "\n",
        "class BagOfVectorsEncoder(torch.nn.Module):\n",
        "\n",
        "  def __init__(self):\n",
        "    super().__init__()\n",
        "\n",
        "  def forward(self, x, lenghts):\n",
        "    # TODO: check if the mean is computed on the right axis\n",
        "    return torch.mean(x, dim=1)\n",
        "\n",
        "\n",
        "class MLPEncoder(torch.nn.Module):\n",
        "\n",
        "  def __init__(self, ws_in, w_out, layers=None, name='mlp'):\n",
        "    super().__init__()\n",
        "    self.ws_in = ws_in\n",
        "    self.name = name\n",
        "    self.__build_mlps(w_out, layers)\n",
        "\n",
        "  def forward(self, x, lenghts):\n",
        "    batch_size, max_tokens, embedding_dim = x.shape\n",
        "    in_features = max_tokens * embedding_dim\n",
        "    x = torch.reshape(x, (batch_size, in_features))\n",
        "    if in_features == self.ws_in[0]:\n",
        "        x = self.evidence_mlp(x)\n",
        "    elif in_features == self.ws_in[1]:\n",
        "        x = self.claim_mlp(x)\n",
        "    else:\n",
        "        raise ValueError(f'wrong input shape {x.shape}, must be in {self.ws_in}')\n",
        "    return x\n",
        "\n",
        "  def __build_mlps(self, w_out, layers):\n",
        "    if layers is None:\n",
        "        layers = [w_out, w_out]\n",
        "    else:\n",
        "        layers = [w_out] + layers\n",
        "\n",
        "    self.evidence_mlp = nn.Sequential()\n",
        "    self.evidence_mlp.add_module(f'{self.name}_fc1', nn.Linear(in_features=self.ws_in[0], out_features=layers[0]))\n",
        "    for i, (w_in, w_out) in enumerate(zip(layers[:-1], layers[1:])):\n",
        "      self.evidence_mlp.add_module(f'{self.name}_ReLU', nn.ReLU())\n",
        "      self.evidence_mlp.add_module(f'{self.name}_fc{i+2}', nn.Linear(in_features=w_in, out_features=w_out))\n",
        "\n",
        "    self.claim_mlp = nn.Sequential()\n",
        "    self.claim_mlp.add_module(f'{self.name}_fc1', nn.Linear(in_features=self.ws_in[1], out_features=layers[0]))\n",
        "    for i, (w_in, w_out) in enumerate(zip(layers[:-1], layers[1:])):\n",
        "      self.claim_mlp.add_module(f'{self.name}_ReLU', nn.ReLU())\n",
        "      self.claim_mlp.add_module(f'{self.name}_fc{i+2}', nn.Linear(in_features=w_in, out_features=w_out))"
      ]
    },
    {
      "cell_type": "code",
      "execution_count": 12,
      "metadata": {
        "id": "-rpXu4uhqcnH"
      },
      "outputs": [],
      "source": [
        "class FactChecker(torch.nn.Module):\n",
        "\n",
        "  def __init__(self, embedding_matrix, encoder, merger, ws_in=None, rnn_type=None, rnn_output=None, rec_size=1, hid_size=50, n_layers_classifier=3, cosine_similarity=False):\n",
        "    \"\"\"\n",
        "      A recurrent network performing Neural Language Inference (Fact Checking).\n",
        "      Params:\n",
        "        embedding_matrix: the embedding matrix for word embedding\n",
        "        encoder: [rnn, mlp, bag], the encoder to compute the sentence embedding\n",
        "        merger: [concatenation, sum, mean], the multi-input merging strategy\n",
        "        n_layers_classifier: int, the number of layers in the classifier\n",
        "        RNNEncoder params, only relevant if encoder==rnn:\n",
        "          rnn_type: [elman, lstm, gru], the RNN architecure used in the encoder\n",
        "          rnn_output: [last, avg], the function to compute the sentence encoding from the RNN hidden states\n",
        "          rec_size: int, the number of layers in the rnn\n",
        "          hid_size: int, the hidden size of the rnn\n",
        "    \"\"\"\n",
        "    super().__init__()\n",
        "    self.hid_size = hid_size\n",
        "    self.cosine_similarity = cosine_similarity\n",
        "\n",
        "    # Word embedding\n",
        "    emb_size = embedding_matrix.shape[1]\n",
        "    self.emb_layer = nn.Embedding.from_pretrained(torch.as_tensor(embedding_matrix))\n",
        "\n",
        "    # Sentence embedding\n",
        "    if encoder == 'rnn':\n",
        "      self.encoder = RNNEncoder(emb_size, hid_size, rec_size, rnn_type=rnn_type, output_fn=rnn_output)\n",
        "    elif encoder == 'mlp':\n",
        "      self.encoder = MLPEncoder(ws_in=ws_in, w_out=100)\n",
        "    elif encoder == 'bag':\n",
        "      self.encoder = BagOfVectorsEncoder()\n",
        "    else:\n",
        "      raise ValueError(f\"Wrong encoder '{encoder}', must be in ['rnn', 'mlp', 'bag']\")\n",
        "\n",
        "    # Merging\n",
        "    merging_strategies = {\n",
        "        'concatenation': LambdaConcatenation,\n",
        "        'sum': LambdaSum,\n",
        "        'mean': LambdaMean\n",
        "    }\n",
        "    try:\n",
        "      merging_layer = merging_strategies[merger]\n",
        "    except:\n",
        "      valid_strategies = list(merging_strategies.keys())\n",
        "      raise ValueError(f\"wrong type '{merger}', must be in {valid_strategies}\")\n",
        "    self.merger = merging_layer()\n",
        "\n",
        "    # Classifier\n",
        "    classifier_in = self.hid_size * 2 if encoder=='rnn' else 100\n",
        "    if merger == 'concatenation':\n",
        "      classifier_in *= 2\n",
        "    if self.cosine_similarity:\n",
        "      classifier_in += 1\n",
        "    self.classifier = get_binary_classifier('classifier', w_in=classifier_in, w_hidden=classifier_in//2, n_layers=n_layers_classifier)\n",
        "\n",
        "  def forward(self, claim, claim_lengths, evidence, evidence_lengths, debug=False):\n",
        "    # Word embedding\n",
        "    claim = self.emb_layer(claim).float()\n",
        "    evidence = self.emb_layer(evidence).float()\n",
        "    if debug:\n",
        "      print(\"After word embedding\")\n",
        "      print(f\"\\tclaim.shape: {claim.shape}\")\n",
        "      print(f\"\\tevidence.shape: {evidence.shape}\")\n",
        "    # Sentence embedding\n",
        "    claim = self.encoder(claim, claim_lengths)\n",
        "    evidence = self.encoder(evidence, evidence_lengths)\n",
        "    if debug:\n",
        "      print(\"After phrase encoding\")\n",
        "      print(f\"\\tclaim.shape: {claim.shape}\")\n",
        "      print(f\"\\tevidence.shape: {evidence.shape}\")\n",
        "    # Merging\n",
        "    merged_data = self.merger(claim, evidence)\n",
        "    if debug:\n",
        "      print(\"After merging\")\n",
        "      print(f\"\\tmerged_data.shape: {merged_data.shape}\")\n",
        "    #Cosine Similarity\n",
        "    if self.cosine_similarity:\n",
        "      cs = torch.nn.functional.cosine_similarity(claim,evidence, dim=1)\n",
        "      cs = torch.unsqueeze(cs, dim=1)\n",
        "      merged_data = torch.cat((merged_data, cs), dim=1)\n",
        "    # Classifying\n",
        "    output = self.classifier(merged_data)\n",
        "\n",
        "    return output"
      ]
    },
    {
      "cell_type": "markdown",
      "metadata": {
        "id": "_GDv0pqw3UsB"
      },
      "source": [
        "# Training"
      ]
    },
    {
      "cell_type": "code",
      "execution_count": 13,
      "metadata": {
        "id": "IX9HCqiX-SJB"
      },
      "outputs": [],
      "source": [
        "class EarlyStopping:\n",
        "    def __init__(self, patience, model, delta=0, path='res'):\n",
        "        self.patience = patience\n",
        "        self.delta = delta\n",
        "        self.model = model\n",
        "        self.path = path\n",
        "        if not os.path.isdir(self.path):\n",
        "            os.mkdir(self.path)\n",
        "        self.best_score = float('inf')\n",
        "        self.counter = 0\n",
        "    \n",
        "    def step(self, epoch, score):\n",
        "        \"\"\" Updates ES tracker after one epoch.\n",
        "            Params:\n",
        "                epoch: current epoch\n",
        "                score: validation loss\n",
        "            Returns tuple (stop, checkpoint), \n",
        "                where stop is True if early stopping has occurred and False otherwise,\n",
        "                and checkpoint is last best checkpoint\n",
        "        \"\"\"\n",
        "        if score < self.best_score:\n",
        "            # print('Validation loss decreasing, storing new checkpoint')\n",
        "            self.best_score = score\n",
        "            self.counter = 0\n",
        "            checkpoint = {'model': self.model.state_dict(), 'epoch': epoch}\n",
        "            torch.save(checkpoint, 'res/checkpoint.pth')\n",
        "            return False, checkpoint\n",
        "        elif abs(score - self.best_score) > self.delta:\n",
        "            self.counter += 1\n",
        "            if self.counter >= self.patience:\n",
        "                print(f'Early stopping occured at epoch {epoch} with patience {self.patience}')\n",
        "                checkpoint = torch.load('res/checkpoint.pth', map_location='cpu')\n",
        "                return True, checkpoint\n",
        "            if self.counter == (self.patience//2):\n",
        "                print(f'Validation loss increasing for {self.counter} epochs')\n",
        "        return False, None"
      ]
    },
    {
      "cell_type": "code",
      "execution_count": 22,
      "metadata": {
        "id": "OWtu6Umy3UPr"
      },
      "outputs": [],
      "source": [
        "def training_step(model, optimizer, loss_fn, data_loader, device):\n",
        "  model.train()\n",
        "  log_dict = {'train/loss': [], 'train/accuracy': [], 'train/precision': [], 'train/recall': [], 'train/f1': []}\n",
        "  for (claims, cl_lengths, evidences, ev_lengths, labels) in data_loader:\n",
        "    # forward\n",
        "    claims = claims.to(device) \n",
        "    evidences = evidences.to(device)\n",
        "    labels = labels.to(device)\n",
        "\n",
        "    outputs = model(claims, cl_lengths, evidences, ev_lengths)\n",
        "    outputs = outputs.view(outputs.size(0))\n",
        "    loss = loss_fn(outputs, labels)\n",
        "    loss_value = loss.item()\n",
        "\n",
        "    if not math.isfinite(loss_value):\n",
        "      print(f\"Loss is {loss_value}, stopping training\")\n",
        "      exit(1)\n",
        "\n",
        "    # backward\n",
        "    optimizer.zero_grad()\n",
        "    loss.backward()\n",
        "    optimizer.step()\n",
        "\n",
        "    with torch.no_grad():\n",
        "        preds = torch.sigmoid(outputs).round()\n",
        "        labels, preds = labels.cpu().numpy(), preds.cpu().numpy()\n",
        "        acc = ((labels == preds).sum() / labels.size).item()\n",
        "        prec = precision_score(labels, preds)\n",
        "        rec = recall_score(labels, preds)\n",
        "        f1 = f1_score(labels, preds)\n",
        "\n",
        "    log_dict['train/loss'].append(loss_value)\n",
        "    log_dict['train/accuracy'].append(acc)\n",
        "    log_dict['train/precision'].append(prec)\n",
        "    log_dict['train/recall'].append(rec)\n",
        "    log_dict['train/f1'].append(f1)\n",
        "\n",
        "  return log_dict\n",
        "\n",
        "\n",
        "def evaluate(model, loss_fn, data_loader, device, split):\n",
        "  \"\"\"\n",
        "    Evaluate model on the given dataloader.\n",
        "    Parameters:\n",
        "      model: torch.nn.Module to evaluate\n",
        "      loss_fn: torch.nn criterion to use to compute loss, given outputs and targets\n",
        "      data_loader: torch.utils.data.DataLoader\n",
        "      device: torch.device where evaluation is performed\n",
        "    Returns log dict {'valid/loss' : mean loss, 'valid/{metric}': mean metric}\n",
        "  \"\"\"\n",
        "  model.eval()\n",
        "  assert len(data_loader) == 1 # must be a single batch\n",
        "\n",
        "  with torch.no_grad():\n",
        "    data = next(iter(data_loader))\n",
        "\n",
        "    # Variables for majority voting\n",
        "    vote_labels = []\n",
        "    vote_preds = []\n",
        "    # Variable for standard\n",
        "    loss_values = []\n",
        "    std_labels = []\n",
        "    std_preds = []\n",
        "    for claims, cl_lengths, evidences, ev_lengths, labels in data:\n",
        "      claims = claims.to(device)\n",
        "      evidences = evidences.to(device)\n",
        "      labels = labels.to(device)\n",
        "      outputs = model(claims, cl_lengths, evidences, ev_lengths)\n",
        "      outputs = outputs.view(outputs.size(0))\n",
        "      preds = torch.sigmoid(outputs).round()\n",
        "      loss_values.append(loss_fn(outputs, labels).cpu().numpy())\n",
        "      labels = list(labels.cpu())\n",
        "      preds = list(preds.cpu())\n",
        "      # Majority voting\n",
        "      true_label = np.mean(labels).round()\n",
        "      predicted_label = np.mean(preds).round()\n",
        "      vote_labels.append(true_label)\n",
        "      vote_preds.append(predicted_label)\n",
        "      # Standard\n",
        "      std_labels += labels\n",
        "      std_preds += preds\n",
        "    # Majority voting\n",
        "    vote_acc = accuracy_score(vote_labels, vote_preds)\n",
        "    vote_prec = precision_score(vote_labels, vote_preds)\n",
        "    vote_rec = recall_score(vote_labels, vote_preds)\n",
        "    vote_f1 = f1_score(vote_labels, vote_preds)\n",
        "    # Standard\n",
        "    acc = accuracy_score(std_labels, std_preds)\n",
        "    prec = precision_score(std_labels, std_preds)\n",
        "    rec = recall_score(std_labels, std_preds)\n",
        "    f1 = f1_score(std_labels, std_preds)\n",
        "  log_dict = {f'{split}/loss': np.mean(np.concatenate(loss_values)),\n",
        "              f'{split}/accuracy': acc,\n",
        "              f'{split}/precision': prec,\n",
        "              f'{split}/recall': rec,\n",
        "              f'{split}/f1': f1,\n",
        "              f'{split}/vote_accuracy': vote_acc,\n",
        "              f'{split}/vote_precision': vote_prec,\n",
        "              f'{split}/vote_recall': vote_rec,\n",
        "              f'{split}/vote_f1': vote_f1}\n",
        "  return log_dict"
      ]
    },
    {
      "cell_type": "code",
      "execution_count": 23,
      "metadata": {
        "id": "em6r40Wq7NWn"
      },
      "outputs": [],
      "source": [
        "DEFAULT_PARAMS = {\n",
        "          'encoder': 'rnn',\n",
        "          'merger': 'concatenation',\n",
        "          'rnn_type': 'elman',\n",
        "          'rnn_output': 'last',\n",
        "          'rec_size': 1,\n",
        "          'hid_size': 50,\n",
        "          'cosine_similarity': False\n",
        "      }\n",
        "\n",
        "def fix_random(seed):\n",
        "    \"\"\" Fix all the possible sources of randomness\n",
        "        Params:\n",
        "            seed: the seed to use\n",
        "    \"\"\"\n",
        "    np.random.seed(seed)\n",
        "    random.seed(seed)\n",
        "    torch.manual_seed(seed)\n",
        "    torch.cuda.manual_seed(seed)\n",
        "    torch.backends.cudnn.benchmark = False\n",
        "    torch.backends.cudnn.deterministic = True\n",
        "\n",
        "def train(optimizer, lr, device, n_epochs, verbose, batch_size, test=False, tags=None, seed=42, **model_params):\n",
        "  fix_random(seed)\n",
        "  model_params = {**DEFAULT_PARAMS, **model_params}\n",
        "  cfg_dict = {'epochs': n_epochs, 'batch_size': batch_size, 'optimizer': optimizer, 'lr': lr, 'params': model_params}\n",
        "\n",
        "  wandb.login(key=utils.get_wandbkey())\n",
        "  run = wandb.init(project=\"assignment-two\", entity=\"nlpetroni\", reinit=True, config=cfg_dict, tags=tags)\n",
        "  wandb.define_metric(\"train_step\")\n",
        "  wandb.define_metric(\"epoch\")\n",
        "  wandb.define_metric('train/loss', step_metric=\"train_step\", summary=\"min\")\n",
        "  wandb.define_metric(\"train/accuracy\", step_metric=\"train_step\", summary=\"max\")\n",
        "  wandb.define_metric(\"valid/loss\", step_metric=\"epoch\", summary=\"min\")\n",
        "  wandb.define_metric(\"valid/accuracy\", step_metric=\"epoch\", summary=\"max\")\n",
        "  wandb.define_metric(\"valid/precision\", step_metric=\"epoch\", summary=\"max\")\n",
        "  wandb.define_metric(\"valid/recall\", step_metric=\"epoch\", summary=\"max\")\n",
        "  wandb.define_metric(\"valid/f1\", step_metric=\"epoch\", summary=\"max\")\n",
        "  wandb.define_metric(\"valid/vote_accuracy\", step_metric=\"epoch\", summary=\"max\")\n",
        "  wandb.define_metric(\"valid/vote_precision\", step_metric=\"epoch\", summary=\"max\")\n",
        "  wandb.define_metric(\"valid/vote_recall\", step_metric=\"epoch\", summary=\"max\")\n",
        "  wandb.define_metric(\"valid/vote_f1\", step_metric=\"epoch\", summary=\"max\")\n",
        "\n",
        "  if model_params['encoder'] == 'mlp':\n",
        "      # with MLP encoder, every sequence must have the same length, thus we must pad at the dataset level\n",
        "      padding = True\n",
        "      collate_fn = to_tensor_collate\n",
        "  else:\n",
        "      # with other encoders, pad each batch independently\n",
        "      padding = False\n",
        "      collate_fn = pad_batch_collate\n",
        "\n",
        "  vocabulary, embedding_matrix, dataset = load_data(padding=padding)\n",
        "  train_set, valid_set, test_set = dataset\n",
        "  train_ds = Dataset(train_set['ID'], train_set['Claim'], train_set['Evidence'], train_set['Label'])\n",
        "  valid_ds = Dataset(valid_set['ID'], valid_set['Claim'], valid_set['Evidence'], valid_set['Label'], majority_vote=True)\n",
        "  test_ds = Dataset(test_set['ID'], test_set['Claim'], test_set['Evidence'], test_set['Label'], majority_vote=True)\n",
        "  train_dl = torch.utils.data.DataLoader(train_ds, batch_size=batch_size, collate_fn=collate_fn, shuffle=True)\n",
        "  valid_dl = torch.utils.data.DataLoader(valid_ds, batch_size=len(valid_ds), collate_fn=pad_vote_collate)\n",
        "  test_dl = torch.utils.data.DataLoader(test_ds, batch_size=len(test_ds), collate_fn=pad_vote_collate)\n",
        "  if model_params['encoder'] == 'mlp':\n",
        "    model_params['ws_in'] = (len(train_set.loc[0, 'Evidence'] * embedding_matrix.shape[1]), len(train_set.loc[0, 'Claim'] * embedding_matrix.shape[1]))\n",
        "\n",
        "  model = FactChecker(embedding_matrix, **model_params)\n",
        "  model.to(device)\n",
        "  wandb.watch(model, log_graph=True)\n",
        "  if verbose:\n",
        "    print(summary(model))\n",
        "\n",
        "  params = [p for p in model.parameters() if p.requires_grad]\n",
        "  if optimizer == 'rmsprop':\n",
        "    optimizer = torch.optim.RMSprop(params, lr=lr, alpha=0.99, momentum=0.5, weight_decay=0)\n",
        "  elif optimizer == 'adam':\n",
        "    optimizer = torch.optim.Adam(params, lr=lr, betas=(0.9, 0.999), weight_decay=0)\n",
        "  else:\n",
        "    raise ValueError(f'wrong optim {optimizer}, either rmsprop or adam')\n",
        "\n",
        "  loss = nn.BCEWithLogitsLoss()\n",
        "  valid_loss = nn.BCEWithLogitsLoss(reduction='none')\n",
        "  train_step = 0\n",
        "  print('STARTING TRAINING')\n",
        "  print('Evaluation metrics are computed on validation set\\n')\n",
        "  print(f'EPOCHS | TRAIN LOSS | VALID LOSS | ACCURACY | PRECISION | RECALL | {\"F1\":^5} | V_ACC | V_PREC | V_REC | V_F1')\n",
        "  es_tracker = EarlyStopping(20, model)\n",
        "  epoch = 0\n",
        "  early_stopped = False\n",
        "  while epoch < n_epochs and not early_stopped:\n",
        "    log_dict = training_step(model, optimizer, loss, train_dl, device)\n",
        "    if not test:\n",
        "      log_dict.update(evaluate(model, valid_loss, valid_dl, device, split='valid'))\n",
        "      early_stopped, checkpoint = es_tracker.step(epoch, log_dict['valid/loss'])\n",
        "      if early_stopped:\n",
        "                model.load_state_dict(checkpoint['model'])\n",
        "      for batch_loss, batch_acc, batch_f1 in zip(log_dict['train/loss'], log_dict['train/accuracy'], log_dict['train/f1']):\n",
        "        wandb.log({'train_step': train_step, 'epoch': epoch, 'train/loss': batch_loss, 'train/accuracy': batch_acc,\n",
        "                   'train/f1': batch_f1})\n",
        "        train_step += 1\n",
        "      wandb.log({'epoch': epoch, 'valid/loss': log_dict['valid/loss'],\n",
        "                 'valid/accuracy': log_dict['valid/accuracy'],\n",
        "                 'valid/precision': log_dict['valid/precision'],\n",
        "                 'valid/recall': log_dict['valid/recall'],\n",
        "                 'valid/f1': log_dict['valid/f1'],\n",
        "                 'valid/vote_accuracy': log_dict['valid/vote_accuracy'],\n",
        "                 'valid/vote_precision': log_dict['valid/vote_precision'],\n",
        "                 'valid/vote_recall': log_dict['valid/vote_recall'],\n",
        "                 'valid/vote_f1': log_dict['valid/vote_f1']})\n",
        "      if epoch % 10 == 0:\n",
        "        print(f'[{epoch:02d}/{n_epochs:02d}]| {np.mean(log_dict[\"train/loss\"]):10.3f} | {log_dict[\"valid/loss\"]:10.3f} | {log_dict[\"valid/accuracy\"]:8.3f} | {log_dict[\"valid/precision\"]:9.3f} | {log_dict[\"valid/recall\"]:6.3f} | {log_dict[\"valid/f1\"]:4.3f} | {log_dict[\"valid/vote_accuracy\"]:5.3f} | {log_dict[\"valid/vote_precision\"]:6.3f} | {log_dict[\"valid/vote_recall\"]:5.3f} | {log_dict[\"valid/vote_f1\"]:4.3f}')\n",
        "      epoch += 1\n",
        "  if test:\n",
        "    log_dict.update(evaluate(model, valid_loss, test_dl, device, split='test'))\n",
        "    early_stopped, checkpoint = es_tracker.step(epoch, log_dict['valid/loss'])\n",
        "    if early_stopped:\n",
        "      model.load_state_dict(checkpoint['model'])\n",
        "    wandb.log({'epoch': epoch, 'test/loss': log_dict['test/loss'],\n",
        "            'test/accuracy': log_dict['test/accuracy'],\n",
        "            'test/precision': log_dict['test/precision'],\n",
        "            'test/recall': log_dict['test/recall'],\n",
        "            'test/f1': log_dict['test/f1'],\n",
        "            'test/vote_accuracy': log_dict['test/vote_accuracy'],\n",
        "            'test/vote_precision': log_dict['test/vote_precision'],\n",
        "            'test/vote_recall': log_dict['test/vote_recall'],\n",
        "            'test/vote_f1': log_dict['test/vote_f1']})\n",
        "\n",
        "  run.finish()\n",
        "  return model"
      ]
    },
    {
      "cell_type": "code",
      "execution_count": null,
      "metadata": {
        "id": "z18L9MxcgiE0"
      },
      "outputs": [],
      "source": [
        "def GridSearch(parameters, optimizer_name='adam', device=None, verbose=True):\n",
        "  for rnn_type in parameters['rnn_type']:\n",
        "    for lr in parameters['lr']:\n",
        "      for batch_size in parameters['batch_size']:\n",
        "        for num_layer_class in parameters['num_layer_class']:\n",
        "          for num_layer_rnn in parameters['num_layer_rnn']:\n",
        "            train(optimizer_name=optimizer_name, lr=lr, device=device, n_epochs=20, verbose=verbose, batch_size=batch_size,\n",
        "                encoder='rnn', merger='concatenation', rnn_type=rnn_type, rnn_output='last', hid_size=50 , n_layers_classifier=num_layer_class, rec_size=num_layer_rnn)"
      ]
    },
    {
      "cell_type": "markdown",
      "metadata": {
        "collapsed": false,
        "id": "akZiNIWqeDzB"
      },
      "source": [
        "# Hyperparameters tuning"
      ]
    },
    {
      "cell_type": "markdown",
      "metadata": {
        "collapsed": false,
        "id": "TzJjmqcSeDzB"
      },
      "source": [
        "## Sentence encoding\n",
        "### Last state of a RNN"
      ]
    },
    {
      "cell_type": "code",
      "execution_count": 20,
      "metadata": {
        "id": "QAdfhdhPeDzC",
        "pycharm": {
          "name": "#%%\n"
        }
      },
      "outputs": [],
      "source": [
        "out_dir = './models'\n",
        "if not os.path.isdir(out_dir):\n",
        "    os.mkdir(out_dir)\n",
        "lr = 1e-4\n",
        "epochs = 50\n",
        "batch_size = 512\n",
        "rec_size = 2\n",
        "hid_size = 64\n",
        "opt = 'rmsprop'\n",
        "tag = 'random oov'\n",
        "verbose = False\n",
        "cosine_similarity = False"
      ]
    },
    {
      "cell_type": "code",
      "source": [
        "# test random oov embeddings\n",
        "train(optimizer=opt, lr=lr, device=device, n_epochs=epochs, verbose=verbose, tags=[tag, 'elman_last'],\n",
        "    batch_size=batch_size, encoder='rnn', merger='concatenation', rnn_type='gru',\n",
        "    rnn_output='last', rec_size=rec_size, hid_size=hid_size, cosine_similarity=cosine_similarity)"
      ],
      "metadata": {
        "colab": {
          "base_uri": "https://localhost:8080/",
          "height": 1000,
          "referenced_widgets": [
            "674e26a2ad604596856d39b1b0fde75a",
            "25a9d65107ff45178b5c1a2580523e32",
            "35664f13c9b940478205e6018850f03e",
            "6dc422fdf33e44b6938955e8b53fed2c",
            "dde6c37da7d045ca822b0aa85d3018c4",
            "ec9a49f7e22648e7afbc189cfc31a475",
            "3183ede58bd449e5b9b977d5d4dce2a9",
            "ba3b69fb26c24352b68b9e190ae3f17d",
            "4326d2d6f6934a9ab8a3d386c5243e41",
            "2b33991cca1543dda4e9fdfc7ea1f963",
            "be7c7cdd05ea407abbeffc40967d1a14",
            "c0239357f39b4cd6a074f048ce18cac5",
            "15d28c705a3a4504b3aee5f45387fd85",
            "8f0292a90d954b419f5eddce686880f5",
            "9a716f44168347c08ef72c5e0719eb47",
            "ed0caae7b5a045a39aaaf45bc064a9b3"
          ]
        },
        "id": "usCPBtBUiNlO",
        "outputId": "76021487-0326-4791-aac5-816a79e92180"
      },
      "execution_count": 21,
      "outputs": [
        {
          "output_type": "stream",
          "name": "stderr",
          "text": [
            "\u001b[34m\u001b[1mwandb\u001b[0m: \u001b[33mWARNING\u001b[0m Calling wandb.login() after wandb.init() has no effect.\n"
          ]
        },
        {
          "output_type": "display_data",
          "data": {
            "text/html": [
              "Finishing last run (ID:1nkpy1fq) before initializing another..."
            ],
            "text/plain": [
              "<IPython.core.display.HTML object>"
            ]
          },
          "metadata": {}
        },
        {
          "output_type": "display_data",
          "data": {
            "text/html": [
              "<br/>Waiting for W&B process to finish, PID 362... <strong style=\"color:green\">(success).</strong>"
            ],
            "text/plain": [
              "<IPython.core.display.HTML object>"
            ]
          },
          "metadata": {}
        },
        {
          "output_type": "display_data",
          "data": {
            "application/vnd.jupyter.widget-view+json": {
              "model_id": "674e26a2ad604596856d39b1b0fde75a",
              "version_minor": 0,
              "version_major": 2
            },
            "text/plain": [
              "VBox(children=(Label(value=' 0.00MB of 0.00MB uploaded (0.00MB deduped)\\r'), FloatProgress(value=1.0, max=1.0)…"
            ]
          },
          "metadata": {}
        },
        {
          "output_type": "display_data",
          "data": {
            "text/html": [
              "<style>\n",
              "    table.wandb td:nth-child(1) { padding: 0 10px; text-align: right }\n",
              "    .wandb-row { display: flex; flex-direction: row; flex-wrap: wrap; width: 100% }\n",
              "    .wandb-col { display: flex; flex-direction: column; flex-basis: 100%; flex: 1; padding: 10px; }\n",
              "    </style>\n",
              "<div class=\"wandb-row\"><div class=\"wandb-col\">\n",
              "</div><div class=\"wandb-col\">\n",
              "</div></div>\n",
              "Synced 5 W&B file(s), 0 media file(s), 0 artifact file(s) and 0 other file(s)\n",
              "<br/>Synced <strong style=\"color:#cdcd00\">autumn-planet-439</strong>: <a href=\"https://wandb.ai/nlpetroni/assignment-two/runs/1nkpy1fq\" target=\"_blank\">https://wandb.ai/nlpetroni/assignment-two/runs/1nkpy1fq</a><br/>\n",
              "Find logs at: <code>./wandb/run-20211220_155004-1nkpy1fq/logs</code><br/>\n"
            ],
            "text/plain": [
              "<IPython.core.display.HTML object>"
            ]
          },
          "metadata": {}
        },
        {
          "output_type": "display_data",
          "data": {
            "text/html": [
              "Successfully finished last run (ID:1nkpy1fq). Initializing new run:<br/>"
            ],
            "text/plain": [
              "<IPython.core.display.HTML object>"
            ]
          },
          "metadata": {}
        },
        {
          "output_type": "display_data",
          "data": {
            "text/html": [
              "\n",
              "                    Syncing run <strong><a href=\"https://wandb.ai/nlpetroni/assignment-two/runs/1fn5555z\" target=\"_blank\">dutiful-plasma-440</a></strong> to <a href=\"https://wandb.ai/nlpetroni/assignment-two\" target=\"_blank\">Weights & Biases</a> (<a href=\"https://docs.wandb.com/integrations/jupyter.html\" target=\"_blank\">docs</a>).<br/>\n",
              "\n",
              "                "
            ],
            "text/plain": [
              "<IPython.core.display.HTML object>"
            ]
          },
          "metadata": {}
        },
        {
          "output_type": "stream",
          "name": "stdout",
          "text": [
            "The vocabulary and the embedding matrix are NOT present. Creating them...\n",
            "downloading and unzipping glove... completed\n",
            "Vocabulary and embedding matrix created! Remember to download the generated files if you are on Colab.\n"
          ]
        },
        {
          "output_type": "stream",
          "name": "stderr",
          "text": [
            "\u001b[34m\u001b[1mwandb\u001b[0m: logging graph, to disable use `wandb.watch(log_graph=False)`\n"
          ]
        },
        {
          "output_type": "stream",
          "name": "stdout",
          "text": [
            "STARTING TRAINING\n",
            "Evaluation metrics are computed on validation set\n",
            "\n",
            "EPOCHS | TRAIN LOSS | VALID LOSS | ACCURACY | PRECISION | RECALL |  F1   | V_ACC | V_PREC | V_REC | V_F1\n",
            "[00/50]|      0.499 |      0.651 |    0.654 |     0.599 |  0.947 | 0.734 | 0.654 |  0.597 | 0.945 | 0.732\n",
            "[10/50]|      0.355 |      0.524 |    0.727 |     0.659 |  0.950 | 0.778 | 0.726 |  0.656 | 0.947 | 0.775\n",
            "[20/50]|      0.322 |      0.526 |    0.739 |     0.671 |  0.946 | 0.785 | 0.737 |  0.668 | 0.943 | 0.782\n",
            "[30/50]|      0.296 |      0.558 |    0.740 |     0.672 |  0.944 | 0.785 | 0.739 |  0.670 | 0.941 | 0.782\n",
            "Validation loss increasing for 10 epochs\n",
            "[40/50]|      0.273 |      0.558 |    0.747 |     0.681 |  0.938 | 0.789 | 0.747 |  0.679 | 0.936 | 0.787\n",
            "Early stopping occured at epoch 49 with patience 20\n"
          ]
        },
        {
          "output_type": "display_data",
          "data": {
            "text/html": [
              "<br/>Waiting for W&B process to finish, PID 457... <strong style=\"color:green\">(success).</strong>"
            ],
            "text/plain": [
              "<IPython.core.display.HTML object>"
            ]
          },
          "metadata": {}
        },
        {
          "output_type": "display_data",
          "data": {
            "application/vnd.jupyter.widget-view+json": {
              "model_id": "4326d2d6f6934a9ab8a3d386c5243e41",
              "version_minor": 0,
              "version_major": 2
            },
            "text/plain": [
              "VBox(children=(Label(value=' 0.00MB of 0.00MB uploaded (0.00MB deduped)\\r'), FloatProgress(value=1.0, max=1.0)…"
            ]
          },
          "metadata": {}
        },
        {
          "output_type": "display_data",
          "data": {
            "text/html": [
              "<style>\n",
              "    table.wandb td:nth-child(1) { padding: 0 10px; text-align: right }\n",
              "    .wandb-row { display: flex; flex-direction: row; flex-wrap: wrap; width: 100% }\n",
              "    .wandb-col { display: flex; flex-direction: column; flex-basis: 100%; flex: 1; padding: 10px; }\n",
              "    </style>\n",
              "<div class=\"wandb-row\"><div class=\"wandb-col\">\n",
              "<h3>Run history:</h3><br/><table class=\"wandb\"><tr><td>epoch</td><td>▁▁▁▂▂▂▂▂▂▃▃▃▃▃▄▄▄▄▄▄▅▅▅▅▅▅▆▆▆▆▆▇▇▇▇▇▇███</td></tr><tr><td>train/accuracy</td><td>▂▁▄▅▅▃▄▅▅▄▅▅▄▆▆▆▆▆▆▇▇▆▆▇▆▆▆▆▇▆▆▇▇█▆▇▆█▆▇</td></tr><tr><td>train/f1</td><td>▂▁▄▆▅▃▄▅▅▄▅▅▄▆▆▆▆▆▆▇▆▆▆▇▆▆▅▆▆▆▆▆▇█▆▇▆█▆▇</td></tr><tr><td>train/loss</td><td>██▅▅▆▆▆▅▅▅▄▅▅▄▄▄▃▃▄▂▃▃▄▃▃▃▃▃▂▄▃▃▂▂▂▃▃▁▂▂</td></tr><tr><td>train_step</td><td>▁▁▁▂▂▂▂▂▂▃▃▃▃▃▃▄▄▄▄▄▅▅▅▅▅▅▆▆▆▆▆▇▇▇▇▇▇███</td></tr><tr><td>valid/accuracy</td><td>▁▂▄▃▄▅▅▅▆▆▆▆▇▆▇▆▇▆▇▇▇▇▇▇▇▇▇▇▇███▇▇███▇██</td></tr><tr><td>valid/f1</td><td>▁▂▄▄▅▆▅▆▆▆▆▇▇▇▇▇▇▇▇▇▇▇▇▇▇▇█▇▇████▇███▇██</td></tr><tr><td>valid/loss</td><td>█▆▄▆▄▃▃▃▁▁▂▂▂▂▁▃▁▄▂▃▂▃▄▃▃▂▃▃▇▁▂▃▃▇▂▃▃▄▄▅</td></tr><tr><td>valid/precision</td><td>▁▂▃▃▃▄▄▄▅▅▅▅▆▆▆▅▆▆▇▆▇▆▆▆▆▇▇▇▆███▇▆███▇▇█</td></tr><tr><td>valid/recall</td><td>▅▇▆██▇█▇▅▆▆▆▄▆▄▆▄▆▅▅▃▄▅▅▄▂▃▃▆▁▂▂▃▅▁▂▁▃▃▁</td></tr><tr><td>valid/vote_accuracy</td><td>▁▂▃▃▄▅▅▅▆▆▆▆▆▆▇▆▇▆▇▇▇▇▇▇▇██▇▇███▇▇███▇██</td></tr><tr><td>valid/vote_f1</td><td>▁▂▄▄▅▅▅▅▆▆▆▆▆▇▇▆▇▇▇▇▇▇▇▇▇▇█▇▇████▇██▇▇██</td></tr><tr><td>valid/vote_precision</td><td>▁▁▃▃▃▄▄▄▅▅▅▅▆▆▆▅▆▅▇▆▇▆▆▆▆▇▇▇▆█▇█▇▆██▇▇▇█</td></tr><tr><td>valid/vote_recall</td><td>▅▇▆██▇█▇▅▆▆▆▄▆▄▆▄▆▄▅▃▄▅▅▄▂▃▃▆▁▂▂▃▅▁▂▂▃▃▁</td></tr></table><br/></div><div class=\"wandb-col\">\n",
              "<h3>Run summary:</h3><br/><table class=\"wandb\"><tr><td>epoch</td><td>49</td></tr><tr><td>train/f1</td><td>0.93178</td></tr><tr><td>train_step</td><td>11899</td></tr></table>\n",
              "</div></div>\n",
              "Synced 5 W&B file(s), 1 media file(s), 0 artifact file(s) and 0 other file(s)\n",
              "<br/>Synced <strong style=\"color:#cdcd00\">dutiful-plasma-440</strong>: <a href=\"https://wandb.ai/nlpetroni/assignment-two/runs/1fn5555z\" target=\"_blank\">https://wandb.ai/nlpetroni/assignment-two/runs/1fn5555z</a><br/>\n",
              "Find logs at: <code>./wandb/run-20211220_155559-1fn5555z/logs</code><br/>\n"
            ],
            "text/plain": [
              "<IPython.core.display.HTML object>"
            ]
          },
          "metadata": {}
        },
        {
          "output_type": "execute_result",
          "data": {
            "text/plain": [
              "FactChecker(\n",
              "  (emb_layer): Embedding(403484, 100)\n",
              "  (encoder): RNNEncoder(\n",
              "    (output_layer): LambdaLast()\n",
              "    (rec_module): GRU(100, 64, num_layers=2, batch_first=True, bidirectional=True)\n",
              "  )\n",
              "  (merger): LambdaConcatenation()\n",
              "  (classifier): Sequential(\n",
              "    (classifier_fc1): Linear(in_features=256, out_features=128, bias=True)\n",
              "    (classifier_ReLU): ReLU()\n",
              "    (classifier_fc2): Linear(in_features=128, out_features=1, bias=True)\n",
              "  )\n",
              ")"
            ]
          },
          "metadata": {},
          "execution_count": 21
        }
      ]
    },
    {
      "cell_type": "code",
      "execution_count": null,
      "outputs": [
        {
          "name": "stderr",
          "output_type": "stream",
          "text": [
            "\u001b[34m\u001b[1mwandb\u001b[0m: Currently logged in as: \u001b[33mdiegochine\u001b[0m (use `wandb login --relogin` to force relogin)\n",
            "\u001b[34m\u001b[1mwandb\u001b[0m: \u001b[33mWARNING\u001b[0m If you're specifying your api key in code, ensure this code is not shared publically.\n",
            "\u001b[34m\u001b[1mwandb\u001b[0m: \u001b[33mWARNING\u001b[0m Consider setting the WANDB_API_KEY environment variable, or running `wandb login` from the command line.\n",
            "\u001b[34m\u001b[1mwandb\u001b[0m: Appending key for api.wandb.ai to your netrc file: /home/diego/.netrc\n"
          ]
        },
        {
          "data": {
            "text/plain": "<IPython.core.display.HTML object>",
            "text/html": "\n                    Syncing run <strong><a href=\"https://wandb.ai/nlpetroni/assignment-two/runs/30g28dhl\" target=\"_blank\">pious-donkey-413</a></strong> to <a href=\"https://wandb.ai/nlpetroni/assignment-two\" target=\"_blank\">Weights & Biases</a> (<a href=\"https://docs.wandb.com/integrations/jupyter.html\" target=\"_blank\">docs</a>).<br/>\n\n                "
          },
          "metadata": {},
          "output_type": "display_data"
        },
        {
          "name": "stdout",
          "output_type": "stream",
          "text": [
            "The vocabulary is already present. Loading it... Done!\n",
            "The embedding matrix is already present. Loading it... Done!\n"
          ]
        },
        {
          "name": "stderr",
          "output_type": "stream",
          "text": [
            "\u001b[34m\u001b[1mwandb\u001b[0m: logging graph, to disable use `wandb.watch(log_graph=False)`\n"
          ]
        },
        {
          "name": "stdout",
          "output_type": "stream",
          "text": [
            "STARTING TRAINING\n",
            "Evaluation metrics are computed on validation set\n",
            "\n",
            "EPOCHS | TRAIN LOSS | VALID LOSS | ACCURACY | PRECISION | RECALL |  F1   | V_ACC | V_PREC | V_REC | V_F1\n",
            "[00/50]|      0.493 |      0.693 |    0.621 |     0.574 |  0.958 | 0.718 | 0.621 |  0.572 | 0.956 | 0.716\n",
            "[10/50]|      0.372 |      0.585 |    0.701 |     0.635 |  0.960 | 0.764 | 0.700 |  0.632 | 0.958 | 0.762\n",
            "[20/50]|      0.338 |      0.615 |    0.710 |     0.640 |  0.970 | 0.771 | 0.709 |  0.638 | 0.969 | 0.769\n",
            "[30/50]|      0.310 |      0.621 |    0.723 |     0.655 |  0.951 | 0.776 | 0.723 |  0.654 | 0.949 | 0.774\n",
            "Validation loss increasing for 10 epochs\n",
            "[40/50]|      0.285 |      0.569 |    0.736 |     0.679 |  0.902 | 0.775 | 0.736 |  0.678 | 0.897 | 0.772\n",
            "Early stopping occured at epoch 43 with patience 20\n"
          ]
        },
        {
          "data": {
            "text/plain": "<IPython.core.display.HTML object>",
            "text/html": "<br/>Waiting for W&B process to finish, PID 12463... <strong style=\"color:green\">(success).</strong>"
          },
          "metadata": {},
          "output_type": "display_data"
        },
        {
          "data": {
            "text/plain": "VBox(children=(Label(value=' 0.00MB of 0.00MB uploaded (0.00MB deduped)\\r'), FloatProgress(value=1.0, max=1.0)…",
            "application/vnd.jupyter.widget-view+json": {
              "version_major": 2,
              "version_minor": 0,
              "model_id": "3f25ff5077554461bba5544a48a401a0"
            }
          },
          "metadata": {},
          "output_type": "display_data"
        },
        {
          "data": {
            "text/plain": "<IPython.core.display.HTML object>",
            "text/html": "<style>\n    table.wandb td:nth-child(1) { padding: 0 10px; text-align: right }\n    .wandb-row { display: flex; flex-direction: row; flex-wrap: wrap; width: 100% }\n    .wandb-col { display: flex; flex-direction: column; flex-basis: 100%; flex: 1; padding: 10px; }\n    </style>\n<div class=\"wandb-row\"><div class=\"wandb-col\">\n<h3>Run history:</h3><br/><table class=\"wandb\"><tr><td>epoch</td><td>▁▁▁▁▂▂▂▂▂▃▃▃▃▃▄▄▄▄▄▄▅▅▅▅▅▅▆▆▆▆▆▇▇▇▇▇████</td></tr><tr><td>train/accuracy</td><td>▁▄▅▃▅▃▂▄▄▅▄▄▅▃▅▄▅▅▅▅▄▅▆▆▅▆▆▇▅▆▆▅▇▆▇▆█▆▇█</td></tr><tr><td>train/f1</td><td>▁▄▅▃▅▃▂▄▄▅▄▅▅▃▅▃▅▅▅▄▄▅▆▆▅▆▆▇▄▆▆▅▇▇▇▇█▆██</td></tr><tr><td>train/loss</td><td>█▆▅▆▅▅▇▅▅▅▅▄▅▆▄▄▄▄▄▄▄▄▄▄▃▃▃▃▄▃▄▃▂▃▁▁▁▃▁▁</td></tr><tr><td>train_step</td><td>▁▁▁▂▂▂▂▂▂▃▃▃▃▃▃▄▄▄▄▄▅▅▅▅▅▅▆▆▆▆▆▇▇▇▇▇▇███</td></tr><tr><td>valid/accuracy</td><td>▁▂▃▄▄▅▅▆▆▆▅▇▇▇▇▇▇▆▇▆▇█▇▇▇▇▇█▇███▇▇██▇█▇█</td></tr><tr><td>valid/f1</td><td>▁▂▃▄▄▅▅▆▆▆▆▇▇▇▇▇▇▆▇▇██▇█▇████████▇██▇▇▇█</td></tr><tr><td>valid/loss</td><td>█▆▄▅▅▅▄▃▃▃▆▃▂▂▁▃▂▆▂▅▂▁▅▂▅▅▃▂▅▂▄▃▅▆▂▄▆▃█▃</td></tr><tr><td>valid/precision</td><td>▁▂▃▃▃▄▄▅▅▅▄▆▆▆▇▆▆▅▆▅▇▇▆▆▆▆▇█▆█▇▇▇▆█▇▆█▆█</td></tr><tr><td>valid/recall</td><td>▆▆▅▆▇▇▇▆▇▆█▅▅▆▄▆▆█▅█▅▃▆▆▆▆▅▂▆▂▄▃▆▆▁▄▆▁▆▃</td></tr><tr><td>valid/vote_accuracy</td><td>▁▂▃▄▄▄▅▆▅▆▅▇▇▆▇▇▆▆▇▆▇█▇▇▇▇▇█▇███▇▇██▇█▇█</td></tr><tr><td>valid/vote_f1</td><td>▁▂▃▄▄▅▅▆▆▆▆▇▇▇▇▇▇▆▇▇██▇█▇████████▇██▇▇▇█</td></tr><tr><td>valid/vote_precision</td><td>▁▂▃▃▃▄▄▅▅▅▄▆▆▆▇▆▆▅▆▅▇▇▆▆▆▆▇█▆█▇▇▆▆█▇▆█▆█</td></tr><tr><td>valid/vote_recall</td><td>▇▆▅▆▇▇▇▆▇▆█▅▅▆▄▆▆█▅█▅▃▆▆▆▆▅▂▆▂▄▃▆▆▁▄▆▁▆▃</td></tr></table><br/></div><div class=\"wandb-col\">\n<h3>Run summary:</h3><br/><table class=\"wandb\"><tr><td>epoch</td><td>43</td></tr><tr><td>train/f1</td><td>0.91582</td></tr><tr><td>train_step</td><td>10471</td></tr></table>\n</div></div>\nSynced 6 W&B file(s), 1 media file(s), 0 artifact file(s) and 0 other file(s)\n<br/>Synced <strong style=\"color:#cdcd00\">pious-donkey-413</strong>: <a href=\"https://wandb.ai/nlpetroni/assignment-two/runs/30g28dhl\" target=\"_blank\">https://wandb.ai/nlpetroni/assignment-two/runs/30g28dhl</a><br/>\nFind logs at: <code>./wandb/run-20211218_234918-30g28dhl/logs</code><br/>\n"
          },
          "metadata": {},
          "output_type": "display_data"
        },
        {
          "data": {
            "text/plain": "FactChecker(\n  (emb_layer): Embedding(403484, 100)\n  (encoder): RNNEncoder(\n    (output_layer): LambdaLast()\n    (rec_module): RNN(100, 64, num_layers=2, batch_first=True, bidirectional=True)\n  )\n  (merger): LambdaConcatenation()\n  (classifier): Sequential(\n    (classifier_fc1): Linear(in_features=256, out_features=128, bias=True)\n    (classifier_ReLU): ReLU()\n    (classifier_fc2): Linear(in_features=128, out_features=1, bias=True)\n  )\n)"
          },
          "execution_count": 24,
          "metadata": {},
          "output_type": "execute_result"
        }
      ],
      "source": [
        "# elman\n",
        "train(optimizer=opt, lr=lr, device=device, n_epochs=epochs, verbose=verbose, tags=[tag, 'elman_last'],\n",
        "    batch_size=batch_size, encoder='rnn', merger='concatenation', rnn_type='elman',\n",
        "    rnn_output='last', rec_size=rec_size, hid_size=hid_size, cosine_similarity=cosine_similarity)"
      ],
      "metadata": {
        "pycharm": {
          "name": "#%%\n"
        },
        "colab": {
          "referenced_widgets": [
            "3f25ff5077554461bba5544a48a401a0"
          ]
        },
        "id": "mCFGDKam-SJE",
        "outputId": "0e500a89-2431-4a48-98f1-69b6491af484"
      }
    },
    {
      "cell_type": "code",
      "execution_count": null,
      "metadata": {
        "colab": {
          "referenced_widgets": [
            "f3b7640c45b342389c7329fe2064890d"
          ]
        },
        "id": "c5bC8W75-SJF",
        "outputId": "579258c0-544f-4f47-a915-a1993d3cbb77"
      },
      "outputs": [
        {
          "name": "stderr",
          "output_type": "stream",
          "text": [
            "\u001b[34m\u001b[1mwandb\u001b[0m: \u001b[33mWARNING\u001b[0m If you're specifying your api key in code, ensure this code is not shared publically.\n",
            "\u001b[34m\u001b[1mwandb\u001b[0m: \u001b[33mWARNING\u001b[0m Consider setting the WANDB_API_KEY environment variable, or running `wandb login` from the command line.\n",
            "\u001b[34m\u001b[1mwandb\u001b[0m: Appending key for api.wandb.ai to your netrc file: /home/diego/.netrc\n"
          ]
        },
        {
          "data": {
            "text/plain": "<IPython.core.display.HTML object>",
            "text/html": "\n                    Syncing run <strong><a href=\"https://wandb.ai/nlpetroni/assignment-two/runs/20zxtbpo\" target=\"_blank\">sleek-snow-414</a></strong> to <a href=\"https://wandb.ai/nlpetroni/assignment-two\" target=\"_blank\">Weights & Biases</a> (<a href=\"https://docs.wandb.com/integrations/jupyter.html\" target=\"_blank\">docs</a>).<br/>\n\n                "
          },
          "metadata": {},
          "output_type": "display_data"
        },
        {
          "name": "stdout",
          "output_type": "stream",
          "text": [
            "The vocabulary is already present. Loading it... Done!\n",
            "The embedding matrix is already present. Loading it... Done!\n"
          ]
        },
        {
          "name": "stderr",
          "output_type": "stream",
          "text": [
            "\u001b[34m\u001b[1mwandb\u001b[0m: logging graph, to disable use `wandb.watch(log_graph=False)`\n",
            "/home/diego/miniconda3/envs/nlp/lib/python3.9/site-packages/sklearn/metrics/_classification.py:1308: UndefinedMetricWarning: Precision is ill-defined and being set to 0.0 due to no predicted samples. Use `zero_division` parameter to control this behavior.\n",
            "  _warn_prf(average, modifier, msg_start, len(result))\n"
          ]
        },
        {
          "name": "stdout",
          "output_type": "stream",
          "text": [
            "STARTING TRAINING\n",
            "Evaluation metrics are computed on validation set\n",
            "\n",
            "EPOCHS | TRAIN LOSS | VALID LOSS | ACCURACY | PRECISION | RECALL |  F1   | V_ACC | V_PREC | V_REC | V_F1\n",
            "[00/50]|      0.516 |      0.683 |    0.632 |     0.583 |  0.951 | 0.723 | 0.632 |  0.581 | 0.949 | 0.721\n",
            "[10/50]|      0.360 |      0.591 |    0.710 |     0.641 |  0.964 | 0.770 | 0.709 |  0.639 | 0.962 | 0.767\n",
            "[20/50]|      0.325 |      0.541 |    0.732 |     0.669 |  0.928 | 0.777 | 0.730 |  0.666 | 0.925 | 0.774\n",
            "[30/50]|      0.298 |      0.568 |    0.736 |     0.671 |  0.933 | 0.781 | 0.735 |  0.669 | 0.929 | 0.778\n",
            "Validation loss increasing for 10 epochs\n",
            "[40/50]|      0.272 |      0.566 |    0.743 |     0.686 |  0.906 | 0.780 | 0.743 |  0.685 | 0.901 | 0.778\n",
            "Early stopping occured at epoch 42 with patience 20\n"
          ]
        },
        {
          "data": {
            "text/plain": "<IPython.core.display.HTML object>",
            "text/html": "<br/>Waiting for W&B process to finish, PID 12635... <strong style=\"color:green\">(success).</strong>"
          },
          "metadata": {},
          "output_type": "display_data"
        },
        {
          "data": {
            "text/plain": "VBox(children=(Label(value=' 0.00MB of 0.00MB uploaded (0.00MB deduped)\\r'), FloatProgress(value=1.0, max=1.0)…",
            "application/vnd.jupyter.widget-view+json": {
              "version_major": 2,
              "version_minor": 0,
              "model_id": "f3b7640c45b342389c7329fe2064890d"
            }
          },
          "metadata": {},
          "output_type": "display_data"
        },
        {
          "data": {
            "text/plain": "<IPython.core.display.HTML object>",
            "text/html": "<style>\n    table.wandb td:nth-child(1) { padding: 0 10px; text-align: right }\n    .wandb-row { display: flex; flex-direction: row; flex-wrap: wrap; width: 100% }\n    .wandb-col { display: flex; flex-direction: column; flex-basis: 100%; flex: 1; padding: 10px; }\n    </style>\n<div class=\"wandb-row\"><div class=\"wandb-col\">\n<h3>Run history:</h3><br/><table class=\"wandb\"><tr><td>epoch</td><td>▁▁▁▁▂▂▂▂▃▃▃▃▃▃▃▄▄▄▄▄▅▅▅▅▅▅▆▆▆▆▆▇▇▇▇▇▇███</td></tr><tr><td>train/accuracy</td><td>▁▂▂▄▂▃▄▄▄▃▄▄▄▅▄▄▅▆▅▄▃▄▅▅▆▅▅▆▅▅▆▅▅▅▆▄█▅▅▆</td></tr><tr><td>train/f1</td><td>▁▂▂▄▁▃▄▄▄▂▄▄▄▅▄▄▅▆▄▄▃▄▅▅▆▄▅▆▄▅▆▅▄▄▆▄█▄▅▆</td></tr><tr><td>train/loss</td><td>█▇▇▆▇▅▅▅▅▅▅▅▄▄▄▄▄▄▄▄▅▄▃▃▃▄▄▃▃▄▃▂▃▄▂▄▁▃▄▁</td></tr><tr><td>train_step</td><td>▁▁▁▂▂▂▂▂▂▃▃▃▃▃▄▄▄▄▄▄▅▅▅▅▅▅▆▆▆▆▆▇▇▇▇▇▇███</td></tr><tr><td>valid/accuracy</td><td>▁▂▄▅▄▃▅▆▆▆▆▆▆▇▇▆▆█▇▇▇▇▇▇▇▆▇█▇█▇█▇█▇████▇</td></tr><tr><td>valid/f1</td><td>▁▂▄▅▅▄▆▆▆▆▆▆▇▇▇▇▇█▇▇▇▇█▇▇▇██▇█▇███████▇█</td></tr><tr><td>valid/loss</td><td>█▇▅▃▅▇▄▂▃▃▄▄▃▂▃▅▄▂▄▂▃▁▃▄▄▆▄▃▃▂▆▄▄▄▅▄▄▃▃▆</td></tr><tr><td>valid/precision</td><td>▁▂▃▄▃▃▄▅▅▅▅▅▅▆▆▅▆▇▆▇▆█▇▆▆▅▆▇▇█▆▇▇▇▇▇███▇</td></tr><tr><td>valid/recall</td><td>▅▇▅▅▇█▆▅▆▅▇▆▆▄▆▇▆▃▆▄▅▁▄▅▄▇▅▄▄▂▅▃▅▅▅▃▃▂▂▄</td></tr><tr><td>valid/vote_accuracy</td><td>▁▂▄▅▄▃▅▆▆▆▆▆▆▇▇▆▆█▇▇▇▇▇▇▇▆▇█▇█▇█▇█▇█████</td></tr><tr><td>valid/vote_f1</td><td>▁▂▄▅▅▄▅▆▆▆▆▆▆▇▇▇▇▇▇▇▇▇▇▇▇▇▇█▇█▇▇██████▇█</td></tr><tr><td>valid/vote_precision</td><td>▁▂▃▄▃▃▄▅▅▅▅▅▅▆▆▅▆▇▆▆▆█▇▆▆▅▆▇▇█▆▇▇▇▇▇███▇</td></tr><tr><td>valid/vote_recall</td><td>▆▇▅▅▇█▆▅▆▅▇▆▆▄▅▇▆▃▆▄▅▁▄▅▄▇▅▄▄▂▅▃▅▅▅▃▃▂▂▄</td></tr></table><br/></div><div class=\"wandb-col\">\n<h3>Run summary:</h3><br/><table class=\"wandb\"><tr><td>epoch</td><td>42</td></tr><tr><td>train/f1</td><td>0.91246</td></tr><tr><td>train_step</td><td>10233</td></tr></table>\n</div></div>\nSynced 6 W&B file(s), 1 media file(s), 0 artifact file(s) and 0 other file(s)\n<br/>Synced <strong style=\"color:#cdcd00\">sleek-snow-414</strong>: <a href=\"https://wandb.ai/nlpetroni/assignment-two/runs/20zxtbpo\" target=\"_blank\">https://wandb.ai/nlpetroni/assignment-two/runs/20zxtbpo</a><br/>\nFind logs at: <code>./wandb/run-20211219_000950-20zxtbpo/logs</code><br/>\n"
          },
          "metadata": {},
          "output_type": "display_data"
        },
        {
          "data": {
            "text/plain": "FactChecker(\n  (emb_layer): Embedding(403484, 100)\n  (encoder): RNNEncoder(\n    (output_layer): LambdaLast()\n    (rec_module): LSTM(100, 64, num_layers=2, batch_first=True, bidirectional=True)\n  )\n  (merger): LambdaConcatenation()\n  (classifier): Sequential(\n    (classifier_fc1): Linear(in_features=256, out_features=128, bias=True)\n    (classifier_ReLU): ReLU()\n    (classifier_fc2): Linear(in_features=128, out_features=1, bias=True)\n  )\n)"
          },
          "execution_count": 25,
          "metadata": {},
          "output_type": "execute_result"
        }
      ],
      "source": [
        "# lstm\n",
        "train(optimizer=opt, lr=lr, device=device, n_epochs=epochs, verbose=verbose, tags=[tag, 'lstm_last'],\n",
        "    batch_size=batch_size, encoder='rnn', merger='concatenation', rnn_type='lstm',\n",
        "    rnn_output='last', rec_size=rec_size, hid_size=hid_size, cosine_similarity=cosine_similarity)"
      ]
    },
    {
      "cell_type": "code",
      "execution_count": null,
      "metadata": {
        "id": "_d9YmAkseDzD",
        "pycharm": {
          "name": "#%%\n"
        },
        "colab": {
          "referenced_widgets": [
            "bbd355a46e9f4553aa9a6a5021b585b5"
          ]
        },
        "outputId": "c2a54864-7a94-4deb-970e-b619639c2de6"
      },
      "outputs": [
        {
          "name": "stderr",
          "output_type": "stream",
          "text": [
            "\u001b[34m\u001b[1mwandb\u001b[0m: \u001b[33mWARNING\u001b[0m If you're specifying your api key in code, ensure this code is not shared publically.\n",
            "\u001b[34m\u001b[1mwandb\u001b[0m: \u001b[33mWARNING\u001b[0m Consider setting the WANDB_API_KEY environment variable, or running `wandb login` from the command line.\n",
            "\u001b[34m\u001b[1mwandb\u001b[0m: Appending key for api.wandb.ai to your netrc file: /home/diego/.netrc\n"
          ]
        },
        {
          "data": {
            "text/plain": "<IPython.core.display.HTML object>",
            "text/html": "\n                    Syncing run <strong><a href=\"https://wandb.ai/nlpetroni/assignment-two/runs/3nifwyuy\" target=\"_blank\">dry-haze-415</a></strong> to <a href=\"https://wandb.ai/nlpetroni/assignment-two\" target=\"_blank\">Weights & Biases</a> (<a href=\"https://docs.wandb.com/integrations/jupyter.html\" target=\"_blank\">docs</a>).<br/>\n\n                "
          },
          "metadata": {},
          "output_type": "display_data"
        },
        {
          "name": "stdout",
          "output_type": "stream",
          "text": [
            "The vocabulary is already present. Loading it... Done!\n",
            "The embedding matrix is already present. Loading it... Done!\n"
          ]
        },
        {
          "name": "stderr",
          "output_type": "stream",
          "text": [
            "\u001b[34m\u001b[1mwandb\u001b[0m: logging graph, to disable use `wandb.watch(log_graph=False)`\n"
          ]
        },
        {
          "name": "stdout",
          "output_type": "stream",
          "text": [
            "STARTING TRAINING\n",
            "Evaluation metrics are computed on validation set\n",
            "\n",
            "EPOCHS | TRAIN LOSS | VALID LOSS | ACCURACY | PRECISION | RECALL |  F1   | V_ACC | V_PREC | V_REC | V_F1\n",
            "[00/50]|      0.499 |      0.652 |    0.654 |     0.599 |  0.947 | 0.734 | 0.653 |  0.597 | 0.945 | 0.731\n",
            "[10/50]|      0.355 |      0.524 |    0.727 |     0.659 |  0.950 | 0.778 | 0.726 |  0.656 | 0.948 | 0.775\n",
            "[20/50]|      0.322 |      0.527 |    0.739 |     0.671 |  0.946 | 0.785 | 0.737 |  0.667 | 0.943 | 0.782\n",
            "[30/50]|      0.296 |      0.553 |    0.742 |     0.674 |  0.944 | 0.786 | 0.741 |  0.672 | 0.942 | 0.784\n",
            "Validation loss increasing for 10 epochs\n",
            "[40/50]|      0.273 |      0.561 |    0.747 |     0.681 |  0.937 | 0.789 | 0.747 |  0.679 | 0.934 | 0.786\n",
            "Early stopping occured at epoch 49 with patience 20\n"
          ]
        },
        {
          "data": {
            "text/plain": "<IPython.core.display.HTML object>",
            "text/html": "<br/>Waiting for W&B process to finish, PID 12728... <strong style=\"color:green\">(success).</strong>"
          },
          "metadata": {},
          "output_type": "display_data"
        },
        {
          "data": {
            "text/plain": "VBox(children=(Label(value=' 0.00MB of 0.00MB uploaded (0.00MB deduped)\\r'), FloatProgress(value=1.0, max=1.0)…",
            "application/vnd.jupyter.widget-view+json": {
              "version_major": 2,
              "version_minor": 0,
              "model_id": "bbd355a46e9f4553aa9a6a5021b585b5"
            }
          },
          "metadata": {},
          "output_type": "display_data"
        },
        {
          "data": {
            "text/plain": "<IPython.core.display.HTML object>",
            "text/html": "<style>\n    table.wandb td:nth-child(1) { padding: 0 10px; text-align: right }\n    .wandb-row { display: flex; flex-direction: row; flex-wrap: wrap; width: 100% }\n    .wandb-col { display: flex; flex-direction: column; flex-basis: 100%; flex: 1; padding: 10px; }\n    </style>\n<div class=\"wandb-row\"><div class=\"wandb-col\">\n<h3>Run history:</h3><br/><table class=\"wandb\"><tr><td>epoch</td><td>▁▁▁▂▂▂▂▂▂▃▃▃▃▃▄▄▄▄▄▄▅▅▅▅▅▅▆▆▆▆▆▇▇▇▇▇▇███</td></tr><tr><td>train/accuracy</td><td>▂▁▄▅▅▃▄▅▅▄▅▅▄▆▆▆▆▆▆▇▇▆▆▇▆▅▆▆▆▆▆▇▇█▇▇▇█▆▇</td></tr><tr><td>train/f1</td><td>▂▁▄▆▅▃▄▅▅▄▅▅▄▆▆▆▆▆▆▇▇▆▆▇▆▅▅▆▆▆▆▆▇█▆▇▇█▆▇</td></tr><tr><td>train/loss</td><td>██▅▅▆▆▆▅▅▅▄▅▅▄▄▄▃▃▄▂▃▃▄▃▃▃▃▃▂▄▃▃▂▂▂▃▃▁▂▂</td></tr><tr><td>train_step</td><td>▁▁▁▂▂▂▂▂▂▃▃▃▃▃▃▄▄▄▄▄▅▅▅▅▅▅▆▆▆▆▆▇▇▇▇▇▇███</td></tr><tr><td>valid/accuracy</td><td>▁▂▄▃▄▅▅▅▆▆▆▆▇▆▇▆▇▆▇▇▇▇▇▇▇▇▇▇▇███▇▇███▇██</td></tr><tr><td>valid/f1</td><td>▁▂▄▄▅▆▅▆▆▆▆▇▇▇▇▇▇▇▇▇█▇▇▇▇▇█▇▇████▇███▇██</td></tr><tr><td>valid/loss</td><td>█▆▄▆▄▃▃▃▁▁▂▂▂▃▁▃▁▄▂▃▂▃▄▃▃▂▃▃▇▂▂▃▃▇▂▂▃▄▄▄</td></tr><tr><td>valid/precision</td><td>▁▂▃▃▃▄▄▄▅▅▅▅▆▆▆▅▆▆▇▆▇▆▆▆▆▇▇▇▆█▇█▇▆██▇▇▇█</td></tr><tr><td>valid/recall</td><td>▅▇▆██▇█▇▅▆▆▆▄▆▃▆▄▆▄▅▃▄▅▅▄▂▃▃▆▁▂▂▃▅▁▂▂▃▃▂</td></tr><tr><td>valid/vote_accuracy</td><td>▁▂▄▃▄▅▅▅▆▅▆▆▇▆▇▆▇▆▇▇▇▇▇▇▇▇▇▇▇███▇▇███▇██</td></tr><tr><td>valid/vote_f1</td><td>▁▂▄▄▅▆▅▆▆▆▆▇▇▇▇▇▇▇▇▇█▇▇▇▇▇█▇▇████▇███▇██</td></tr><tr><td>valid/vote_precision</td><td>▁▂▃▃▃▄▄▄▅▅▅▅▆▅▆▅▆▅▆▆▇▆▆▆▆▇▇▇▆█▇█▇▆██▇▇▇█</td></tr><tr><td>valid/vote_recall</td><td>▅▇▆██▇█▇▅▆▆▆▄▆▃▆▅▆▄▅▃▄▅▅▄▂▃▃▆▁▂▂▃▅▂▂▂▃▃▂</td></tr></table><br/></div><div class=\"wandb-col\">\n<h3>Run summary:</h3><br/><table class=\"wandb\"><tr><td>epoch</td><td>49</td></tr><tr><td>train/f1</td><td>0.93</td></tr><tr><td>train_step</td><td>11899</td></tr></table>\n</div></div>\nSynced 6 W&B file(s), 1 media file(s), 0 artifact file(s) and 0 other file(s)\n<br/>Synced <strong style=\"color:#cdcd00\">dry-haze-415</strong>: <a href=\"https://wandb.ai/nlpetroni/assignment-two/runs/3nifwyuy\" target=\"_blank\">https://wandb.ai/nlpetroni/assignment-two/runs/3nifwyuy</a><br/>\nFind logs at: <code>./wandb/run-20211219_003346-3nifwyuy/logs</code><br/>\n"
          },
          "metadata": {},
          "output_type": "display_data"
        },
        {
          "data": {
            "text/plain": "FactChecker(\n  (emb_layer): Embedding(403484, 100)\n  (encoder): RNNEncoder(\n    (output_layer): LambdaLast()\n    (rec_module): GRU(100, 64, num_layers=2, batch_first=True, bidirectional=True)\n  )\n  (merger): LambdaConcatenation()\n  (classifier): Sequential(\n    (classifier_fc1): Linear(in_features=256, out_features=128, bias=True)\n    (classifier_ReLU): ReLU()\n    (classifier_fc2): Linear(in_features=128, out_features=1, bias=True)\n  )\n)"
          },
          "execution_count": 26,
          "metadata": {},
          "output_type": "execute_result"
        }
      ],
      "source": [
        "# gru\n",
        "train(optimizer=opt, lr=lr, device=device, n_epochs=epochs, verbose=verbose, tags=[tag, 'gru_last'],\n",
        "    batch_size=batch_size, encoder='rnn', merger='concatenation', rnn_type='gru',\n",
        "    rnn_output='last', rec_size=rec_size, hid_size=hid_size, cosine_similarity=cosine_similarity)"
      ]
    },
    {
      "cell_type": "markdown",
      "metadata": {
        "collapsed": false,
        "id": "CGR2DD7veDzF"
      },
      "source": [
        "### Average of all the output states of a RNN"
      ]
    },
    {
      "cell_type": "code",
      "execution_count": null,
      "metadata": {
        "colab": {
          "referenced_widgets": [
            "18d705d6f41a4cc4afc7e112598c0dc7",
            "d4dacdfd3ded4d13a6c43d00ef36ad86"
          ]
        },
        "id": "uBAiGI3PeDzF",
        "outputId": "f0f7e32b-7cee-444e-a6aa-19ad36e03f2a",
        "pycharm": {
          "name": "#%%\n"
        }
      },
      "outputs": [
        {
          "name": "stderr",
          "output_type": "stream",
          "text": [
            "\u001b[34m\u001b[1mwandb\u001b[0m: \u001b[33mWARNING\u001b[0m If you're specifying your api key in code, ensure this code is not shared publically.\n",
            "\u001b[34m\u001b[1mwandb\u001b[0m: \u001b[33mWARNING\u001b[0m Consider setting the WANDB_API_KEY environment variable, or running `wandb login` from the command line.\n",
            "\u001b[34m\u001b[1mwandb\u001b[0m: Appending key for api.wandb.ai to your netrc file: /home/diego/.netrc\n"
          ]
        },
        {
          "data": {
            "text/plain": "<IPython.core.display.HTML object>",
            "text/html": "\n                    Syncing run <strong><a href=\"https://wandb.ai/nlpetroni/assignment-two/runs/3in59x1i\" target=\"_blank\">lucky-universe-416</a></strong> to <a href=\"https://wandb.ai/nlpetroni/assignment-two\" target=\"_blank\">Weights & Biases</a> (<a href=\"https://docs.wandb.com/integrations/jupyter.html\" target=\"_blank\">docs</a>).<br/>\n\n                "
          },
          "metadata": {},
          "output_type": "display_data"
        },
        {
          "name": "stdout",
          "output_type": "stream",
          "text": [
            "The vocabulary is already present. Loading it... Done!\n",
            "The embedding matrix is already present. Loading it... Done!\n"
          ]
        },
        {
          "name": "stderr",
          "output_type": "stream",
          "text": [
            "\u001b[34m\u001b[1mwandb\u001b[0m: logging graph, to disable use `wandb.watch(log_graph=False)`\n"
          ]
        },
        {
          "name": "stdout",
          "output_type": "stream",
          "text": [
            "STARTING TRAINING\n",
            "Evaluation metrics are computed on validation set\n",
            "\n",
            "EPOCHS | TRAIN LOSS | VALID LOSS | ACCURACY | PRECISION | RECALL |  F1   | V_ACC | V_PREC | V_REC | V_F1\n",
            "[00/50]|      0.559 |      1.353 |    0.597 |     0.560 |  0.943 | 0.702 | 0.595 |  0.556 | 0.940 | 0.699\n",
            "[10/50]|      0.402 |      0.857 |    0.709 |     0.649 |  0.921 | 0.761 | 0.708 |  0.646 | 0.917 | 0.758\n",
            "[20/50]|      0.372 |      0.805 |    0.712 |     0.649 |  0.933 | 0.766 | 0.711 |  0.647 | 0.930 | 0.763\n",
            "[30/50]|      0.351 |      0.832 |    0.730 |     0.671 |  0.911 | 0.773 | 0.730 |  0.670 | 0.906 | 0.770\n",
            "Validation loss increasing for 10 epochs\n",
            "[40/50]|      0.336 |      0.731 |    0.732 |     0.679 |  0.888 | 0.770 | 0.731 |  0.677 | 0.882 | 0.766\n",
            "Early stopping occured at epoch 43 with patience 20\n"
          ]
        },
        {
          "data": {
            "text/plain": "<IPython.core.display.HTML object>",
            "text/html": "<br/>Waiting for W&B process to finish, PID 12812... <strong style=\"color:green\">(success).</strong>"
          },
          "metadata": {},
          "output_type": "display_data"
        },
        {
          "data": {
            "text/plain": "VBox(children=(Label(value=' 0.00MB of 0.00MB uploaded (0.00MB deduped)\\r'), FloatProgress(value=1.0, max=1.0)…",
            "application/vnd.jupyter.widget-view+json": {
              "version_major": 2,
              "version_minor": 0,
              "model_id": "d4dacdfd3ded4d13a6c43d00ef36ad86"
            }
          },
          "metadata": {},
          "output_type": "display_data"
        },
        {
          "data": {
            "text/plain": "<IPython.core.display.HTML object>",
            "text/html": "<style>\n    table.wandb td:nth-child(1) { padding: 0 10px; text-align: right }\n    .wandb-row { display: flex; flex-direction: row; flex-wrap: wrap; width: 100% }\n    .wandb-col { display: flex; flex-direction: column; flex-basis: 100%; flex: 1; padding: 10px; }\n    </style>\n<div class=\"wandb-row\"><div class=\"wandb-col\">\n<h3>Run history:</h3><br/><table class=\"wandb\"><tr><td>epoch</td><td>▁▁▁▁▂▂▂▂▂▃▃▃▃▃▄▄▄▄▄▄▅▅▅▅▅▅▆▆▆▆▆▇▇▇▇▇████</td></tr><tr><td>train/accuracy</td><td>▁▄▅▄▆▅▄▆▆▆▅▆▅▅▆▄▅▆▅▅▅▆▇▆▆▆▆▆▅▆▆▅▇▇▇▇▇▇▇█</td></tr><tr><td>train/f1</td><td>▁▄▅▃▆▄▃▆▅▆▅▅▅▄▆▄▅▅▅▄▅▆▆▅▅▆▆▆▄▆▅▄▆▇▇▇▆▇▇█</td></tr><tr><td>train/loss</td><td>█▆▅▆▅▅▅▄▃▄▄▃▄▅▄▄▃▃▄▄▄▃▃▃▃▃▃▃▄▃▃▄▂▂▁▂▂▂▂▂</td></tr><tr><td>train_step</td><td>▁▁▁▂▂▂▂▂▂▃▃▃▃▃▃▄▄▄▄▄▅▅▅▅▅▅▆▆▆▆▆▇▇▇▇▇▇███</td></tr><tr><td>valid/accuracy</td><td>▁▃▃▄▄▅▆▆▆▆▇▇▇▇▇▇▇▇▇▇▇▇▇▇██▇▇████████▇██▇</td></tr><tr><td>valid/f1</td><td>▁▂▃▄▅▅▅▆▆▆▇▇▇▇▇▇▇▇▇▇▇▇▇████▇████████████</td></tr><tr><td>valid/loss</td><td>█▇▅▅▆▅▃▃▃▂▅▂▂▂▁▂▁▆▂▂▁▁▂▁▂▄▂▁▂▂▂▁▂▂▁▂▃▁▃▁</td></tr><tr><td>valid/precision</td><td>▁▂▃▄▄▄▅▆▆▆▆▇▇▆▇▇▆▆▇▆▇▆▇▇▇▇▆▇▇▇█▇▇▇▇▇▇█▇▇</td></tr><tr><td>valid/recall</td><td>█▇▇▅█▇▃▄▅▅▄▂▃▄▂▄▄▇▄▇▃▅▄▄▅▅▆▄▅▃▁▄▅▅▃▅▆▂▄▅</td></tr><tr><td>valid/vote_accuracy</td><td>▁▃▃▄▄▅▆▆▆▆▇▇▇▇▇▇▇▇▇▇▇▇▇▇█▇▇▇████████▇██▇</td></tr><tr><td>valid/vote_f1</td><td>▁▃▃▄▅▆▆▆▆▆▇▇▇▇▇▇▇▇▇▇▇▇█▇███▇████████████</td></tr><tr><td>valid/vote_precision</td><td>▁▂▃▄▄▄▅▆▆▆▆▇▆▆▇▇▆▆▇▆▇▆▇▇▇▇▆▇▇▇█▇▇▇▇▇▇▇▇▇</td></tr><tr><td>valid/vote_recall</td><td>█▇▇▅█▇▃▄▅▅▄▂▃▄▂▄▄▇▄▇▃▅▄▄▅▅▆▄▅▃▁▄▅▅▃▅▆▂▄▅</td></tr></table><br/></div><div class=\"wandb-col\">\n<h3>Run summary:</h3><br/><table class=\"wandb\"><tr><td>epoch</td><td>43</td></tr><tr><td>train/f1</td><td>0.90312</td></tr><tr><td>train_step</td><td>10471</td></tr></table>\n</div></div>\nSynced 6 W&B file(s), 1 media file(s), 0 artifact file(s) and 0 other file(s)\n<br/>Synced <strong style=\"color:#cdcd00\">lucky-universe-416</strong>: <a href=\"https://wandb.ai/nlpetroni/assignment-two/runs/3in59x1i\" target=\"_blank\">https://wandb.ai/nlpetroni/assignment-two/runs/3in59x1i</a><br/>\nFind logs at: <code>./wandb/run-20211219_010239-3in59x1i/logs</code><br/>\n"
          },
          "metadata": {},
          "output_type": "display_data"
        },
        {
          "data": {
            "text/plain": "FactChecker(\n  (emb_layer): Embedding(403484, 100)\n  (encoder): RNNEncoder(\n    (output_layer): LambdaAvg()\n    (rec_module): RNN(100, 64, num_layers=2, batch_first=True, bidirectional=True)\n  )\n  (merger): LambdaConcatenation()\n  (classifier): Sequential(\n    (classifier_fc1): Linear(in_features=256, out_features=128, bias=True)\n    (classifier_ReLU): ReLU()\n    (classifier_fc2): Linear(in_features=128, out_features=1, bias=True)\n  )\n)"
          },
          "execution_count": 27,
          "metadata": {},
          "output_type": "execute_result"
        }
      ],
      "source": [
        "# elman\n",
        "train(optimizer=opt, lr=lr, device=device, n_epochs=epochs, verbose=verbose, tags=[tag, 'elman_avg'],\n",
        "    batch_size=batch_size, encoder='rnn', merger='concatenation', rnn_type='elman',\n",
        "    rnn_output='avg', rec_size=rec_size, hid_size=hid_size, cosine_similarity=cosine_similarity)"
      ]
    },
    {
      "cell_type": "code",
      "execution_count": null,
      "metadata": {
        "colab": {
          "referenced_widgets": [
            "9907224891d446b492e468f0e3fd06a1",
            "543e047b7a404ee48d1d7b7c0d0b1fc5",
            "13b9e09c7c9e4666b68fd8b76d5322bf"
          ]
        },
        "id": "iD9H5FwaeDzG",
        "outputId": "853b62fc-a9f2-49b7-8a2a-c1dc4fd14121",
        "pycharm": {
          "name": "#%%\n"
        }
      },
      "outputs": [
        {
          "name": "stderr",
          "output_type": "stream",
          "text": [
            "\u001b[34m\u001b[1mwandb\u001b[0m: \u001b[33mWARNING\u001b[0m Calling wandb.login() after wandb.init() has no effect.\n"
          ]
        },
        {
          "data": {
            "text/plain": "<IPython.core.display.HTML object>",
            "text/html": "Finishing last run (ID:1e5ezl1r) before initializing another..."
          },
          "metadata": {},
          "output_type": "display_data"
        },
        {
          "data": {
            "text/plain": "<IPython.core.display.HTML object>",
            "text/html": "<br/>Waiting for W&B process to finish, PID 14034... <strong style=\"color:green\">(success).</strong>"
          },
          "metadata": {},
          "output_type": "display_data"
        },
        {
          "data": {
            "text/plain": "VBox(children=(Label(value=' 0.00MB of 0.00MB uploaded (0.00MB deduped)\\r'), FloatProgress(value=1.0, max=1.0)…",
            "application/vnd.jupyter.widget-view+json": {
              "version_major": 2,
              "version_minor": 0,
              "model_id": "543e047b7a404ee48d1d7b7c0d0b1fc5"
            }
          },
          "metadata": {},
          "output_type": "display_data"
        },
        {
          "data": {
            "text/plain": "<IPython.core.display.HTML object>",
            "text/html": "<style>\n    table.wandb td:nth-child(1) { padding: 0 10px; text-align: right }\n    .wandb-row { display: flex; flex-direction: row; flex-wrap: wrap; width: 100% }\n    .wandb-col { display: flex; flex-direction: column; flex-basis: 100%; flex: 1; padding: 10px; }\n    </style>\n<div class=\"wandb-row\"><div class=\"wandb-col\">\n</div><div class=\"wandb-col\">\n</div></div>\nSynced 6 W&B file(s), 1 media file(s), 0 artifact file(s) and 0 other file(s)\n<br/>Synced <strong style=\"color:#cdcd00\">swift-wind-422</strong>: <a href=\"https://wandb.ai/nlpetroni/assignment-two/runs/1e5ezl1r\" target=\"_blank\">https://wandb.ai/nlpetroni/assignment-two/runs/1e5ezl1r</a><br/>\nFind logs at: <code>./wandb/run-20211219_015800-1e5ezl1r/logs</code><br/>\n"
          },
          "metadata": {},
          "output_type": "display_data"
        },
        {
          "data": {
            "text/plain": "<IPython.core.display.HTML object>",
            "text/html": "Successfully finished last run (ID:1e5ezl1r). Initializing new run:<br/>"
          },
          "metadata": {},
          "output_type": "display_data"
        },
        {
          "data": {
            "text/plain": "<IPython.core.display.HTML object>",
            "text/html": "\n                    Syncing run <strong><a href=\"https://wandb.ai/nlpetroni/assignment-two/runs/2p22vy98\" target=\"_blank\">decent-galaxy-423</a></strong> to <a href=\"https://wandb.ai/nlpetroni/assignment-two\" target=\"_blank\">Weights & Biases</a> (<a href=\"https://docs.wandb.com/integrations/jupyter.html\" target=\"_blank\">docs</a>).<br/>\n\n                "
          },
          "metadata": {},
          "output_type": "display_data"
        },
        {
          "name": "stdout",
          "output_type": "stream",
          "text": [
            "The vocabulary is already present. Loading it... Done!\n",
            "The embedding matrix is already present. Loading it... Done!\n"
          ]
        },
        {
          "name": "stderr",
          "output_type": "stream",
          "text": [
            "\u001b[34m\u001b[1mwandb\u001b[0m: logging graph, to disable use `wandb.watch(log_graph=False)`\n",
            "/home/diego/miniconda3/envs/nlp/lib/python3.9/site-packages/sklearn/metrics/_classification.py:1308: UndefinedMetricWarning: Precision is ill-defined and being set to 0.0 due to no predicted samples. Use `zero_division` parameter to control this behavior.\n",
            "  _warn_prf(average, modifier, msg_start, len(result))\n"
          ]
        },
        {
          "name": "stdout",
          "output_type": "stream",
          "text": [
            "STARTING TRAINING\n",
            "Evaluation metrics are computed on validation set\n",
            "\n",
            "EPOCHS | TRAIN LOSS | VALID LOSS | ACCURACY | PRECISION | RECALL |  F1   | V_ACC | V_PREC | V_REC | V_F1\n"
          ]
        },
        {
          "name": "stderr",
          "output_type": "stream",
          "text": [
            "/home/diego/miniconda3/envs/nlp/lib/python3.9/site-packages/sklearn/metrics/_classification.py:1308: UndefinedMetricWarning: Precision is ill-defined and being set to 0.0 due to no predicted samples. Use `zero_division` parameter to control this behavior.\n",
            "  _warn_prf(average, modifier, msg_start, len(result))\n"
          ]
        },
        {
          "name": "stdout",
          "output_type": "stream",
          "text": [
            "[00/50]|      0.582 |      1.411 |    0.520 |     0.512 |  0.990 | 0.675 | 0.516 |  0.508 | 0.990 | 0.672\n",
            "[10/50]|      0.398 |      0.919 |    0.707 |     0.645 |  0.930 | 0.762 | 0.705 |  0.642 | 0.926 | 0.758\n",
            "[20/50]|      0.360 |      0.895 |    0.735 |     0.680 |  0.896 | 0.773 | 0.733 |  0.678 | 0.890 | 0.769\n",
            "Validation loss increasing for 10 epochs\n",
            "[30/50]|      0.336 |      0.861 |    0.733 |     0.675 |  0.909 | 0.775 | 0.732 |  0.673 | 0.904 | 0.771\n",
            "Early stopping occured at epoch 35 with patience 20\n"
          ]
        },
        {
          "data": {
            "text/plain": "<IPython.core.display.HTML object>",
            "text/html": "<br/>Waiting for W&B process to finish, PID 14119... <strong style=\"color:green\">(success).</strong>"
          },
          "metadata": {},
          "output_type": "display_data"
        },
        {
          "data": {
            "text/plain": "VBox(children=(Label(value=' 0.00MB of 0.00MB uploaded (0.00MB deduped)\\r'), FloatProgress(value=1.0, max=1.0)…",
            "application/vnd.jupyter.widget-view+json": {
              "version_major": 2,
              "version_minor": 0,
              "model_id": "13b9e09c7c9e4666b68fd8b76d5322bf"
            }
          },
          "metadata": {},
          "output_type": "display_data"
        },
        {
          "data": {
            "text/plain": "<IPython.core.display.HTML object>",
            "text/html": "<style>\n    table.wandb td:nth-child(1) { padding: 0 10px; text-align: right }\n    .wandb-row { display: flex; flex-direction: row; flex-wrap: wrap; width: 100% }\n    .wandb-col { display: flex; flex-direction: column; flex-basis: 100%; flex: 1; padding: 10px; }\n    </style>\n<div class=\"wandb-row\"><div class=\"wandb-col\">\n<h3>Run history:</h3><br/><table class=\"wandb\"><tr><td>epoch</td><td>▁▁▁▂▂▂▂▂▂▃▃▃▃▃▃▄▄▄▄▄▅▅▅▅▅▆▆▆▆▆▆▇▇▇▇▇▇███</td></tr><tr><td>train/accuracy</td><td>▁▁▃▅▄▂▄▃▆▄▆▄▆▆▆▇▅▅▆▅▆▅▆▆▅▇▆▆▆▇▅▆▇█▇▆█▅██</td></tr><tr><td>train/f1</td><td>▂▁▂▅▄▂▄▂▆▄▅▂▅▅▆▆▄▄▆▅▅▅▅▅▄▇▅▆▆▇▅▅▆█▇▅█▄█▇</td></tr><tr><td>train/loss</td><td>█▇▆▄▅▅▅▅▃▆▄▄▄▃▃▃▄▄▃▄▃▃▃▃▄▃▂▂▂▂▃▃▃▁▂▃▂▃▁▁</td></tr><tr><td>train_step</td><td>▁▁▁▂▂▂▂▂▂▃▃▃▃▃▃▄▄▄▄▄▅▅▅▅▅▅▆▆▆▆▆▆▇▇▇▇▇███</td></tr><tr><td>valid/accuracy</td><td>▁▃▅▆▅▅▇▇▇▇▇▇▇▇▇█▇▇███▇████▇█████████</td></tr><tr><td>valid/f1</td><td>▁▃▄▅▅▅▆▆▇▇▇▇▇▇██▇███████████████████</td></tr><tr><td>valid/loss</td><td>▆█▅▃▆▆▂▃▃▂▂▂▃▁▁▁▃▂▂▃▂▃▂▂▂▁▂▃▂▂▁▁▃▃▃▂</td></tr><tr><td>valid/precision</td><td>▁▃▄▅▄▄▆▆▆▆▆▆▆▇▇▇▆▇█▇▇▇▇█▇▇▇▇▇▇▇█▇▇▇▇</td></tr><tr><td>valid/recall</td><td>█▇▄▄▆▇▃▄▅▄▅▄▅▃▃▃▅▄▂▄▃▄▂▂▅▃▅▄▅▃▄▁▃▄▄▃</td></tr><tr><td>valid/vote_accuracy</td><td>▁▄▅▆▆▅▇▇▇▇▇▇▇▇██▇▇███▇████▇█████████</td></tr><tr><td>valid/vote_f1</td><td>▁▄▄▅▆▆▆▆▇▇▇▇▇▇██████████████████████</td></tr><tr><td>valid/vote_precision</td><td>▁▃▄▅▄▄▆▆▆▆▆▆▆▇▇▇▆▇█▇▇▇▇█▇▇▇▇▇▇▇█▇▇▇▇</td></tr><tr><td>valid/vote_recall</td><td>█▇▄▄▆▇▃▄▅▄▅▄▄▃▃▃▅▄▂▄▃▄▂▂▄▃▅▄▅▃▄▁▃▄▄▃</td></tr></table><br/></div><div class=\"wandb-col\">\n<h3>Run summary:</h3><br/><table class=\"wandb\"><tr><td>epoch</td><td>35</td></tr><tr><td>train/f1</td><td>0.90764</td></tr><tr><td>train_step</td><td>8567</td></tr></table>\n</div></div>\nSynced 6 W&B file(s), 1 media file(s), 0 artifact file(s) and 0 other file(s)\n<br/>Synced <strong style=\"color:#cdcd00\">decent-galaxy-423</strong>: <a href=\"https://wandb.ai/nlpetroni/assignment-two/runs/2p22vy98\" target=\"_blank\">https://wandb.ai/nlpetroni/assignment-two/runs/2p22vy98</a><br/>\nFind logs at: <code>./wandb/run-20211219_020019-2p22vy98/logs</code><br/>\n"
          },
          "metadata": {},
          "output_type": "display_data"
        },
        {
          "data": {
            "text/plain": "FactChecker(\n  (emb_layer): Embedding(403484, 100)\n  (encoder): RNNEncoder(\n    (output_layer): LambdaAvg()\n    (rec_module): LSTM(100, 64, num_layers=2, batch_first=True, bidirectional=True)\n  )\n  (merger): LambdaConcatenation()\n  (classifier): Sequential(\n    (classifier_fc1): Linear(in_features=256, out_features=128, bias=True)\n    (classifier_ReLU): ReLU()\n    (classifier_fc2): Linear(in_features=128, out_features=1, bias=True)\n  )\n)"
          },
          "execution_count": 38,
          "metadata": {},
          "output_type": "execute_result"
        }
      ],
      "source": [
        "# lstm\n",
        "train(optimizer=opt, lr=lr, device=device, n_epochs=epochs, verbose=verbose, tags=[tag, 'lstm_avg'],\n",
        "    batch_size=batch_size, encoder='rnn', merger='concatenation', rnn_type='lstm',\n",
        "    rnn_output='avg', rec_size=rec_size, hid_size=hid_size, cosine_similarity=cosine_similarity)"
      ]
    },
    {
      "cell_type": "code",
      "execution_count": null,
      "metadata": {
        "colab": {
          "referenced_widgets": [
            "a3328937768f4ccabe83eff81a96fe18",
            "c3f6746717fe41189ae5458dfbb8e034"
          ]
        },
        "id": "tn5da_pgeDzH",
        "outputId": "1ce2731e-aeda-4d96-b077-08104b3ca6dd",
        "pycharm": {
          "name": "#%%\n"
        }
      },
      "outputs": [
        {
          "name": "stderr",
          "output_type": "stream",
          "text": [
            "\u001b[34m\u001b[1mwandb\u001b[0m: \u001b[33mWARNING\u001b[0m If you're specifying your api key in code, ensure this code is not shared publically.\n",
            "\u001b[34m\u001b[1mwandb\u001b[0m: \u001b[33mWARNING\u001b[0m Consider setting the WANDB_API_KEY environment variable, or running `wandb login` from the command line.\n",
            "\u001b[34m\u001b[1mwandb\u001b[0m: Appending key for api.wandb.ai to your netrc file: /home/diego/.netrc\n"
          ]
        },
        {
          "data": {
            "text/plain": "<IPython.core.display.HTML object>",
            "text/html": "\n                    Syncing run <strong><a href=\"https://wandb.ai/nlpetroni/assignment-two/runs/1inlv23a\" target=\"_blank\">neat-armadillo-424</a></strong> to <a href=\"https://wandb.ai/nlpetroni/assignment-two\" target=\"_blank\">Weights & Biases</a> (<a href=\"https://docs.wandb.com/integrations/jupyter.html\" target=\"_blank\">docs</a>).<br/>\n\n                "
          },
          "metadata": {},
          "output_type": "display_data"
        },
        {
          "name": "stdout",
          "output_type": "stream",
          "text": [
            "The vocabulary is already present. Loading it... Done!\n",
            "The embedding matrix is already present. Loading it... Done!\n"
          ]
        },
        {
          "name": "stderr",
          "output_type": "stream",
          "text": [
            "\u001b[34m\u001b[1mwandb\u001b[0m: logging graph, to disable use `wandb.watch(log_graph=False)`\n",
            "/home/diego/miniconda3/envs/nlp/lib/python3.9/site-packages/sklearn/metrics/_classification.py:1308: UndefinedMetricWarning: Precision is ill-defined and being set to 0.0 due to no predicted samples. Use `zero_division` parameter to control this behavior.\n",
            "  _warn_prf(average, modifier, msg_start, len(result))\n"
          ]
        },
        {
          "name": "stdout",
          "output_type": "stream",
          "text": [
            "STARTING TRAINING\n",
            "Evaluation metrics are computed on validation set\n",
            "\n",
            "EPOCHS | TRAIN LOSS | VALID LOSS | ACCURACY | PRECISION | RECALL |  F1   | V_ACC | V_PREC | V_REC | V_F1\n",
            "[00/50]|      0.562 |      1.454 |    0.610 |     0.568 |  0.948 | 0.710 | 0.610 |  0.566 | 0.948 | 0.708\n",
            "[10/50]|      0.380 |      0.741 |    0.738 |     0.689 |  0.878 | 0.772 | 0.738 |  0.687 | 0.872 | 0.769\n",
            "Validation loss increasing for 10 epochs\n",
            "[20/50]|      0.349 |      0.744 |    0.739 |     0.684 |  0.894 | 0.775 | 0.738 |  0.683 | 0.889 | 0.773\n",
            "[30/50]|      0.328 |      0.860 |    0.747 |     0.689 |  0.907 | 0.783 | 0.745 |  0.687 | 0.901 | 0.779\n",
            "Validation loss increasing for 10 epochs\n",
            "[40/50]|      0.308 |      0.823 |    0.747 |     0.686 |  0.916 | 0.785 | 0.745 |  0.684 | 0.912 | 0.782\n",
            "Early stopping occured at epoch 44 with patience 20\n"
          ]
        },
        {
          "data": {
            "text/plain": "<IPython.core.display.HTML object>",
            "text/html": "<br/>Waiting for W&B process to finish, PID 14404... <strong style=\"color:green\">(success).</strong>"
          },
          "metadata": {},
          "output_type": "display_data"
        },
        {
          "data": {
            "text/plain": "VBox(children=(Label(value=' 0.00MB of 0.00MB uploaded (0.00MB deduped)\\r'), FloatProgress(value=1.0, max=1.0)…",
            "application/vnd.jupyter.widget-view+json": {
              "version_major": 2,
              "version_minor": 0,
              "model_id": "c3f6746717fe41189ae5458dfbb8e034"
            }
          },
          "metadata": {},
          "output_type": "display_data"
        },
        {
          "data": {
            "text/plain": "<IPython.core.display.HTML object>",
            "text/html": "<style>\n    table.wandb td:nth-child(1) { padding: 0 10px; text-align: right }\n    .wandb-row { display: flex; flex-direction: row; flex-wrap: wrap; width: 100% }\n    .wandb-col { display: flex; flex-direction: column; flex-basis: 100%; flex: 1; padding: 10px; }\n    </style>\n<div class=\"wandb-row\"><div class=\"wandb-col\">\n<h3>Run history:</h3><br/><table class=\"wandb\"><tr><td>epoch</td><td>▁▁▁▁▂▂▂▂▂▃▃▃▃▃▄▄▄▄▄▄▅▅▅▅▅▅▆▆▆▆▆▇▇▇▇▇████</td></tr><tr><td>train/accuracy</td><td>▁▃▅▅▆▆▆▅▆▆▆▇▆▇▇▇▆▆▇▇▇█▇▆▇▇▇▇▆▇█▇▇▇█▇██▇▇</td></tr><tr><td>train/f1</td><td>▁▁▅▄▆▅▆▅▆▆▆▆▅▆▆▇▆▇▇▆▇█▇▅▇▆▇▆▆▆▇▇▆▇█▇██▆▇</td></tr><tr><td>train/loss</td><td>█▇▅▅▅▄▄▅▄▄▄▃▄▄▃▃▃▄▂▂▃▂▂▃▂▃▂▂▂▂▂▂▄▃▂▃▃▁▃▂</td></tr><tr><td>train_step</td><td>▁▁▁▂▂▂▂▂▂▃▃▃▃▃▃▄▄▄▄▄▅▅▅▅▅▅▆▆▆▆▆▇▇▇▇▇▇███</td></tr><tr><td>valid/accuracy</td><td>▁▃▅▅▅▅▇▆▇▇▇▇▇▇█▇▇▇▇██████▇██████████████</td></tr><tr><td>valid/f1</td><td>▁▃▄▅▅▆▆▆▇▇▇▇▇▇▇▇▇▇▇██▇▇▇█▇▇██▇▇▇▇▇███▇█▇</td></tr><tr><td>valid/loss</td><td>█▆▄▆▇▄▂▃▂▁▄▃▂▂▂▂▃▁▁▃▃▁▁▁▂▁▁▂▂▂▁▁▁▁▂▂▂▃▂▂</td></tr><tr><td>valid/precision</td><td>▁▂▄▄▄▄▆▆▆▇▅▆▇▆▇▇▆▇▇▇▇██▇▇▆▇▇▇█▇▇██▇▇▇▇▇█</td></tr><tr><td>valid/recall</td><td>▇▇▅▆█▇▃▅▅▂▇▅▄▅▄▄▆▄▄▅▄▂▁▃▅▅▂▄▃▃▃▃▁▂▄▅▅▄▄▂</td></tr><tr><td>valid/vote_accuracy</td><td>▁▃▅▅▅▅▇▆▇▇▆▇▇▇█▇▇▇▇▇█████▇██████████████</td></tr><tr><td>valid/vote_f1</td><td>▁▃▄▅▅▆▆▆▇▆▇▇▇▇▇▇▇▇▇▇█▇▇▇▇▇▇▇▇▇▇▇▇▇███▇█▇</td></tr><tr><td>valid/vote_precision</td><td>▁▂▄▄▄▄▆▅▆▇▅▆▇▆▇▇▆▇▇▇▇▇█▇▇▆▇▇▇█▇▇██▇▇▇▇▇█</td></tr><tr><td>valid/vote_recall</td><td>▇▇▅▆█▇▃▅▅▂▇▅▄▅▄▄▆▄▄▅▄▂▁▃▅▅▂▄▃▃▃▃▁▂▄▅▅▄▄▂</td></tr></table><br/></div><div class=\"wandb-col\">\n<h3>Run summary:</h3><br/><table class=\"wandb\"><tr><td>epoch</td><td>44</td></tr><tr><td>train/f1</td><td>0.92074</td></tr><tr><td>train_step</td><td>10709</td></tr></table>\n</div></div>\nSynced 6 W&B file(s), 1 media file(s), 0 artifact file(s) and 0 other file(s)\n<br/>Synced <strong style=\"color:#cdcd00\">neat-armadillo-424</strong>: <a href=\"https://wandb.ai/nlpetroni/assignment-two/runs/1inlv23a\" target=\"_blank\">https://wandb.ai/nlpetroni/assignment-two/runs/1inlv23a</a><br/>\nFind logs at: <code>./wandb/run-20211219_023003-1inlv23a/logs</code><br/>\n"
          },
          "metadata": {},
          "output_type": "display_data"
        },
        {
          "data": {
            "text/plain": "FactChecker(\n  (emb_layer): Embedding(403484, 100)\n  (encoder): RNNEncoder(\n    (output_layer): LambdaAvg()\n    (rec_module): GRU(100, 64, num_layers=2, batch_first=True, bidirectional=True)\n  )\n  (merger): LambdaConcatenation()\n  (classifier): Sequential(\n    (classifier_fc1): Linear(in_features=256, out_features=128, bias=True)\n    (classifier_ReLU): ReLU()\n    (classifier_fc2): Linear(in_features=128, out_features=1, bias=True)\n  )\n)"
          },
          "execution_count": 39,
          "metadata": {},
          "output_type": "execute_result"
        }
      ],
      "source": [
        "# gru\n",
        "train(optimizer=opt, lr=lr, device=device, n_epochs=epochs, verbose=verbose, tags=[tag, 'gru_avg'],\n",
        "    batch_size=batch_size, encoder='rnn', merger='concatenation', rnn_type='gru',\n",
        "    rnn_output='avg', rec_size=rec_size, hid_size=hid_size, cosine_similarity=cosine_similarity)"
      ]
    },
    {
      "cell_type": "markdown",
      "metadata": {
        "collapsed": false,
        "id": "RDfhUdY8eDzH"
      },
      "source": [
        "### MLP layer"
      ]
    },
    {
      "cell_type": "code",
      "execution_count": null,
      "metadata": {
        "colab": {
          "referenced_widgets": [
            "0f0c7cfaa1b44d3796f08a4ad980b20f",
            "ba1cdbaadadf40369d5bf9287968d33c"
          ]
        },
        "id": "mR2aA4R-eDzI",
        "outputId": "b65ed54f-998d-47c8-9774-f62ea8952359",
        "pycharm": {
          "name": "#%%\n"
        }
      },
      "outputs": [
        {
          "name": "stderr",
          "output_type": "stream",
          "text": [
            "\u001b[34m\u001b[1mwandb\u001b[0m: \u001b[33mWARNING\u001b[0m If you're specifying your api key in code, ensure this code is not shared publically.\n",
            "\u001b[34m\u001b[1mwandb\u001b[0m: \u001b[33mWARNING\u001b[0m Consider setting the WANDB_API_KEY environment variable, or running `wandb login` from the command line.\n",
            "\u001b[34m\u001b[1mwandb\u001b[0m: Appending key for api.wandb.ai to your netrc file: /home/diego/.netrc\n"
          ]
        },
        {
          "data": {
            "text/plain": "<IPython.core.display.HTML object>",
            "text/html": "\n                    Syncing run <strong><a href=\"https://wandb.ai/nlpetroni/assignment-two/runs/k82nicd3\" target=\"_blank\">brisk-spaceship-425</a></strong> to <a href=\"https://wandb.ai/nlpetroni/assignment-two\" target=\"_blank\">Weights & Biases</a> (<a href=\"https://docs.wandb.com/integrations/jupyter.html\" target=\"_blank\">docs</a>).<br/>\n\n                "
          },
          "metadata": {},
          "output_type": "display_data"
        },
        {
          "name": "stdout",
          "output_type": "stream",
          "text": [
            "The vocabulary is already present. Loading it... Done!\n",
            "The embedding matrix is already present. Loading it... Done!\n"
          ]
        },
        {
          "name": "stderr",
          "output_type": "stream",
          "text": [
            "\u001b[34m\u001b[1mwandb\u001b[0m: logging graph, to disable use `wandb.watch(log_graph=False)`\n"
          ]
        },
        {
          "name": "stdout",
          "output_type": "stream",
          "text": [
            "STARTING TRAINING\n",
            "Evaluation metrics are computed on validation set\n",
            "\n",
            "EPOCHS | TRAIN LOSS | VALID LOSS | ACCURACY | PRECISION | RECALL |  F1   | V_ACC | V_PREC | V_REC | V_F1\n",
            "[00/50]|      0.501 |      0.627 |    0.651 |     0.610 |  0.847 | 0.709 | 0.652 |  0.610 | 0.841 | 0.707\n",
            "[10/50]|      0.233 |      1.063 |    0.659 |     0.606 |  0.922 | 0.731 | 0.659 |  0.604 | 0.918 | 0.729\n",
            "Validation loss increasing for 10 epochs\n",
            "[20/50]|      0.137 |      1.434 |    0.671 |     0.620 |  0.889 | 0.731 | 0.671 |  0.619 | 0.885 | 0.728\n",
            "Early stopping occured at epoch 23 with patience 20\n"
          ]
        },
        {
          "data": {
            "text/plain": "<IPython.core.display.HTML object>",
            "text/html": "<br/>Waiting for W&B process to finish, PID 14554... <strong style=\"color:green\">(success).</strong>"
          },
          "metadata": {},
          "output_type": "display_data"
        },
        {
          "data": {
            "text/plain": "VBox(children=(Label(value=' 0.00MB of 0.00MB uploaded (0.00MB deduped)\\r'), FloatProgress(value=1.0, max=1.0)…",
            "application/vnd.jupyter.widget-view+json": {
              "version_major": 2,
              "version_minor": 0,
              "model_id": "ba1cdbaadadf40369d5bf9287968d33c"
            }
          },
          "metadata": {},
          "output_type": "display_data"
        },
        {
          "data": {
            "text/plain": "<IPython.core.display.HTML object>",
            "text/html": "<style>\n    table.wandb td:nth-child(1) { padding: 0 10px; text-align: right }\n    .wandb-row { display: flex; flex-direction: row; flex-wrap: wrap; width: 100% }\n    .wandb-col { display: flex; flex-direction: column; flex-basis: 100%; flex: 1; padding: 10px; }\n    </style>\n<div class=\"wandb-row\"><div class=\"wandb-col\">\n<h3>Run history:</h3><br/><table class=\"wandb\"><tr><td>epoch</td><td>▁▁▁▁▂▂▂▂▂▃▃▃▃▃▃▄▄▄▄▄▅▅▅▅▅▆▆▆▆▆▆▆▇▇▇▇▇███</td></tr><tr><td>train/accuracy</td><td>▂▁▂▃▃▃▅▅▃▃▅▅▆▆▅▅▅▆▆▆█▅▆▇▆▇▆▆▇██▇▇█▇█▇██▇</td></tr><tr><td>train/f1</td><td>▃▁▂▄▄▃▄▅▃▃▅▄▆▆▅▅▅▆▆▆█▅▆▇▆▇▆▆▇▇█▆▇█▇█▇██▇</td></tr><tr><td>train/loss</td><td>▇█▇▆▆▆▅▅▆▆▄▅▄▄▄▄▄▃▄▃▂▃▃▂▃▂▃▃▂▂▁▂▂▂▂▁▂▁▁▂</td></tr><tr><td>train_step</td><td>▁▁▁▁▂▂▂▂▂▃▃▃▃▃▃▄▄▄▄▄▅▅▅▅▅▅▆▆▆▆▆▇▇▇▇▇▇███</td></tr><tr><td>valid/accuracy</td><td>▅▂▅█▄▇█▅█▇▆▁▇▇▇▃█▆█▇▇▅▇▇</td></tr><tr><td>valid/f1</td><td>▅▅█▅▇█▆▇▃█▇▅▇█▁▆▇▆▆█▇█▆▆</td></tr><tr><td>valid/loss</td><td>▁▂▁▁▃▂▁▃▂▃▃▇▃▄▃▇▄▄▅▆▆█▇▆</td></tr><tr><td>valid/precision</td><td>▄▁▃▇▂▄▆▃█▄▄▁▅▅█▂▆▄▆▅▅▃▆▆</td></tr><tr><td>valid/recall</td><td>▅█▇▃█▆▄▇▂▆▇█▆▆▁▇▄▅▄▆▆▇▄▄</td></tr><tr><td>valid/vote_accuracy</td><td>▅▂▆█▄▇█▅█▇▆▁▇▇▇▃█▆█▇▇▅▇▇</td></tr><tr><td>valid/vote_f1</td><td>▅▅█▅▇█▆▇▃█▇▅▇█▁▆▆▆▆▇▇▇▆▅</td></tr><tr><td>valid/vote_precision</td><td>▄▁▃▇▂▅▆▃█▄▄▁▅▅█▂▆▄▆▅▅▃▆▆</td></tr><tr><td>valid/vote_recall</td><td>▅█▇▃█▆▄▇▂▆▇█▆▆▁▇▄▅▄▆▆▇▄▄</td></tr></table><br/></div><div class=\"wandb-col\">\n<h3>Run summary:</h3><br/><table class=\"wandb\"><tr><td>epoch</td><td>23</td></tr><tr><td>train/f1</td><td>1.0</td></tr><tr><td>train_step</td><td>5591</td></tr></table>\n</div></div>\nSynced 6 W&B file(s), 1 media file(s), 0 artifact file(s) and 0 other file(s)\n<br/>Synced <strong style=\"color:#cdcd00\">brisk-spaceship-425</strong>: <a href=\"https://wandb.ai/nlpetroni/assignment-two/runs/k82nicd3\" target=\"_blank\">https://wandb.ai/nlpetroni/assignment-two/runs/k82nicd3</a><br/>\nFind logs at: <code>./wandb/run-20211219_030723-k82nicd3/logs</code><br/>\n"
          },
          "metadata": {},
          "output_type": "display_data"
        },
        {
          "data": {
            "text/plain": "FactChecker(\n  (emb_layer): Embedding(403484, 100)\n  (encoder): MLPEncoder(\n    (evidence_mlp): Sequential(\n      (mlp_fc1): Linear(in_features=6600, out_features=100, bias=True)\n      (mlp_ReLU): ReLU()\n      (mlp_fc2): Linear(in_features=100, out_features=100, bias=True)\n    )\n    (claim_mlp): Sequential(\n      (mlp_fc1): Linear(in_features=1800, out_features=100, bias=True)\n      (mlp_ReLU): ReLU()\n      (mlp_fc2): Linear(in_features=100, out_features=100, bias=True)\n    )\n  )\n  (merger): LambdaConcatenation()\n  (classifier): Sequential(\n    (classifier_fc1): Linear(in_features=200, out_features=100, bias=True)\n    (classifier_ReLU): ReLU()\n    (classifier_fc2): Linear(in_features=100, out_features=1, bias=True)\n  )\n)"
          },
          "execution_count": 40,
          "metadata": {},
          "output_type": "execute_result"
        }
      ],
      "source": [
        "train(optimizer=opt, lr=lr, device=device, n_epochs=epochs, verbose=verbose,  tags=[tag, 'mlp'],\n",
        "    batch_size=batch_size, encoder='mlp', merger='concatenation', cosine_similarity=cosine_similarity)"
      ]
    },
    {
      "cell_type": "markdown",
      "metadata": {
        "collapsed": false,
        "id": "TLpzTPkReDzJ"
      },
      "source": [
        "### Bag of vectors"
      ]
    },
    {
      "cell_type": "code",
      "execution_count": null,
      "metadata": {
        "colab": {
          "referenced_widgets": [
            "ad9017776856468584242d474d5784e4",
            "137569233c114aeb9ffe448f5f968e79"
          ]
        },
        "id": "bqX_UdQoeDzK",
        "outputId": "ba0f153b-df4c-42a9-a67c-862e17c10e8a",
        "pycharm": {
          "name": "#%%\n"
        }
      },
      "outputs": [
        {
          "name": "stderr",
          "output_type": "stream",
          "text": [
            "\u001b[34m\u001b[1mwandb\u001b[0m: \u001b[33mWARNING\u001b[0m If you're specifying your api key in code, ensure this code is not shared publically.\n",
            "\u001b[34m\u001b[1mwandb\u001b[0m: \u001b[33mWARNING\u001b[0m Consider setting the WANDB_API_KEY environment variable, or running `wandb login` from the command line.\n",
            "\u001b[34m\u001b[1mwandb\u001b[0m: Appending key for api.wandb.ai to your netrc file: /home/diego/.netrc\n"
          ]
        },
        {
          "data": {
            "text/plain": "<IPython.core.display.HTML object>",
            "text/html": "\n                    Syncing run <strong><a href=\"https://wandb.ai/nlpetroni/assignment-two/runs/10je5nfi\" target=\"_blank\">breezy-breeze-426</a></strong> to <a href=\"https://wandb.ai/nlpetroni/assignment-two\" target=\"_blank\">Weights & Biases</a> (<a href=\"https://docs.wandb.com/integrations/jupyter.html\" target=\"_blank\">docs</a>).<br/>\n\n                "
          },
          "metadata": {},
          "output_type": "display_data"
        },
        {
          "name": "stdout",
          "output_type": "stream",
          "text": [
            "The vocabulary is already present. Loading it... Done!\n",
            "The embedding matrix is already present. Loading it... Done!\n"
          ]
        },
        {
          "name": "stderr",
          "output_type": "stream",
          "text": [
            "\u001b[34m\u001b[1mwandb\u001b[0m: logging graph, to disable use `wandb.watch(log_graph=False)`\n"
          ]
        },
        {
          "name": "stdout",
          "output_type": "stream",
          "text": [
            "STARTING TRAINING\n",
            "Evaluation metrics are computed on validation set\n",
            "\n",
            "EPOCHS | TRAIN LOSS | VALID LOSS | ACCURACY | PRECISION | RECALL |  F1   | V_ACC | V_PREC | V_REC | V_F1\n",
            "[00/50]|      0.587 |      1.393 |    0.504 |     0.504 |  1.000 | 0.670 | 0.500 |  0.500 | 1.000 | 0.666\n",
            "[10/50]|      0.527 |      0.843 |    0.609 |     0.581 |  0.806 | 0.675 | 0.609 |  0.579 | 0.796 | 0.671\n",
            "Validation loss increasing for 10 epochs\n",
            "[20/50]|      0.514 |      0.832 |    0.615 |     0.587 |  0.793 | 0.675 | 0.614 |  0.585 | 0.781 | 0.669\n",
            "Early stopping occured at epoch 25 with patience 20\n"
          ]
        },
        {
          "data": {
            "text/plain": "<IPython.core.display.HTML object>",
            "text/html": "<br/>Waiting for W&B process to finish, PID 14617... <strong style=\"color:green\">(success).</strong>"
          },
          "metadata": {},
          "output_type": "display_data"
        },
        {
          "data": {
            "text/plain": "VBox(children=(Label(value=' 0.00MB of 0.00MB uploaded (0.00MB deduped)\\r'), FloatProgress(value=1.0, max=1.0)…",
            "application/vnd.jupyter.widget-view+json": {
              "version_major": 2,
              "version_minor": 0,
              "model_id": "137569233c114aeb9ffe448f5f968e79"
            }
          },
          "metadata": {},
          "output_type": "display_data"
        },
        {
          "data": {
            "text/plain": "<IPython.core.display.HTML object>",
            "text/html": "<style>\n    table.wandb td:nth-child(1) { padding: 0 10px; text-align: right }\n    .wandb-row { display: flex; flex-direction: row; flex-wrap: wrap; width: 100% }\n    .wandb-col { display: flex; flex-direction: column; flex-basis: 100%; flex: 1; padding: 10px; }\n    </style>\n<div class=\"wandb-row\"><div class=\"wandb-col\">\n<h3>Run history:</h3><br/><table class=\"wandb\"><tr><td>epoch</td><td>▁▁▁▂▂▂▂▂▂▃▃▃▃▃▄▄▄▄▄▄▅▅▅▅▅▅▆▆▆▆▆▇▇▇▇▇▇███</td></tr><tr><td>train/accuracy</td><td>▃▅▃▅▅▆▃▁▅▄▄▅▆▅▄▅▅▂▄▅▅▇▄▅▆▆▃▇▅▄▆▅▅▄██▄▇▅█</td></tr><tr><td>train/f1</td><td>▃▆▃▅▅▆▃▁▄▄▄▅▆▅▄▄▅▂▄▄▅▆▃▄▆▆▃▇▃▄▅▄▄▃▇▇▄▆▄█</td></tr><tr><td>train/loss</td><td>█▆▇▆▅▃▆█▄▄▅▃▃▃▆▄▄▆▅▄▃▃▄▅▃▂▅▁▆▅▃▅▄▅▂▂▅▂▅▁</td></tr><tr><td>train_step</td><td>▁▁▁▂▂▂▂▂▂▃▃▃▃▃▄▄▄▄▄▄▅▅▅▅▅▅▆▆▆▆▆▇▇▇▇▇▇███</td></tr><tr><td>valid/accuracy</td><td>▁▁▂▄▇███▇██▇█████████▇██▇▇</td></tr><tr><td>valid/f1</td><td>▄▄▆█▇▄▁▇█▆▆█▆▅▆▅▅▇▇▆▅▆▅▄▅█</td></tr><tr><td>valid/loss</td><td>█▆▄▃▁▁▁▂▂▂▂▂▂▂▂▂▂▂▂▂▂▂▂▂▂▂</td></tr><tr><td>valid/precision</td><td>▁▁▂▃▆██▇▇▇▇▇▇█▇██▇▇▇█▇▇█▇▇</td></tr><tr><td>valid/recall</td><td>██▇▆▄▂▁▃▃▃▃▃▂▂▃▂▂▃▃▂▂▃▂▂▂▃</td></tr><tr><td>valid/vote_accuracy</td><td>▁▁▂▄▇███▇██▇█████████▇██▇▇</td></tr><tr><td>valid/vote_f1</td><td>▄▄▆██▄▁██▆▆█▆▅▆▅▅▇▇▆▅▆▅▄▅█</td></tr><tr><td>valid/vote_precision</td><td>▁▁▂▃▆██▇▇▇▇▇▇█▇██▇▇▇█▇▇█▇▇</td></tr><tr><td>valid/vote_recall</td><td>██▇▆▄▂▁▃▃▃▂▃▂▂▃▂▂▃▃▂▂▃▂▂▂▃</td></tr></table><br/></div><div class=\"wandb-col\">\n<h3>Run summary:</h3><br/><table class=\"wandb\"><tr><td>epoch</td><td>25</td></tr><tr><td>train/f1</td><td>0.86303</td></tr><tr><td>train_step</td><td>6187</td></tr></table>\n</div></div>\nSynced 6 W&B file(s), 1 media file(s), 0 artifact file(s) and 0 other file(s)\n<br/>Synced <strong style=\"color:#cdcd00\">breezy-breeze-426</strong>: <a href=\"https://wandb.ai/nlpetroni/assignment-two/runs/10je5nfi\" target=\"_blank\">https://wandb.ai/nlpetroni/assignment-two/runs/10je5nfi</a><br/>\nFind logs at: <code>./wandb/run-20211219_031032-10je5nfi/logs</code><br/>\n"
          },
          "metadata": {},
          "output_type": "display_data"
        },
        {
          "data": {
            "text/plain": "FactChecker(\n  (emb_layer): Embedding(403484, 100)\n  (encoder): BagOfVectorsEncoder()\n  (merger): LambdaConcatenation()\n  (classifier): Sequential(\n    (classifier_fc1): Linear(in_features=200, out_features=100, bias=True)\n    (classifier_ReLU): ReLU()\n    (classifier_fc2): Linear(in_features=100, out_features=1, bias=True)\n  )\n)"
          },
          "execution_count": 41,
          "metadata": {},
          "output_type": "execute_result"
        }
      ],
      "source": [
        "train(optimizer=opt, lr=lr, device=device, n_epochs=epochs, verbose=verbose,  tags=[tag, 'bow'],\n",
        "      batch_size=batch_size, encoder='bag', merger='concatenation', cosine_similarity=cosine_similarity)"
      ]
    },
    {
      "cell_type": "markdown",
      "metadata": {
        "collapsed": false,
        "id": "M4hGLXSGeDzK",
        "pycharm": {
          "name": "#%% md\n"
        }
      },
      "source": [
        "The best sentence embedding is taking **the last state of an RNN encoder (LSTM)**. Indeed it reaches the highest values across all the runs in F1 score (both standard and group voting) and in accuracy (only group voting, since taking the average of the states of a GRU RNN results in a barely better standard accuracy)."
      ]
    },
    {
      "cell_type": "markdown",
      "metadata": {
        "collapsed": false,
        "id": "PLaiormeLfBU"
      },
      "source": [
        "## Merging"
      ]
    },
    {
      "cell_type": "code",
      "execution_count": null,
      "metadata": {
        "id": "NhOy1VtALfBV",
        "pycharm": {
          "name": "#%%\n"
        }
      },
      "outputs": [],
      "source": [
        "tag = 'merging choice'\n",
        "encoder = 'rnn'\n",
        "rnn_type = 'gru'\n",
        "rnn_output = 'avg'"
      ]
    },
    {
      "cell_type": "markdown",
      "metadata": {
        "collapsed": false,
        "id": "HlXQt3ewLfBV"
      },
      "source": [
        "### Concatenation"
      ]
    },
    {
      "cell_type": "code",
      "execution_count": null,
      "metadata": {
        "id": "9Ux24NZyLfBV",
        "pycharm": {
          "name": "#%%\n"
        },
        "colab": {
          "base_uri": "https://localhost:8080/",
          "height": 200
        },
        "outputId": "4b750c69-b4fa-47bc-8a28-d8907563882e"
      },
      "outputs": [
        {
          "output_type": "error",
          "ename": "NameError",
          "evalue": "ignored",
          "traceback": [
            "\u001b[0;31m---------------------------------------------------------------------------\u001b[0m",
            "\u001b[0;31mNameError\u001b[0m                                 Traceback (most recent call last)",
            "\u001b[0;32m<ipython-input-2-a9413734f3ef>\u001b[0m in \u001b[0;36m<module>\u001b[0;34m()\u001b[0m\n\u001b[0;32m----> 1\u001b[0;31m train(optimizer=opt, lr=lr, device=device, n_epochs=epochs, verbose=verbose,  tags=[tag, 'concatenation'],\n\u001b[0m\u001b[1;32m      2\u001b[0m     \u001b[0mbatch_size\u001b[0m\u001b[0;34m=\u001b[0m\u001b[0mbatch_size\u001b[0m\u001b[0;34m,\u001b[0m \u001b[0mencoder\u001b[0m\u001b[0;34m=\u001b[0m\u001b[0mencoder\u001b[0m\u001b[0;34m,\u001b[0m \u001b[0mrnn_type\u001b[0m\u001b[0;34m=\u001b[0m\u001b[0mrnn_type\u001b[0m\u001b[0;34m,\u001b[0m \u001b[0mrnn_output\u001b[0m\u001b[0;34m=\u001b[0m\u001b[0mrnn_output\u001b[0m\u001b[0;34m,\u001b[0m\u001b[0;34m\u001b[0m\u001b[0;34m\u001b[0m\u001b[0m\n\u001b[1;32m      3\u001b[0m     merger='concatenation', cosine_similarity=cosine_similarity)\n",
            "\u001b[0;31mNameError\u001b[0m: name 'train' is not defined"
          ]
        }
      ],
      "source": [
        "train(optimizer=opt, lr=lr, device=device, n_epochs=epochs, verbose=verbose,  tags=[tag, 'concatenation'],\n",
        "    batch_size=batch_size, encoder=encoder, rnn_type=rnn_type, rnn_output=rnn_output, \n",
        "    merger='concatenation', cosine_similarity=cosine_similarity)"
      ]
    },
    {
      "cell_type": "markdown",
      "metadata": {
        "collapsed": false,
        "id": "hr1CZt0yLfBV"
      },
      "source": [
        "### Sum"
      ]
    },
    {
      "cell_type": "code",
      "execution_count": null,
      "metadata": {
        "id": "50iwnFzcLfBV",
        "pycharm": {
          "name": "#%%\n"
        }
      },
      "outputs": [],
      "source": [
        "train(optimizer=opt, lr=lr, device=device, n_epochs=epochs, verbose=verbose,  tags=[tag, 'sum'],\n",
        "    batch_size=batch_size, encoder=encoder, rnn_type=rnn_type, rnn_output=rnn_output, \n",
        "    merger='sum', cosine_similarity=cosine_similarity)"
      ]
    },
    {
      "cell_type": "markdown",
      "metadata": {
        "collapsed": false,
        "id": "uP65_KYbLfBW"
      },
      "source": [
        "### Mean"
      ]
    },
    {
      "cell_type": "code",
      "execution_count": null,
      "metadata": {
        "id": "Idw3edQDLfBW",
        "pycharm": {
          "name": "#%%\n"
        }
      },
      "outputs": [],
      "source": [
        "train(optimizer=opt, lr=lr, device=device, n_epochs=epochs, verbose=verbose,  tags=[tag, 'mean'],\n",
        "    batch_size=batch_size, encoder=encoder, rnn_type=rnn_type, rnn_output=rnn_output, \n",
        "    merger='mean', cosine_similarity=cosine_similarity)"
      ]
    },
    {
      "cell_type": "markdown",
      "metadata": {
        "collapsed": false,
        "id": "nkxKjbysLfBW"
      },
      "source": [
        "The best merging strategy is concatenation"
      ]
    },
    {
      "cell_type": "markdown",
      "metadata": {
        "collapsed": false,
        "id": "zgTU1HnkLfBW"
      },
      "source": [
        "## Other hyperparameters tuning"
      ]
    },
    {
      "cell_type": "code",
      "execution_count": null,
      "metadata": {
        "id": "O3fG3iucLfBX",
        "pycharm": {
          "name": "#%%\n"
        },
        "colab": {
          "base_uri": "https://localhost:8080/",
          "height": 1000,
          "referenced_widgets": [
            "81229322e46c45f8978237e6c50d30df",
            "81b9060132fa46b9bd51f52c76669f13",
            "03335ca80f704ac982f4467421bf2053",
            "450e3dc0aa324e86a874c77b1ed83ff6",
            "5fcf0545d0f64410b31bbd1078538cc1",
            "c89a4870770044e092d97f10e4564800",
            "2831e9b6add84fae819ba35c37c9bc2e",
            "a8fc971c5b164902b77b688c990fbcc4",
            "0bfc21f0f62d4a278aed26427d628def",
            "19085086f67d4051882eb48f1a6ef28c",
            "0b9a7028150945d2a8876de4fae710d9",
            "7f1bd3288fe3473d8a82bd2f93318bd2",
            "b286e31ab06a415eaed5c4c6bc39563c",
            "d3e29d9addf14c7e88e22f1ec41e9289",
            "7e708fa261154e3da864dfe229a68ed1",
            "aab76bdd5b92402baf39a4cdc4b7152f",
            "5995cf861e94465499eb6fb2e1f90ba7",
            "f10f46b988a544539d982927da43820e",
            "768acb20e96141978b8983fd39dcdb73",
            "53f93b2382f04cf6975c903b0e4bc5bb",
            "20249486bcfa434ca760f94797e793a6",
            "f435b9cccf5340cf9426ac35eddcffaf",
            "bed2332cf1fa4a7a93d051b148642e85",
            "59e37816251842ada8841965b93963cd",
            "c905a10694f54e87aa107aa109cce5a7",
            "2a76300102d64390b1b2eccb582b3290",
            "0f2bc81d88c64513b350a3fa3b294b65",
            "65576f69fea24bca87478570da298840",
            "0678ad2c27554158bbfa3b61783ab42e",
            "4486e47d634f46b69a92a5d0c50bce26",
            "765de16ede3f4b1da8e214c90e76c12d",
            "c2b2792d693d44ca9f51e275a6468b19"
          ]
        },
        "outputId": "4e824098-bd36-434b-e5be-3d40fdaba4d3"
      },
      "outputs": [
        {
          "output_type": "stream",
          "name": "stderr",
          "text": [
            "\u001b[34m\u001b[1mwandb\u001b[0m: \u001b[33mWARNING\u001b[0m If you're specifying your api key in code, ensure this code is not shared publically.\n",
            "\u001b[34m\u001b[1mwandb\u001b[0m: \u001b[33mWARNING\u001b[0m Consider setting the WANDB_API_KEY environment variable, or running `wandb login` from the command line.\n",
            "\u001b[34m\u001b[1mwandb\u001b[0m: Appending key for api.wandb.ai to your netrc file: /root/.netrc\n"
          ]
        },
        {
          "output_type": "display_data",
          "data": {
            "text/html": [
              "\n",
              "                    Syncing run <strong><a href=\"https://wandb.ai/nlpetroni/assignment-two/runs/cfg5ysch\" target=\"_blank\">laced-vortex-433</a></strong> to <a href=\"https://wandb.ai/nlpetroni/assignment-two\" target=\"_blank\">Weights & Biases</a> (<a href=\"https://docs.wandb.com/integrations/jupyter.html\" target=\"_blank\">docs</a>).<br/>\n",
              "\n",
              "                "
            ],
            "text/plain": [
              "<IPython.core.display.HTML object>"
            ]
          },
          "metadata": {}
        },
        {
          "output_type": "stream",
          "name": "stdout",
          "text": [
            "The vocabulary is already present. Loading it... Done!\n",
            "The embedding matrix is already present. Loading it... Done!\n"
          ]
        },
        {
          "output_type": "stream",
          "name": "stderr",
          "text": [
            "\u001b[34m\u001b[1mwandb\u001b[0m: logging graph, to disable use `wandb.watch(log_graph=False)`\n"
          ]
        },
        {
          "output_type": "stream",
          "name": "stdout",
          "text": [
            "STARTING TRAINING\n",
            "Evaluation metrics are computed on validation set\n",
            "\n",
            "EPOCHS | TRAIN LOSS | VALID LOSS | ACCURACY | PRECISION | RECALL |  F1   | V_ACC | V_PREC | V_REC | V_F1\n",
            "[00/50]|      0.489 |      0.831 |    0.694 |     0.634 |  0.926 | 0.753 | 0.693 |  0.632 | 0.921 | 0.750\n",
            "[10/50]|      0.293 |      0.942 |    0.735 |     0.669 |  0.939 | 0.781 | 0.735 |  0.667 | 0.937 | 0.779\n",
            "Validation loss increasing for 10 epochs\n",
            "[20/50]|      0.209 |      1.263 |    0.738 |     0.684 |  0.895 | 0.775 | 0.737 |  0.681 | 0.891 | 0.772\n",
            "Early stopping occured at epoch 24 with patience 20\n"
          ]
        },
        {
          "output_type": "display_data",
          "data": {
            "text/html": [
              "<br/>Waiting for W&B process to finish, PID 409... <strong style=\"color:green\">(success).</strong>"
            ],
            "text/plain": [
              "<IPython.core.display.HTML object>"
            ]
          },
          "metadata": {}
        },
        {
          "output_type": "display_data",
          "data": {
            "application/vnd.jupyter.widget-view+json": {
              "model_id": "81229322e46c45f8978237e6c50d30df",
              "version_minor": 0,
              "version_major": 2
            },
            "text/plain": [
              "VBox(children=(Label(value=' 0.00MB of 0.00MB uploaded (0.00MB deduped)\\r'), FloatProgress(value=1.0, max=1.0)…"
            ]
          },
          "metadata": {}
        },
        {
          "output_type": "display_data",
          "data": {
            "text/html": [
              "<style>\n",
              "    table.wandb td:nth-child(1) { padding: 0 10px; text-align: right }\n",
              "    .wandb-row { display: flex; flex-direction: row; flex-wrap: wrap; width: 100% }\n",
              "    .wandb-col { display: flex; flex-direction: column; flex-basis: 100%; flex: 1; padding: 10px; }\n",
              "    </style>\n",
              "<div class=\"wandb-row\"><div class=\"wandb-col\">\n",
              "<h3>Run history:</h3><br/><table class=\"wandb\"><tr><td>epoch</td><td>▁▁▁▂▂▂▂▂▂▂▃▃▃▃▄▄▄▄▄▅▅▅▅▅▅▅▆▆▆▆▇▇▇▇▇▇▇███</td></tr><tr><td>train/accuracy</td><td>▁▃▂▄▄▄▅▅▅▅▆▅▅▅▅▅▆▆▅▆█▆▇▇▆▆▆▇▇▇▆▇▇█▇█▇███</td></tr><tr><td>train/f1</td><td>▁▃▂▄▄▄▄▅▅▅▆▅▅▅▅▅▆▅▅▆█▅▇▇▅▆▆▇▇▇▆▇▇█▇█▇███</td></tr><tr><td>train/loss</td><td>█▆▆▅▅▅▄▄▄▄▄▄▄▄▅▃▃▃▄▃▂▃▂▂▃▃▂▂▂▂▂▂▂▁▂▁▂▁▁▁</td></tr><tr><td>train_step</td><td>▁▁▁▂▂▂▂▂▂▃▃▃▃▃▃▄▄▄▄▄▅▅▅▅▅▅▆▆▆▆▆▇▇▇▇▇▇███</td></tr><tr><td>valid/accuracy</td><td>▁▄▅▇█▇█▇▇█▆▅▇▇▇▆▆▆▆▅▆▆▅▄▅</td></tr><tr><td>valid/f1</td><td>▃▅▆▆▇██▇██▇▇█▆▇▅▇▃▆▅▆▄▅▁▄</td></tr><tr><td>valid/loss</td><td>▃▃▂▁▁▂▁▁▂▂▄▃▃▂▄▃▅▃▅▆▆▆█▆█</td></tr><tr><td>valid/precision</td><td>▁▄▅▇█▅▇▇▆▇▄▄▆▇▆▇▅█▅▅▆▇▅▆▆</td></tr><tr><td>valid/recall</td><td>▇▆▆▄▄▇▅▅▇▅█▇▆▄▅▄▆▁▆▅▆▂▅▁▃</td></tr><tr><td>valid/vote_accuracy</td><td>▁▄▅▇█▇█▇▇█▆▆▇▇▇▆▆▆▆▆▆▆▅▄▅</td></tr><tr><td>valid/vote_f1</td><td>▃▅▆▆▆█▇▇█▇█▇▇▆▇▅▇▃▆▅▆▃▅▁▄</td></tr><tr><td>valid/vote_precision</td><td>▁▃▄▇█▅▇▇▆▇▄▄▆▇▆▇▅▇▅▅▆▇▅▆▆</td></tr><tr><td>valid/vote_recall</td><td>▇▆▆▄▃▇▅▅▇▅█▇▆▄▅▃▆▁▅▅▆▂▅▁▃</td></tr></table><br/></div><div class=\"wandb-col\">\n",
              "<h3>Run summary:</h3><br/><table class=\"wandb\"><tr><td>epoch</td><td>24</td></tr><tr><td>train/f1</td><td>0.94352</td></tr><tr><td>train_step</td><td>5949</td></tr></table>\n",
              "</div></div>\n",
              "Synced 5 W&B file(s), 1 media file(s), 0 artifact file(s) and 0 other file(s)\n",
              "<br/>Synced <strong style=\"color:#cdcd00\">laced-vortex-433</strong>: <a href=\"https://wandb.ai/nlpetroni/assignment-two/runs/cfg5ysch\" target=\"_blank\">https://wandb.ai/nlpetroni/assignment-two/runs/cfg5ysch</a><br/>\n",
              "Find logs at: <code>./wandb/run-20211219_150715-cfg5ysch/logs</code><br/>\n"
            ],
            "text/plain": [
              "<IPython.core.display.HTML object>"
            ]
          },
          "metadata": {}
        },
        {
          "output_type": "stream",
          "name": "stderr",
          "text": [
            "\u001b[34m\u001b[1mwandb\u001b[0m: \u001b[33mWARNING\u001b[0m If you're specifying your api key in code, ensure this code is not shared publically.\n",
            "\u001b[34m\u001b[1mwandb\u001b[0m: \u001b[33mWARNING\u001b[0m Consider setting the WANDB_API_KEY environment variable, or running `wandb login` from the command line.\n",
            "\u001b[34m\u001b[1mwandb\u001b[0m: Appending key for api.wandb.ai to your netrc file: /root/.netrc\n"
          ]
        },
        {
          "output_type": "display_data",
          "data": {
            "text/html": [
              "\n",
              "                    Syncing run <strong><a href=\"https://wandb.ai/nlpetroni/assignment-two/runs/dk8qiuxg\" target=\"_blank\">frosty-violet-434</a></strong> to <a href=\"https://wandb.ai/nlpetroni/assignment-two\" target=\"_blank\">Weights & Biases</a> (<a href=\"https://docs.wandb.com/integrations/jupyter.html\" target=\"_blank\">docs</a>).<br/>\n",
              "\n",
              "                "
            ],
            "text/plain": [
              "<IPython.core.display.HTML object>"
            ]
          },
          "metadata": {}
        },
        {
          "output_type": "stream",
          "name": "stdout",
          "text": [
            "The vocabulary is already present. Loading it... Done!\n",
            "The embedding matrix is already present. Loading it... Done!\n"
          ]
        },
        {
          "output_type": "stream",
          "name": "stderr",
          "text": [
            "\u001b[34m\u001b[1mwandb\u001b[0m: logging graph, to disable use `wandb.watch(log_graph=False)`\n"
          ]
        },
        {
          "output_type": "stream",
          "name": "stdout",
          "text": [
            "STARTING TRAINING\n",
            "Evaluation metrics are computed on validation set\n",
            "\n",
            "EPOCHS | TRAIN LOSS | VALID LOSS | ACCURACY | PRECISION | RECALL |  F1   | V_ACC | V_PREC | V_REC | V_F1\n",
            "[00/50]|      0.489 |      0.831 |    0.694 |     0.634 |  0.926 | 0.753 | 0.693 |  0.632 | 0.921 | 0.750\n",
            "[10/50]|      0.293 |      0.942 |    0.735 |     0.669 |  0.939 | 0.781 | 0.735 |  0.667 | 0.937 | 0.779\n",
            "Validation loss increasing for 10 epochs\n",
            "[20/50]|      0.209 |      1.263 |    0.738 |     0.684 |  0.895 | 0.775 | 0.737 |  0.681 | 0.891 | 0.772\n",
            "Early stopping occured at epoch 24 with patience 20\n"
          ]
        },
        {
          "output_type": "display_data",
          "data": {
            "text/html": [
              "<br/>Waiting for W&B process to finish, PID 483... <strong style=\"color:green\">(success).</strong>"
            ],
            "text/plain": [
              "<IPython.core.display.HTML object>"
            ]
          },
          "metadata": {}
        },
        {
          "output_type": "display_data",
          "data": {
            "application/vnd.jupyter.widget-view+json": {
              "model_id": "0bfc21f0f62d4a278aed26427d628def",
              "version_minor": 0,
              "version_major": 2
            },
            "text/plain": [
              "VBox(children=(Label(value=' 0.00MB of 0.00MB uploaded (0.00MB deduped)\\r'), FloatProgress(value=1.0, max=1.0)…"
            ]
          },
          "metadata": {}
        },
        {
          "output_type": "display_data",
          "data": {
            "text/html": [
              "<style>\n",
              "    table.wandb td:nth-child(1) { padding: 0 10px; text-align: right }\n",
              "    .wandb-row { display: flex; flex-direction: row; flex-wrap: wrap; width: 100% }\n",
              "    .wandb-col { display: flex; flex-direction: column; flex-basis: 100%; flex: 1; padding: 10px; }\n",
              "    </style>\n",
              "<div class=\"wandb-row\"><div class=\"wandb-col\">\n",
              "<h3>Run history:</h3><br/><table class=\"wandb\"><tr><td>epoch</td><td>▁▁▁▂▂▂▂▂▂▂▃▃▃▃▄▄▄▄▄▅▅▅▅▅▅▅▆▆▆▆▇▇▇▇▇▇▇███</td></tr><tr><td>train/accuracy</td><td>▁▃▂▄▄▄▅▅▅▅▆▅▅▅▅▅▆▆▅▆█▆▇▇▆▆▆▇▇▇▆▇▇█▇█▇███</td></tr><tr><td>train/f1</td><td>▁▃▂▄▄▄▄▅▅▅▆▅▅▅▅▅▆▅▅▆█▅▇▇▅▆▆▇▇▇▆▇▇█▇█▇███</td></tr><tr><td>train/loss</td><td>█▆▆▅▅▅▄▄▄▄▄▄▄▄▅▃▃▃▄▃▂▃▂▂▃▃▂▂▂▂▂▂▂▁▂▁▂▁▁▁</td></tr><tr><td>train_step</td><td>▁▁▁▂▂▂▂▂▂▃▃▃▃▃▃▄▄▄▄▄▅▅▅▅▅▅▆▆▆▆▆▇▇▇▇▇▇███</td></tr><tr><td>valid/accuracy</td><td>▁▄▅▇█▇█▇▇█▆▅▇▇▇▆▆▆▆▅▆▆▅▄▅</td></tr><tr><td>valid/f1</td><td>▃▅▆▆▇██▇██▇▇█▆▇▅▇▃▆▅▆▄▅▁▄</td></tr><tr><td>valid/loss</td><td>▃▃▂▁▁▂▁▁▂▂▄▃▃▂▄▃▅▃▅▆▆▆█▆█</td></tr><tr><td>valid/precision</td><td>▁▄▅▇█▅▇▇▆▇▄▄▆▇▆▇▅█▅▅▆▇▅▆▆</td></tr><tr><td>valid/recall</td><td>▇▆▆▄▄▇▅▅▇▅█▇▆▄▅▄▆▁▆▅▆▂▅▁▃</td></tr><tr><td>valid/vote_accuracy</td><td>▁▄▅▇█▇█▇▇█▆▆▇▇▇▆▆▆▆▆▆▆▅▄▅</td></tr><tr><td>valid/vote_f1</td><td>▃▅▆▆▆█▇▇█▇█▇▇▆▇▅▇▃▆▅▆▃▅▁▄</td></tr><tr><td>valid/vote_precision</td><td>▁▃▄▇█▅▇▇▆▇▄▄▆▇▆▇▅▇▅▅▆▇▅▆▆</td></tr><tr><td>valid/vote_recall</td><td>▇▆▆▄▃▇▅▅▇▅█▇▆▄▅▃▆▁▅▅▆▂▅▁▃</td></tr></table><br/></div><div class=\"wandb-col\">\n",
              "<h3>Run summary:</h3><br/><table class=\"wandb\"><tr><td>epoch</td><td>24</td></tr><tr><td>train/f1</td><td>0.94352</td></tr><tr><td>train_step</td><td>5949</td></tr></table>\n",
              "</div></div>\n",
              "Synced 5 W&B file(s), 1 media file(s), 0 artifact file(s) and 0 other file(s)\n",
              "<br/>Synced <strong style=\"color:#cdcd00\">frosty-violet-434</strong>: <a href=\"https://wandb.ai/nlpetroni/assignment-two/runs/dk8qiuxg\" target=\"_blank\">https://wandb.ai/nlpetroni/assignment-two/runs/dk8qiuxg</a><br/>\n",
              "Find logs at: <code>./wandb/run-20211219_154126-dk8qiuxg/logs</code><br/>\n"
            ],
            "text/plain": [
              "<IPython.core.display.HTML object>"
            ]
          },
          "metadata": {}
        },
        {
          "output_type": "stream",
          "name": "stderr",
          "text": [
            "\u001b[34m\u001b[1mwandb\u001b[0m: \u001b[33mWARNING\u001b[0m If you're specifying your api key in code, ensure this code is not shared publically.\n",
            "\u001b[34m\u001b[1mwandb\u001b[0m: \u001b[33mWARNING\u001b[0m Consider setting the WANDB_API_KEY environment variable, or running `wandb login` from the command line.\n",
            "\u001b[34m\u001b[1mwandb\u001b[0m: Appending key for api.wandb.ai to your netrc file: /root/.netrc\n"
          ]
        },
        {
          "output_type": "display_data",
          "data": {
            "text/html": [
              "\n",
              "                    Syncing run <strong><a href=\"https://wandb.ai/nlpetroni/assignment-two/runs/2r2s5zf0\" target=\"_blank\">fearless-spaceship-435</a></strong> to <a href=\"https://wandb.ai/nlpetroni/assignment-two\" target=\"_blank\">Weights & Biases</a> (<a href=\"https://docs.wandb.com/integrations/jupyter.html\" target=\"_blank\">docs</a>).<br/>\n",
              "\n",
              "                "
            ],
            "text/plain": [
              "<IPython.core.display.HTML object>"
            ]
          },
          "metadata": {}
        },
        {
          "output_type": "stream",
          "name": "stdout",
          "text": [
            "The vocabulary is already present. Loading it... Done!\n",
            "The embedding matrix is already present. Loading it... Done!\n"
          ]
        },
        {
          "output_type": "stream",
          "name": "stderr",
          "text": [
            "\u001b[34m\u001b[1mwandb\u001b[0m: logging graph, to disable use `wandb.watch(log_graph=False)`\n"
          ]
        },
        {
          "output_type": "stream",
          "name": "stdout",
          "text": [
            "STARTING TRAINING\n",
            "Evaluation metrics are computed on validation set\n",
            "\n",
            "EPOCHS | TRAIN LOSS | VALID LOSS | ACCURACY | PRECISION | RECALL |  F1   | V_ACC | V_PREC | V_REC | V_F1\n",
            "[00/50]|      0.489 |      0.831 |    0.694 |     0.634 |  0.926 | 0.753 | 0.693 |  0.632 | 0.921 | 0.750\n",
            "[10/50]|      0.293 |      0.942 |    0.735 |     0.669 |  0.939 | 0.781 | 0.735 |  0.667 | 0.937 | 0.779\n",
            "Validation loss increasing for 10 epochs\n",
            "[20/50]|      0.209 |      1.263 |    0.738 |     0.684 |  0.895 | 0.775 | 0.737 |  0.681 | 0.891 | 0.772\n",
            "Early stopping occured at epoch 24 with patience 20\n"
          ]
        },
        {
          "output_type": "display_data",
          "data": {
            "text/html": [
              "<br/>Waiting for W&B process to finish, PID 673... <strong style=\"color:green\">(success).</strong>"
            ],
            "text/plain": [
              "<IPython.core.display.HTML object>"
            ]
          },
          "metadata": {}
        },
        {
          "output_type": "display_data",
          "data": {
            "application/vnd.jupyter.widget-view+json": {
              "model_id": "5995cf861e94465499eb6fb2e1f90ba7",
              "version_minor": 0,
              "version_major": 2
            },
            "text/plain": [
              "VBox(children=(Label(value=' 0.00MB of 0.00MB uploaded (0.00MB deduped)\\r'), FloatProgress(value=1.0, max=1.0)…"
            ]
          },
          "metadata": {}
        },
        {
          "output_type": "display_data",
          "data": {
            "text/html": [
              "<style>\n",
              "    table.wandb td:nth-child(1) { padding: 0 10px; text-align: right }\n",
              "    .wandb-row { display: flex; flex-direction: row; flex-wrap: wrap; width: 100% }\n",
              "    .wandb-col { display: flex; flex-direction: column; flex-basis: 100%; flex: 1; padding: 10px; }\n",
              "    </style>\n",
              "<div class=\"wandb-row\"><div class=\"wandb-col\">\n",
              "<h3>Run history:</h3><br/><table class=\"wandb\"><tr><td>epoch</td><td>▁▁▁▂▂▂▂▂▂▂▃▃▃▃▄▄▄▄▄▅▅▅▅▅▅▅▆▆▆▆▇▇▇▇▇▇▇███</td></tr><tr><td>train/accuracy</td><td>▁▃▂▄▄▄▅▅▅▅▆▅▅▅▅▅▆▆▅▆█▆▇▇▆▆▆▇▇▇▆▇▇█▇█▇███</td></tr><tr><td>train/f1</td><td>▁▃▂▄▄▄▄▅▅▅▆▅▅▅▅▅▆▅▅▆█▅▇▇▅▆▆▇▇▇▆▇▇█▇█▇███</td></tr><tr><td>train/loss</td><td>█▆▆▅▅▅▄▄▄▄▄▄▄▄▅▃▃▃▄▃▂▃▂▂▃▃▂▂▂▂▂▂▂▁▂▁▂▁▁▁</td></tr><tr><td>train_step</td><td>▁▁▁▂▂▂▂▂▂▃▃▃▃▃▃▄▄▄▄▄▅▅▅▅▅▅▆▆▆▆▆▇▇▇▇▇▇███</td></tr><tr><td>valid/accuracy</td><td>▁▄▅▇█▇█▇▇█▆▅▇▇▇▆▆▆▆▅▆▆▅▄▅</td></tr><tr><td>valid/f1</td><td>▃▅▆▆▇██▇██▇▇█▆▇▅▇▃▆▅▆▄▅▁▄</td></tr><tr><td>valid/loss</td><td>▃▃▂▁▁▂▁▁▂▂▄▃▃▂▄▃▅▃▅▆▆▆█▆█</td></tr><tr><td>valid/precision</td><td>▁▄▅▇█▅▇▇▆▇▄▄▆▇▆▇▅█▅▅▆▇▅▆▆</td></tr><tr><td>valid/recall</td><td>▇▆▆▄▄▇▅▅▇▅█▇▆▄▅▄▆▁▆▅▆▂▅▁▃</td></tr><tr><td>valid/vote_accuracy</td><td>▁▄▅▇█▇█▇▇█▆▆▇▇▇▆▆▆▆▆▆▆▅▄▅</td></tr><tr><td>valid/vote_f1</td><td>▃▅▆▆▆█▇▇█▇█▇▇▆▇▅▇▃▆▅▆▃▅▁▄</td></tr><tr><td>valid/vote_precision</td><td>▁▃▄▇█▅▇▇▆▇▄▄▆▇▆▇▅▇▅▅▆▇▅▆▆</td></tr><tr><td>valid/vote_recall</td><td>▇▆▆▄▃▇▅▅▇▅█▇▆▄▅▃▆▁▅▅▆▂▅▁▃</td></tr></table><br/></div><div class=\"wandb-col\">\n",
              "<h3>Run summary:</h3><br/><table class=\"wandb\"><tr><td>epoch</td><td>24</td></tr><tr><td>train/f1</td><td>0.94352</td></tr><tr><td>train_step</td><td>5949</td></tr></table>\n",
              "</div></div>\n",
              "Synced 5 W&B file(s), 1 media file(s), 0 artifact file(s) and 0 other file(s)\n",
              "<br/>Synced <strong style=\"color:#cdcd00\">fearless-spaceship-435</strong>: <a href=\"https://wandb.ai/nlpetroni/assignment-two/runs/2r2s5zf0\" target=\"_blank\">https://wandb.ai/nlpetroni/assignment-two/runs/2r2s5zf0</a><br/>\n",
              "Find logs at: <code>./wandb/run-20211219_161552-2r2s5zf0/logs</code><br/>\n"
            ],
            "text/plain": [
              "<IPython.core.display.HTML object>"
            ]
          },
          "metadata": {}
        },
        {
          "output_type": "stream",
          "name": "stderr",
          "text": [
            "\u001b[34m\u001b[1mwandb\u001b[0m: \u001b[33mWARNING\u001b[0m If you're specifying your api key in code, ensure this code is not shared publically.\n",
            "\u001b[34m\u001b[1mwandb\u001b[0m: \u001b[33mWARNING\u001b[0m Consider setting the WANDB_API_KEY environment variable, or running `wandb login` from the command line.\n",
            "\u001b[34m\u001b[1mwandb\u001b[0m: Appending key for api.wandb.ai to your netrc file: /root/.netrc\n"
          ]
        },
        {
          "output_type": "display_data",
          "data": {
            "text/html": [
              "\n",
              "                    Syncing run <strong><a href=\"https://wandb.ai/nlpetroni/assignment-two/runs/1s2q1hg4\" target=\"_blank\">resilient-paper-436</a></strong> to <a href=\"https://wandb.ai/nlpetroni/assignment-two\" target=\"_blank\">Weights & Biases</a> (<a href=\"https://docs.wandb.com/integrations/jupyter.html\" target=\"_blank\">docs</a>).<br/>\n",
              "\n",
              "                "
            ],
            "text/plain": [
              "<IPython.core.display.HTML object>"
            ]
          },
          "metadata": {}
        },
        {
          "output_type": "stream",
          "name": "stdout",
          "text": [
            "The vocabulary is already present. Loading it... Done!\n",
            "The embedding matrix is already present. Loading it... Done!\n"
          ]
        },
        {
          "output_type": "stream",
          "name": "stderr",
          "text": [
            "\u001b[34m\u001b[1mwandb\u001b[0m: logging graph, to disable use `wandb.watch(log_graph=False)`\n"
          ]
        },
        {
          "output_type": "stream",
          "name": "stdout",
          "text": [
            "STARTING TRAINING\n",
            "Evaluation metrics are computed on validation set\n",
            "\n",
            "EPOCHS | TRAIN LOSS | VALID LOSS | ACCURACY | PRECISION | RECALL |  F1   | V_ACC | V_PREC | V_REC | V_F1\n",
            "[00/50]|      0.489 |      0.831 |    0.694 |     0.634 |  0.926 | 0.753 | 0.693 |  0.632 | 0.921 | 0.750\n",
            "[10/50]|      0.293 |      0.942 |    0.735 |     0.669 |  0.939 | 0.781 | 0.735 |  0.667 | 0.937 | 0.779\n",
            "Validation loss increasing for 10 epochs\n",
            "[20/50]|      0.209 |      1.263 |    0.738 |     0.684 |  0.895 | 0.775 | 0.737 |  0.681 | 0.891 | 0.772\n",
            "Early stopping occured at epoch 24 with patience 20\n"
          ]
        },
        {
          "output_type": "display_data",
          "data": {
            "text/html": [
              "<br/>Waiting for W&B process to finish, PID 1061... <strong style=\"color:green\">(success).</strong>"
            ],
            "text/plain": [
              "<IPython.core.display.HTML object>"
            ]
          },
          "metadata": {}
        },
        {
          "output_type": "display_data",
          "data": {
            "application/vnd.jupyter.widget-view+json": {
              "model_id": "c905a10694f54e87aa107aa109cce5a7",
              "version_minor": 0,
              "version_major": 2
            },
            "text/plain": [
              "VBox(children=(Label(value=' 0.00MB of 0.00MB uploaded (0.00MB deduped)\\r'), FloatProgress(value=1.0, max=1.0)…"
            ]
          },
          "metadata": {}
        },
        {
          "output_type": "display_data",
          "data": {
            "text/html": [
              "<style>\n",
              "    table.wandb td:nth-child(1) { padding: 0 10px; text-align: right }\n",
              "    .wandb-row { display: flex; flex-direction: row; flex-wrap: wrap; width: 100% }\n",
              "    .wandb-col { display: flex; flex-direction: column; flex-basis: 100%; flex: 1; padding: 10px; }\n",
              "    </style>\n",
              "<div class=\"wandb-row\"><div class=\"wandb-col\">\n",
              "<h3>Run history:</h3><br/><table class=\"wandb\"><tr><td>epoch</td><td>▁▁▁▂▂▂▂▂▂▂▃▃▃▃▄▄▄▄▄▅▅▅▅▅▅▅▆▆▆▆▇▇▇▇▇▇▇███</td></tr><tr><td>train/accuracy</td><td>▁▃▂▄▄▄▅▅▅▅▆▅▅▅▅▅▆▆▅▆█▆▇▇▆▆▆▇▇▇▆▇▇█▇█▇███</td></tr><tr><td>train/f1</td><td>▁▃▂▄▄▄▄▅▅▅▆▅▅▅▅▅▆▅▅▆█▅▇▇▅▆▆▇▇▇▆▇▇█▇█▇███</td></tr><tr><td>train/loss</td><td>█▆▆▅▅▅▄▄▄▄▄▄▄▄▅▃▃▃▄▃▂▃▂▂▃▃▂▂▂▂▂▂▂▁▂▁▂▁▁▁</td></tr><tr><td>train_step</td><td>▁▁▁▂▂▂▂▂▂▃▃▃▃▃▃▄▄▄▄▄▅▅▅▅▅▅▆▆▆▆▆▇▇▇▇▇▇███</td></tr><tr><td>valid/accuracy</td><td>▁▄▅▇█▇█▇▇█▆▅▇▇▇▆▆▆▆▅▆▆▅▄▅</td></tr><tr><td>valid/f1</td><td>▃▅▆▆▇██▇██▇▇█▆▇▅▇▃▆▅▆▄▅▁▄</td></tr><tr><td>valid/loss</td><td>▃▃▂▁▁▂▁▁▂▂▄▃▃▂▄▃▅▃▅▆▆▆█▆█</td></tr><tr><td>valid/precision</td><td>▁▄▅▇█▅▇▇▆▇▄▄▆▇▆▇▅█▅▅▆▇▅▆▆</td></tr><tr><td>valid/recall</td><td>▇▆▆▄▄▇▅▅▇▅█▇▆▄▅▄▆▁▆▅▆▂▅▁▃</td></tr><tr><td>valid/vote_accuracy</td><td>▁▄▅▇█▇█▇▇█▆▆▇▇▇▆▆▆▆▆▆▆▅▄▅</td></tr><tr><td>valid/vote_f1</td><td>▃▅▆▆▆█▇▇█▇█▇▇▆▇▅▇▃▆▅▆▃▅▁▄</td></tr><tr><td>valid/vote_precision</td><td>▁▃▄▇█▅▇▇▆▇▄▄▆▇▆▇▅▇▅▅▆▇▅▆▆</td></tr><tr><td>valid/vote_recall</td><td>▇▆▆▄▃▇▅▅▇▅█▇▆▄▅▃▆▁▅▅▆▂▅▁▃</td></tr></table><br/></div><div class=\"wandb-col\">\n",
              "<h3>Run summary:</h3><br/><table class=\"wandb\"><tr><td>epoch</td><td>24</td></tr><tr><td>train/f1</td><td>0.94352</td></tr><tr><td>train_step</td><td>5949</td></tr></table>\n",
              "</div></div>\n",
              "Synced 5 W&B file(s), 1 media file(s), 0 artifact file(s) and 0 other file(s)\n",
              "<br/>Synced <strong style=\"color:#cdcd00\">resilient-paper-436</strong>: <a href=\"https://wandb.ai/nlpetroni/assignment-two/runs/1s2q1hg4\" target=\"_blank\">https://wandb.ai/nlpetroni/assignment-two/runs/1s2q1hg4</a><br/>\n",
              "Find logs at: <code>./wandb/run-20211219_165019-1s2q1hg4/logs</code><br/>\n"
            ],
            "text/plain": [
              "<IPython.core.display.HTML object>"
            ]
          },
          "metadata": {}
        },
        {
          "output_type": "stream",
          "name": "stderr",
          "text": [
            "\u001b[34m\u001b[1mwandb\u001b[0m: \u001b[33mWARNING\u001b[0m If you're specifying your api key in code, ensure this code is not shared publically.\n",
            "\u001b[34m\u001b[1mwandb\u001b[0m: \u001b[33mWARNING\u001b[0m Consider setting the WANDB_API_KEY environment variable, or running `wandb login` from the command line.\n",
            "\u001b[34m\u001b[1mwandb\u001b[0m: Appending key for api.wandb.ai to your netrc file: /root/.netrc\n"
          ]
        },
        {
          "output_type": "display_data",
          "data": {
            "text/html": [
              "\n",
              "                    Syncing run <strong><a href=\"https://wandb.ai/nlpetroni/assignment-two/runs/3dnlfzh3\" target=\"_blank\">vivid-capybara-437</a></strong> to <a href=\"https://wandb.ai/nlpetroni/assignment-two\" target=\"_blank\">Weights & Biases</a> (<a href=\"https://docs.wandb.com/integrations/jupyter.html\" target=\"_blank\">docs</a>).<br/>\n",
              "\n",
              "                "
            ],
            "text/plain": [
              "<IPython.core.display.HTML object>"
            ]
          },
          "metadata": {}
        },
        {
          "output_type": "stream",
          "name": "stdout",
          "text": [
            "The vocabulary is already present. Loading it... Done!\n",
            "The embedding matrix is already present. Loading it... Done!\n"
          ]
        },
        {
          "output_type": "stream",
          "name": "stderr",
          "text": [
            "\u001b[34m\u001b[1mwandb\u001b[0m: logging graph, to disable use `wandb.watch(log_graph=False)`\n"
          ]
        },
        {
          "output_type": "stream",
          "name": "stdout",
          "text": [
            "STARTING TRAINING\n",
            "Evaluation metrics are computed on validation set\n",
            "\n",
            "EPOCHS | TRAIN LOSS | VALID LOSS | ACCURACY | PRECISION | RECALL |  F1   | V_ACC | V_PREC | V_REC | V_F1\n",
            "[00/50]|      0.489 |      0.831 |    0.694 |     0.634 |  0.926 | 0.753 | 0.693 |  0.632 | 0.921 | 0.750\n"
          ]
        }
      ],
      "source": [
        "tag = 'hyperparameters tuning'\n",
        "merger = 'concatenation'\n",
        "\n",
        "for opt in ('rmsprop', 'adam'):\n",
        "    for cosine_similarity in (True, False):\n",
        "        for run in range(5):\n",
        "            lr = random.uniform(1e-5, 5e-4)\n",
        "            rec_size = random.randint(1, 3)\n",
        "            hid_size = random.randint(32, 128)\n",
        "            n_layers_classifier = random.randint(1, 3)\n",
        "            train(optimizer=opt, lr=lr, device=device, n_epochs=epochs, verbose=verbose,  tags=[tag, 'tuning'],\n",
        "                batch_size=batch_size, encoder=encoder, rnn_type=rnn_type, rnn_output=rnn_output, \n",
        "                merger=merger, cosine_similarity=cosine_similarity, rec_size=rec_size, hid_size=hid_size, \n",
        "                n_layers_classifier=n_layers_classifier)"
      ]
    },
    {
      "cell_type": "markdown",
      "source": [
        "Not all the runs in the random search have been completed, due to Colab free limitations. Between the completed ones the best is:\n",
        "\n",
        " - batch size: 512\n",
        " - epochs: 50\n",
        " - learning rate: 1e-4\n",
        " - optimizer: rmsprop\n",
        " - encoder: last state of a RNN (GRU) with 2 layers and hidden size 64\n",
        " - merger: concatenation\n",
        " - classifier: linear classifier with 2 layers\n",
        "\n",
        " Which reaches the following metrics:\n",
        " - train/accuracy: 0.9395\n",
        " - train/loss: 0.173\n",
        " - valid/accuracy: 0.7569\n",
        " - valid/f1: 0.7929\n",
        " - valid/loss: 0.5082\n",
        " - valid/vote_accuracy: 0.7564\n",
        " - valid/vote_f1: 0.7905\n",
        "\n",
        "\n",
        "\n",
        "![W&B Chart 19_12_2021, 23_23_04.png](data:image/png;base64,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)"
      ],
      "metadata": {
        "id": "M88pr3V5xwBo"
      }
    },
    {
      "cell_type": "markdown",
      "source": [
        "Let's see what happen when enabling cosine similarity"
      ],
      "metadata": {
        "id": "aSCqQRqu03uk"
      }
    },
    {
      "cell_type": "code",
      "source": [
        "train(optimizer='rmsprop', lr=1e-4, device=device, n_epochs=50, verbose=False, tags=['cosine similarity'],\n",
        "    batch_size=512, encoder='rnn', rnn_type='gru', rnn_output='last', \n",
        "    merger='concatenation', cosine_similarity=True)"
      ],
      "metadata": {
        "colab": {
          "base_uri": "https://localhost:8080/",
          "height": 1000,
          "referenced_widgets": [
            "2fbcd7c9882444dea4c5cff264ac8d2b",
            "55018d63f4cb4793899e44f83a72cecd",
            "dbf4c1becf4241348929ac1a7d221362",
            "b514be2c8dc343de92c15ee9f5e845ab",
            "a908c500cf16443da50ca9ec2fb47e0f",
            "a4f0302b39384866af6e461b531ba1ba",
            "cf971166455847ddb1279d018e5ff198",
            "f25af92031cc4607a3a7b89f3addf587"
          ]
        },
        "id": "1QbekaAm03c0",
        "outputId": "99c1bdae-6cea-4471-90a2-ebd82f73418d"
      },
      "execution_count": null,
      "outputs": [
        {
          "name": "stdout",
          "output_type": "stream",
          "text": [
            "wandb_key.txt is missing. Enter here your key:··········\n"
          ]
        },
        {
          "output_type": "stream",
          "name": "stderr",
          "text": [
            "\u001b[34m\u001b[1mwandb\u001b[0m: W&B API key is configured (use `wandb login --relogin` to force relogin)\n",
            "\u001b[34m\u001b[1mwandb\u001b[0m: \u001b[33mWARNING\u001b[0m If you're specifying your api key in code, ensure this code is not shared publically.\n",
            "\u001b[34m\u001b[1mwandb\u001b[0m: \u001b[33mWARNING\u001b[0m Consider setting the WANDB_API_KEY environment variable, or running `wandb login` from the command line.\n",
            "\u001b[34m\u001b[1mwandb\u001b[0m: Appending key for api.wandb.ai to your netrc file: /root/.netrc\n",
            "\u001b[34m\u001b[1mwandb\u001b[0m: Currently logged in as: \u001b[33msasso\u001b[0m (use `wandb login --relogin` to force relogin)\n"
          ]
        },
        {
          "output_type": "display_data",
          "data": {
            "text/html": [
              "\n",
              "                    Syncing run <strong><a href=\"https://wandb.ai/nlpetroni/assignment-two/runs/3t6is6lf\" target=\"_blank\">olive-feather-438</a></strong> to <a href=\"https://wandb.ai/nlpetroni/assignment-two\" target=\"_blank\">Weights & Biases</a> (<a href=\"https://docs.wandb.com/integrations/jupyter.html\" target=\"_blank\">docs</a>).<br/>\n",
              "\n",
              "                "
            ],
            "text/plain": [
              "<IPython.core.display.HTML object>"
            ]
          },
          "metadata": {}
        },
        {
          "output_type": "stream",
          "name": "stdout",
          "text": [
            "The vocabulary is already present. Loading it... Done!\n",
            "The embedding matrix is already present. Loading it... Done!\n"
          ]
        },
        {
          "output_type": "stream",
          "name": "stderr",
          "text": [
            "\u001b[34m\u001b[1mwandb\u001b[0m: logging graph, to disable use `wandb.watch(log_graph=False)`\n"
          ]
        },
        {
          "output_type": "stream",
          "name": "stdout",
          "text": [
            "STARTING TRAINING\n",
            "Evaluation metrics are computed on validation set\n",
            "\n",
            "EPOCHS | TRAIN LOSS | VALID LOSS | ACCURACY | PRECISION | RECALL |  F1   | V_ACC | V_PREC | V_REC | V_F1\n",
            "[00/50]|      0.532 |      0.700 |    0.615 |     0.571 |  0.948 | 0.713 | 0.614 |  0.568 | 0.947 | 0.711\n",
            "[10/50]|      0.369 |      0.524 |    0.724 |     0.661 |  0.928 | 0.772 | 0.722 |  0.658 | 0.926 | 0.769\n",
            "[20/50]|      0.339 |      0.574 |    0.719 |     0.650 |  0.958 | 0.775 | 0.718 |  0.648 | 0.956 | 0.772\n",
            "Validation loss increasing for 10 epochs\n",
            "[30/50]|      0.316 |      0.538 |    0.740 |     0.676 |  0.929 | 0.783 | 0.739 |  0.674 | 0.926 | 0.780\n",
            "Early stopping occured at epoch 36 with patience 20\n"
          ]
        },
        {
          "output_type": "display_data",
          "data": {
            "text/html": [
              "<br/>Waiting for W&B process to finish, PID 331... <strong style=\"color:green\">(success).</strong>"
            ],
            "text/plain": [
              "<IPython.core.display.HTML object>"
            ]
          },
          "metadata": {}
        },
        {
          "output_type": "display_data",
          "data": {
            "application/vnd.jupyter.widget-view+json": {
              "model_id": "2fbcd7c9882444dea4c5cff264ac8d2b",
              "version_minor": 0,
              "version_major": 2
            },
            "text/plain": [
              "VBox(children=(Label(value=' 0.00MB of 0.00MB uploaded (0.00MB deduped)\\r'), FloatProgress(value=1.0, max=1.0)…"
            ]
          },
          "metadata": {}
        },
        {
          "output_type": "display_data",
          "data": {
            "text/html": [
              "<style>\n",
              "    table.wandb td:nth-child(1) { padding: 0 10px; text-align: right }\n",
              "    .wandb-row { display: flex; flex-direction: row; flex-wrap: wrap; width: 100% }\n",
              "    .wandb-col { display: flex; flex-direction: column; flex-basis: 100%; flex: 1; padding: 10px; }\n",
              "    </style>\n",
              "<div class=\"wandb-row\"><div class=\"wandb-col\">\n",
              "<h3>Run history:</h3><br/><table class=\"wandb\"><tr><td>epoch</td><td>▁▁▁▂▂▂▂▂▂▃▃▃▃▃▄▄▄▄▄▅▅▅▅▅▅▅▆▆▆▆▆▇▇▇▇▇▇███</td></tr><tr><td>train/accuracy</td><td>▁▃▅▅▅▅▄▆▆▆▆▆▆▆▆▆▅▇▅▆▇▅▆▆▇▇▇▆▇▇██▇▇▇▆▇▆▆▇</td></tr><tr><td>train/f1</td><td>▁▃▅▄▄▄▄▅▆▆▆▅▆▆▆▅▅▇▅▆▇▅▆▅▇▇▇▆▆▇██▇▇▇▅▇▆▆▇</td></tr><tr><td>train/loss</td><td>█▇▅▅▅▅▅▄▃▃▃▄▃▃▃▄▄▂▄▃▃▄▃▄▃▁▂▃▂▂▁▂▁▁▂▃▁▄▃▂</td></tr><tr><td>train_step</td><td>▁▁▁▂▂▂▂▂▂▃▃▃▃▃▄▄▄▄▄▄▅▅▅▅▅▅▆▆▆▆▆▇▇▇▇▇▇███</td></tr><tr><td>valid/accuracy</td><td>▁▃▃▄▅▅▅▆▆▆▇▆▆▆▇▇█▇▇▇▇▇▇▇▇▇█▇▇▇███████</td></tr><tr><td>valid/f1</td><td>▁▃▄▄▅▅▆▆▆▆▇▆▇▆▇▇█▇▇▇▇▇█████▇█▇███████</td></tr><tr><td>valid/loss</td><td>█▆▆▅▄▃▃▃▃▃▁▃▃▄▂▂▁▂▃▂▃▄▂▂▂▂▁▃▂▂▂▂▂▁▂▃▂</td></tr><tr><td>valid/precision</td><td>▁▃▃▃▄▄▅▅▅▅▇▅▆▅▇▆▇▇▆▆▆▆▇▇▇▇█▆▇▇█▇██▇▇█</td></tr><tr><td>valid/recall</td><td>▅▅█▇█▇▇▆▆▆▂▇▆▇▃▅▂▅▆▅▆▆▄▄▆▅▁▆▅▄▂▄▃▂▃▄▁</td></tr><tr><td>valid/vote_accuracy</td><td>▁▃▃▄▅▅▅▆▆▆▇▆▆▆▇▇█▇▇▇▇▇▇▇▇██▇▇▇███████</td></tr><tr><td>valid/vote_f1</td><td>▁▃▄▄▅▅▆▆▆▆▇▆▇▆▇▇█▇▇▇▇▇█▇▇██▇█▇███████</td></tr><tr><td>valid/vote_precision</td><td>▁▃▃▃▄▄▅▅▅▅▇▅▆▅▇▆█▇▆▆▆▆▇▇▇▇█▆▇▇█▇███▇█</td></tr><tr><td>valid/vote_recall</td><td>▅▅█▇█▇▇▆▆▆▂▇▆▇▃▅▂▅▇▅▆▆▄▄▆▅▁▆▅▅▂▄▃▂▃▄▁</td></tr></table><br/></div><div class=\"wandb-col\">\n",
              "<h3>Run summary:</h3><br/><table class=\"wandb\"><tr><td>epoch</td><td>36</td></tr><tr><td>train/f1</td><td>0.91135</td></tr><tr><td>train_step</td><td>8805</td></tr></table>\n",
              "</div></div>\n",
              "Synced 5 W&B file(s), 1 media file(s), 0 artifact file(s) and 0 other file(s)\n",
              "<br/>Synced <strong style=\"color:#cdcd00\">olive-feather-438</strong>: <a href=\"https://wandb.ai/nlpetroni/assignment-two/runs/3t6is6lf\" target=\"_blank\">https://wandb.ai/nlpetroni/assignment-two/runs/3t6is6lf</a><br/>\n",
              "Find logs at: <code>./wandb/run-20211219_224336-3t6is6lf/logs</code><br/>\n"
            ],
            "text/plain": [
              "<IPython.core.display.HTML object>"
            ]
          },
          "metadata": {}
        },
        {
          "output_type": "execute_result",
          "data": {
            "text/plain": [
              "FactChecker(\n",
              "  (emb_layer): Embedding(403484, 100)\n",
              "  (encoder): RNNEncoder(\n",
              "    (output_layer): LambdaLast()\n",
              "    (rec_module): GRU(100, 50, batch_first=True, bidirectional=True)\n",
              "  )\n",
              "  (merger): LambdaConcatenation()\n",
              "  (classifier): Sequential(\n",
              "    (classifier_fc1): Linear(in_features=201, out_features=100, bias=True)\n",
              "    (classifier_ReLU): ReLU()\n",
              "    (classifier_fc2): Linear(in_features=100, out_features=1, bias=True)\n",
              "  )\n",
              ")"
            ]
          },
          "metadata": {},
          "execution_count": 22
        }
      ]
    },
    {
      "cell_type": "markdown",
      "source": [
        "# Final run on the testing set"
      ],
      "metadata": {
        "id": "FP6AYGPi2HKc"
      }
    }
  ],
  "metadata": {
    "accelerator": "GPU",
    "colab": {
      "name": "solution_2.ipynb",
      "provenance": [],
      "include_colab_link": true
    },
    "kernelspec": {
      "display_name": "Python 3 (ipykernel)",
      "language": "python",
      "name": "python3"
    },
    "language_info": {
      "codemirror_mode": {
        "name": "ipython",
        "version": 3
      },
      "file_extension": ".py",
      "mimetype": "text/x-python",
      "name": "python",
      "nbconvert_exporter": "python",
      "pygments_lexer": "ipython3",
      "version": "3.9.7"
    },
    "widgets": {
      "application/vnd.jupyter.widget-state+json": {
        "81229322e46c45f8978237e6c50d30df": {
          "model_module": "@jupyter-widgets/controls",
          "model_name": "VBoxModel",
          "model_module_version": "1.5.0",
          "state": {
            "_view_name": "VBoxView",
            "_dom_classes": [],
            "_model_name": "VBoxModel",
            "_view_module": "@jupyter-widgets/controls",
            "_model_module_version": "1.5.0",
            "_view_count": null,
            "_view_module_version": "1.5.0",
            "box_style": "",
            "layout": "IPY_MODEL_81b9060132fa46b9bd51f52c76669f13",
            "_model_module": "@jupyter-widgets/controls",
            "children": [
              "IPY_MODEL_03335ca80f704ac982f4467421bf2053",
              "IPY_MODEL_450e3dc0aa324e86a874c77b1ed83ff6"
            ]
          }
        },
        "81b9060132fa46b9bd51f52c76669f13": {
          "model_module": "@jupyter-widgets/base",
          "model_name": "LayoutModel",
          "model_module_version": "1.2.0",
          "state": {
            "_view_name": "LayoutView",
            "grid_template_rows": null,
            "right": null,
            "justify_content": null,
            "_view_module": "@jupyter-widgets/base",
            "overflow": null,
            "_model_module_version": "1.2.0",
            "_view_count": null,
            "flex_flow": null,
            "width": null,
            "min_width": null,
            "border": null,
            "align_items": null,
            "bottom": null,
            "_model_module": "@jupyter-widgets/base",
            "top": null,
            "grid_column": null,
            "overflow_y": null,
            "overflow_x": null,
            "grid_auto_flow": null,
            "grid_area": null,
            "grid_template_columns": null,
            "flex": null,
            "_model_name": "LayoutModel",
            "justify_items": null,
            "grid_row": null,
            "max_height": null,
            "align_content": null,
            "visibility": null,
            "align_self": null,
            "height": null,
            "min_height": null,
            "padding": null,
            "grid_auto_rows": null,
            "grid_gap": null,
            "max_width": null,
            "order": null,
            "_view_module_version": "1.2.0",
            "grid_template_areas": null,
            "object_position": null,
            "object_fit": null,
            "grid_auto_columns": null,
            "margin": null,
            "display": null,
            "left": null
          }
        },
        "03335ca80f704ac982f4467421bf2053": {
          "model_module": "@jupyter-widgets/controls",
          "model_name": "LabelModel",
          "model_module_version": "1.5.0",
          "state": {
            "_view_name": "LabelView",
            "style": "IPY_MODEL_5fcf0545d0f64410b31bbd1078538cc1",
            "_dom_classes": [],
            "description": "",
            "_model_name": "LabelModel",
            "placeholder": "​",
            "_view_module": "@jupyter-widgets/controls",
            "_model_module_version": "1.5.0",
            "value": " 0.03MB of 0.03MB uploaded (0.00MB deduped)\r",
            "_view_count": null,
            "_view_module_version": "1.5.0",
            "description_tooltip": null,
            "_model_module": "@jupyter-widgets/controls",
            "layout": "IPY_MODEL_c89a4870770044e092d97f10e4564800"
          }
        },
        "450e3dc0aa324e86a874c77b1ed83ff6": {
          "model_module": "@jupyter-widgets/controls",
          "model_name": "FloatProgressModel",
          "model_module_version": "1.5.0",
          "state": {
            "_view_name": "ProgressView",
            "style": "IPY_MODEL_2831e9b6add84fae819ba35c37c9bc2e",
            "_dom_classes": [],
            "description": "",
            "_model_name": "FloatProgressModel",
            "bar_style": "",
            "max": 1,
            "_view_module": "@jupyter-widgets/controls",
            "_model_module_version": "1.5.0",
            "value": 1,
            "_view_count": null,
            "_view_module_version": "1.5.0",
            "orientation": "horizontal",
            "min": 0,
            "description_tooltip": null,
            "_model_module": "@jupyter-widgets/controls",
            "layout": "IPY_MODEL_a8fc971c5b164902b77b688c990fbcc4"
          }
        },
        "5fcf0545d0f64410b31bbd1078538cc1": {
          "model_module": "@jupyter-widgets/controls",
          "model_name": "DescriptionStyleModel",
          "model_module_version": "1.5.0",
          "state": {
            "_view_name": "StyleView",
            "_model_name": "DescriptionStyleModel",
            "description_width": "",
            "_view_module": "@jupyter-widgets/base",
            "_model_module_version": "1.5.0",
            "_view_count": null,
            "_view_module_version": "1.2.0",
            "_model_module": "@jupyter-widgets/controls"
          }
        },
        "c89a4870770044e092d97f10e4564800": {
          "model_module": "@jupyter-widgets/base",
          "model_name": "LayoutModel",
          "model_module_version": "1.2.0",
          "state": {
            "_view_name": "LayoutView",
            "grid_template_rows": null,
            "right": null,
            "justify_content": null,
            "_view_module": "@jupyter-widgets/base",
            "overflow": null,
            "_model_module_version": "1.2.0",
            "_view_count": null,
            "flex_flow": null,
            "width": null,
            "min_width": null,
            "border": null,
            "align_items": null,
            "bottom": null,
            "_model_module": "@jupyter-widgets/base",
            "top": null,
            "grid_column": null,
            "overflow_y": null,
            "overflow_x": null,
            "grid_auto_flow": null,
            "grid_area": null,
            "grid_template_columns": null,
            "flex": null,
            "_model_name": "LayoutModel",
            "justify_items": null,
            "grid_row": null,
            "max_height": null,
            "align_content": null,
            "visibility": null,
            "align_self": null,
            "height": null,
            "min_height": null,
            "padding": null,
            "grid_auto_rows": null,
            "grid_gap": null,
            "max_width": null,
            "order": null,
            "_view_module_version": "1.2.0",
            "grid_template_areas": null,
            "object_position": null,
            "object_fit": null,
            "grid_auto_columns": null,
            "margin": null,
            "display": null,
            "left": null
          }
        },
        "2831e9b6add84fae819ba35c37c9bc2e": {
          "model_module": "@jupyter-widgets/controls",
          "model_name": "ProgressStyleModel",
          "model_module_version": "1.5.0",
          "state": {
            "_view_name": "StyleView",
            "_model_name": "ProgressStyleModel",
            "description_width": "",
            "_view_module": "@jupyter-widgets/base",
            "_model_module_version": "1.5.0",
            "_view_count": null,
            "_view_module_version": "1.2.0",
            "bar_color": null,
            "_model_module": "@jupyter-widgets/controls"
          }
        },
        "a8fc971c5b164902b77b688c990fbcc4": {
          "model_module": "@jupyter-widgets/base",
          "model_name": "LayoutModel",
          "model_module_version": "1.2.0",
          "state": {
            "_view_name": "LayoutView",
            "grid_template_rows": null,
            "right": null,
            "justify_content": null,
            "_view_module": "@jupyter-widgets/base",
            "overflow": null,
            "_model_module_version": "1.2.0",
            "_view_count": null,
            "flex_flow": null,
            "width": null,
            "min_width": null,
            "border": null,
            "align_items": null,
            "bottom": null,
            "_model_module": "@jupyter-widgets/base",
            "top": null,
            "grid_column": null,
            "overflow_y": null,
            "overflow_x": null,
            "grid_auto_flow": null,
            "grid_area": null,
            "grid_template_columns": null,
            "flex": null,
            "_model_name": "LayoutModel",
            "justify_items": null,
            "grid_row": null,
            "max_height": null,
            "align_content": null,
            "visibility": null,
            "align_self": null,
            "height": null,
            "min_height": null,
            "padding": null,
            "grid_auto_rows": null,
            "grid_gap": null,
            "max_width": null,
            "order": null,
            "_view_module_version": "1.2.0",
            "grid_template_areas": null,
            "object_position": null,
            "object_fit": null,
            "grid_auto_columns": null,
            "margin": null,
            "display": null,
            "left": null
          }
        },
        "0bfc21f0f62d4a278aed26427d628def": {
          "model_module": "@jupyter-widgets/controls",
          "model_name": "VBoxModel",
          "model_module_version": "1.5.0",
          "state": {
            "_view_name": "VBoxView",
            "_dom_classes": [],
            "_model_name": "VBoxModel",
            "_view_module": "@jupyter-widgets/controls",
            "_model_module_version": "1.5.0",
            "_view_count": null,
            "_view_module_version": "1.5.0",
            "box_style": "",
            "layout": "IPY_MODEL_19085086f67d4051882eb48f1a6ef28c",
            "_model_module": "@jupyter-widgets/controls",
            "children": [
              "IPY_MODEL_0b9a7028150945d2a8876de4fae710d9",
              "IPY_MODEL_7f1bd3288fe3473d8a82bd2f93318bd2"
            ]
          }
        },
        "19085086f67d4051882eb48f1a6ef28c": {
          "model_module": "@jupyter-widgets/base",
          "model_name": "LayoutModel",
          "model_module_version": "1.2.0",
          "state": {
            "_view_name": "LayoutView",
            "grid_template_rows": null,
            "right": null,
            "justify_content": null,
            "_view_module": "@jupyter-widgets/base",
            "overflow": null,
            "_model_module_version": "1.2.0",
            "_view_count": null,
            "flex_flow": null,
            "width": null,
            "min_width": null,
            "border": null,
            "align_items": null,
            "bottom": null,
            "_model_module": "@jupyter-widgets/base",
            "top": null,
            "grid_column": null,
            "overflow_y": null,
            "overflow_x": null,
            "grid_auto_flow": null,
            "grid_area": null,
            "grid_template_columns": null,
            "flex": null,
            "_model_name": "LayoutModel",
            "justify_items": null,
            "grid_row": null,
            "max_height": null,
            "align_content": null,
            "visibility": null,
            "align_self": null,
            "height": null,
            "min_height": null,
            "padding": null,
            "grid_auto_rows": null,
            "grid_gap": null,
            "max_width": null,
            "order": null,
            "_view_module_version": "1.2.0",
            "grid_template_areas": null,
            "object_position": null,
            "object_fit": null,
            "grid_auto_columns": null,
            "margin": null,
            "display": null,
            "left": null
          }
        },
        "0b9a7028150945d2a8876de4fae710d9": {
          "model_module": "@jupyter-widgets/controls",
          "model_name": "LabelModel",
          "model_module_version": "1.5.0",
          "state": {
            "_view_name": "LabelView",
            "style": "IPY_MODEL_b286e31ab06a415eaed5c4c6bc39563c",
            "_dom_classes": [],
            "description": "",
            "_model_name": "LabelModel",
            "placeholder": "​",
            "_view_module": "@jupyter-widgets/controls",
            "_model_module_version": "1.5.0",
            "value": " 0.03MB of 0.03MB uploaded (0.00MB deduped)\r",
            "_view_count": null,
            "_view_module_version": "1.5.0",
            "description_tooltip": null,
            "_model_module": "@jupyter-widgets/controls",
            "layout": "IPY_MODEL_d3e29d9addf14c7e88e22f1ec41e9289"
          }
        },
        "7f1bd3288fe3473d8a82bd2f93318bd2": {
          "model_module": "@jupyter-widgets/controls",
          "model_name": "FloatProgressModel",
          "model_module_version": "1.5.0",
          "state": {
            "_view_name": "ProgressView",
            "style": "IPY_MODEL_7e708fa261154e3da864dfe229a68ed1",
            "_dom_classes": [],
            "description": "",
            "_model_name": "FloatProgressModel",
            "bar_style": "",
            "max": 1,
            "_view_module": "@jupyter-widgets/controls",
            "_model_module_version": "1.5.0",
            "value": 1,
            "_view_count": null,
            "_view_module_version": "1.5.0",
            "orientation": "horizontal",
            "min": 0,
            "description_tooltip": null,
            "_model_module": "@jupyter-widgets/controls",
            "layout": "IPY_MODEL_aab76bdd5b92402baf39a4cdc4b7152f"
          }
        },
        "b286e31ab06a415eaed5c4c6bc39563c": {
          "model_module": "@jupyter-widgets/controls",
          "model_name": "DescriptionStyleModel",
          "model_module_version": "1.5.0",
          "state": {
            "_view_name": "StyleView",
            "_model_name": "DescriptionStyleModel",
            "description_width": "",
            "_view_module": "@jupyter-widgets/base",
            "_model_module_version": "1.5.0",
            "_view_count": null,
            "_view_module_version": "1.2.0",
            "_model_module": "@jupyter-widgets/controls"
          }
        },
        "d3e29d9addf14c7e88e22f1ec41e9289": {
          "model_module": "@jupyter-widgets/base",
          "model_name": "LayoutModel",
          "model_module_version": "1.2.0",
          "state": {
            "_view_name": "LayoutView",
            "grid_template_rows": null,
            "right": null,
            "justify_content": null,
            "_view_module": "@jupyter-widgets/base",
            "overflow": null,
            "_model_module_version": "1.2.0",
            "_view_count": null,
            "flex_flow": null,
            "width": null,
            "min_width": null,
            "border": null,
            "align_items": null,
            "bottom": null,
            "_model_module": "@jupyter-widgets/base",
            "top": null,
            "grid_column": null,
            "overflow_y": null,
            "overflow_x": null,
            "grid_auto_flow": null,
            "grid_area": null,
            "grid_template_columns": null,
            "flex": null,
            "_model_name": "LayoutModel",
            "justify_items": null,
            "grid_row": null,
            "max_height": null,
            "align_content": null,
            "visibility": null,
            "align_self": null,
            "height": null,
            "min_height": null,
            "padding": null,
            "grid_auto_rows": null,
            "grid_gap": null,
            "max_width": null,
            "order": null,
            "_view_module_version": "1.2.0",
            "grid_template_areas": null,
            "object_position": null,
            "object_fit": null,
            "grid_auto_columns": null,
            "margin": null,
            "display": null,
            "left": null
          }
        },
        "7e708fa261154e3da864dfe229a68ed1": {
          "model_module": "@jupyter-widgets/controls",
          "model_name": "ProgressStyleModel",
          "model_module_version": "1.5.0",
          "state": {
            "_view_name": "StyleView",
            "_model_name": "ProgressStyleModel",
            "description_width": "",
            "_view_module": "@jupyter-widgets/base",
            "_model_module_version": "1.5.0",
            "_view_count": null,
            "_view_module_version": "1.2.0",
            "bar_color": null,
            "_model_module": "@jupyter-widgets/controls"
          }
        },
        "aab76bdd5b92402baf39a4cdc4b7152f": {
          "model_module": "@jupyter-widgets/base",
          "model_name": "LayoutModel",
          "model_module_version": "1.2.0",
          "state": {
            "_view_name": "LayoutView",
            "grid_template_rows": null,
            "right": null,
            "justify_content": null,
            "_view_module": "@jupyter-widgets/base",
            "overflow": null,
            "_model_module_version": "1.2.0",
            "_view_count": null,
            "flex_flow": null,
            "width": null,
            "min_width": null,
            "border": null,
            "align_items": null,
            "bottom": null,
            "_model_module": "@jupyter-widgets/base",
            "top": null,
            "grid_column": null,
            "overflow_y": null,
            "overflow_x": null,
            "grid_auto_flow": null,
            "grid_area": null,
            "grid_template_columns": null,
            "flex": null,
            "_model_name": "LayoutModel",
            "justify_items": null,
            "grid_row": null,
            "max_height": null,
            "align_content": null,
            "visibility": null,
            "align_self": null,
            "height": null,
            "min_height": null,
            "padding": null,
            "grid_auto_rows": null,
            "grid_gap": null,
            "max_width": null,
            "order": null,
            "_view_module_version": "1.2.0",
            "grid_template_areas": null,
            "object_position": null,
            "object_fit": null,
            "grid_auto_columns": null,
            "margin": null,
            "display": null,
            "left": null
          }
        },
        "5995cf861e94465499eb6fb2e1f90ba7": {
          "model_module": "@jupyter-widgets/controls",
          "model_name": "VBoxModel",
          "model_module_version": "1.5.0",
          "state": {
            "_view_name": "VBoxView",
            "_dom_classes": [],
            "_model_name": "VBoxModel",
            "_view_module": "@jupyter-widgets/controls",
            "_model_module_version": "1.5.0",
            "_view_count": null,
            "_view_module_version": "1.5.0",
            "box_style": "",
            "layout": "IPY_MODEL_f10f46b988a544539d982927da43820e",
            "_model_module": "@jupyter-widgets/controls",
            "children": [
              "IPY_MODEL_768acb20e96141978b8983fd39dcdb73",
              "IPY_MODEL_53f93b2382f04cf6975c903b0e4bc5bb"
            ]
          }
        },
        "f10f46b988a544539d982927da43820e": {
          "model_module": "@jupyter-widgets/base",
          "model_name": "LayoutModel",
          "model_module_version": "1.2.0",
          "state": {
            "_view_name": "LayoutView",
            "grid_template_rows": null,
            "right": null,
            "justify_content": null,
            "_view_module": "@jupyter-widgets/base",
            "overflow": null,
            "_model_module_version": "1.2.0",
            "_view_count": null,
            "flex_flow": null,
            "width": null,
            "min_width": null,
            "border": null,
            "align_items": null,
            "bottom": null,
            "_model_module": "@jupyter-widgets/base",
            "top": null,
            "grid_column": null,
            "overflow_y": null,
            "overflow_x": null,
            "grid_auto_flow": null,
            "grid_area": null,
            "grid_template_columns": null,
            "flex": null,
            "_model_name": "LayoutModel",
            "justify_items": null,
            "grid_row": null,
            "max_height": null,
            "align_content": null,
            "visibility": null,
            "align_self": null,
            "height": null,
            "min_height": null,
            "padding": null,
            "grid_auto_rows": null,
            "grid_gap": null,
            "max_width": null,
            "order": null,
            "_view_module_version": "1.2.0",
            "grid_template_areas": null,
            "object_position": null,
            "object_fit": null,
            "grid_auto_columns": null,
            "margin": null,
            "display": null,
            "left": null
          }
        },
        "768acb20e96141978b8983fd39dcdb73": {
          "model_module": "@jupyter-widgets/controls",
          "model_name": "LabelModel",
          "model_module_version": "1.5.0",
          "state": {
            "_view_name": "LabelView",
            "style": "IPY_MODEL_20249486bcfa434ca760f94797e793a6",
            "_dom_classes": [],
            "description": "",
            "_model_name": "LabelModel",
            "placeholder": "​",
            "_view_module": "@jupyter-widgets/controls",
            "_model_module_version": "1.5.0",
            "value": " 0.03MB of 0.03MB uploaded (0.00MB deduped)\r",
            "_view_count": null,
            "_view_module_version": "1.5.0",
            "description_tooltip": null,
            "_model_module": "@jupyter-widgets/controls",
            "layout": "IPY_MODEL_f435b9cccf5340cf9426ac35eddcffaf"
          }
        },
        "53f93b2382f04cf6975c903b0e4bc5bb": {
          "model_module": "@jupyter-widgets/controls",
          "model_name": "FloatProgressModel",
          "model_module_version": "1.5.0",
          "state": {
            "_view_name": "ProgressView",
            "style": "IPY_MODEL_bed2332cf1fa4a7a93d051b148642e85",
            "_dom_classes": [],
            "description": "",
            "_model_name": "FloatProgressModel",
            "bar_style": "",
            "max": 1,
            "_view_module": "@jupyter-widgets/controls",
            "_model_module_version": "1.5.0",
            "value": 1,
            "_view_count": null,
            "_view_module_version": "1.5.0",
            "orientation": "horizontal",
            "min": 0,
            "description_tooltip": null,
            "_model_module": "@jupyter-widgets/controls",
            "layout": "IPY_MODEL_59e37816251842ada8841965b93963cd"
          }
        },
        "20249486bcfa434ca760f94797e793a6": {
          "model_module": "@jupyter-widgets/controls",
          "model_name": "DescriptionStyleModel",
          "model_module_version": "1.5.0",
          "state": {
            "_view_name": "StyleView",
            "_model_name": "DescriptionStyleModel",
            "description_width": "",
            "_view_module": "@jupyter-widgets/base",
            "_model_module_version": "1.5.0",
            "_view_count": null,
            "_view_module_version": "1.2.0",
            "_model_module": "@jupyter-widgets/controls"
          }
        },
        "f435b9cccf5340cf9426ac35eddcffaf": {
          "model_module": "@jupyter-widgets/base",
          "model_name": "LayoutModel",
          "model_module_version": "1.2.0",
          "state": {
            "_view_name": "LayoutView",
            "grid_template_rows": null,
            "right": null,
            "justify_content": null,
            "_view_module": "@jupyter-widgets/base",
            "overflow": null,
            "_model_module_version": "1.2.0",
            "_view_count": null,
            "flex_flow": null,
            "width": null,
            "min_width": null,
            "border": null,
            "align_items": null,
            "bottom": null,
            "_model_module": "@jupyter-widgets/base",
            "top": null,
            "grid_column": null,
            "overflow_y": null,
            "overflow_x": null,
            "grid_auto_flow": null,
            "grid_area": null,
            "grid_template_columns": null,
            "flex": null,
            "_model_name": "LayoutModel",
            "justify_items": null,
            "grid_row": null,
            "max_height": null,
            "align_content": null,
            "visibility": null,
            "align_self": null,
            "height": null,
            "min_height": null,
            "padding": null,
            "grid_auto_rows": null,
            "grid_gap": null,
            "max_width": null,
            "order": null,
            "_view_module_version": "1.2.0",
            "grid_template_areas": null,
            "object_position": null,
            "object_fit": null,
            "grid_auto_columns": null,
            "margin": null,
            "display": null,
            "left": null
          }
        },
        "bed2332cf1fa4a7a93d051b148642e85": {
          "model_module": "@jupyter-widgets/controls",
          "model_name": "ProgressStyleModel",
          "model_module_version": "1.5.0",
          "state": {
            "_view_name": "StyleView",
            "_model_name": "ProgressStyleModel",
            "description_width": "",
            "_view_module": "@jupyter-widgets/base",
            "_model_module_version": "1.5.0",
            "_view_count": null,
            "_view_module_version": "1.2.0",
            "bar_color": null,
            "_model_module": "@jupyter-widgets/controls"
          }
        },
        "59e37816251842ada8841965b93963cd": {
          "model_module": "@jupyter-widgets/base",
          "model_name": "LayoutModel",
          "model_module_version": "1.2.0",
          "state": {
            "_view_name": "LayoutView",
            "grid_template_rows": null,
            "right": null,
            "justify_content": null,
            "_view_module": "@jupyter-widgets/base",
            "overflow": null,
            "_model_module_version": "1.2.0",
            "_view_count": null,
            "flex_flow": null,
            "width": null,
            "min_width": null,
            "border": null,
            "align_items": null,
            "bottom": null,
            "_model_module": "@jupyter-widgets/base",
            "top": null,
            "grid_column": null,
            "overflow_y": null,
            "overflow_x": null,
            "grid_auto_flow": null,
            "grid_area": null,
            "grid_template_columns": null,
            "flex": null,
            "_model_name": "LayoutModel",
            "justify_items": null,
            "grid_row": null,
            "max_height": null,
            "align_content": null,
            "visibility": null,
            "align_self": null,
            "height": null,
            "min_height": null,
            "padding": null,
            "grid_auto_rows": null,
            "grid_gap": null,
            "max_width": null,
            "order": null,
            "_view_module_version": "1.2.0",
            "grid_template_areas": null,
            "object_position": null,
            "object_fit": null,
            "grid_auto_columns": null,
            "margin": null,
            "display": null,
            "left": null
          }
        },
        "c905a10694f54e87aa107aa109cce5a7": {
          "model_module": "@jupyter-widgets/controls",
          "model_name": "VBoxModel",
          "model_module_version": "1.5.0",
          "state": {
            "_view_name": "VBoxView",
            "_dom_classes": [],
            "_model_name": "VBoxModel",
            "_view_module": "@jupyter-widgets/controls",
            "_model_module_version": "1.5.0",
            "_view_count": null,
            "_view_module_version": "1.5.0",
            "box_style": "",
            "layout": "IPY_MODEL_2a76300102d64390b1b2eccb582b3290",
            "_model_module": "@jupyter-widgets/controls",
            "children": [
              "IPY_MODEL_0f2bc81d88c64513b350a3fa3b294b65",
              "IPY_MODEL_65576f69fea24bca87478570da298840"
            ]
          }
        },
        "2a76300102d64390b1b2eccb582b3290": {
          "model_module": "@jupyter-widgets/base",
          "model_name": "LayoutModel",
          "model_module_version": "1.2.0",
          "state": {
            "_view_name": "LayoutView",
            "grid_template_rows": null,
            "right": null,
            "justify_content": null,
            "_view_module": "@jupyter-widgets/base",
            "overflow": null,
            "_model_module_version": "1.2.0",
            "_view_count": null,
            "flex_flow": null,
            "width": null,
            "min_width": null,
            "border": null,
            "align_items": null,
            "bottom": null,
            "_model_module": "@jupyter-widgets/base",
            "top": null,
            "grid_column": null,
            "overflow_y": null,
            "overflow_x": null,
            "grid_auto_flow": null,
            "grid_area": null,
            "grid_template_columns": null,
            "flex": null,
            "_model_name": "LayoutModel",
            "justify_items": null,
            "grid_row": null,
            "max_height": null,
            "align_content": null,
            "visibility": null,
            "align_self": null,
            "height": null,
            "min_height": null,
            "padding": null,
            "grid_auto_rows": null,
            "grid_gap": null,
            "max_width": null,
            "order": null,
            "_view_module_version": "1.2.0",
            "grid_template_areas": null,
            "object_position": null,
            "object_fit": null,
            "grid_auto_columns": null,
            "margin": null,
            "display": null,
            "left": null
          }
        },
        "0f2bc81d88c64513b350a3fa3b294b65": {
          "model_module": "@jupyter-widgets/controls",
          "model_name": "LabelModel",
          "model_module_version": "1.5.0",
          "state": {
            "_view_name": "LabelView",
            "style": "IPY_MODEL_0678ad2c27554158bbfa3b61783ab42e",
            "_dom_classes": [],
            "description": "",
            "_model_name": "LabelModel",
            "placeholder": "​",
            "_view_module": "@jupyter-widgets/controls",
            "_model_module_version": "1.5.0",
            "value": " 0.03MB of 0.03MB uploaded (0.00MB deduped)\r",
            "_view_count": null,
            "_view_module_version": "1.5.0",
            "description_tooltip": null,
            "_model_module": "@jupyter-widgets/controls",
            "layout": "IPY_MODEL_4486e47d634f46b69a92a5d0c50bce26"
          }
        },
        "65576f69fea24bca87478570da298840": {
          "model_module": "@jupyter-widgets/controls",
          "model_name": "FloatProgressModel",
          "model_module_version": "1.5.0",
          "state": {
            "_view_name": "ProgressView",
            "style": "IPY_MODEL_765de16ede3f4b1da8e214c90e76c12d",
            "_dom_classes": [],
            "description": "",
            "_model_name": "FloatProgressModel",
            "bar_style": "",
            "max": 1,
            "_view_module": "@jupyter-widgets/controls",
            "_model_module_version": "1.5.0",
            "value": 1,
            "_view_count": null,
            "_view_module_version": "1.5.0",
            "orientation": "horizontal",
            "min": 0,
            "description_tooltip": null,
            "_model_module": "@jupyter-widgets/controls",
            "layout": "IPY_MODEL_c2b2792d693d44ca9f51e275a6468b19"
          }
        },
        "0678ad2c27554158bbfa3b61783ab42e": {
          "model_module": "@jupyter-widgets/controls",
          "model_name": "DescriptionStyleModel",
          "model_module_version": "1.5.0",
          "state": {
            "_view_name": "StyleView",
            "_model_name": "DescriptionStyleModel",
            "description_width": "",
            "_view_module": "@jupyter-widgets/base",
            "_model_module_version": "1.5.0",
            "_view_count": null,
            "_view_module_version": "1.2.0",
            "_model_module": "@jupyter-widgets/controls"
          }
        },
        "4486e47d634f46b69a92a5d0c50bce26": {
          "model_module": "@jupyter-widgets/base",
          "model_name": "LayoutModel",
          "model_module_version": "1.2.0",
          "state": {
            "_view_name": "LayoutView",
            "grid_template_rows": null,
            "right": null,
            "justify_content": null,
            "_view_module": "@jupyter-widgets/base",
            "overflow": null,
            "_model_module_version": "1.2.0",
            "_view_count": null,
            "flex_flow": null,
            "width": null,
            "min_width": null,
            "border": null,
            "align_items": null,
            "bottom": null,
            "_model_module": "@jupyter-widgets/base",
            "top": null,
            "grid_column": null,
            "overflow_y": null,
            "overflow_x": null,
            "grid_auto_flow": null,
            "grid_area": null,
            "grid_template_columns": null,
            "flex": null,
            "_model_name": "LayoutModel",
            "justify_items": null,
            "grid_row": null,
            "max_height": null,
            "align_content": null,
            "visibility": null,
            "align_self": null,
            "height": null,
            "min_height": null,
            "padding": null,
            "grid_auto_rows": null,
            "grid_gap": null,
            "max_width": null,
            "order": null,
            "_view_module_version": "1.2.0",
            "grid_template_areas": null,
            "object_position": null,
            "object_fit": null,
            "grid_auto_columns": null,
            "margin": null,
            "display": null,
            "left": null
          }
        },
        "765de16ede3f4b1da8e214c90e76c12d": {
          "model_module": "@jupyter-widgets/controls",
          "model_name": "ProgressStyleModel",
          "model_module_version": "1.5.0",
          "state": {
            "_view_name": "StyleView",
            "_model_name": "ProgressStyleModel",
            "description_width": "",
            "_view_module": "@jupyter-widgets/base",
            "_model_module_version": "1.5.0",
            "_view_count": null,
            "_view_module_version": "1.2.0",
            "bar_color": null,
            "_model_module": "@jupyter-widgets/controls"
          }
        },
        "c2b2792d693d44ca9f51e275a6468b19": {
          "model_module": "@jupyter-widgets/base",
          "model_name": "LayoutModel",
          "model_module_version": "1.2.0",
          "state": {
            "_view_name": "LayoutView",
            "grid_template_rows": null,
            "right": null,
            "justify_content": null,
            "_view_module": "@jupyter-widgets/base",
            "overflow": null,
            "_model_module_version": "1.2.0",
            "_view_count": null,
            "flex_flow": null,
            "width": null,
            "min_width": null,
            "border": null,
            "align_items": null,
            "bottom": null,
            "_model_module": "@jupyter-widgets/base",
            "top": null,
            "grid_column": null,
            "overflow_y": null,
            "overflow_x": null,
            "grid_auto_flow": null,
            "grid_area": null,
            "grid_template_columns": null,
            "flex": null,
            "_model_name": "LayoutModel",
            "justify_items": null,
            "grid_row": null,
            "max_height": null,
            "align_content": null,
            "visibility": null,
            "align_self": null,
            "height": null,
            "min_height": null,
            "padding": null,
            "grid_auto_rows": null,
            "grid_gap": null,
            "max_width": null,
            "order": null,
            "_view_module_version": "1.2.0",
            "grid_template_areas": null,
            "object_position": null,
            "object_fit": null,
            "grid_auto_columns": null,
            "margin": null,
            "display": null,
            "left": null
          }
        },
        "2fbcd7c9882444dea4c5cff264ac8d2b": {
          "model_module": "@jupyter-widgets/controls",
          "model_name": "VBoxModel",
          "model_module_version": "1.5.0",
          "state": {
            "_view_name": "VBoxView",
            "_dom_classes": [],
            "_model_name": "VBoxModel",
            "_view_module": "@jupyter-widgets/controls",
            "_model_module_version": "1.5.0",
            "_view_count": null,
            "_view_module_version": "1.5.0",
            "box_style": "",
            "layout": "IPY_MODEL_55018d63f4cb4793899e44f83a72cecd",
            "_model_module": "@jupyter-widgets/controls",
            "children": [
              "IPY_MODEL_dbf4c1becf4241348929ac1a7d221362",
              "IPY_MODEL_b514be2c8dc343de92c15ee9f5e845ab"
            ]
          }
        },
        "55018d63f4cb4793899e44f83a72cecd": {
          "model_module": "@jupyter-widgets/base",
          "model_name": "LayoutModel",
          "model_module_version": "1.2.0",
          "state": {
            "_view_name": "LayoutView",
            "grid_template_rows": null,
            "right": null,
            "justify_content": null,
            "_view_module": "@jupyter-widgets/base",
            "overflow": null,
            "_model_module_version": "1.2.0",
            "_view_count": null,
            "flex_flow": null,
            "width": null,
            "min_width": null,
            "border": null,
            "align_items": null,
            "bottom": null,
            "_model_module": "@jupyter-widgets/base",
            "top": null,
            "grid_column": null,
            "overflow_y": null,
            "overflow_x": null,
            "grid_auto_flow": null,
            "grid_area": null,
            "grid_template_columns": null,
            "flex": null,
            "_model_name": "LayoutModel",
            "justify_items": null,
            "grid_row": null,
            "max_height": null,
            "align_content": null,
            "visibility": null,
            "align_self": null,
            "height": null,
            "min_height": null,
            "padding": null,
            "grid_auto_rows": null,
            "grid_gap": null,
            "max_width": null,
            "order": null,
            "_view_module_version": "1.2.0",
            "grid_template_areas": null,
            "object_position": null,
            "object_fit": null,
            "grid_auto_columns": null,
            "margin": null,
            "display": null,
            "left": null
          }
        },
        "dbf4c1becf4241348929ac1a7d221362": {
          "model_module": "@jupyter-widgets/controls",
          "model_name": "LabelModel",
          "model_module_version": "1.5.0",
          "state": {
            "_view_name": "LabelView",
            "style": "IPY_MODEL_a908c500cf16443da50ca9ec2fb47e0f",
            "_dom_classes": [],
            "description": "",
            "_model_name": "LabelModel",
            "placeholder": "​",
            "_view_module": "@jupyter-widgets/controls",
            "_model_module_version": "1.5.0",
            "value": " 0.03MB of 0.03MB uploaded (0.00MB deduped)\r",
            "_view_count": null,
            "_view_module_version": "1.5.0",
            "description_tooltip": null,
            "_model_module": "@jupyter-widgets/controls",
            "layout": "IPY_MODEL_a4f0302b39384866af6e461b531ba1ba"
          }
        },
        "b514be2c8dc343de92c15ee9f5e845ab": {
          "model_module": "@jupyter-widgets/controls",
          "model_name": "FloatProgressModel",
          "model_module_version": "1.5.0",
          "state": {
            "_view_name": "ProgressView",
            "style": "IPY_MODEL_cf971166455847ddb1279d018e5ff198",
            "_dom_classes": [],
            "description": "",
            "_model_name": "FloatProgressModel",
            "bar_style": "",
            "max": 1,
            "_view_module": "@jupyter-widgets/controls",
            "_model_module_version": "1.5.0",
            "value": 1,
            "_view_count": null,
            "_view_module_version": "1.5.0",
            "orientation": "horizontal",
            "min": 0,
            "description_tooltip": null,
            "_model_module": "@jupyter-widgets/controls",
            "layout": "IPY_MODEL_f25af92031cc4607a3a7b89f3addf587"
          }
        },
        "a908c500cf16443da50ca9ec2fb47e0f": {
          "model_module": "@jupyter-widgets/controls",
          "model_name": "DescriptionStyleModel",
          "model_module_version": "1.5.0",
          "state": {
            "_view_name": "StyleView",
            "_model_name": "DescriptionStyleModel",
            "description_width": "",
            "_view_module": "@jupyter-widgets/base",
            "_model_module_version": "1.5.0",
            "_view_count": null,
            "_view_module_version": "1.2.0",
            "_model_module": "@jupyter-widgets/controls"
          }
        },
        "a4f0302b39384866af6e461b531ba1ba": {
          "model_module": "@jupyter-widgets/base",
          "model_name": "LayoutModel",
          "model_module_version": "1.2.0",
          "state": {
            "_view_name": "LayoutView",
            "grid_template_rows": null,
            "right": null,
            "justify_content": null,
            "_view_module": "@jupyter-widgets/base",
            "overflow": null,
            "_model_module_version": "1.2.0",
            "_view_count": null,
            "flex_flow": null,
            "width": null,
            "min_width": null,
            "border": null,
            "align_items": null,
            "bottom": null,
            "_model_module": "@jupyter-widgets/base",
            "top": null,
            "grid_column": null,
            "overflow_y": null,
            "overflow_x": null,
            "grid_auto_flow": null,
            "grid_area": null,
            "grid_template_columns": null,
            "flex": null,
            "_model_name": "LayoutModel",
            "justify_items": null,
            "grid_row": null,
            "max_height": null,
            "align_content": null,
            "visibility": null,
            "align_self": null,
            "height": null,
            "min_height": null,
            "padding": null,
            "grid_auto_rows": null,
            "grid_gap": null,
            "max_width": null,
            "order": null,
            "_view_module_version": "1.2.0",
            "grid_template_areas": null,
            "object_position": null,
            "object_fit": null,
            "grid_auto_columns": null,
            "margin": null,
            "display": null,
            "left": null
          }
        },
        "cf971166455847ddb1279d018e5ff198": {
          "model_module": "@jupyter-widgets/controls",
          "model_name": "ProgressStyleModel",
          "model_module_version": "1.5.0",
          "state": {
            "_view_name": "StyleView",
            "_model_name": "ProgressStyleModel",
            "description_width": "",
            "_view_module": "@jupyter-widgets/base",
            "_model_module_version": "1.5.0",
            "_view_count": null,
            "_view_module_version": "1.2.0",
            "bar_color": null,
            "_model_module": "@jupyter-widgets/controls"
          }
        },
        "f25af92031cc4607a3a7b89f3addf587": {
          "model_module": "@jupyter-widgets/base",
          "model_name": "LayoutModel",
          "model_module_version": "1.2.0",
          "state": {
            "_view_name": "LayoutView",
            "grid_template_rows": null,
            "right": null,
            "justify_content": null,
            "_view_module": "@jupyter-widgets/base",
            "overflow": null,
            "_model_module_version": "1.2.0",
            "_view_count": null,
            "flex_flow": null,
            "width": null,
            "min_width": null,
            "border": null,
            "align_items": null,
            "bottom": null,
            "_model_module": "@jupyter-widgets/base",
            "top": null,
            "grid_column": null,
            "overflow_y": null,
            "overflow_x": null,
            "grid_auto_flow": null,
            "grid_area": null,
            "grid_template_columns": null,
            "flex": null,
            "_model_name": "LayoutModel",
            "justify_items": null,
            "grid_row": null,
            "max_height": null,
            "align_content": null,
            "visibility": null,
            "align_self": null,
            "height": null,
            "min_height": null,
            "padding": null,
            "grid_auto_rows": null,
            "grid_gap": null,
            "max_width": null,
            "order": null,
            "_view_module_version": "1.2.0",
            "grid_template_areas": null,
            "object_position": null,
            "object_fit": null,
            "grid_auto_columns": null,
            "margin": null,
            "display": null,
            "left": null
          }
        },
        "674e26a2ad604596856d39b1b0fde75a": {
          "model_module": "@jupyter-widgets/controls",
          "model_name": "VBoxModel",
          "model_module_version": "1.5.0",
          "state": {
            "_view_name": "VBoxView",
            "_dom_classes": [],
            "_model_name": "VBoxModel",
            "_view_module": "@jupyter-widgets/controls",
            "_model_module_version": "1.5.0",
            "_view_count": null,
            "_view_module_version": "1.5.0",
            "box_style": "",
            "layout": "IPY_MODEL_25a9d65107ff45178b5c1a2580523e32",
            "_model_module": "@jupyter-widgets/controls",
            "children": [
              "IPY_MODEL_35664f13c9b940478205e6018850f03e",
              "IPY_MODEL_6dc422fdf33e44b6938955e8b53fed2c"
            ]
          }
        },
        "25a9d65107ff45178b5c1a2580523e32": {
          "model_module": "@jupyter-widgets/base",
          "model_name": "LayoutModel",
          "model_module_version": "1.2.0",
          "state": {
            "_view_name": "LayoutView",
            "grid_template_rows": null,
            "right": null,
            "justify_content": null,
            "_view_module": "@jupyter-widgets/base",
            "overflow": null,
            "_model_module_version": "1.2.0",
            "_view_count": null,
            "flex_flow": null,
            "width": null,
            "min_width": null,
            "border": null,
            "align_items": null,
            "bottom": null,
            "_model_module": "@jupyter-widgets/base",
            "top": null,
            "grid_column": null,
            "overflow_y": null,
            "overflow_x": null,
            "grid_auto_flow": null,
            "grid_area": null,
            "grid_template_columns": null,
            "flex": null,
            "_model_name": "LayoutModel",
            "justify_items": null,
            "grid_row": null,
            "max_height": null,
            "align_content": null,
            "visibility": null,
            "align_self": null,
            "height": null,
            "min_height": null,
            "padding": null,
            "grid_auto_rows": null,
            "grid_gap": null,
            "max_width": null,
            "order": null,
            "_view_module_version": "1.2.0",
            "grid_template_areas": null,
            "object_position": null,
            "object_fit": null,
            "grid_auto_columns": null,
            "margin": null,
            "display": null,
            "left": null
          }
        },
        "35664f13c9b940478205e6018850f03e": {
          "model_module": "@jupyter-widgets/controls",
          "model_name": "LabelModel",
          "model_module_version": "1.5.0",
          "state": {
            "_view_name": "LabelView",
            "style": "IPY_MODEL_dde6c37da7d045ca822b0aa85d3018c4",
            "_dom_classes": [],
            "description": "",
            "_model_name": "LabelModel",
            "placeholder": "​",
            "_view_module": "@jupyter-widgets/controls",
            "_model_module_version": "1.5.0",
            "value": " 0.01MB of 0.01MB uploaded (0.00MB deduped)\r",
            "_view_count": null,
            "_view_module_version": "1.5.0",
            "description_tooltip": null,
            "_model_module": "@jupyter-widgets/controls",
            "layout": "IPY_MODEL_ec9a49f7e22648e7afbc189cfc31a475"
          }
        },
        "6dc422fdf33e44b6938955e8b53fed2c": {
          "model_module": "@jupyter-widgets/controls",
          "model_name": "FloatProgressModel",
          "model_module_version": "1.5.0",
          "state": {
            "_view_name": "ProgressView",
            "style": "IPY_MODEL_3183ede58bd449e5b9b977d5d4dce2a9",
            "_dom_classes": [],
            "description": "",
            "_model_name": "FloatProgressModel",
            "bar_style": "",
            "max": 1,
            "_view_module": "@jupyter-widgets/controls",
            "_model_module_version": "1.5.0",
            "value": 1,
            "_view_count": null,
            "_view_module_version": "1.5.0",
            "orientation": "horizontal",
            "min": 0,
            "description_tooltip": null,
            "_model_module": "@jupyter-widgets/controls",
            "layout": "IPY_MODEL_ba3b69fb26c24352b68b9e190ae3f17d"
          }
        },
        "dde6c37da7d045ca822b0aa85d3018c4": {
          "model_module": "@jupyter-widgets/controls",
          "model_name": "DescriptionStyleModel",
          "model_module_version": "1.5.0",
          "state": {
            "_view_name": "StyleView",
            "_model_name": "DescriptionStyleModel",
            "description_width": "",
            "_view_module": "@jupyter-widgets/base",
            "_model_module_version": "1.5.0",
            "_view_count": null,
            "_view_module_version": "1.2.0",
            "_model_module": "@jupyter-widgets/controls"
          }
        },
        "ec9a49f7e22648e7afbc189cfc31a475": {
          "model_module": "@jupyter-widgets/base",
          "model_name": "LayoutModel",
          "model_module_version": "1.2.0",
          "state": {
            "_view_name": "LayoutView",
            "grid_template_rows": null,
            "right": null,
            "justify_content": null,
            "_view_module": "@jupyter-widgets/base",
            "overflow": null,
            "_model_module_version": "1.2.0",
            "_view_count": null,
            "flex_flow": null,
            "width": null,
            "min_width": null,
            "border": null,
            "align_items": null,
            "bottom": null,
            "_model_module": "@jupyter-widgets/base",
            "top": null,
            "grid_column": null,
            "overflow_y": null,
            "overflow_x": null,
            "grid_auto_flow": null,
            "grid_area": null,
            "grid_template_columns": null,
            "flex": null,
            "_model_name": "LayoutModel",
            "justify_items": null,
            "grid_row": null,
            "max_height": null,
            "align_content": null,
            "visibility": null,
            "align_self": null,
            "height": null,
            "min_height": null,
            "padding": null,
            "grid_auto_rows": null,
            "grid_gap": null,
            "max_width": null,
            "order": null,
            "_view_module_version": "1.2.0",
            "grid_template_areas": null,
            "object_position": null,
            "object_fit": null,
            "grid_auto_columns": null,
            "margin": null,
            "display": null,
            "left": null
          }
        },
        "3183ede58bd449e5b9b977d5d4dce2a9": {
          "model_module": "@jupyter-widgets/controls",
          "model_name": "ProgressStyleModel",
          "model_module_version": "1.5.0",
          "state": {
            "_view_name": "StyleView",
            "_model_name": "ProgressStyleModel",
            "description_width": "",
            "_view_module": "@jupyter-widgets/base",
            "_model_module_version": "1.5.0",
            "_view_count": null,
            "_view_module_version": "1.2.0",
            "bar_color": null,
            "_model_module": "@jupyter-widgets/controls"
          }
        },
        "ba3b69fb26c24352b68b9e190ae3f17d": {
          "model_module": "@jupyter-widgets/base",
          "model_name": "LayoutModel",
          "model_module_version": "1.2.0",
          "state": {
            "_view_name": "LayoutView",
            "grid_template_rows": null,
            "right": null,
            "justify_content": null,
            "_view_module": "@jupyter-widgets/base",
            "overflow": null,
            "_model_module_version": "1.2.0",
            "_view_count": null,
            "flex_flow": null,
            "width": null,
            "min_width": null,
            "border": null,
            "align_items": null,
            "bottom": null,
            "_model_module": "@jupyter-widgets/base",
            "top": null,
            "grid_column": null,
            "overflow_y": null,
            "overflow_x": null,
            "grid_auto_flow": null,
            "grid_area": null,
            "grid_template_columns": null,
            "flex": null,
            "_model_name": "LayoutModel",
            "justify_items": null,
            "grid_row": null,
            "max_height": null,
            "align_content": null,
            "visibility": null,
            "align_self": null,
            "height": null,
            "min_height": null,
            "padding": null,
            "grid_auto_rows": null,
            "grid_gap": null,
            "max_width": null,
            "order": null,
            "_view_module_version": "1.2.0",
            "grid_template_areas": null,
            "object_position": null,
            "object_fit": null,
            "grid_auto_columns": null,
            "margin": null,
            "display": null,
            "left": null
          }
        },
        "4326d2d6f6934a9ab8a3d386c5243e41": {
          "model_module": "@jupyter-widgets/controls",
          "model_name": "VBoxModel",
          "model_module_version": "1.5.0",
          "state": {
            "_view_name": "VBoxView",
            "_dom_classes": [],
            "_model_name": "VBoxModel",
            "_view_module": "@jupyter-widgets/controls",
            "_model_module_version": "1.5.0",
            "_view_count": null,
            "_view_module_version": "1.5.0",
            "box_style": "",
            "layout": "IPY_MODEL_2b33991cca1543dda4e9fdfc7ea1f963",
            "_model_module": "@jupyter-widgets/controls",
            "children": [
              "IPY_MODEL_be7c7cdd05ea407abbeffc40967d1a14",
              "IPY_MODEL_c0239357f39b4cd6a074f048ce18cac5"
            ]
          }
        },
        "2b33991cca1543dda4e9fdfc7ea1f963": {
          "model_module": "@jupyter-widgets/base",
          "model_name": "LayoutModel",
          "model_module_version": "1.2.0",
          "state": {
            "_view_name": "LayoutView",
            "grid_template_rows": null,
            "right": null,
            "justify_content": null,
            "_view_module": "@jupyter-widgets/base",
            "overflow": null,
            "_model_module_version": "1.2.0",
            "_view_count": null,
            "flex_flow": null,
            "width": null,
            "min_width": null,
            "border": null,
            "align_items": null,
            "bottom": null,
            "_model_module": "@jupyter-widgets/base",
            "top": null,
            "grid_column": null,
            "overflow_y": null,
            "overflow_x": null,
            "grid_auto_flow": null,
            "grid_area": null,
            "grid_template_columns": null,
            "flex": null,
            "_model_name": "LayoutModel",
            "justify_items": null,
            "grid_row": null,
            "max_height": null,
            "align_content": null,
            "visibility": null,
            "align_self": null,
            "height": null,
            "min_height": null,
            "padding": null,
            "grid_auto_rows": null,
            "grid_gap": null,
            "max_width": null,
            "order": null,
            "_view_module_version": "1.2.0",
            "grid_template_areas": null,
            "object_position": null,
            "object_fit": null,
            "grid_auto_columns": null,
            "margin": null,
            "display": null,
            "left": null
          }
        },
        "be7c7cdd05ea407abbeffc40967d1a14": {
          "model_module": "@jupyter-widgets/controls",
          "model_name": "LabelModel",
          "model_module_version": "1.5.0",
          "state": {
            "_view_name": "LabelView",
            "style": "IPY_MODEL_15d28c705a3a4504b3aee5f45387fd85",
            "_dom_classes": [],
            "description": "",
            "_model_name": "LabelModel",
            "placeholder": "​",
            "_view_module": "@jupyter-widgets/controls",
            "_model_module_version": "1.5.0",
            "value": " 0.05MB of 0.05MB uploaded (0.00MB deduped)\r",
            "_view_count": null,
            "_view_module_version": "1.5.0",
            "description_tooltip": null,
            "_model_module": "@jupyter-widgets/controls",
            "layout": "IPY_MODEL_8f0292a90d954b419f5eddce686880f5"
          }
        },
        "c0239357f39b4cd6a074f048ce18cac5": {
          "model_module": "@jupyter-widgets/controls",
          "model_name": "FloatProgressModel",
          "model_module_version": "1.5.0",
          "state": {
            "_view_name": "ProgressView",
            "style": "IPY_MODEL_9a716f44168347c08ef72c5e0719eb47",
            "_dom_classes": [],
            "description": "",
            "_model_name": "FloatProgressModel",
            "bar_style": "",
            "max": 1,
            "_view_module": "@jupyter-widgets/controls",
            "_model_module_version": "1.5.0",
            "value": 1,
            "_view_count": null,
            "_view_module_version": "1.5.0",
            "orientation": "horizontal",
            "min": 0,
            "description_tooltip": null,
            "_model_module": "@jupyter-widgets/controls",
            "layout": "IPY_MODEL_ed0caae7b5a045a39aaaf45bc064a9b3"
          }
        },
        "15d28c705a3a4504b3aee5f45387fd85": {
          "model_module": "@jupyter-widgets/controls",
          "model_name": "DescriptionStyleModel",
          "model_module_version": "1.5.0",
          "state": {
            "_view_name": "StyleView",
            "_model_name": "DescriptionStyleModel",
            "description_width": "",
            "_view_module": "@jupyter-widgets/base",
            "_model_module_version": "1.5.0",
            "_view_count": null,
            "_view_module_version": "1.2.0",
            "_model_module": "@jupyter-widgets/controls"
          }
        },
        "8f0292a90d954b419f5eddce686880f5": {
          "model_module": "@jupyter-widgets/base",
          "model_name": "LayoutModel",
          "model_module_version": "1.2.0",
          "state": {
            "_view_name": "LayoutView",
            "grid_template_rows": null,
            "right": null,
            "justify_content": null,
            "_view_module": "@jupyter-widgets/base",
            "overflow": null,
            "_model_module_version": "1.2.0",
            "_view_count": null,
            "flex_flow": null,
            "width": null,
            "min_width": null,
            "border": null,
            "align_items": null,
            "bottom": null,
            "_model_module": "@jupyter-widgets/base",
            "top": null,
            "grid_column": null,
            "overflow_y": null,
            "overflow_x": null,
            "grid_auto_flow": null,
            "grid_area": null,
            "grid_template_columns": null,
            "flex": null,
            "_model_name": "LayoutModel",
            "justify_items": null,
            "grid_row": null,
            "max_height": null,
            "align_content": null,
            "visibility": null,
            "align_self": null,
            "height": null,
            "min_height": null,
            "padding": null,
            "grid_auto_rows": null,
            "grid_gap": null,
            "max_width": null,
            "order": null,
            "_view_module_version": "1.2.0",
            "grid_template_areas": null,
            "object_position": null,
            "object_fit": null,
            "grid_auto_columns": null,
            "margin": null,
            "display": null,
            "left": null
          }
        },
        "9a716f44168347c08ef72c5e0719eb47": {
          "model_module": "@jupyter-widgets/controls",
          "model_name": "ProgressStyleModel",
          "model_module_version": "1.5.0",
          "state": {
            "_view_name": "StyleView",
            "_model_name": "ProgressStyleModel",
            "description_width": "",
            "_view_module": "@jupyter-widgets/base",
            "_model_module_version": "1.5.0",
            "_view_count": null,
            "_view_module_version": "1.2.0",
            "bar_color": null,
            "_model_module": "@jupyter-widgets/controls"
          }
        },
        "ed0caae7b5a045a39aaaf45bc064a9b3": {
          "model_module": "@jupyter-widgets/base",
          "model_name": "LayoutModel",
          "model_module_version": "1.2.0",
          "state": {
            "_view_name": "LayoutView",
            "grid_template_rows": null,
            "right": null,
            "justify_content": null,
            "_view_module": "@jupyter-widgets/base",
            "overflow": null,
            "_model_module_version": "1.2.0",
            "_view_count": null,
            "flex_flow": null,
            "width": null,
            "min_width": null,
            "border": null,
            "align_items": null,
            "bottom": null,
            "_model_module": "@jupyter-widgets/base",
            "top": null,
            "grid_column": null,
            "overflow_y": null,
            "overflow_x": null,
            "grid_auto_flow": null,
            "grid_area": null,
            "grid_template_columns": null,
            "flex": null,
            "_model_name": "LayoutModel",
            "justify_items": null,
            "grid_row": null,
            "max_height": null,
            "align_content": null,
            "visibility": null,
            "align_self": null,
            "height": null,
            "min_height": null,
            "padding": null,
            "grid_auto_rows": null,
            "grid_gap": null,
            "max_width": null,
            "order": null,
            "_view_module_version": "1.2.0",
            "grid_template_areas": null,
            "object_position": null,
            "object_fit": null,
            "grid_auto_columns": null,
            "margin": null,
            "display": null,
            "left": null
          }
        }
      }
    }
  },
  "nbformat": 4,
  "nbformat_minor": 0
}